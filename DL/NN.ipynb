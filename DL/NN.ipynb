{
 "cells": [
  {
   "cell_type": "code",
   "execution_count": 2,
   "id": "b1c408c3",
   "metadata": {},
   "outputs": [],
   "source": [
    "import numpy as np\n",
    "import plotly.graph_objects as go\n"
   ]
  },
  {
   "cell_type": "code",
   "execution_count": 22,
   "id": "e9df12a1",
   "metadata": {},
   "outputs": [],
   "source": [
    "x = np.linspace(0,1,num=100)\n",
    "\n",
    "fn1 = np.log(1+np.exp(-34.4 * x + 2.14))\n",
    "fn2 = np.log(1+np.exp(-2.52 * x + 1.29))\n",
    "fn3 = -1.3 * fn1 + 2.28*fn2\n",
    "fn4 = fn3 - 0.58"
   ]
  },
  {
   "cell_type": "code",
   "execution_count": 27,
   "id": "4404723c",
   "metadata": {},
   "outputs": [
    {
     "data": {
      "application/vnd.plotly.v1+json": {
       "config": {
        "plotlyServerURL": "https://plot.ly"
       },
       "data": [
        {
         "mode": "lines",
         "name": "first node",
         "type": "scatter",
         "x": {
          "bdata": "AAAAAAAAAABbv1Kg1q+EP1u/UqDWr5Q/CB988MEHnz9bv1Kg1q+kPzJvZ0jM26k/CB988MEHrz9wZ0jM2xmyP1u/UqDWr7Q/RhdddNFFtz8yb2dIzNu5Px3HcRzHcbw/CB988MEHvz96O0Ni3s7AP3BnSMzbGcI/ZZNNNtlkwz9bv1Kg1q/EP1HrVwrU+sU/RhdddNFFxz88Q2LezpDIPzJvZ0jM28k/J5tssskmyz8dx3Ecx3HMPxPzdobEvM0/CB988MEHzz9/pUCtXynQP3o7Q2LeztA/ddFFF1100T9wZ0jM2xnSP2r9SoFav9I/ZZNNNtlk0z9gKVDrVwrUP1u/UqDWr9Q/VlVVVVVV1T9R61cK1PrVP0yBWr9SoNY/RhdddNFF1z9BrV8pUOvXPzxDYt7OkNg/N9lkk0022T8yb2dIzNvZPy0Fav1Kgdo/J5tssskm2z8iMW9nSMzbPx3HcRzHcdw/GF100UUX3T8T83aGxLzdPw6JeTtDYt4/CB988MEH3z8DtX6lQK3fP3+lQK1fKeA/ffDBBx984D96O0Ni3s7gP3eGxLydIeE/ddFFF1104T9yHMdxHMfhP3BnSMzbGeI/bbLJJpts4j9q/UqBWr/iP2hIzNsZEuM/ZZNNNtlk4z9j3s6QmLfjP2ApUOtXCuQ/XnTRRRdd5D9bv1Kg1q/kP1gK1PqVAuU/VlVVVVVV5T9ToNavFKjlP1HrVwrU+uU/TjbZZJNN5j9MgVq/UqDmP0nM2xkS8+Y/RhdddNFF5z9EYt7OkJjnP0GtXylQ6+c/P/jggw8+6D88Q2LezpDoPzmO4ziO4+g/N9lkk0026T80JObtDInpPzJvZ0jM2+k/L7rooosu6j8tBWr9SoHqPypQ61cK1Oo/J5tssskm6z8l5u0MiXnrPyIxb2dIzOs/IHzwwQcf7D8dx3Ecx3HsPxsS83aGxOw/GF100UUX7T8VqPUrBWrtPxPzdobEvO0/ED744IMP7j8OiXk7Q2LuPwvU+pUCte4/CB988MEH7z8Gav1KgVrvPwO1fqVAre8/AAAAAAAA8D8=",
          "dtype": "f8"
         },
         "y": {
          "bdata": "+ebBPIYCAkAz3gX9IiX/P5b8yWTogfo/bXS/8BMr9j+FqfWW5zDyP0nqCeBORO0/5w6Rz0YT5z+N9CSFGdjhPynAU6q1G9s/68V0UNJE1D9TbF2j0ujNP50fqZms1MU/i01lzF6Zvz/EuS0Wo7i2P+hjqf4kQrA/tdIB3TAvpz9CPaiEuXygP/LOHkGwZ5c/XBK9HhqXkD8dJLraIn+HPzd/BBCooIA/q8ANvY6Fdz8/YJOloaFwP4m4GAVcg2c/lOirYkmeYD9l3j731nxXP8L0qJfImFA/8PmY2ip0Rz/TwFx0NZJAP5yKOBxuajc/fqTfMRuLMD8c7NXjK2AnP+2YQ1S/gyA/5EafoKlVFz+nKtGGRHwQP9iWJ/AJSwc/uZPnELx0AD/VHeYRXkD3PskJEY4ubfA+Lm/xnK415z4ixXVHoGXgPgEb1df/Ktc+I9bpXhNe0D73t8TiUyDHPvCXkeOIVsA+3p28y6sVtz6HtrNbAU+wPoACIRgIC6c+WxlfCX1HoD6Hox0JaQCXPuAPvgz8P5A+/kaNvs71hj6SOw51fjiAPiXQlUY563Y+n7DOSAQxcD5ud9KlqOBmPj8e64uNKWA+6f/s4xzWVj5acPc9GiJQPlJg+PWVy0Y+7af8XqoaQD57H/3eE8E2PmjLfu89EzA++QZ/n5a2Jj42ob/f1AsgPuO+vz8erBY+Qe7fP28EED4K/d9/qqEGPssL4P8Z+v89Qw3w/zuX9j2dFPD/W+vvPfoN+P/RjOY9pBH4/6Pc3z2mCvz/a4LWPXgM/P/3zc89JQf+/w94xj0OCP7/T7+/PXsE//+vbbY98AT//5+wrz2xgv//X2OmPeyC////oZ89k8H///9Ylj2vwf//f5OPPefg//9/ToY99OD///+Efz2C8P///0N2PYnw////dW89SPj///85Zj1L+P///2dfPSf8////L1Y9Kvz///9XTz0V/v///ydGPRb+////Tz89C/////8fNj0M/////z8vPYb/////HyY9hv////8/Hz3E//////8VPcT//////w494v//////BT0=",
          "dtype": "f8"
         }
        },
        {
         "mode": "lines",
         "name": "second node",
         "type": "scatter",
         "x": {
          "bdata": "AAAAAAAAAABbv1Kg1q+EP1u/UqDWr5Q/CB988MEHnz9bv1Kg1q+kPzJvZ0jM26k/CB988MEHrz9wZ0jM2xmyP1u/UqDWr7Q/RhdddNFFtz8yb2dIzNu5Px3HcRzHcbw/CB988MEHvz96O0Ni3s7AP3BnSMzbGcI/ZZNNNtlkwz9bv1Kg1q/EP1HrVwrU+sU/RhdddNFFxz88Q2LezpDIPzJvZ0jM28k/J5tssskmyz8dx3Ecx3HMPxPzdobEvM0/CB988MEHzz9/pUCtXynQP3o7Q2LeztA/ddFFF1100T9wZ0jM2xnSP2r9SoFav9I/ZZNNNtlk0z9gKVDrVwrUP1u/UqDWr9Q/VlVVVVVV1T9R61cK1PrVP0yBWr9SoNY/RhdddNFF1z9BrV8pUOvXPzxDYt7OkNg/N9lkk0022T8yb2dIzNvZPy0Fav1Kgdo/J5tssskm2z8iMW9nSMzbPx3HcRzHcdw/GF100UUX3T8T83aGxLzdPw6JeTtDYt4/CB988MEH3z8DtX6lQK3fP3+lQK1fKeA/ffDBBx984D96O0Ni3s7gP3eGxLydIeE/ddFFF1104T9yHMdxHMfhP3BnSMzbGeI/bbLJJpts4j9q/UqBWr/iP2hIzNsZEuM/ZZNNNtlk4z9j3s6QmLfjP2ApUOtXCuQ/XnTRRRdd5D9bv1Kg1q/kP1gK1PqVAuU/VlVVVVVV5T9ToNavFKjlP1HrVwrU+uU/TjbZZJNN5j9MgVq/UqDmP0nM2xkS8+Y/RhdddNFF5z9EYt7OkJjnP0GtXylQ6+c/P/jggw8+6D88Q2LezpDoPzmO4ziO4+g/N9lkk0026T80JObtDInpPzJvZ0jM2+k/L7rooosu6j8tBWr9SoHqPypQ61cK1Oo/J5tssskm6z8l5u0MiXnrPyIxb2dIzOs/IHzwwQcf7D8dx3Ecx3HsPxsS83aGxOw/GF100UUX7T8VqPUrBWrtPxPzdobEvO0/ED744IMP7j8OiXk7Q2LuPwvU+pUCte4/CB988MEH7z8Gav1KgVrvPwO1fqVAre8/AAAAAAAA8D8=",
          "dtype": "f8"
         },
         "y": {
          "bdata": "iHJzPtGH+D9ysLRTSTb4P0yswxE25fc/v3StIZmU9z/OI50rdET3P9srjtbI9PY/k8/8x5il9j/R2JSj5Vb2Pymk3gqxCPY/0ZjqnPy69T+UJvv1yW31PxVlLa8aIfU/z3EgXvDU9D/jq5uUTIn0P67uM+AwPvQ/0u3vyZ7z8z8S1+vVl6nzPy9g/IIdYPM/QmhRSjEX8z/LVRif1M7yPwhcHu4Ih/I/WNNync8/8j/S0QkMKvnxPyAyX5EZs/E/uzcafZ9t8T98ALIWvSjxPwj0Ep1z5PA/NWJFRsSg8D/jgRU/sF3wP/EBvao4G/A/zbscRb2y7z/4T0RrRjDvPwvzDNEOr+4/DXXhaRgv7j+v4OMSZbDtP7yEW5L2Mu0/xMUol8627D9LET+47jvsP+xIJXRYwus/uPh8MA1K6z9EqJA5DtPqPwWS6cFcXeo/RAjt4fno6T81yoGX5nXpP/SGvcUjBOk/9caaNLKT6D/bbreQkiToPy8JHGvFtuc/Mf4LOUtK5z9y295TJN/mPw7G4vhQdeY/aCxISdEM5j+fxRZKpaXlP5TmK+TMP+U/kC1C5Efb5D88fwL7FXjkP+BIHr02FuQ/iPVyo6m14z8zfTYLblbjP9buLDaD+OI//s/mSuib4j+9JghVnEDiP938l0We5uE/viVY8+yN4T8VCyUbhzbhP3Q/XWBr4OA/M5FQTZiL4D91U7ZTDDjgP3AeVZqLy98/AZVj94Up3z+OIIYUBIreP5bBrxoC7d0/ZF4DB3xS3T9FHgmsbbrcPxlm7bLSJNw/ZrTInKaR2z87me/D5ADbP7gDSl2Icto/Hh+xeYzm2T+J+FIH7FzZP/4mG9Oh1dg/67AfiqhQ2D8nbBG7+s3XP1sXr9eSTdc/n286NmvP1j8TiO4SflPWP8OtdpHF2dU/hyZlvjti1T/gHqmQ2uzUPxggA+ubedQ/HW53nXkI1D9Dsr1mbZnTPz9frfVwLNM/3UCm6n3B0j87sfTYjVjSP3z0MEia8dE/AkOZtZyM0T/YEWaVjinRP2MwGFRpyNA/xFnAVyZp0D8=",
          "dtype": "f8"
         }
        },
        {
         "mode": "lines",
         "name": "combined together",
         "type": "scatter",
         "x": {
          "bdata": "AAAAAAAAAABbv1Kg1q+EP1u/UqDWr5Q/CB988MEHnz9bv1Kg1q+kPzJvZ0jM26k/CB988MEHrz9wZ0jM2xmyP1u/UqDWr7Q/RhdddNFFtz8yb2dIzNu5Px3HcRzHcbw/CB988MEHvz96O0Ni3s7AP3BnSMzbGcI/ZZNNNtlkwz9bv1Kg1q/EP1HrVwrU+sU/RhdddNFFxz88Q2LezpDIPzJvZ0jM28k/J5tssskmyz8dx3Ecx3HMPxPzdobEvM0/CB988MEHzz9/pUCtXynQP3o7Q2LeztA/ddFFF1100T9wZ0jM2xnSP2r9SoFav9I/ZZNNNtlk0z9gKVDrVwrUP1u/UqDWr9Q/VlVVVVVV1T9R61cK1PrVP0yBWr9SoNY/RhdddNFF1z9BrV8pUOvXPzxDYt7OkNg/N9lkk0022T8yb2dIzNvZPy0Fav1Kgdo/J5tssskm2z8iMW9nSMzbPx3HcRzHcdw/GF100UUX3T8T83aGxLzdPw6JeTtDYt4/CB988MEH3z8DtX6lQK3fP3+lQK1fKeA/ffDBBx984D96O0Ni3s7gP3eGxLydIeE/ddFFF1104T9yHMdxHMfhP3BnSMzbGeI/bbLJJpts4j9q/UqBWr/iP2hIzNsZEuM/ZZNNNtlk4z9j3s6QmLfjP2ApUOtXCuQ/XnTRRRdd5D9bv1Kg1q/kP1gK1PqVAuU/VlVVVVVV5T9ToNavFKjlP1HrVwrU+uU/TjbZZJNN5j9MgVq/UqDmP0nM2xkS8+Y/RhdddNFF5z9EYt7OkJjnP0GtXylQ6+c/P/jggw8+6D88Q2LezpDoPzmO4ziO4+g/N9lkk0026T80JObtDInpPzJvZ0jM2+k/L7rooosu6j8tBWr9SoHqPypQ61cK1Oo/J5tssskm6z8l5u0MiXnrPyIxb2dIzOs/IHzwwQcf7D8dx3Ecx3HsPxsS83aGxOw/GF100UUX7T8VqPUrBWrtPxPzdobEvO0/ED744IMP7j8OiXk7Q2LuPwvU+pUCte4/CB988MEH7z8Gav1KgVrvPwO1fqVAre8/AAAAAAAA8D8=",
          "dtype": "f8"
         },
         "y": {
          "bdata": "yPLqjj014j+AU5nhB27tP+j99LmPBfQ/OVmIstfx+D/Qt/MUvWb9P4gN0sKIqABAysevPGVRAkAC4LAD6aoDQBNI/oGvtgRANaorFZ96BUDbwpW4rv8FQBDPao5MUAZAtU+ucut2BkBxPwgoBX0GQAlIpUucagZAooUe6CBGBkCd61ULkBQGQJb0OKet2QVAgRVAzkOYBUDImLJ4XFIFQKAlnaVxCQVAJwQIT5O+BEDCXixQhHIEQCXoQeXPJQRAgGv3adnYA0DGQy7B54sDQOZmOogtPwNAxJ1O9M7yAkBLYl8A5qYCQDxIh2WFWwJA9v1ytroQAkCE1Ifdj8YBQMI6WisMfQFA0v/yFTU0AUAQzf2/DuwAQEz3RVicpABAyjEgXeBdAEB2SPvL3BcAQB9i1IUmpf8/kQyLMAoc/z+mcpvWZpT+P2WuuV8+Dv4/sY84bZKJ/T/ycotlZAb9P910Uny1hPw/dO33t4YE/D/YAJn12IX7P5GXvOusCPs/ZY01LAON+j8Fr3El3BL6P9jhYyM4mvk/zjcqUBcj+T9hE4e0ea34PyiyPThfOfg/IaRdosfG9z9jTIWZslX3P3gdIaQf5vY/9IurKA549j9mefBtfQv2Pxv7VZtsoPU/yMArudo29T/J7AGxxs70P9XcB04vaPQ/gSZzPRMD9D9i3u4OcZ/zP1wgEzVHPfM/bbfkBZTc8j+RsFy7VX3yP3SW93OKH/I/pghMMzDD8T9LWKjiRGjxP7HNtlHGDvE/fzQoN7K28D8mSGQxBmDwP86WP8e/CvA/ZNxs0bht7z+NyFjfssjuP4gXYEFoJu4/o8iEV9OG7T/uKkNa7unsP08HLVyzT+w/tp6JSxy46z/HnvnzIiPrP94wHgDBkOo/BExC++8A6j+2dQVTqXPpP08iB1nm6Og/L+uRRKBg6D921kU00NrnP1PywC9vV+c/8YxFKXbW5j9/WF3/3VfmPwLTeH6f2+U/l1CKYrNh5T8vD5xYEurkP/7CYAC1dOQ/zBK+7ZMB5D8WhFCqp5DjP31f6LboIeM/NR7/jE+14j8=",
          "dtype": "f8"
         }
        },
        {
         "mode": "lines",
         "name": "final",
         "type": "scatter",
         "x": {
          "bdata": "AAAAAAAAAABbv1Kg1q+EP1u/UqDWr5Q/CB988MEHnz9bv1Kg1q+kPzJvZ0jM26k/CB988MEHrz9wZ0jM2xmyP1u/UqDWr7Q/RhdddNFFtz8yb2dIzNu5Px3HcRzHcbw/CB988MEHvz96O0Ni3s7AP3BnSMzbGcI/ZZNNNtlkwz9bv1Kg1q/EP1HrVwrU+sU/RhdddNFFxz88Q2LezpDIPzJvZ0jM28k/J5tssskmyz8dx3Ecx3HMPxPzdobEvM0/CB988MEHzz9/pUCtXynQP3o7Q2LeztA/ddFFF1100T9wZ0jM2xnSP2r9SoFav9I/ZZNNNtlk0z9gKVDrVwrUP1u/UqDWr9Q/VlVVVVVV1T9R61cK1PrVP0yBWr9SoNY/RhdddNFF1z9BrV8pUOvXPzxDYt7OkNg/N9lkk0022T8yb2dIzNvZPy0Fav1Kgdo/J5tssskm2z8iMW9nSMzbPx3HcRzHcdw/GF100UUX3T8T83aGxLzdPw6JeTtDYt4/CB988MEH3z8DtX6lQK3fP3+lQK1fKeA/ffDBBx984D96O0Ni3s7gP3eGxLydIeE/ddFFF1104T9yHMdxHMfhP3BnSMzbGeI/bbLJJpts4j9q/UqBWr/iP2hIzNsZEuM/ZZNNNtlk4z9j3s6QmLfjP2ApUOtXCuQ/XnTRRRdd5D9bv1Kg1q/kP1gK1PqVAuU/VlVVVVVV5T9ToNavFKjlP1HrVwrU+uU/TjbZZJNN5j9MgVq/UqDmP0nM2xkS8+Y/RhdddNFF5z9EYt7OkJjnP0GtXylQ6+c/P/jggw8+6D88Q2LezpDoPzmO4ziO4+g/N9lkk0026T80JObtDInpPzJvZ0jM2+k/L7rooosu6j8tBWr9SoHqPypQ61cK1Oo/J5tssskm6z8l5u0MiXnrPyIxb2dIzOs/IHzwwQcf7D8dx3Ecx3HsPxsS83aGxOw/GF100UUX7T8VqPUrBWrtPxPzdobEvO0/ED744IMP7j8OiXk7Q2LuPwvU+pUCte4/CB988MEH7z8Gav1KgVrvPwO1fqVAre8/AAAAAAAA8D8=",
          "dtype": "f8"
         },
         "y": {
          "bdata": "wPGzgqaHhr/iIUdxV73VP0E59ErDe+U/4+8aPFNU7z+I1ngADx/0P8g5KXFjCfg/TK7kZBxb+z+83ubyIw7+P2/XwHfYEgBAkTnuCsjWAEA3Uliu11sBQGxeLYR1rAFAEd9waBTTAUDNzsodLtkBQGXXZ0HFxgFA/hTh3UmiAUD5ehgBuXABQPKD+5zWNQFA3aQCxGz0AEAkKHVuha4AQPy0X5uaZQBAg5PKRLwaAEA83N2LWp3/PwLvCLbxA/8/uPVzvwRq/j9EpuFtIdD9P4Ts+fusNv0/QFoi1O+d/D9O40PsHQb8PzCvk7Zcb/s/pBprWMfZ+j/Ax5SmcUX6PzyUOUJqsvk/XB5rF7wg+T/YuIBrb5D4P1ANEZyKAfg/TILFpRJ09z+kr3uDC+j2P9iAWXF4XfY/SisQHFzU9T9ekSDCuEz1Px7NPkuQxvQ/aq69WORB9D+qkRBRtr7zP5aT12cHPfM/LAx9o9i88j+QHx7hKj7yP0q2Qdf+wPE/Hqy6F1VF8T++zfYQLsvwP5AA6Q6KUvA/Da1ed9K27z8zZBhAl8vuP8GhhUdi4+0/s4XFGzP+7D831hQKCRzsP2F4TB/jPOs/WVVhKMBg6j89MOuynofpP6cztg19seg/Ab9hSVne5z8DFw45MQ7nPxv3GXMCQeY/c4rwUcp25T81+uf0ha/kPyl+MEEy6+M/S6zT4ssp4z+TnsNNT2viP1lq+b64r+E/vU6iPQT34D8H7lqcLUHgP6ax7/RgHN8/3ky1ihC83T96m6VzYGHcPxrWEstGDNs/qjPuULm82T/8C8ZsrXLYP/Kp1DAYLtc/KAweXe7u1T++0JpiJLXUP4CJbmaugNM/TrgnRYBR0j9wuAeWjSfRP57cUK7JAtA/1CUySU/GzT+czD6oNJHLPwB/RcAoZsk/gKJwbhBFxz+cT0At0C3FPxC/LBtMIMM/iCk/AWgcwT+ArzyzDkS+P5iDGKwaYro/QHCkzLmStj8AZTJ9sdWyP/AGsHaNVa4/0AOFTHwjpz9wGKwVuBSgP8CdU76RUZI/ANOtBLL5cj8=",
          "dtype": "f8"
         }
        }
       ],
       "layout": {
        "template": {
         "data": {
          "bar": [
           {
            "error_x": {
             "color": "#2a3f5f"
            },
            "error_y": {
             "color": "#2a3f5f"
            },
            "marker": {
             "line": {
              "color": "white",
              "width": 0.5
             },
             "pattern": {
              "fillmode": "overlay",
              "size": 10,
              "solidity": 0.2
             }
            },
            "type": "bar"
           }
          ],
          "barpolar": [
           {
            "marker": {
             "line": {
              "color": "white",
              "width": 0.5
             },
             "pattern": {
              "fillmode": "overlay",
              "size": 10,
              "solidity": 0.2
             }
            },
            "type": "barpolar"
           }
          ],
          "carpet": [
           {
            "aaxis": {
             "endlinecolor": "#2a3f5f",
             "gridcolor": "#C8D4E3",
             "linecolor": "#C8D4E3",
             "minorgridcolor": "#C8D4E3",
             "startlinecolor": "#2a3f5f"
            },
            "baxis": {
             "endlinecolor": "#2a3f5f",
             "gridcolor": "#C8D4E3",
             "linecolor": "#C8D4E3",
             "minorgridcolor": "#C8D4E3",
             "startlinecolor": "#2a3f5f"
            },
            "type": "carpet"
           }
          ],
          "choropleth": [
           {
            "colorbar": {
             "outlinewidth": 0,
             "ticks": ""
            },
            "type": "choropleth"
           }
          ],
          "contour": [
           {
            "colorbar": {
             "outlinewidth": 0,
             "ticks": ""
            },
            "colorscale": [
             [
              0,
              "#0d0887"
             ],
             [
              0.1111111111111111,
              "#46039f"
             ],
             [
              0.2222222222222222,
              "#7201a8"
             ],
             [
              0.3333333333333333,
              "#9c179e"
             ],
             [
              0.4444444444444444,
              "#bd3786"
             ],
             [
              0.5555555555555556,
              "#d8576b"
             ],
             [
              0.6666666666666666,
              "#ed7953"
             ],
             [
              0.7777777777777778,
              "#fb9f3a"
             ],
             [
              0.8888888888888888,
              "#fdca26"
             ],
             [
              1,
              "#f0f921"
             ]
            ],
            "type": "contour"
           }
          ],
          "contourcarpet": [
           {
            "colorbar": {
             "outlinewidth": 0,
             "ticks": ""
            },
            "type": "contourcarpet"
           }
          ],
          "heatmap": [
           {
            "colorbar": {
             "outlinewidth": 0,
             "ticks": ""
            },
            "colorscale": [
             [
              0,
              "#0d0887"
             ],
             [
              0.1111111111111111,
              "#46039f"
             ],
             [
              0.2222222222222222,
              "#7201a8"
             ],
             [
              0.3333333333333333,
              "#9c179e"
             ],
             [
              0.4444444444444444,
              "#bd3786"
             ],
             [
              0.5555555555555556,
              "#d8576b"
             ],
             [
              0.6666666666666666,
              "#ed7953"
             ],
             [
              0.7777777777777778,
              "#fb9f3a"
             ],
             [
              0.8888888888888888,
              "#fdca26"
             ],
             [
              1,
              "#f0f921"
             ]
            ],
            "type": "heatmap"
           }
          ],
          "histogram": [
           {
            "marker": {
             "pattern": {
              "fillmode": "overlay",
              "size": 10,
              "solidity": 0.2
             }
            },
            "type": "histogram"
           }
          ],
          "histogram2d": [
           {
            "colorbar": {
             "outlinewidth": 0,
             "ticks": ""
            },
            "colorscale": [
             [
              0,
              "#0d0887"
             ],
             [
              0.1111111111111111,
              "#46039f"
             ],
             [
              0.2222222222222222,
              "#7201a8"
             ],
             [
              0.3333333333333333,
              "#9c179e"
             ],
             [
              0.4444444444444444,
              "#bd3786"
             ],
             [
              0.5555555555555556,
              "#d8576b"
             ],
             [
              0.6666666666666666,
              "#ed7953"
             ],
             [
              0.7777777777777778,
              "#fb9f3a"
             ],
             [
              0.8888888888888888,
              "#fdca26"
             ],
             [
              1,
              "#f0f921"
             ]
            ],
            "type": "histogram2d"
           }
          ],
          "histogram2dcontour": [
           {
            "colorbar": {
             "outlinewidth": 0,
             "ticks": ""
            },
            "colorscale": [
             [
              0,
              "#0d0887"
             ],
             [
              0.1111111111111111,
              "#46039f"
             ],
             [
              0.2222222222222222,
              "#7201a8"
             ],
             [
              0.3333333333333333,
              "#9c179e"
             ],
             [
              0.4444444444444444,
              "#bd3786"
             ],
             [
              0.5555555555555556,
              "#d8576b"
             ],
             [
              0.6666666666666666,
              "#ed7953"
             ],
             [
              0.7777777777777778,
              "#fb9f3a"
             ],
             [
              0.8888888888888888,
              "#fdca26"
             ],
             [
              1,
              "#f0f921"
             ]
            ],
            "type": "histogram2dcontour"
           }
          ],
          "mesh3d": [
           {
            "colorbar": {
             "outlinewidth": 0,
             "ticks": ""
            },
            "type": "mesh3d"
           }
          ],
          "parcoords": [
           {
            "line": {
             "colorbar": {
              "outlinewidth": 0,
              "ticks": ""
             }
            },
            "type": "parcoords"
           }
          ],
          "pie": [
           {
            "automargin": true,
            "type": "pie"
           }
          ],
          "scatter": [
           {
            "fillpattern": {
             "fillmode": "overlay",
             "size": 10,
             "solidity": 0.2
            },
            "type": "scatter"
           }
          ],
          "scatter3d": [
           {
            "line": {
             "colorbar": {
              "outlinewidth": 0,
              "ticks": ""
             }
            },
            "marker": {
             "colorbar": {
              "outlinewidth": 0,
              "ticks": ""
             }
            },
            "type": "scatter3d"
           }
          ],
          "scattercarpet": [
           {
            "marker": {
             "colorbar": {
              "outlinewidth": 0,
              "ticks": ""
             }
            },
            "type": "scattercarpet"
           }
          ],
          "scattergeo": [
           {
            "marker": {
             "colorbar": {
              "outlinewidth": 0,
              "ticks": ""
             }
            },
            "type": "scattergeo"
           }
          ],
          "scattergl": [
           {
            "marker": {
             "colorbar": {
              "outlinewidth": 0,
              "ticks": ""
             }
            },
            "type": "scattergl"
           }
          ],
          "scattermap": [
           {
            "marker": {
             "colorbar": {
              "outlinewidth": 0,
              "ticks": ""
             }
            },
            "type": "scattermap"
           }
          ],
          "scattermapbox": [
           {
            "marker": {
             "colorbar": {
              "outlinewidth": 0,
              "ticks": ""
             }
            },
            "type": "scattermapbox"
           }
          ],
          "scatterpolar": [
           {
            "marker": {
             "colorbar": {
              "outlinewidth": 0,
              "ticks": ""
             }
            },
            "type": "scatterpolar"
           }
          ],
          "scatterpolargl": [
           {
            "marker": {
             "colorbar": {
              "outlinewidth": 0,
              "ticks": ""
             }
            },
            "type": "scatterpolargl"
           }
          ],
          "scatterternary": [
           {
            "marker": {
             "colorbar": {
              "outlinewidth": 0,
              "ticks": ""
             }
            },
            "type": "scatterternary"
           }
          ],
          "surface": [
           {
            "colorbar": {
             "outlinewidth": 0,
             "ticks": ""
            },
            "colorscale": [
             [
              0,
              "#0d0887"
             ],
             [
              0.1111111111111111,
              "#46039f"
             ],
             [
              0.2222222222222222,
              "#7201a8"
             ],
             [
              0.3333333333333333,
              "#9c179e"
             ],
             [
              0.4444444444444444,
              "#bd3786"
             ],
             [
              0.5555555555555556,
              "#d8576b"
             ],
             [
              0.6666666666666666,
              "#ed7953"
             ],
             [
              0.7777777777777778,
              "#fb9f3a"
             ],
             [
              0.8888888888888888,
              "#fdca26"
             ],
             [
              1,
              "#f0f921"
             ]
            ],
            "type": "surface"
           }
          ],
          "table": [
           {
            "cells": {
             "fill": {
              "color": "#EBF0F8"
             },
             "line": {
              "color": "white"
             }
            },
            "header": {
             "fill": {
              "color": "#C8D4E3"
             },
             "line": {
              "color": "white"
             }
            },
            "type": "table"
           }
          ]
         },
         "layout": {
          "annotationdefaults": {
           "arrowcolor": "#2a3f5f",
           "arrowhead": 0,
           "arrowwidth": 1
          },
          "autotypenumbers": "strict",
          "coloraxis": {
           "colorbar": {
            "outlinewidth": 0,
            "ticks": ""
           }
          },
          "colorscale": {
           "diverging": [
            [
             0,
             "#8e0152"
            ],
            [
             0.1,
             "#c51b7d"
            ],
            [
             0.2,
             "#de77ae"
            ],
            [
             0.3,
             "#f1b6da"
            ],
            [
             0.4,
             "#fde0ef"
            ],
            [
             0.5,
             "#f7f7f7"
            ],
            [
             0.6,
             "#e6f5d0"
            ],
            [
             0.7,
             "#b8e186"
            ],
            [
             0.8,
             "#7fbc41"
            ],
            [
             0.9,
             "#4d9221"
            ],
            [
             1,
             "#276419"
            ]
           ],
           "sequential": [
            [
             0,
             "#0d0887"
            ],
            [
             0.1111111111111111,
             "#46039f"
            ],
            [
             0.2222222222222222,
             "#7201a8"
            ],
            [
             0.3333333333333333,
             "#9c179e"
            ],
            [
             0.4444444444444444,
             "#bd3786"
            ],
            [
             0.5555555555555556,
             "#d8576b"
            ],
            [
             0.6666666666666666,
             "#ed7953"
            ],
            [
             0.7777777777777778,
             "#fb9f3a"
            ],
            [
             0.8888888888888888,
             "#fdca26"
            ],
            [
             1,
             "#f0f921"
            ]
           ],
           "sequentialminus": [
            [
             0,
             "#0d0887"
            ],
            [
             0.1111111111111111,
             "#46039f"
            ],
            [
             0.2222222222222222,
             "#7201a8"
            ],
            [
             0.3333333333333333,
             "#9c179e"
            ],
            [
             0.4444444444444444,
             "#bd3786"
            ],
            [
             0.5555555555555556,
             "#d8576b"
            ],
            [
             0.6666666666666666,
             "#ed7953"
            ],
            [
             0.7777777777777778,
             "#fb9f3a"
            ],
            [
             0.8888888888888888,
             "#fdca26"
            ],
            [
             1,
             "#f0f921"
            ]
           ]
          },
          "colorway": [
           "#636efa",
           "#EF553B",
           "#00cc96",
           "#ab63fa",
           "#FFA15A",
           "#19d3f3",
           "#FF6692",
           "#B6E880",
           "#FF97FF",
           "#FECB52"
          ],
          "font": {
           "color": "#2a3f5f"
          },
          "geo": {
           "bgcolor": "white",
           "lakecolor": "white",
           "landcolor": "white",
           "showlakes": true,
           "showland": true,
           "subunitcolor": "#C8D4E3"
          },
          "hoverlabel": {
           "align": "left"
          },
          "hovermode": "closest",
          "mapbox": {
           "style": "light"
          },
          "paper_bgcolor": "white",
          "plot_bgcolor": "white",
          "polar": {
           "angularaxis": {
            "gridcolor": "#EBF0F8",
            "linecolor": "#EBF0F8",
            "ticks": ""
           },
           "bgcolor": "white",
           "radialaxis": {
            "gridcolor": "#EBF0F8",
            "linecolor": "#EBF0F8",
            "ticks": ""
           }
          },
          "scene": {
           "xaxis": {
            "backgroundcolor": "white",
            "gridcolor": "#DFE8F3",
            "gridwidth": 2,
            "linecolor": "#EBF0F8",
            "showbackground": true,
            "ticks": "",
            "zerolinecolor": "#EBF0F8"
           },
           "yaxis": {
            "backgroundcolor": "white",
            "gridcolor": "#DFE8F3",
            "gridwidth": 2,
            "linecolor": "#EBF0F8",
            "showbackground": true,
            "ticks": "",
            "zerolinecolor": "#EBF0F8"
           },
           "zaxis": {
            "backgroundcolor": "white",
            "gridcolor": "#DFE8F3",
            "gridwidth": 2,
            "linecolor": "#EBF0F8",
            "showbackground": true,
            "ticks": "",
            "zerolinecolor": "#EBF0F8"
           }
          },
          "shapedefaults": {
           "line": {
            "color": "#2a3f5f"
           }
          },
          "ternary": {
           "aaxis": {
            "gridcolor": "#DFE8F3",
            "linecolor": "#A2B1C6",
            "ticks": ""
           },
           "baxis": {
            "gridcolor": "#DFE8F3",
            "linecolor": "#A2B1C6",
            "ticks": ""
           },
           "bgcolor": "white",
           "caxis": {
            "gridcolor": "#DFE8F3",
            "linecolor": "#A2B1C6",
            "ticks": ""
           }
          },
          "title": {
           "x": 0.05
          },
          "xaxis": {
           "automargin": true,
           "gridcolor": "#EBF0F8",
           "linecolor": "#EBF0F8",
           "ticks": "",
           "title": {
            "standoff": 15
           },
           "zerolinecolor": "#EBF0F8",
           "zerolinewidth": 2
          },
          "yaxis": {
           "automargin": true,
           "gridcolor": "#EBF0F8",
           "linecolor": "#EBF0F8",
           "ticks": "",
           "title": {
            "standoff": 15
           },
           "zerolinecolor": "#EBF0F8",
           "zerolinewidth": 2
          }
         }
        }
       }
      }
     },
     "metadata": {},
     "output_type": "display_data"
    }
   ],
   "source": [
    "fig = go.Figure([\n",
    "    go.Scatter(x=x,y=fn1,mode='lines', name=\"first node\"),\n",
    "    go.Scatter(x=x,y=fn2,mode='lines', name=\"second node\"),\n",
    "    go.Scatter(x=x,y=fn3,mode='lines', name=\"combined together\"),\n",
    "    go.Scatter(x=x,y=fn4,mode='lines', name=\"final\")\n",
    "     ])\n",
    "\n",
    "fig.update_layout(template = \"plotly_white\")"
   ]
  },
  {
   "cell_type": "code",
   "execution_count": null,
   "id": "d509b077",
   "metadata": {},
   "outputs": [],
   "source": []
  }
 ],
 "metadata": {
  "kernelspec": {
   "display_name": ".venv",
   "language": "python",
   "name": "python3"
  },
  "language_info": {
   "codemirror_mode": {
    "name": "ipython",
    "version": 3
   },
   "file_extension": ".py",
   "mimetype": "text/x-python",
   "name": "python",
   "nbconvert_exporter": "python",
   "pygments_lexer": "ipython3",
   "version": "3.12.10"
  }
 },
 "nbformat": 4,
 "nbformat_minor": 5
}
