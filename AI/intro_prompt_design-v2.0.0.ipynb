{
 "cells": [
  {
   "cell_type": "code",
   "execution_count": 1,
   "metadata": {
    "id": "ur8xi4C7S06n",
    "tags": []
   },
   "outputs": [],
   "source": [
    "# Copyright 2025 Google LLC\n",
    "#\n",
    "# Licensed under the Apache License, Version 2.0 (the \"License\");\n",
    "# you may not use this file except in compliance with the License.\n",
    "# You may obtain a copy of the License at\n",
    "#\n",
    "#     https://www.apache.org/licenses/LICENSE-2.0\n",
    "#\n",
    "# Unless required by applicable law or agreed to in writing, software\n",
    "# distributed under the License is distributed on an \"AS IS\" BASIS,\n",
    "# WITHOUT WARRANTIES OR CONDITIONS OF ANY KIND, either express or implied.\n",
    "# See the License for the specific language governing permissions and\n",
    "# limitations under the License."
   ]
  },
  {
   "cell_type": "markdown",
   "metadata": {
    "id": "JAPoU8Sm5E6e"
   },
   "source": [
    "# Prompt Design - Best Practices\n",
    "\n",
    "<table align=\"left\">\n",
    "  <td style=\"text-align: center\">\n",
    "    <a href=\"https://colab.research.google.com/github/GoogleCloudPlatform/generative-ai/blob/main/gemini/prompts/intro_prompt_design.ipynb\">\n",
    "      <img width=\"32px\" src=\"https://www.gstatic.com/pantheon/images/bigquery/welcome_page/colab-logo.svg\" alt=\"Google Colaboratory logo\"><br> Open in Colab\n",
    "    </a>\n",
    "  </td>\n",
    "  <td style=\"text-align: center\">\n",
    "    <a href=\"https://console.cloud.google.com/vertex-ai/colab/import/https:%2F%2Fraw.githubusercontent.com%2FGoogleCloudPlatform%2Fgenerative-ai%2Fmain%2Fgemini%2Fprompts%2Fintro_prompt_design.ipynb\">\n",
    "      <img width=\"32px\" src=\"https://lh3.googleusercontent.com/JmcxdQi-qOpctIvWKgPtrzZdJJK-J3sWE1RsfjZNwshCFgE_9fULcNpuXYTilIR2hjwN\" alt=\"Google Cloud Colab Enterprise logo\"><br> Open in Colab Enterprise\n",
    "    </a>\n",
    "  </td>\n",
    "  <td style=\"text-align: center\">\n",
    "    <a href=\"https://console.cloud.google.com/vertex-ai/workbench/deploy-notebook?download_url=https://raw.githubusercontent.com/GoogleCloudPlatform/generative-ai/main/gemini/prompts/intro_prompt_design.ipynb\">\n",
    "      <img src=\"https://www.gstatic.com/images/branding/gcpiconscolors/vertexai/v1/32px.svg\" alt=\"Vertex AI logo\"><br> Open in Workbench\n",
    "    </a>\n",
    "  </td>\n",
    "  <td style=\"text-align: center\">\n",
    "    <a href=\"https://github.com/GoogleCloudPlatform/generative-ai/blob/main/gemini/prompts/intro_prompt_design.ipynb\">\n",
    "      <img width=\"32px\" src=\"https://www.svgrepo.com/download/217753/github.svg\" alt=\"GitHub logo\"><br> View on GitHub\n",
    "    </a>\n",
    "  </td>\n",
    "  <td style=\"text-align: center\">\n",
    "    <a href=\"https://goo.gle/4fWHlze\">\n",
    "      <img width=\"32px\" src=\"https://cdn.qwiklabs.com/assets/gcp_cloud-e3a77215f0b8bfa9b3f611c0d2208c7e8708ed31.svg\" alt=\"Google Cloud logo\"><br> Open in  Cloud Skills Boost\n",
    "    </a>\n",
    "  </td>\n",
    "</table>\n",
    "\n",
    "<div style=\"clear: both;\"></div>\n",
    "\n",
    "<b>Share to:</b>\n",
    "\n",
    "<a href=\"https://www.linkedin.com/sharing/share-offsite/?url=https%3A//github.com/GoogleCloudPlatform/generative-ai/blob/main/gemini/prompts/intro_prompt_design.ipynb\" target=\"_blank\">\n",
    "  <img width=\"20px\" src=\"https://upload.wikimedia.org/wikipedia/commons/8/81/LinkedIn_icon.svg\" alt=\"LinkedIn logo\">\n",
    "</a>\n",
    "<a href=\"https://bsky.app/intent/compose?text=https%3A//github.com/GoogleCloudPlatform/generative-ai/blob/main/gemini/prompts/intro_prompt_design.ipynb\" target=\"_blank\">\n",
    "  <img width=\"20px\" src=\"https://upload.wikimedia.org/wikipedia/commons/7/7a/Bluesky_Logo.svg\" alt=\"Bluesky logo\">\n",
    "</a>\n",
    "<a href=\"https://twitter.com/intent/tweet?url=https%3A//github.com/GoogleCloudPlatform/generative-ai/blob/main/gemini/prompts/intro_prompt_design.ipynb\" target=\"_blank\">\n",
    "  <img width=\"20px\" src=\"https://upload.wikimedia.org/wikipedia/commons/5/5a/X_icon_2.svg\" alt=\"X logo\">\n",
    "</a>\n",
    "<a href=\"https://reddit.com/submit?url=https%3A//github.com/GoogleCloudPlatform/generative-ai/blob/main/gemini/prompts/intro_prompt_design.ipynb\" target=\"_blank\">\n",
    "  <img width=\"20px\" src=\"https://redditinc.com/hubfs/Reddit%20Inc/Brand/Reddit_Logo.png\" alt=\"Reddit logo\">\n",
    "</a>\n",
    "<a href=\"https://www.facebook.com/sharer/sharer.php?u=https%3A//github.com/GoogleCloudPlatform/generative-ai/blob/main/gemini/prompts/intro_prompt_design.ipynb\" target=\"_blank\">\n",
    "  <img width=\"20px\" src=\"https://upload.wikimedia.org/wikipedia/commons/5/51/Facebook_f_logo_%282019%29.svg\" alt=\"Facebook logo\">\n",
    "</a>"
   ]
  },
  {
   "cell_type": "markdown",
   "metadata": {
    "id": "84f0f73a0f76"
   },
   "source": [
    "| Authors |\n",
    "| --- |\n",
    "| [Polong Lin](https://github.com/polong-lin) |\n",
    "| [Karl Weinmeister](https://github.com/kweinmeister) |"
   ]
  },
  {
   "cell_type": "markdown",
   "metadata": {
    "id": "tvgnzT1CKxrO"
   },
   "source": [
    "## Overview\n",
    "\n",
    "This notebook covers the essentials of prompt engineering, including some best practices.\n",
    "\n",
    "Learn more about prompt design in the [official documentation](https://cloud.google.com/vertex-ai/docs/generative-ai/text/text-overview).\n",
    "\n",
    "In this notebook, you learn best practices around prompt engineering -- how to design prompts to improve the quality of your responses.\n",
    "\n",
    "This notebook covers the following best practices for prompt engineering:\n",
    "\n",
    "- Be concise\n",
    "- Be specific and well-defined\n",
    "- Ask one task at a time\n",
    "- Turn generative tasks into classification tasks\n",
    "- Improve response quality by including examples"
   ]
  },
  {
   "cell_type": "markdown",
   "metadata": {
    "id": "61RBz8LLbxCR"
   },
   "source": [
    "## Getting Started"
   ]
  },
  {
   "cell_type": "markdown",
   "metadata": {
    "id": "No17Cw5hgx12"
   },
   "source": [
    "### Install Google Gen AI SDK\n"
   ]
  },
  {
   "cell_type": "code",
   "execution_count": 2,
   "metadata": {
    "id": "tFy3H3aPgx12",
    "tags": []
   },
   "outputs": [
    {
     "name": "stdout",
     "output_type": "stream",
     "text": [
      "Note: you may need to restart the kernel to use updated packages.\n"
     ]
    }
   ],
   "source": [
    "%pip install --upgrade --quiet google-genai"
   ]
  },
  {
   "cell_type": "markdown",
   "metadata": {
    "id": "06489bd14f16"
   },
   "source": [
    "### Import libraries\n"
   ]
  },
  {
   "cell_type": "code",
   "execution_count": 2,
   "metadata": {
    "id": "154137022fb6",
    "tags": []
   },
   "outputs": [],
   "source": [
    "from IPython.display import Markdown, display\n",
    "from google import genai\n",
    "from google.genai.types import GenerateContentConfig"
   ]
  },
  {
   "cell_type": "markdown",
   "metadata": {
    "id": "DF4l8DTdWgPY"
   },
   "source": [
    "### Set Google Cloud project information and create client\n",
    "\n",
    "To get started using Vertex AI, you must have an existing Google Cloud project and [enable the Vertex AI API](https://console.cloud.google.com/flows/enableapi?apiid=aiplatform.googleapis.com).\n",
    "\n",
    "Learn more about [setting up a project and a development environment](https://cloud.google.com/vertex-ai/docs/start/cloud-environment)."
   ]
  },
  {
   "cell_type": "code",
   "execution_count": 3,
   "metadata": {
    "id": "Nqwi-5ufWp_B",
    "tags": []
   },
   "outputs": [],
   "source": [
    "import os\n",
    "\n",
    "PROJECT_ID = \"qwiklabs-gcp-04-82a9051d1f3c\"  # @param {type: \"string\", placeholder: \"[your-project-id]\", isTemplate: true}\n",
    "if not PROJECT_ID or PROJECT_ID == \"[your-project-id]\":\n",
    "    PROJECT_ID = str(os.environ.get(\"GOOGLE_CLOUD_PROJECT\"))\n",
    "\n",
    "LOCATION = \"europe-west1\""
   ]
  },
  {
   "cell_type": "code",
   "execution_count": 4,
   "metadata": {
    "id": "QqRWdPGmW3NJ",
    "tags": []
   },
   "outputs": [],
   "source": [
    "client = genai.Client(vertexai=True, project=PROJECT_ID, location=LOCATION)"
   ]
  },
  {
   "cell_type": "markdown",
   "metadata": {
    "id": "OnFPpCRtXRl4"
   },
   "source": [
    "### Load model\n",
    "\n",
    "Learn more about all [Gemini models on Vertex AI](https://cloud.google.com/vertex-ai/generative-ai/docs/learn/models#gemini-models)."
   ]
  },
  {
   "cell_type": "code",
   "execution_count": 5,
   "metadata": {
    "id": "IQYu_9SvXQah",
    "tags": []
   },
   "outputs": [],
   "source": [
    "MODEL_ID = \"gemini-2.5-flash\"  # @param {type: \"string\"}"
   ]
  },
  {
   "cell_type": "markdown",
   "metadata": {
    "id": "cVOtUNJ5X0PY"
   },
   "source": [
    "## Prompt engineering best practices"
   ]
  },
  {
   "cell_type": "markdown",
   "metadata": {
    "id": "uv_e0fEPX60q"
   },
   "source": [
    "Prompt engineering is all about how to design your prompts so that the response is what you were indeed hoping to see.\n",
    "\n",
    "The idea of using \"unfancy\" prompts is to minimize the noise in your prompt to reduce the possibility of the LLM misinterpreting the intent of the prompt. Below are a few guidelines on how to engineer \"unfancy\" prompts.\n",
    "\n",
    "In this section, you'll cover the following best practices when engineering prompts:\n",
    "\n",
    "* Be concise\n",
    "* Be specific, and well-defined\n",
    "* Ask one task at a time\n",
    "* Improve response quality by including examples\n",
    "* Turn generative tasks to classification tasks to improve safety"
   ]
  },
  {
   "cell_type": "markdown",
   "metadata": {
    "id": "0pY4XX0OX9_Y",
    "tags": []
   },
   "source": [
    "### Be concise"
   ]
  },
  {
   "cell_type": "markdown",
   "metadata": {
    "id": "xlRpxyxGYA1K"
   },
   "source": [
    "🛑 Not recommended. The prompt below is unnecessarily verbose."
   ]
  },
  {
   "cell_type": "code",
   "execution_count": 6,
   "metadata": {
    "id": "YKV4G-CfXdbi",
    "tags": []
   },
   "outputs": [
    {
     "data": {
      "text/markdown": [
       "This is a fun challenge! Dried flowers evoke a sense of timelessness, preservation, rustic charm, and enduring beauty. Here are some name ideas, broken down by style, to inspire you:\n",
       "\n",
       "**Evocative & Poetic (Focus on feeling and longevity):**\n",
       "\n",
       "1.  **The Everlasting Bloom:** Classic, direct, and emphasizes durability.\n",
       "2.  **Heirloom Petals:** Suggests vintage beauty, treasured memories, and lasting quality.\n",
       "3.  **Timeless Stems:** Simple, elegant, and highlights the preserved nature.\n",
       "4.  **Enduring Botanicals:** A bit more sophisticated, focusing on the plant itself.\n",
       "5.  **Perpetual Posies:** Charming alliteration, hints at continuous beauty.\n",
       "6.  **Whisper & Bloom:** Evokes delicacy and the quiet beauty of dried florals.\n",
       "7.  **Faded & Found:** Suggests discovery, unique beauty, and perhaps a curated collection.\n",
       "8.  **Sun-Kissed & Saved:** Implies a natural drying process and preservation.\n",
       "9.  **The Gilded Stem:** Suggests preciousness and artful preservation.\n",
       "10. **Aura Blooms:** Implies a lasting, beautiful presence.\n",
       "\n",
       "**Charming & Whimsical (More playful and unique):**\n",
       "\n",
       "11. **The Thistle & Twine:** Rustic, natural, and cozy feel.\n",
       "12. **Dusty Petals & Co.** (or **Dusty Petals Emporium**): Evokes a quaint, vintage shop.\n",
       "13. **Willow & Wild:** Gentle, natural, and a hint of untamed beauty.\n",
       "14. **The Curious Bloom:** Playful, inviting curiosity about unique offerings.\n",
       "15. **Bloom & Burrow:** Suggests a cozy, hidden gem of a shop.\n",
       "16. **Fable & Flora:** Implies storytelling and enchantment.\n",
       "17. **The Dried Petal Post:** A bit whimsical, like a special delivery.\n",
       "\n",
       "**Modern & Minimalist (Sleek and sophisticated):**\n",
       "\n",
       "18. **Ever Bloom Co.** (or **Ever Bloom Studio**): Short, memorable, and focuses on continuous beauty.\n",
       "19. **Petal & Preserve:** Direct, highlights the core process.\n",
       "20. **Flora Enduring:** Simple, elegant, and sophisticated.\n",
       "21. **Bloom + Dry:** Very direct, modern, and punchy.\n",
       "22. **The Dried Edit:** Implies a curated, stylish collection.\n",
       "23. **Stem & Stone:** Grounded, natural, and enduring.\n",
       "24. **Preserve Botanic:** Professional and clean.\n",
       "\n",
       "**Direct & Descriptive (Clearly states what you do):**\n",
       "\n",
       "25. **The Dried Flower Shop:** Simple, clear, and effective.\n",
       "26. **Forever Florals:** Easy to remember, emphasizes longevity.\n",
       "27. **Bouquets By Design (Dried):** If you want to emphasize custom bouquets.\n",
       "28. **Your Lasting Bloom:** Personalized and direct.\n",
       "\n",
       "**Tips for Choosing:**\n",
       "\n",
       "*   **Say it out loud:** Does it roll off the tongue?\n",
       "*   **Check availability:** Is the domain name, social media handles, and business registration available?\n",
       "*   **Consider your target audience:** Are they more traditional, modern, bohemian?\n",
       "*   **Think about your logo:** Does the name lend itself to good visual branding?\n",
       "*   **Get feedback:** Ask friends and potential customers which names resonate most.\n",
       "\n",
       "Good luck with your new venture!"
      ],
      "text/plain": [
       "<IPython.core.display.Markdown object>"
      ]
     },
     "metadata": {},
     "output_type": "display_data"
    }
   ],
   "source": [
    "prompt = \"What do you think could be a good name for a flower shop that specializes in selling bouquets of dried flowers more than fresh flowers?\"\n",
    "\n",
    "response = client.models.generate_content(model=MODEL_ID, contents=prompt)\n",
    "display(Markdown(response.text))"
   ]
  },
  {
   "cell_type": "markdown",
   "metadata": {
    "id": "YrJexRHJYnmC"
   },
   "source": [
    "✅ Recommended. The prompt below is to the point and concise."
   ]
  },
  {
   "cell_type": "code",
   "execution_count": 7,
   "metadata": {
    "id": "VHetn9lCYrXB",
    "tags": []
   },
   "outputs": [
    {
     "data": {
      "text/markdown": [
       "Here are some name suggestions for a flower shop specializing in dried flower bouquets, broken down into categories to help you find the perfect fit:\n",
       "\n",
       "---\n",
       "\n",
       "**Elegant & Sophisticated:**\n",
       "\n",
       "1.  **Everbloom Atelier:** \"Atelier\" (French for workshop) adds a chic, artisanal touch.\n",
       "2.  **The Botanical Vault:** Suggests preserving beauty and a curated collection.\n",
       "3.  **Fleur Éternelle:** French for \"Eternal Flower,\" very romantic and timeless.\n",
       "4.  **Terra Flora Collective:** \"Terra\" (earth) for natural, \"Collective\" for craftsmanship.\n",
       "5.  **The Preserved Posy:** \"Posy\" is charming, \"Preserved\" clearly states the product.\n",
       "6.  **Still Life Blooms:** Evokes classic art and enduring beauty.\n",
       "7.  **Sylvan Blooms:** \"Sylvan\" relates to the woods, hinting at natural, rustic elegance.\n",
       "\n",
       "---\n",
       "\n",
       "**Whimsical & Charming:**\n",
       "\n",
       "8.  **Petal & Press:** Suggests the drying process and a crafty feel.\n",
       "9.  **The Dried Daisy:** Simple, sweet, and memorable.\n",
       "10. **Whispering Petals:** Evokes a gentle, ethereal quality.\n",
       "11. **Bloom Nook & Cranny:** Implies a cozy, hidden gem of a shop.\n",
       "12. **Faded & Flourish:** A beautiful contrast representing the life cycle and enduring beauty.\n",
       "13. **Sunstone Petals:** \"Sunstone\" represents warmth and lasting energy.\n",
       "14. **Curated Petals:** Highlights the art of selection and arrangement.\n",
       "\n",
       "---\n",
       "\n",
       "**Rustic & Natural:**\n",
       "\n",
       "15. **Autumn Bloom Collective:** Connects to the season of drying and natural beauty.\n",
       "16. **Wild & Dried Botanicals:** Emphasizes natural, untamed beauty.\n",
       "17. **Earthbound Blooms:** Suggests natural origins and grounded beauty.\n",
       "18. **The Gathered Stem:** Simple, evocative of collecting natural elements.\n",
       "19. **Dust & Petal:** A unique, slightly rustic and poetic feel.\n",
       "20. **Root & Bloom Everlastings:** A strong, grounded name.\n",
       "\n",
       "---\n",
       "\n",
       "**Direct & Descriptive (with a twist):**\n",
       "\n",
       "21. **Everlasting Blooms Co.**\n",
       "22. **Timeless Petals & Co.**\n",
       "23. **Forever Bloom Studio**\n",
       "24. **Dried & True Botanicals**\n",
       "25. **The Enduring Bouquet**\n",
       "26. **Lasting Bloom Lane**\n",
       "\n",
       "---\n",
       "\n",
       "**Short & Catchy:**\n",
       "\n",
       "27. **Everbloom**\n",
       "28. **Bloom & Dry**\n",
       "29. **Still Bloom**\n",
       "30. **Petal & Press**\n",
       "31. **Dried Flora**\n",
       "32. **Forever Bloom**\n",
       "\n",
       "---\n",
       "\n",
       "**Tips for Choosing:**\n",
       "\n",
       "*   **Say it out loud:** Does it roll off the tongue easily?\n",
       "*   **Check availability:** Is the name available as a domain name (website) and on social media platforms? Is the business name available for registration in your area?\n",
       "*   **Target Audience:** Does the name appeal to the kind of customers you want to attract?\n",
       "*   **Memorability:** Is it easy for people to remember and share?\n",
       "*   **Uniqueness:** Does it stand out from other flower shops?\n",
       "\n",
       "Good luck with your new venture!"
      ],
      "text/plain": [
       "<IPython.core.display.Markdown object>"
      ]
     },
     "metadata": {},
     "output_type": "display_data"
    }
   ],
   "source": [
    "prompt = \"Suggest a name for a flower shop that sells bouquets of dried flowers\"\n",
    "\n",
    "response = client.models.generate_content(model=MODEL_ID, contents=prompt)\n",
    "display(Markdown(response.text))"
   ]
  },
  {
   "cell_type": "markdown",
   "metadata": {
    "id": "eXTAvdOHY0OC"
   },
   "source": [
    "### Be specific, and well-defined"
   ]
  },
  {
   "cell_type": "markdown",
   "metadata": {
    "id": "FTH4GEIgY1dp"
   },
   "source": [
    "Suppose that you want to brainstorm creative ways to describe Earth."
   ]
  },
  {
   "cell_type": "markdown",
   "metadata": {
    "id": "o5BmXBiGY4KC"
   },
   "source": [
    "🛑 The prompt below might be a bit too generic (which is certainly OK if you'd like to ask a generic question!)"
   ]
  },
  {
   "cell_type": "code",
   "execution_count": 8,
   "metadata": {
    "id": "eHBaMvv7Y6mR",
    "tags": []
   },
   "outputs": [
    {
     "data": {
      "text/markdown": [
       "Earth is a truly extraordinary planet, unique in our solar system (and as far as we know, in the entire observable universe) for its ability to harbor life. Here's a breakdown of what makes our home so special:\n",
       "\n",
       "## Earth: The Blue Planet\n",
       "\n",
       "*   **Third Planet from the Sun:** Earth orbits the Sun at an average distance of about 150 million kilometers (93 million miles), a distance that places it within the \"habitable zone\" where temperatures are just right for liquid water to exist on its surface.\n",
       "*   **Terrestrial Planet:** Like Mercury, Venus, and Mars, Earth is a rocky planet, meaning it's primarily composed of silicate rocks and metals. It's the largest of the four terrestrial planets in terms of mass and diameter.\n",
       "*   **The Blue Planet:** Approximately 71% of Earth's surface is covered by water, primarily oceans, earning it the nickname \"the Blue Planet.\" This vast amount of liquid water is crucial for life as we know it.\n",
       "\n",
       "## Key Characteristics:\n",
       "\n",
       "1.  **Size and Shape:**\n",
       "    *   **Diameter:** Earth has an average diameter of about 12,742 kilometers (7,918 miles).\n",
       "    *   **Oblate Spheroid:** It's not a perfect sphere; its rotation causes it to bulge slightly at the equator and flatten at the poles, making it an oblate spheroid.\n",
       "\n",
       "2.  **Atmosphere:**\n",
       "    *   **Composition:** Earth's atmosphere is primarily composed of Nitrogen (about 78%), Oxygen (about 21%), Argon (about 0.9%), and trace amounts of other gases like Carbon Dioxide (about 0.04%).\n",
       "    *   **Functions:**\n",
       "        *   **Respiration:** The oxygen is vital for most life forms.\n",
       "        *   **Weather:** It's the layer where weather phenomena occur.\n",
       "        *   **Protection:** It acts as a shield against harmful solar radiation (like UV rays) and burns up most incoming meteoroids.\n",
       "        *   **Greenhouse Effect:** Certain gases trap heat, keeping Earth warm enough to sustain life.\n",
       "\n",
       "3.  **Water:**\n",
       "    *   **Oceans, Lakes, Rivers, Ice:** Water exists in all three states (liquid, solid, gas) on Earth. The oceans hold 97% of Earth's water, with the rest found in glaciers, ice caps, lakes, rivers, groundwater, and the atmosphere.\n",
       "    *   **Hydrological Cycle:** Water continuously moves between these reservoirs through evaporation, condensation, precipitation, and runoff.\n",
       "\n",
       "4.  **Internal Structure:**\n",
       "    *   **Crust:** The outermost solid layer, varying in thickness from about 5 km (under oceans) to 70 km (under mountains).\n",
       "    *   **Mantle:** A thick, semi-solid layer beneath the crust, making up about 84% of Earth's volume. Convection currents in the mantle drive plate tectonics.\n",
       "    *   **Outer Core:** A liquid layer of iron and nickel, about 2,200 km thick. Its movement generates Earth's magnetic field.\n",
       "    *   **Inner Core:** A solid sphere of iron and nickel, about 1,220 km in radius. It's incredibly hot, comparable to the surface of the Sun.\n",
       "\n",
       "5.  **Plate Tectonics:**\n",
       "    *   Earth's lithosphere (crust and uppermost mantle) is broken into several large and small plates that are constantly moving.\n",
       "    *   This movement causes earthquakes, volcanic activity, and the formation of mountains and ocean trenches. It's a key process in recycling Earth's materials.\n",
       "\n",
       "6.  **Magnetic Field (Magnetosphere):**\n",
       "    *   Generated by the convection of molten iron in the outer core.\n",
       "    *   This field protects Earth from the harmful charged particles of the solar wind and cosmic rays, preventing them from stripping away our atmosphere. It also causes the beautiful auroras near the poles.\n",
       "\n",
       "7.  **The Moon:**\n",
       "    *   Earth has one large natural satellite, the Moon, which plays a significant role in stabilizing Earth's axial tilt (preventing extreme climate swings) and creating tides in the oceans.\n",
       "\n",
       "## Life on Earth:\n",
       "\n",
       "*   **Biodiversity:** Earth is teeming with an astonishing variety of life forms, from microscopic bacteria to gigantic whales. Ecosystems range from deep-sea hydrothermal vents to scorching deserts and frozen tundras.\n",
       "*   **Conditions for Life:** The combination of liquid water, a stable temperature range, a protective atmosphere, a magnetic field, and a suitable energy source (the Sun) provides the ideal conditions for life to thrive and evolve.\n",
       "\n",
       "## Earth's Dynamics:\n",
       "\n",
       "*   **Rotation:** Earth spins on its axis, completing one rotation approximately every 24 hours, giving us day and night.\n",
       "*   **Orbit:** Earth orbits the Sun, completing one revolution in about 365.25 days, which defines a year.\n",
       "*   **Axial Tilt:** Earth's axis is tilted at about 23.5 degrees relative to its orbit. This tilt is responsible for the changing seasons throughout the year.\n",
       "\n",
       "## Human Impact:\n",
       "\n",
       "As the only known home for humanity, Earth provides all the resources we need to survive. However, human activities are significantly impacting the planet, leading to challenges such as climate change, deforestation, pollution, and biodiversity loss. Understanding and protecting Earth's delicate systems is crucial for the future of all life here.\n",
       "\n",
       "In essence, Earth is a dynamic, living planet, a delicate balance of geological processes, atmospheric chemistry, and biological evolution, making it the unique and precious home we know."
      ],
      "text/plain": [
       "<IPython.core.display.Markdown object>"
      ]
     },
     "metadata": {},
     "output_type": "display_data"
    }
   ],
   "source": [
    "prompt = \"Tell me about Earth\"\n",
    "\n",
    "response = client.models.generate_content(model=MODEL_ID, contents=prompt)\n",
    "display(Markdown(response.text))"
   ]
  },
  {
   "cell_type": "markdown",
   "metadata": {
    "id": "4iyvEbteZnFL"
   },
   "source": [
    "✅ Recommended. The prompt below is specific and well-defined."
   ]
  },
  {
   "cell_type": "code",
   "execution_count": 9,
   "metadata": {
    "id": "JQ80z8urZnne",
    "tags": []
   },
   "outputs": [
    {
     "data": {
      "text/markdown": [
       "Earth is truly a remarkable planet, standing out in our solar system and, as far as we currently know, in the observable universe, for a confluence of factors that have allowed complex life to thrive. Here are some key ways Earth is unique compared to other planets:\n",
       "\n",
       "1.  **Abundant Liquid Water on the Surface:** Earth is the only known planet with vast quantities of stable liquid water on its surface, forming oceans, rivers, and lakes. This is crucial as water is the universal solvent and a fundamental requirement for life as we know it. While other bodies (like Europa or Enceladus) have subsurface oceans, Earth's *surface* water is unique.\n",
       "\n",
       "2.  **Oxygen-Rich Atmosphere:** Unlike the carbon dioxide-dominated atmospheres of Venus and Mars, or the hydrogen/helium atmospheres of the gas giants, Earth's atmosphere is rich in free oxygen (about 21%). This oxygen is primarily a product of photosynthesis by living organisms (plants, algae, cyanobacteria) over billions of years, making it a direct result of life itself.\n",
       "\n",
       "3.  **Active Plate Tectonics:** Earth is the only planet known to exhibit active, large-scale plate tectonics. This process constantly recycles the Earth's crust, leading to volcanism, earthquakes, and mountain building. Plate tectonics plays a vital role in regulating Earth's climate over geological timescales by facilitating the carbon-silicate cycle, which helps remove CO2 from the atmosphere and keep temperatures stable.\n",
       "\n",
       "4.  **Strong Global Magnetic Field (Magnetosphere):** Earth has a robust magnetic field generated by its molten, convecting outer core. This magnetosphere acts as a shield, deflecting harmful solar wind and cosmic rays, preventing our atmosphere from being stripped away (as happened to Mars's atmosphere over time) and protecting life on the surface from dangerous radiation.\n",
       "\n",
       "5.  **Optimal Distance from the Sun (Habitable Zone):** Earth resides in the \"Goldilocks Zone\" – the perfect distance from the Sun where temperatures are just right for liquid water to exist on its surface. It's neither too hot (like Venus) nor too cold (like Mars or beyond).\n",
       "\n",
       "6.  **Large, Stabilizing Moon:** Earth has an unusually large moon relative to its size, which plays several critical roles:\n",
       "    *   **Stabilizes Axial Tilt:** The Moon's gravitational pull helps to stabilize Earth's axial tilt, preventing extreme wobbles that could lead to drastic climate shifts over short periods. This long-term climate stability is crucial for the evolution of complex life.\n",
       "    *   **Tides:** The Moon's gravity creates tides, which are thought to have played a role in the emergence of life from the oceans onto land.\n",
       "\n",
       "7.  **Thriving, Diverse Biosphere:** Earth hosts an unparalleled diversity of life, from single-celled organisms to complex multicellular beings, forming intricate and interconnected ecosystems that cover land, water, and air. This active biosphere profoundly shapes the planet's geology, atmosphere, and climate.\n",
       "\n",
       "8.  **Presence of Intelligent, Self-Aware Life (Humans):** As far as we know, Earth is the only planet in the universe that has given rise to a species capable of self-awareness, complex communication, technology, and the ability to ponder its own existence and the cosmos.\n",
       "\n",
       "9.  **Active Hydrological Cycle:** Driven by solar energy, Earth experiences a continuous cycle of evaporation, condensation, precipitation, and runoff, distributing water across the globe and playing a key role in weather patterns and climate regulation.\n",
       "\n",
       "These unique characteristics are not isolated but interact in a complex and synergistic way, creating an environment that has fostered life's emergence, evolution, and enduring presence for billions of years."
      ],
      "text/plain": [
       "<IPython.core.display.Markdown object>"
      ]
     },
     "metadata": {},
     "output_type": "display_data"
    }
   ],
   "source": [
    "prompt = \"Generate a list of ways that makes Earth unique compared to other planets\"\n",
    "\n",
    "response = client.models.generate_content(model=MODEL_ID, contents=prompt)\n",
    "display(Markdown(response.text))"
   ]
  },
  {
   "cell_type": "markdown",
   "metadata": {
    "id": "R5kmfZYHZsJ7"
   },
   "source": [
    "### Ask one task at a time"
   ]
  },
  {
   "cell_type": "markdown",
   "metadata": {
    "id": "rsAezxeYZuUN"
   },
   "source": [
    "🛑 Not recommended. The prompt below has two parts to the question that could be asked separately."
   ]
  },
  {
   "cell_type": "code",
   "execution_count": 10,
   "metadata": {
    "id": "ElywPXpuZtWf",
    "tags": []
   },
   "outputs": [
    {
     "data": {
      "text/markdown": [
       "Let's break down both of your excellent questions!\n",
       "\n",
       "---\n",
       "\n",
       "## What's the Best Method of Boiling Water?\n",
       "\n",
       "The \"best\" method depends on your priorities: **speed, energy efficiency, volume, and convenience.**\n",
       "\n",
       "Here's a breakdown:\n",
       "\n",
       "1.  **Electric Kettle (Overall Best for typical home use):**\n",
       "    *   **Why it's often best:**\n",
       "        *   **Speed:** They are incredibly fast for 1-2 liters of water, often boiling within 2-4 minutes.\n",
       "        *   **Energy Efficiency:** They heat the water directly, often with better insulation than a stovetop pot, minimizing heat loss. They also shut off automatically once boiling, preventing wasted energy.\n",
       "        *   **Convenience:** Cordless models are easy to pour, and the automatic shut-off means you don't have to watch it.\n",
       "    *   **Downsides:** Requires an initial purchase, takes up counter space.\n",
       "\n",
       "2.  **Stovetop Pot (Excellent for larger volumes or if no electric kettle):**\n",
       "    *   **Why it's a good choice:**\n",
       "        *   **Versatility:** You can boil any volume of water, from a single cup to a large stockpot.\n",
       "        *   **No special appliance:** You likely already own a pot.\n",
       "    *   **How to make it \"best\":**\n",
       "        *   **Use a Lid:** This is crucial! A lid traps heat and steam, significantly speeding up the boiling process and reducing energy consumption. Without a lid, it can take twice as long.\n",
       "        *   **Match Pot Size to Burner:** Use a pot that's roughly the same size as your burner to minimize wasted heat.\n",
       "        *   **Use an Efficient Burner:** Induction cooktops are the most energy-efficient for stovetop boiling, followed by electric radiant, and then gas.\n",
       "    *   **Downsides:** Generally slower and less energy-efficient than an electric kettle for smaller volumes due to heat loss to the air and the pot itself. Requires more attention to prevent boil-overs.\n",
       "\n",
       "3.  **Microwave (Only for very small amounts, not recommended for general boiling):**\n",
       "    *   **Why it's okay (sometimes):** Quick for a single cup of water.\n",
       "    *   **Why it's generally NOT recommended:**\n",
       "        *   **Inefficient:** Very energy-inefficient for larger volumes.\n",
       "        *   **Safety Risk (Superheating):** Water in a microwave can become \"superheated\" (heating above its boiling point without actually boiling). If disturbed (e.g., adding a tea bag or moving the cup), it can violently erupt, causing severe burns. This risk makes it the least preferred method for boiling.\n",
       "        *   **Uneven Heating:** Does not provide a rolling boil easily.\n",
       "\n",
       "**Conclusion for Boiling Water:**\n",
       "\n",
       "For speed, efficiency, and convenience for typical household needs (1-2 liters), an **electric kettle** is generally the \"best.\" For larger volumes or if you don't have an electric kettle, a **stovetop pot with a lid** is an excellent and effective method. **Avoid the microwave for boiling water if possible** due to the superheating risk.\n",
       "\n",
       "---\n",
       "\n",
       "## Why is the Sky Blue?\n",
       "\n",
       "The blue color of the sky is primarily due to a phenomenon called **Rayleigh Scattering**.\n",
       "\n",
       "Here's how it works:\n",
       "\n",
       "1.  **Sunlight is White:** The light from the sun appears white to us, but it's actually made up of all the colors of the rainbow (the visible spectrum), each with a different wavelength. Red light has the longest wavelength, and violet/blue light has the shortest.\n",
       "\n",
       "2.  **Earth's Atmosphere:** Our atmosphere is composed of tiny gas molecules, primarily nitrogen (about 78%) and oxygen (about 21%), along with other trace gases and particles.\n",
       "\n",
       "3.  **Scattering of Light:** When sunlight enters the Earth's atmosphere, it collides with these tiny gas molecules and particles. This causes the light to scatter in all directions.\n",
       "\n",
       "4.  **Wavelength Matters (Rayleigh Scattering):**\n",
       "    *   Shorter wavelengths of light (like blue and violet) are scattered much more efficiently by these tiny atmospheric particles than longer wavelengths (like red, orange, and yellow). In fact, blue light is scattered about 10 times more effectively than red light.\n",
       "    *   Think of it like waves hitting a rock: small, choppy waves (short wavelength) are easily disturbed and scattered, while long, smooth waves (long wavelength) pass by more easily.\n",
       "\n",
       "5.  **Why Blue, Not Violet?** While violet light actually scatters *most* efficiently, our eyes are more sensitive to blue light. Also, there's a bit less violet light in the sun's spectrum to begin with. So, we perceive the overall scattered light as blue.\n",
       "\n",
       "6.  **Looking at the Sky:** When you look up at the sky during the day, you are seeing the blue light that has been scattered by the atmospheric molecules and redirected towards your eyes from all directions.\n",
       "\n",
       "7.  **Why Sunsets/Sunrises are Red/Orange:**\n",
       "    *   When the sun is low on the horizon (at sunrise or sunset), its light has to travel through much more of the Earth's atmosphere to reach your eyes.\n",
       "    *   During this longer journey, most of the blue and violet light gets scattered away from your line of sight.\n",
       "    *   The longer wavelengths (red, orange, and yellow) are scattered much less, allowing them to travel more directly through the atmosphere to your eyes, which is why the sky near the horizon often appears red or orange during these times.\n",
       "\n",
       "So, in essence, the sky is blue because the short-wavelength blue light from the sun is scattered more by the Earth's atmosphere than the other colors, making it appear to come from all directions."
      ],
      "text/plain": [
       "<IPython.core.display.Markdown object>"
      ]
     },
     "metadata": {},
     "output_type": "display_data"
    }
   ],
   "source": [
    "prompt = \"What's the best method of boiling water and why is the sky blue?\"\n",
    "\n",
    "response = client.models.generate_content(model=MODEL_ID, contents=prompt)\n",
    "display(Markdown(response.text))"
   ]
  },
  {
   "cell_type": "markdown",
   "metadata": {
    "id": "ejzahazBZ8vk"
   },
   "source": [
    "✅ Recommended. The prompts below asks one task a time."
   ]
  },
  {
   "cell_type": "code",
   "execution_count": 11,
   "metadata": {
    "id": "C5ckp2F0Z_Ba",
    "tags": []
   },
   "outputs": [
    {
     "data": {
      "text/markdown": [
       "The \"best\" method for boiling water depends on what you prioritize: **speed, energy efficiency, convenience, or volume.**\n",
       "\n",
       "Here's a breakdown of common methods and their strengths:\n",
       "\n",
       "1.  **Electric Kettle (Overall Best for Most People)**\n",
       "    *   **Pros:**\n",
       "        *   **Speed:** Extremely fast, especially for smaller to medium volumes (1-2 liters). Heats water directly.\n",
       "        *   **Energy Efficiency:** Very efficient. Little heat is lost to the surroundings compared to a stovetop.\n",
       "        *   **Convenience:** Simple one-button operation, auto-shutoff when boiling (safety and convenience), portable.\n",
       "        *   **Safety:** No open flame, less risk of forgetting.\n",
       "    *   **Cons:** Limited to the kettle's capacity, another appliance to store.\n",
       "    *   **Best for:** Tea, coffee, instant noodles, or any situation where you need quick, energy-efficient boiled water for 1-2 people.\n",
       "\n",
       "2.  **Induction Stovetop (Excellent for Speed & Efficiency if you have one)**\n",
       "    *   **Pros:**\n",
       "        *   **Speed:** Extremely fast, often comparable to or even faster than an electric kettle, especially for larger volumes.\n",
       "        *   **Energy Efficiency:** Highly efficient. Heats the pot directly through magnetic fields, minimizing heat loss.\n",
       "        *   **Control:** Precise temperature control.\n",
       "        *   **Safety:** Cooktop itself doesn't get hot (only residual heat from the pot), making it safer than gas or electric coil.\n",
       "    *   **Cons:** Requires induction-compatible cookware (magnetic bottom), higher upfront cost for the stove itself.\n",
       "    *   **Best for:** Cooking, boiling large volumes of water quickly and efficiently, if you have an induction cooktop and compatible pots.\n",
       "\n",
       "3.  **Gas Stovetop (Versatile and Good for Large Volumes)**\n",
       "    *   **Pros:**\n",
       "        *   **Speed:** Very fast, especially for larger volumes of water.\n",
       "        *   **Versatility:** Works with any type of pot, common in most kitchens.\n",
       "        *   **Control:** Good visual control over the flame intensity.\n",
       "    *   **Cons:**\n",
       "        *   **Energy Efficiency:** Less efficient than electric kettles or induction, as a lot of heat escapes around the pot.\n",
       "        *   **Safety:** Open flame. Requires more attention.\n",
       "    *   **Best for:** General cooking, boiling larger pots of water (e.g., for pasta, blanching vegetables), or if it's your primary cooking method.\n",
       "\n",
       "4.  **Electric Coil/Radiant Stovetop (Less Efficient)**\n",
       "    *   **Pros:** Common, works with any pot.\n",
       "    *   **Cons:**\n",
       "        *   **Speed:** Slower than gas or induction because the element itself has to heat up before transferring heat to the pot.\n",
       "        *   **Energy Efficiency:** Least efficient of the stovetop methods due to significant heat loss from the element. Takes longer to heat up and cool down.\n",
       "    *   **Best for:** When it's your only stovetop option.\n",
       "\n",
       "5.  **Microwave (Only for Smallest Volumes, Not Ideal)**\n",
       "    *   **Pros:** Convenient if you only need a single cup and don't have other options immediately available.\n",
       "    *   **Cons:**\n",
       "        *   **Speed:** Slow for anything more than a single cup.\n",
       "        *   **Evenness:** Heats water unevenly, leading to potential \"superheating\" (water heats past boiling point without bubbling, can erupt when disturbed).\n",
       "        *   **Volume:** Not practical for boiling larger amounts.\n",
       "        *   **Safety:** Risk of superheating and eruption.\n",
       "    *   **Best for:** A quick, single cup of water for instant coffee or tea in a pinch, *with extreme caution*.\n",
       "\n",
       "6.  **Instant Hot Water Dispenser (Not True Boiling)**\n",
       "    *   **Pros:** Instant access to very hot water.\n",
       "    *   **Cons:** Doesn't typically reach a full rolling boil (usually around 200-205°F), continuous energy use to keep water hot, fixed volume.\n",
       "    *   **Best for:** Convenience for frequent hot drinks, but not for sterilizing or recipes requiring a true boil.\n",
       "\n",
       "**Tips for Boiling Water More Efficiently (Regardless of Method):**\n",
       "\n",
       "*   **Use a Lid:** Always cover your pot or kettle. This traps heat and steam, significantly speeding up the boiling process and reducing energy consumption.\n",
       "*   **Only Boil What You Need:** Don't fill the kettle or pot with more water than you actually require. Less water means less energy and time to heat.\n",
       "*   **Consider Starting with Hot Tap Water (If Safe):** If your hot tap water comes out very hot, you can save some energy by using it, provided your tap water quality is good for consumption.\n",
       "\n",
       "**Conclusion:**\n",
       "\n",
       "For most everyday tasks requiring boiled water (tea, coffee, single servings), an **electric kettle** is the hands-down winner for speed, efficiency, and convenience.\n",
       "\n",
       "If you're boiling larger volumes for cooking and have the setup, an **induction stovetop** is incredibly fast and efficient.\n",
       "\n",
       "If you don't have those, a **gas stovetop** is still a very effective and versatile option."
      ],
      "text/plain": [
       "<IPython.core.display.Markdown object>"
      ]
     },
     "metadata": {},
     "output_type": "display_data"
    }
   ],
   "source": [
    "prompt = \"What's the best method of boiling water?\"\n",
    "\n",
    "response = client.models.generate_content(model=MODEL_ID, contents=prompt)\n",
    "display(Markdown(response.text))"
   ]
  },
  {
   "cell_type": "code",
   "execution_count": 12,
   "metadata": {
    "id": "KwUzhud4aA89",
    "tags": []
   },
   "outputs": [
    {
     "data": {
      "text/markdown": [
       "The sky appears blue due to a phenomenon called **Rayleigh scattering**, which describes how light interacts with particles much smaller than its wavelength. Here's a breakdown:\n",
       "\n",
       "1.  **Sunlight is White Light:** Sunlight, which appears white to us, is actually made up of all the colors of the rainbow (red, orange, yellow, green, blue, indigo, violet). Each color has a different **wavelength** – blue and violet light have shorter wavelengths, while red and orange light have longer wavelengths.\n",
       "\n",
       "2.  **Earth's Atmosphere:** Our Earth is surrounded by an atmosphere composed mainly of tiny gas molecules like nitrogen (about 78%) and oxygen (about 21%), along with smaller amounts of other gases and tiny particles.\n",
       "\n",
       "3.  **The Scattering Effect:**\n",
       "    *   When sunlight enters the atmosphere, it bumps into these tiny gas molecules.\n",
       "    *   Instead of just passing through, the light gets **scattered** (redirected) in all directions.\n",
       "    *   The crucial part is that the amount of scattering depends on the wavelength of the light. **Shorter wavelengths (like blue and violet) are scattered much more efficiently than longer wavelengths (like red and orange).** In fact, blue light is scattered roughly 10 times more effectively than red light.\n",
       "\n",
       "4.  **Why We See Blue:**\n",
       "    *   Because blue and violet light are scattered the most, they are dispersed across the entire sky.\n",
       "    *   When we look up during the day, we see this scattered blue light coming from all directions, making the sky appear blue.\n",
       "\n",
       "5.  **Why Not Violet?**\n",
       "    *   You might wonder why the sky isn't violet, since violet light has an even shorter wavelength than blue and is scattered slightly more.\n",
       "    *   There are two main reasons:\n",
       "        1.  **Sunlight Composition:** The sun emits slightly less violet light than blue light.\n",
       "        2.  **Human Eye Sensitivity:** Our eyes are more sensitive to blue light than to violet light. So, even though violet light is scattered, our eyes perceive the overwhelming scattered light as blue.\n",
       "\n",
       "---\n",
       "\n",
       "**Related Phenomena:**\n",
       "\n",
       "*   **Why Sunsets and Sunrises are Red/Orange:** At sunrise or sunset, the sun's light has to travel through much more of the atmosphere to reach our eyes. During this longer journey, most of the blue and violet light gets scattered *away* from our line of sight. What's left is primarily the longer wavelength light – reds, oranges, and yellows – which continue relatively unimpeded to our eyes, causing the beautiful colors we see.\n",
       "\n",
       "*   **Why Clouds are White or Gray:** Clouds are made of water droplets or ice crystals, which are much larger than air molecules. These larger particles scatter *all* wavelengths of light equally (this is called Mie scattering). Since all colors are scattered equally, the light remains white, making the clouds appear white (unless they're very thick and block light, making them gray).\n",
       "\n",
       "In essence, the sky is blue because our atmosphere acts like a giant filter, efficiently scattering the shorter wavelength blue light across the sky, while allowing the longer wavelength colors to pass through more directly."
      ],
      "text/plain": [
       "<IPython.core.display.Markdown object>"
      ]
     },
     "metadata": {},
     "output_type": "display_data"
    }
   ],
   "source": [
    "prompt = \"Why is the sky blue?\"\n",
    "\n",
    "response = client.models.generate_content(model=MODEL_ID, contents=prompt)\n",
    "display(Markdown(response.text))"
   ]
  },
  {
   "cell_type": "markdown",
   "metadata": {
    "id": "PJIL2RTQaGcT"
   },
   "source": [
    "### Watch out for hallucinations"
   ]
  },
  {
   "cell_type": "markdown",
   "metadata": {
    "id": "8Y8kYxrSaHE9"
   },
   "source": [
    "Although LLMs have been trained on a large amount of data, they can generate text containing statements not grounded in truth or reality; these responses from the LLM are often referred to as \"hallucinations\" due to their limited memorization capabilities. Note that simply prompting the LLM to provide a citation isn't a fix to this problem, as there are instances of LLMs providing false or inaccurate citations. Dealing with hallucinations is a fundamental challenge of LLMs and an ongoing research area, so it is important to be cognizant that LLMs may seem to give you confident, correct-sounding statements that are in fact incorrect.\n",
    "\n",
    "Note that if you intend to use LLMs for the creative use cases, hallucinating could actually be quite useful."
   ]
  },
  {
   "cell_type": "markdown",
   "metadata": {
    "id": "8NY5nAGeaJYS"
   },
   "source": [
    "Try the prompt like the one below repeatedly. We set the temperature to `1.0` so that it takes more risks in its choices. It's possible that it may provide an inaccurate, but confident answer."
   ]
  },
  {
   "cell_type": "code",
   "execution_count": 13,
   "metadata": {
    "id": "QALPjEILaM62",
    "tags": []
   },
   "outputs": [
    {
     "data": {
      "text/markdown": [
       "As an AI, I don't have a \"today\" in the real-time sense, and my knowledge cutoff is **June 2024**. I don't have access to current, real-time information.\n",
       "\n",
       "To find out what day it is today, you'll need to check your device's date, a calendar, or a reliable news source!"
      ],
      "text/plain": [
       "<IPython.core.display.Markdown object>"
      ]
     },
     "metadata": {},
     "output_type": "display_data"
    }
   ],
   "source": [
    "generation_config = GenerateContentConfig(temperature=1.0)\n",
    "\n",
    "prompt = \"What day is it today?\"\n",
    "\n",
    "response = client.models.generate_content(model=MODEL_ID, contents=prompt)\n",
    "display(Markdown(response.text))"
   ]
  },
  {
   "cell_type": "markdown",
   "metadata": {
    "id": "BRkwzbgRbhKt"
   },
   "source": [
    "Since LLMs do not have access to real-time information without further integrations, you may have noticed it hallucinates what day it is today in some of the outputs."
   ]
  },
  {
   "cell_type": "markdown",
   "metadata": {
    "id": "3c811e310d02"
   },
   "source": [
    "### Using system instructions to guardrail the model from irrelevant responses\n",
    "\n",
    "How can we attempt to reduce the chances of irrelevant responses and hallucinations?\n",
    "\n",
    "One way is to provide the LLM with [system instructions](https://cloud.google.com/vertex-ai/generative-ai/docs/learn/prompts/system-instruction-introduction).\n",
    "\n",
    "Let's see how system instructions works and how you can use them to reduce hallucinations or irrelevant questions for a travel chatbot.\n",
    "\n",
    "Suppose we ask a simple question about one of Italy's most famous tourist spots."
   ]
  },
  {
   "cell_type": "code",
   "execution_count": 14,
   "metadata": {
    "id": "rB6zJU76biFK",
    "tags": []
   },
   "outputs": [
    {
     "data": {
      "text/markdown": [
       "The Duomo di Milano (Milan Cathedral) is widely considered the best place for sightseeing in Milan. It's an iconic landmark and offers breathtaking views from its terraces. You can also explore the Piazza del Duomo around it, and the Galleria Vittorio Emanuele II is right next door."
      ],
      "text/plain": [
       "<IPython.core.display.Markdown object>"
      ]
     },
     "metadata": {},
     "output_type": "display_data"
    }
   ],
   "source": [
    "generation_config = GenerateContentConfig(temperature=1.0)\n",
    "\n",
    "chat = client.chats.create(\n",
    "    model=MODEL_ID,\n",
    "    config=GenerateContentConfig(\n",
    "        system_instruction=[\n",
    "            \"Hello! You are an AI chatbot for a travel web site.\",\n",
    "            \"Your mission is to provide helpful queries for travelers.\",\n",
    "            \"Remember that before you answer a question, you must check to see if it complies with your mission.\",\n",
    "            \"If not, you can say, Sorry I can't answer that question.\",\n",
    "        ]\n",
    "    ),\n",
    ")\n",
    "\n",
    "prompt = \"What is the best place for sightseeing in Milan, Italy?\"\n",
    "\n",
    "response = chat.send_message(prompt)\n",
    "display(Markdown(response.text))"
   ]
  },
  {
   "cell_type": "markdown",
   "metadata": {
    "id": "WZa-Qcf9cF4A"
   },
   "source": [
    "Now let us pretend to be a user asks the chatbot a question that is unrelated to travel."
   ]
  },
  {
   "cell_type": "code",
   "execution_count": 15,
   "metadata": {
    "id": "AZKBIDr2cGnu",
    "tags": []
   },
   "outputs": [
    {
     "data": {
      "text/markdown": [
       "Sorry I can't answer that question."
      ],
      "text/plain": [
       "<IPython.core.display.Markdown object>"
      ]
     },
     "metadata": {},
     "output_type": "display_data"
    }
   ],
   "source": [
    "prompt = \"How do I make pizza dough at home?\"\n",
    "\n",
    "response = chat.send_message(prompt)\n",
    "display(Markdown(response.text))"
   ]
  },
  {
   "cell_type": "markdown",
   "metadata": {
    "id": "JiUYIhwpctCy"
   },
   "source": [
    "You can see that this way, a guardrail in the prompt prevented the chatbot from veering off course."
   ]
  },
  {
   "cell_type": "markdown",
   "metadata": {
    "id": "ZuuDhA37cvmP"
   },
   "source": [
    "### Turn generative tasks into classification tasks to reduce output variability"
   ]
  },
  {
   "cell_type": "markdown",
   "metadata": {
    "id": "kUCUrsUzczmb"
   },
   "source": [
    "#### Generative tasks lead to higher output variability"
   ]
  },
  {
   "cell_type": "markdown",
   "metadata": {
    "id": "a1xASHAkc46n"
   },
   "source": [
    "The prompt below results in an open-ended response, useful for brainstorming, but response is highly variable."
   ]
  },
  {
   "cell_type": "code",
   "execution_count": 16,
   "metadata": {
    "id": "nPfXQWIacwRf",
    "tags": []
   },
   "outputs": [
    {
     "data": {
      "text/markdown": [
       "That's fantastic! Choosing to actively improve your programming skills is a smart move. The best activity depends on your current experience level and what aspects of programming you want to focus on.\n",
       "\n",
       "Here are a few highly recommended programming activities for a high school student, ranging from project-based to problem-solving, along with why they're great and how to get started:\n",
       "\n",
       "---\n",
       "\n",
       "### **Option 1: Build a Project (Highly Recommended for Practical Skills & Portfolio)**\n",
       "\n",
       "This is arguably the most effective way to learn, as it forces you to apply concepts, problem-solve, and see tangible results.\n",
       "\n",
       "**Why it's great:**\n",
       "*   **Real-world application:** You learn how to *build* something useful or fun.\n",
       "*   **Problem-solving:** You'll encounter and overcome many small challenges.\n",
       "*   **Learning diverse skills:** From design to debugging, data structures to APIs.\n",
       "*   **Motivation:** Seeing your project come to life is incredibly rewarding.\n",
       "*   **Portfolio material:** Great for college applications or future internships.\n",
       "\n",
       "**Ideas to get started:**\n",
       "\n",
       "1.  **Web Development (with Python/Flask or JavaScript/HTML/CSS):**\n",
       "    *   **Simple Website:** A personal portfolio, a fan page for your favorite game/movie, or a blog.\n",
       "        *   **Skills learned:** HTML (structure), CSS (styling), JavaScript (interactivity). If using Python/Flask, you'll learn backend logic.\n",
       "        *   **How to start:** Look up \"HTML CSS JavaScript for beginners\" tutorials on YouTube (e.g., freeCodeCamp, Traversy Media). For Python, search \"Flask tutorial for beginners.\"\n",
       "    *   **Interactive Tool:** A simple calculator, a to-do list app, a basic weather app (using a public API), or a simple quiz game.\n",
       "        *   **Skills learned:** User input, basic logic, potentially working with external data (APIs).\n",
       "\n",
       "2.  **Game Development (with Python/Pygame or JavaScript/Canvas):**\n",
       "    *   **Classic Games:** Pong, Snake, Tic-Tac-Toe, or a simple platformer.\n",
       "        *   **Skills learned:** Game loops, collision detection, basic physics, object-oriented programming (OOP) concepts, event handling.\n",
       "        *   **How to start:** Search for \"Pygame tutorial for beginners\" or \"JavaScript game tutorial Canvas.\"\n",
       "\n",
       "3.  **Automation/Utility Scripting (with Python):**\n",
       "    *   **File Organizer:** A script that sorts files in a folder into different subfolders (e.g., images go to \"Pictures\", documents to \"Documents\").\n",
       "        *   **Skills learned:** File system interaction, string manipulation, conditional logic.\n",
       "        *   **How to start:** Learn about Python's `os` and `shutil` modules.\n",
       "    *   **Web Scraper:** A script that extracts information from a website (e.g., sports scores, product prices, headlines from a news site). *Be mindful of website terms of service and robots.txt!*\n",
       "        *   **Skills learned:** HTTP requests, parsing HTML (e.g., with Beautiful Soup library).\n",
       "        *   **How to start:** Look into Python's `requests` and `BeautifulSoup` libraries.\n",
       "\n",
       "4.  **Data Science/Visualization (with Python/Pandas/Matplotlib):**\n",
       "    *   **Analyze a Dataset:** Get a publicly available dataset (e.g., from Kaggle.com, or government data) on something you care about (sports stats, weather patterns, movie ratings) and try to find interesting trends or visualize them.\n",
       "        *   **Skills learned:** Data loading, cleaning, manipulation (Pandas), basic statistics, data visualization (Matplotlib, Seaborn).\n",
       "        *   **How to start:** Search for \"Python Pandas tutorial\" and \"Matplotlib tutorial.\"\n",
       "\n",
       "---\n",
       "\n",
       "### **Option 2: Algorithmic Challenges / Competitive Programming**\n",
       "\n",
       "This focuses heavily on problem-solving, efficiency, and core computer science concepts.\n",
       "\n",
       "**Why it's great:**\n",
       "*   **Sharpen problem-solving:** You'll learn to break down complex problems.\n",
       "*   **Master data structures & algorithms:** Essential for efficient code.\n",
       "*   **Interview preparation:** Many tech companies use similar problems in interviews.\n",
       "*   **Logical thinking:** Improves your ability to think clearly and systematically.\n",
       "*   **Recognized achievements:** Doing well in contests can look good on applications.\n",
       "\n",
       "**Platforms to use:**\n",
       "\n",
       "1.  **LeetCode / HackerRank:**\n",
       "    *   **What:** Websites with thousands of programming challenges, categorized by difficulty (easy, medium, hard).\n",
       "    *   **How to start:** Pick an \"easy\" problem. Try to solve it yourself first. If stuck, look at hints or others' solutions (but try to understand *why* they work, don't just copy). Focus on understanding concepts like arrays, strings, loops, conditionals, and then move to more advanced topics like recursion, sorting, linked lists, trees, graphs.\n",
       "    *   **Recommendation:** Start with the \"Explore\" cards or \"Top Interview Questions\" on LeetCode for a structured approach.\n",
       "\n",
       "2.  **Project Euler:**\n",
       "    *   **What:** A series of challenging mathematical/computer programming problems that require more mathematical insight in addition to coding.\n",
       "    *   **How to start:** Problems start relatively simply and get much harder. Great if you enjoy math.\n",
       "\n",
       "3.  **USACO (USA Computing Olympiad):**\n",
       "    *   **What:** If you're serious about competitive programming and want to potentially represent the US, this is the main path. They have training pages and contests.\n",
       "    *   **How to start:** Check out their website. Their \"training pages\" are an excellent resource for learning.\n",
       "\n",
       "---\n",
       "\n",
       "### **General Tips for Success with Any Activity:**\n",
       "\n",
       "1.  **Start Small:** Don't try to build the next Facebook or Minecraft on your first go. Begin with simple features and add complexity incrementally.\n",
       "2.  **Pick Something You Enjoy:** Motivation is key. If you're interested in sports, try analyzing sports data. If you love games, build a simple game.\n",
       "3.  **Don't Be Afraid to Google (or use AI tools responsibly):** Every programmer, no matter how experienced, Googles error messages and how-to questions. It's a fundamental part of learning and problem-solving.\n",
       "4.  **Break Down Problems:** If a task seems too big, break it into smaller, manageable sub-tasks.\n",
       "5.  **Learn to Debug:** This is an essential skill. Understand how to use print statements or a debugger to trace your code's execution and find errors.\n",
       "6.  **Use Version Control (Git/GitHub):** Even for solo projects, learning Git is invaluable. It allows you to save different versions of your code, revert changes, and share your work easily (e.g., on GitHub for your portfolio).\n",
       "7.  **Practice Consistently:** A little bit every day or every few days is more effective than cramming.\n",
       "8.  **Share Your Work:** Show your projects to friends, family, or even post them online. Getting feedback can be helpful and motivating.\n",
       "\n",
       "Choose an activity that excites you, and good luck! You'll be amazed at how quickly you improve."
      ],
      "text/plain": [
       "<IPython.core.display.Markdown object>"
      ]
     },
     "metadata": {},
     "output_type": "display_data"
    }
   ],
   "source": [
    "prompt = \"I'm a high school student. Recommend me a programming activity to improve my skills.\"\n",
    "\n",
    "response = client.models.generate_content(model=MODEL_ID, contents=prompt)\n",
    "display(Markdown(response.text))"
   ]
  },
  {
   "cell_type": "markdown",
   "metadata": {
    "id": "iAmm9wPYc_1o"
   },
   "source": [
    "#### Classification tasks reduces output variability"
   ]
  },
  {
   "cell_type": "markdown",
   "metadata": {
    "id": "VvRpK_0GdCpf"
   },
   "source": [
    "The prompt below results in a choice and may be useful if you want the output to be easier to control."
   ]
  },
  {
   "cell_type": "code",
   "execution_count": 17,
   "metadata": {
    "id": "kYDKh0r2dAqo",
    "tags": []
   },
   "outputs": [
    {
     "data": {
      "text/markdown": [
       "That's a fantastic question for a high school student! Choosing your first programming language can set the stage for your future learning and interests.\n",
       "\n",
       "Let's break down each option and then I'll give you my suggestion.\n",
       "\n",
       "---\n",
       "\n",
       "### a) Learn Python\n",
       "\n",
       "**Why it's great for high school students:**\n",
       "\n",
       "*   **Extremely Beginner-Friendly:** Python's syntax is very readable and close to natural language. This makes it easier to grasp fundamental programming concepts without getting bogged down by complex syntax.\n",
       "*   **Highly Versatile:** Python is used everywhere!\n",
       "    *   **Web Development:** With frameworks like Django and Flask.\n",
       "    *   **Data Science & Machine Learning/AI:** Dominant language for these fields (think ChatGPT, self-driving cars, Netflix recommendations). This is a huge and growing area.\n",
       "    *   **Automation & Scripting:** Great for automating repetitive tasks on your computer.\n",
       "    *   **Game Development:** Basic game development with libraries like Pygame.\n",
       "    *   **Desktop Applications:** Less common but possible.\n",
       "    *   **Scientific Computing:** Used widely in research.\n",
       "*   **Huge Community & Resources:** Because it's so popular, there are countless free tutorials, online courses, forums, and libraries available to help you learn and build projects.\n",
       "*   **Good for Logical Thinking:** Its simplicity allows you to focus more on problem-solving logic.\n",
       "*   **Excellent Foundation for College:** Many introductory computer science courses in college use Python.\n",
       "\n",
       "**Potential Downsides:**\n",
       "*   Performance can be slower than compiled languages (like C++ or Fortran), but this is rarely an issue for beginner projects.\n",
       "\n",
       "---\n",
       "\n",
       "### b) Learn JavaScript\n",
       "\n",
       "**Why it's great for high school students (especially if you love the web):**\n",
       "\n",
       "*   **The Language of the Web:** If you want to build interactive websites, JavaScript is non-negotiable. It runs directly in web browsers.\n",
       "*   **Highly Visual & Immediate Results:** You can see your code immediately change a webpage, which can be very motivating.\n",
       "*   **Full-Stack Development:** With Node.js, JavaScript can also be used on the server-side (back-end), meaning you can build entire web applications using just one language.\n",
       "*   **Mobile App Development:** With frameworks like React Native, you can build native mobile apps using JavaScript.\n",
       "*   **Large Community & Ecosystem:** Just like Python, it has a massive community and a vast ecosystem of libraries and frameworks (React, Angular, Vue).\n",
       "*   **Good for Understanding How the Internet Works:** Learning JavaScript inherently teaches you a lot about web technologies (HTML, CSS, DOM).\n",
       "\n",
       "**Potential Downsides:**\n",
       "*   Can be a bit more syntactically demanding than Python for an absolute beginner (e.g., curly braces, semicolons, `this` context can be confusing initially).\n",
       "*   Asynchronous programming concepts can be a bit tricky to grasp at first.\n",
       "\n",
       "---\n",
       "\n",
       "### c) Learn Fortran\n",
       "\n",
       "**Why it's generally NOT recommended for a first language for a high school student:**\n",
       "\n",
       "*   **Highly Niche:** Fortran (FORmula TRANslation) is primarily used in very specific domains:\n",
       "    *   **High-Performance Computing (HPC):** Scientific simulations, engineering, physics, meteorology, financial modeling, often running on supercomputers.\n",
       "    *   **Legacy Codebases:** Many older, critical scientific and engineering applications are still written in Fortran.\n",
       "*   **Older Syntax & Paradigms:** While modern Fortran (Fortran 90/95/2003/2008/2018) has evolved, its core design principles are older. It's less intuitive and often more verbose than Python or JavaScript for general programming tasks.\n",
       "*   **Limited Versatility:** You won't use Fortran for web development, mobile apps, general scripting, or most everyday software development.\n",
       "*   **Smaller Community & Fewer Beginner Resources:** Compared to Python and JavaScript, finding beginner-friendly resources and an active community for Fortran is much harder.\n",
       "*   **Less Transferable Skills for General Programming:** While any language teaches problem-solving, Fortran's specific focus and older syntax might not provide as broad a foundation for modern software development practices as Python or JavaScript.\n",
       "\n",
       "**When it *might* be relevant:**\n",
       "*   If you *already know* you want to pursue a very specific career in computational physics, aerospace engineering, or climate modeling research where you'll be working with supercomputers and extremely complex numerical simulations, then learning Fortran later might be beneficial. But even then, you'd likely learn Python first for data analysis and prototyping.\n",
       "\n",
       "---\n",
       "\n",
       "### My Suggestion:\n",
       "\n",
       "**Start with Python.**\n",
       "\n",
       "**Here's why:**\n",
       "\n",
       "1.  **Ease of Entry:** Python's simplicity will allow you to quickly grasp core programming concepts (variables, loops, functions, data structures) without getting frustrated by complex syntax. This is crucial for maintaining motivation as a beginner.\n",
       "2.  **Broad Applicability:** It opens doors to so many different areas (AI, data science, web development, automation) that you can explore your interests as you learn.\n",
       "3.  **Foundation for Future Learning:** Once you understand programming logic with Python, picking up other languages (like JavaScript, or even more complex ones like Java or C++) becomes much easier. The concepts are transferable.\n",
       "4.  **Career Relevance:** Python skills are highly sought after in many rapidly growing fields.\n",
       "\n",
       "**However, if you are *extremely* passionate about building interactive websites and seeing your creations immediately live on the internet, then JavaScript might be a slightly more motivating starting point for you.** Just be prepared for a slightly steeper initial learning curve.\n",
       "\n",
       "**My final advice:**\n",
       "\n",
       "*   **Pick Python.**\n",
       "*   Find a good online course or tutorial (Codecademy, freeCodeCamp, CS50 on edX, Google's Python Class are all good starting points).\n",
       "*   **Build small projects!** Don't just follow tutorials. Try to apply what you learn to create simple games (Hangman, Tic-Tac-Toe), calculators, or scripts to automate something on your computer. This is where the real learning happens.\n",
       "*   **Don't worry about picking the \"wrong\" one.** The most important thing is to *start* and stick with it. The fundamental concepts you learn will be applicable no matter which language you choose.\n",
       "\n",
       "Good luck, and have fun! Programming is an incredibly rewarding skill to learn."
      ],
      "text/plain": [
       "<IPython.core.display.Markdown object>"
      ]
     },
     "metadata": {},
     "output_type": "display_data"
    }
   ],
   "source": [
    "prompt = \"\"\"I'm a high school student. Which of these activities do you suggest and why:\n",
    "a) learn Python\n",
    "b) learn JavaScript\n",
    "c) learn Fortran\n",
    "\"\"\"\n",
    "\n",
    "response = client.models.generate_content(model=MODEL_ID, contents=prompt)\n",
    "display(Markdown(response.text))"
   ]
  },
  {
   "cell_type": "markdown",
   "metadata": {
    "id": "iTd60b1GdIsx"
   },
   "source": [
    "### Improve response quality by including examples"
   ]
  },
  {
   "cell_type": "markdown",
   "metadata": {
    "id": "yJi44NejdJYE"
   },
   "source": [
    "Another way to improve response quality is to add examples in your prompt. The LLM learns in-context from the examples on how to respond. Typically, one to five examples (shots) are enough to improve the quality of responses. Including too many examples can cause the model to over-fit the data and reduce the quality of responses.\n",
    "\n",
    "Similar to classical model training, the quality and distribution of the examples is very important. Pick examples that are representative of the scenarios that you need the model to learn, and keep the distribution of the examples (e.g. number of examples per class in the case of classification) aligned with your actual distribution."
   ]
  },
  {
   "cell_type": "markdown",
   "metadata": {
    "id": "sMbLginWdOKs"
   },
   "source": [
    "#### Zero-shot prompt"
   ]
  },
  {
   "cell_type": "markdown",
   "metadata": {
    "id": "Crh2Loi2dQ0v"
   },
   "source": [
    "Below is an example of zero-shot prompting, where you don't provide any examples to the LLM within the prompt itself."
   ]
  },
  {
   "cell_type": "code",
   "execution_count": 18,
   "metadata": {
    "id": "-7myRc-SdTQ4",
    "tags": []
   },
   "outputs": [
    {
     "data": {
      "text/markdown": [
       "Sentiment: Positive"
      ],
      "text/plain": [
       "<IPython.core.display.Markdown object>"
      ]
     },
     "metadata": {},
     "output_type": "display_data"
    }
   ],
   "source": [
    "prompt = \"\"\"Decide whether a Tweet's sentiment is positive, neutral, or negative.\n",
    "\n",
    "Tweet: I loved the new YouTube video you made!\n",
    "Sentiment:\n",
    "\"\"\"\n",
    "\n",
    "response = client.models.generate_content(model=MODEL_ID, contents=prompt)\n",
    "display(Markdown(response.text))"
   ]
  },
  {
   "cell_type": "markdown",
   "metadata": {
    "id": "ucRtPn9SdL64"
   },
   "source": [
    "#### One-shot prompt"
   ]
  },
  {
   "cell_type": "markdown",
   "metadata": {
    "id": "rs0gQH2vdYBi"
   },
   "source": [
    "Below is an example of one-shot prompting, where you provide one example to the LLM within the prompt to give some guidance on what type of response you want."
   ]
  },
  {
   "cell_type": "code",
   "execution_count": 19,
   "metadata": {
    "id": "iEq-KxGYdaT5",
    "tags": []
   },
   "outputs": [
    {
     "data": {
      "text/markdown": [
       "negative"
      ],
      "text/plain": [
       "<IPython.core.display.Markdown object>"
      ]
     },
     "metadata": {},
     "output_type": "display_data"
    }
   ],
   "source": [
    "prompt = \"\"\"Decide whether a Tweet's sentiment is positive, neutral, or negative.\n",
    "\n",
    "Tweet: I loved the new YouTube video you made!\n",
    "Sentiment: positive\n",
    "\n",
    "Tweet: That was awful. Super boring 😠\n",
    "Sentiment:\n",
    "\"\"\"\n",
    "\n",
    "response = client.models.generate_content(model=MODEL_ID, contents=prompt)\n",
    "display(Markdown(response.text))"
   ]
  },
  {
   "cell_type": "markdown",
   "metadata": {
    "id": "JnKLjJzmdfL_"
   },
   "source": [
    "#### Few-shot prompt"
   ]
  },
  {
   "cell_type": "markdown",
   "metadata": {
    "id": "6Zv-9F5OdgI_"
   },
   "source": [
    "Below is an example of few-shot prompting, where you provide a few examples to the LLM within the prompt to give some guidance on what type of response you want."
   ]
  },
  {
   "cell_type": "code",
   "execution_count": 20,
   "metadata": {
    "id": "u37P9tG4dk9S",
    "tags": []
   },
   "outputs": [
    {
     "data": {
      "text/markdown": [
       "positive"
      ],
      "text/plain": [
       "<IPython.core.display.Markdown object>"
      ]
     },
     "metadata": {},
     "output_type": "display_data"
    }
   ],
   "source": [
    "prompt = \"\"\"Decide whether a Tweet's sentiment is positive, neutral, or negative.\n",
    "\n",
    "Tweet: I loved the new YouTube video you made!\n",
    "Sentiment: positive\n",
    "\n",
    "Tweet: That was awful. Super boring 😠\n",
    "Sentiment: negative\n",
    "\n",
    "Tweet: Something surprised me about this video - it was actually original. It was not the same old recycled stuff that I always see. Watch it - you will not regret it.\n",
    "Sentiment:\n",
    "\"\"\"\n",
    "\n",
    "response = client.models.generate_content(model=MODEL_ID, contents=prompt)\n",
    "display(Markdown(response.text))"
   ]
  },
  {
   "cell_type": "markdown",
   "metadata": {
    "id": "wDMD3xb2dvX6",
    "tags": []
   },
   "source": [
    "#### Choosing between zero-shot, one-shot, few-shot prompting methods"
   ]
  },
  {
   "cell_type": "markdown",
   "metadata": {
    "id": "s92W0YpNdxJp"
   },
   "source": [
    "Which prompt technique to use will solely depends on your goal. The zero-shot prompts are more open-ended and can give you creative answers, while one-shot and few-shot prompts teach the model how to behave so you can get more predictable answers that are consistent with the examples provided."
   ]
  },
  {
   "cell_type": "code",
   "execution_count": null,
   "metadata": {},
   "outputs": [],
   "source": []
  }
 ],
 "metadata": {
  "colab": {
   "name": "intro_prompt_design.ipynb",
   "toc_visible": true
  },
  "environment": {
   "kernel": "conda-base-py",
   "name": "workbench-notebooks.m131",
   "type": "gcloud",
   "uri": "us-docker.pkg.dev/deeplearning-platform-release/gcr.io/workbench-notebooks:m131"
  },
  "kernelspec": {
   "display_name": "Python 3 (ipykernel) (Local) (Local)",
   "language": "python",
   "name": "conda-base-py"
  },
  "language_info": {
   "codemirror_mode": {
    "name": "ipython",
    "version": 3
   },
   "file_extension": ".py",
   "mimetype": "text/x-python",
   "name": "python",
   "nbconvert_exporter": "python",
   "pygments_lexer": "ipython3",
   "version": "3.10.18"
  }
 },
 "nbformat": 4,
 "nbformat_minor": 4
}
