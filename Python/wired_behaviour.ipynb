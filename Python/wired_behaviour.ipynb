{
 "cells": [
  {
   "cell_type": "code",
   "execution_count": 1,
   "id": "d4504203",
   "metadata": {},
   "outputs": [],
   "source": [
    "def append_num(num,my_list=[]):\n",
    "    my_list.append(num)\n",
    "    return my_list\n",
    "    "
   ]
  },
  {
   "cell_type": "code",
   "execution_count": 2,
   "id": "a39f1809",
   "metadata": {},
   "outputs": [
    {
     "data": {
      "text/plain": [
       "(['kamal', 'mahanna'], ['kamal', 'mahanna'])"
      ]
     },
     "execution_count": 2,
     "metadata": {},
     "output_type": "execute_result"
    }
   ],
   "source": [
    "a=append_num('kamal')\n",
    "b=append_num('mahanna')\n",
    "a,b"
   ]
  },
  {
   "cell_type": "code",
   "execution_count": 3,
   "id": "05331f27",
   "metadata": {},
   "outputs": [
    {
     "data": {
      "text/plain": [
       "['kamal', 'mahanna', 'kiran']"
      ]
     },
     "execution_count": 3,
     "metadata": {},
     "output_type": "execute_result"
    }
   ],
   "source": [
    "c=append_num('kiran')\n",
    "c\n"
   ]
  },
  {
   "cell_type": "markdown",
   "id": "48392eb1",
   "metadata": {},
   "source": [
    "This happens because default mutable arguments in Python are shared across function calls.\n",
    "\n",
    "Here, my_list=[] is evaluated only once when the function is defined, not every time the function is called.\n",
    "So, the same list is reused for every call when you don't pass the my_list argument explicitly.\n",
    "\n",
    "\n",
    "**Why does Python do this?**\n",
    "\n",
    "- Default arguments are evaluated once at function definition time, not at each call.\n",
    "- For immutable types like int or str, this is harmless.\n",
    "- For mutable types like list, dict, etc., this causes unexpected behavior like the one you saw."
   ]
  },
  {
   "cell_type": "code",
   "execution_count": 5,
   "metadata": {},
   "outputs": [
    {
     "name": "stdout",
     "output_type": "stream",
     "text": [
      "[1]\n",
      "[2]\n"
     ]
    }
   ],
   "source": [
    "# to fix, set default to none and initilize if its empty\n",
    "\n",
    "def append_num(num, my_list=None):\n",
    "    if my_list is None:\n",
    "        my_list = []\n",
    "    my_list.append(num)\n",
    "    return my_list\n",
    "\n",
    "a= append_num(1)\n",
    "b= append_num(2)\n",
    "print(a)\n",
    "print(b)\n"
   ]
  },
  {
   "cell_type": "markdown",
   "id": "0172f664",
   "metadata": {},
   "source": [
    "----"
   ]
  },
  {
   "cell_type": "code",
   "execution_count": 12,
   "id": "feef193c",
   "metadata": {},
   "outputs": [
    {
     "name": "stdout",
     "output_type": "stream",
     "text": [
      "0 7 [2, 3, 4, 4, 5, 6, 6]\n",
      "1 6 [3, 4, 4, 5, 6, 6]\n",
      "2 5 [3, 4, 5, 6, 6]\n",
      "3 5 [3, 4, 5, 6, 6]\n",
      "[3, 4, 5, 6]\n"
     ]
    }
   ],
   "source": [
    "# modifying while iterating\n",
    "a=[2,3,4,4,5,6,6]\n",
    "\n",
    "for j,i in enumerate(a):\n",
    "    print(j,len(a),a)\n",
    "    if i%2==0:\n",
    "        a.remove(i)\n",
    "\n",
    "print(a)"
   ]
  },
  {
   "cell_type": "markdown",
   "id": "d188589f",
   "metadata": {},
   "source": [
    "-----"
   ]
  },
  {
   "cell_type": "markdown",
   "id": "bd509f4f",
   "metadata": {},
   "source": [
    "### wrong decimal calculation"
   ]
  },
  {
   "cell_type": "code",
   "execution_count": null,
   "metadata": {},
   "outputs": [
    {
     "data": {
      "text/plain": [
       "0.30000000000000004"
      ]
     },
     "execution_count": 13,
     "metadata": {},
     "output_type": "execute_result"
    }
   ],
   "source": [
    "\n",
    "\n",
    "0.1+0.2"
   ]
  },
  {
   "cell_type": "code",
   "execution_count": 14,
   "metadata": {},
   "outputs": [
    {
     "data": {
      "text/plain": [
       "False"
      ]
     },
     "execution_count": 14,
     "metadata": {},
     "output_type": "execute_result"
    }
   ],
   "source": [
    "0.1+0.2 == 0.3"
   ]
  },
  {
   "cell_type": "code",
   "execution_count": 16,
   "metadata": {},
   "outputs": [
    {
     "name": "stdout",
     "output_type": "stream",
     "text": [
      "0.9999999999999999\n"
     ]
    }
   ],
   "source": [
    "total=0\n",
    "\n",
    "for i in range(10):\n",
    "    total+=0.1\n",
    "\n",
    "print(total)"
   ]
  },
  {
   "cell_type": "markdown",
   "id": "e35393c7",
   "metadata": {},
   "source": [
    "Binary floating-point numbers (IEEE 754 standard)\n",
    "Computers represent floating-point numbers in binary, and some decimal fractions cannot be represented exactly in binary form.\n",
    "\n",
    "For example:\n",
    "\n",
    "0.1 in binary floating-point becomes:\n",
    "0.0001100110011001100110011001100110011... (infinite repeating)\n",
    "\n",
    "Same for 0.2 and 0.3."
   ]
  },
  {
   "cell_type": "code",
   "execution_count": 18,
   "id": "4a23ca92",
   "metadata": {},
   "outputs": [
    {
     "name": "stdout",
     "output_type": "stream",
     "text": [
      "True\n",
      "1.0\n"
     ]
    }
   ],
   "source": [
    "# to solve use Decimal module\n",
    "\n",
    "from decimal import Decimal\n",
    "\n",
    "print(Decimal('0.1') + Decimal('0.2') == Decimal('0.3')) \n",
    "\n",
    "total = Decimal('0.0')\n",
    "for i in range(10):\n",
    "    total += Decimal('0.1')\n",
    "print(total)"
   ]
  },
  {
   "cell_type": "code",
   "execution_count": 19,
   "metadata": {},
   "outputs": [],
   "source": [
    "a=[1,2,3,...,100]"
   ]
  },
  {
   "cell_type": "code",
   "execution_count": 21,
   "id": "10fde47d",
   "metadata": {},
   "outputs": [
    {
     "name": "stdout",
     "output_type": "stream",
     "text": [
      "1\n",
      "2\n",
      "3\n",
      "Ellipsis\n",
      "100\n"
     ]
    }
   ],
   "source": [
    "for i in a:\n",
    "    print(i)"
   ]
  },
  {
   "cell_type": "code",
   "execution_count": null,
   "id": "cfcc4169",
   "metadata": {},
   "outputs": [],
   "source": []
  },
  {
   "cell_type": "code",
   "execution_count": 29,
   "metadata": {},
   "outputs": [],
   "source": [
    "import timeit\n",
    "\n",
    "setup_list = \"lst = list(range(1000000))\"\n",
    "setup_set = \"s = set(range(1000000))\"\n",
    "setup_dict = \"d = {i: i for i in range(1000000)}\""
   ]
  },
  {
   "cell_type": "code",
   "execution_count": 30,
   "metadata": {},
   "outputs": [
    {
     "name": "stdout",
     "output_type": "stream",
     "text": [
      "List indexing: 0.03167272799964849\n",
      "List search: 7.7523706709998805\n",
      "Set search: 3.4267000046384055e-05\n",
      "Dict get: 4.100300066056661e-05\n",
      "Dict search (key check): 3.877299968735315e-05\n",
      "List append: 2.6650000108929817e-05\n",
      "Set add: 2.9630000426550396e-05\n",
      "Dict set: 3.557400032150326e-05\n"
     ]
    }
   ],
   "source": [
    "\n",
    "print(\"List indexing:\", timeit.timeit(\"lst[999999]\", setup=setup_list, number=1000000))\n",
    "print(\"List search:\", timeit.timeit(\"999999 in lst\", setup=setup_list, number=1000))\n",
    "\n",
    "print(\"Set search:\", timeit.timeit(\"999999 in s\", setup=setup_set, number=1000))\n",
    "\n",
    "print(\"Dict get:\", timeit.timeit(\"d[999999]\", setup=setup_dict, number=1000))\n",
    "print(\"Dict search (key check):\", timeit.timeit(\"999999 in d\", setup=setup_dict, number=1000))\n",
    "\n",
    "print(\"List append:\", timeit.timeit(\"lst.append(0)\", setup=setup_list, number=1000))\n",
    "print(\"Set add:\", timeit.timeit(\"s.add(-1)\", setup=setup_set, number=1000))\n",
    "print(\"Dict set:\", timeit.timeit(\"d[-1] = -1\", setup=setup_dict, number=1000))\n"
   ]
  },
  {
   "cell_type": "code",
   "execution_count": 31,
   "id": "f65901ec",
   "metadata": {},
   "outputs": [
    {
     "name": "stdout",
     "output_type": "stream",
     "text": [
      "List size: 136\n",
      "Tuple size: 120\n",
      "Set size: 728\n",
      "Dict size: 352\n"
     ]
    }
   ],
   "source": [
    "import sys\n",
    "\n",
    "lst = list(range(10))\n",
    "tpl = tuple(range(10))\n",
    "st = set(range(10))\n",
    "dct = {i: i for i in range(10)}\n",
    "\n",
    "print(\"List size:\", sys.getsizeof(lst))\n",
    "print(\"Tuple size:\", sys.getsizeof(tpl))\n",
    "print(\"Set size:\", sys.getsizeof(st))\n",
    "print(\"Dict size:\", sys.getsizeof(dct))\n"
   ]
  },
  {
   "cell_type": "code",
   "execution_count": null,
   "id": "2ceb54dc",
   "metadata": {},
   "outputs": [],
   "source": []
  },
  {
   "cell_type": "code",
   "execution_count": null,
   "id": "44c6f3a8",
   "metadata": {},
   "outputs": [],
   "source": []
  },
  {
   "cell_type": "code",
   "execution_count": 39,
   "id": "3d43a2ab",
   "metadata": {},
   "outputs": [
    {
     "data": {
      "text/plain": [
       "1.6515443460002643"
      ]
     },
     "execution_count": 39,
     "metadata": {},
     "output_type": "execute_result"
    }
   ],
   "source": [
    "setup_str='m=\"\"'\n",
    "timeit.timeit(\"\"\"for i in range(10000):\n",
    "                    m += str(i) + \",\"\n",
    "              \"\"\", setup=setup_str, number=1000)"
   ]
  },
  {
   "cell_type": "code",
   "execution_count": null,
   "id": "47e05112",
   "metadata": {},
   "outputs": [],
   "source": [
    "setup_str='m=[]'\n",
    "timeit.timeit(\"\"\"for i in range(10000):\n",
    "    m.append(str(i))\n",
    "\",\".join(m)\"\"\", setup=setup_str, number=1000)"
   ]
  },
  {
   "cell_type": "code",
   "execution_count": 52,
   "id": "4e9b6652",
   "metadata": {},
   "outputs": [
    {
     "name": "stdout",
     "output_type": "stream",
     "text": [
      "1.42 ms ± 44.1 μs per loop (mean ± std. dev. of 7 runs, 1,000 loops each)\n"
     ]
    }
   ],
   "source": [
    "%%timeit -n 1000\n",
    "m=\"\"\n",
    "for i in range(10000):\n",
    "    m += str(i) + \",\""
   ]
  },
  {
   "cell_type": "code",
   "execution_count": 53,
   "id": "43bb8222",
   "metadata": {},
   "outputs": [
    {
     "name": "stdout",
     "output_type": "stream",
     "text": [
      "699 μs ± 12.6 μs per loop (mean ± std. dev. of 7 runs, 1,000 loops each)\n"
     ]
    }
   ],
   "source": [
    "%%timeit -n 1000\n",
    "m = []\n",
    "for i in range(10000):\n",
    "    m.append(str(i))\n",
    "\",\".join(m)"
   ]
  },
  {
   "cell_type": "code",
   "execution_count": 54,
   "id": "1225d04c",
   "metadata": {},
   "outputs": [
    {
     "name": "stdout",
     "output_type": "stream",
     "text": [
      "1.06 ms ± 64.7 μs per loop (mean ± std. dev. of 7 runs, 1,000 loops each)\n"
     ]
    }
   ],
   "source": [
    "%%timeit -n 1000\n",
    "m = []\n",
    "for i in range(10000):\n",
    "    m.append(str(i)+\",\")\n",
    "\"\".join(m)"
   ]
  },
  {
   "cell_type": "code",
   "execution_count": null,
   "id": "51a10daa",
   "metadata": {},
   "outputs": [],
   "source": []
  }
 ],
 "metadata": {
  "kernelspec": {
   "display_name": ".venv",
   "language": "python",
   "name": "python3"
  },
  "language_info": {
   "codemirror_mode": {
    "name": "ipython",
    "version": 3
   },
   "file_extension": ".py",
   "mimetype": "text/x-python",
   "name": "python",
   "nbconvert_exporter": "python",
   "pygments_lexer": "ipython3",
   "version": "3.13.3"
  }
 },
 "nbformat": 4,
 "nbformat_minor": 5
}
