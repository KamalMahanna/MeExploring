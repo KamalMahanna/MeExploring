{
 "cells": [
  {
   "cell_type": "markdown",
   "id": "6fb5bcd1",
   "metadata": {},
   "source": [
    "1. Find the maximum element"
   ]
  },
  {
   "cell_type": "markdown",
   "id": "c7082cbe",
   "metadata": {},
   "source": []
  }
 ],
 "metadata": {
  "language_info": {
   "name": "python"
  }
 },
 "nbformat": 4,
 "nbformat_minor": 5
}
