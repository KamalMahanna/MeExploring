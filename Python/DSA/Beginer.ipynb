{
 "cells": [
  {
   "cell_type": "markdown",
   "id": "6fb5bcd1",
   "metadata": {},
   "source": [
    "1. Bubble Sort"
   ]
  },
  {
   "cell_type": "code",
   "execution_count": 1,
   "id": "7ec6c5a5",
   "metadata": {},
   "outputs": [],
   "source": [
    "def bubble_sort(arr):\n",
    "    l=len(arr)\n",
    "    \n",
    "    for i in range(l-1):\n",
    "        for j in range(l-1-i):\n",
    "            if arr[j]>arr[j+1]:\n",
    "                arr[j],arr[j+1]=arr[j+1],arr[j]\n",
    "                print(arr)\n",
    "    return arr"
   ]
  },
  {
   "cell_type": "code",
   "execution_count": 6,
   "id": "5f7f5cdf",
   "metadata": {},
   "outputs": [
    {
     "name": "stdout",
     "output_type": "stream",
     "text": [
      "[-3, 0, 0.5, 33, 2, -1, 0]\n",
      "[-3, 0, 0.5, 2, 33, -1, 0]\n",
      "[-3, 0, 0.5, 2, -1, 33, 0]\n",
      "[-3, 0, 0.5, 2, -1, 0, 33]\n",
      "[-3, 0, 0.5, -1, 2, 0, 33]\n",
      "[-3, 0, 0.5, -1, 0, 2, 33]\n",
      "[-3, 0, -1, 0.5, 0, 2, 33]\n",
      "[-3, 0, -1, 0, 0.5, 2, 33]\n",
      "[-3, -1, 0, 0, 0.5, 2, 33]\n"
     ]
    },
    {
     "data": {
      "text/plain": [
       "[-3, -1, 0, 0, 0.5, 2, 33]"
      ]
     },
     "execution_count": 6,
     "metadata": {},
     "output_type": "execute_result"
    }
   ],
   "source": [
    "bubble_sort([-3,0.5,0,33,2,-1,0])"
   ]
  },
  {
   "cell_type": "code",
   "execution_count": null,
   "id": "db4bf5ed",
   "metadata": {},
   "outputs": [],
   "source": []
  },
  {
   "cell_type": "code",
   "execution_count": 8,
   "id": "7d81c834",
   "metadata": {},
   "outputs": [],
   "source": [
    "# swapping\n",
    "def insertion_sort(arr):\n",
    "    \n",
    "    for i in range(1,len(arr)):\n",
    "        j=i\n",
    "        while j>0 and (arr[j-1]>arr[j]):\n",
    "            arr[j-1],arr[j] = arr[j],arr[j-1]\n",
    "            print(i,j,arr)\n",
    "            j-=1\n",
    "    return arr"
   ]
  },
  {
   "cell_type": "code",
   "execution_count": 9,
   "id": "efec8e90",
   "metadata": {},
   "outputs": [
    {
     "name": "stdout",
     "output_type": "stream",
     "text": [
      "1 1 [4, 5, 3, 2, 1]\n",
      "2 2 [4, 3, 5, 2, 1]\n",
      "2 1 [3, 4, 5, 2, 1]\n",
      "3 3 [3, 4, 2, 5, 1]\n",
      "3 2 [3, 2, 4, 5, 1]\n",
      "3 1 [2, 3, 4, 5, 1]\n",
      "4 4 [2, 3, 4, 1, 5]\n",
      "4 3 [2, 3, 1, 4, 5]\n",
      "4 2 [2, 1, 3, 4, 5]\n",
      "4 1 [1, 2, 3, 4, 5]\n"
     ]
    },
    {
     "data": {
      "text/plain": [
       "[1, 2, 3, 4, 5]"
      ]
     },
     "execution_count": 9,
     "metadata": {},
     "output_type": "execute_result"
    }
   ],
   "source": [
    "insertion_sort([5,4,3,2,1])"
   ]
  },
  {
   "cell_type": "code",
   "execution_count": 46,
   "id": "4b616854",
   "metadata": {},
   "outputs": [],
   "source": [
    "# shifting\n",
    "def insertion_sort(arr):\n",
    "    \n",
    "    for i in range(1,len(arr)):\n",
    "        j=i\n",
    "        curr=arr[i]\n",
    "        while (j>0) and (arr[j-1]>curr):\n",
    "            arr[j] = arr[j-1]\n",
    "            j-=1\n",
    "        arr[j]=curr\n",
    "        \n",
    "    return arr"
   ]
  },
  {
   "cell_type": "code",
   "execution_count": 47,
   "id": "710c35d8",
   "metadata": {},
   "outputs": [
    {
     "data": {
      "text/plain": [
       "[1, 2, 3, 4, 5]"
      ]
     },
     "execution_count": 47,
     "metadata": {},
     "output_type": "execute_result"
    }
   ],
   "source": [
    "insertion_sort([5,4,3,2,1])"
   ]
  },
  {
   "cell_type": "code",
   "execution_count": 48,
   "id": "93de789d",
   "metadata": {},
   "outputs": [
    {
     "data": {
      "text/plain": [
       "[0, 1, 2, 3, 4, 5]"
      ]
     },
     "execution_count": 48,
     "metadata": {},
     "output_type": "execute_result"
    }
   ],
   "source": [
    "insertion_sort([0,5,4,3,2,1])"
   ]
  },
  {
   "cell_type": "code",
   "execution_count": null,
   "id": "e6684dcf",
   "metadata": {},
   "outputs": [],
   "source": []
  },
  {
   "cell_type": "code",
   "execution_count": null,
   "id": "8737b8a4",
   "metadata": {},
   "outputs": [],
   "source": []
  },
  {
   "cell_type": "code",
   "execution_count": 17,
   "id": "bc62058e",
   "metadata": {},
   "outputs": [],
   "source": [
    "def countNegatives(grid):\n",
    "    # Implement your solution here\n",
    "    neg_num = 0\n",
    "    \n",
    "    for arr in grid:\n",
    "        n=len(arr)\n",
    "        start=0\n",
    "        end=n-1\n",
    "        while start<=end:\n",
    "            \n",
    "            mid = (start+end)//2\n",
    "            \n",
    "            if arr[mid]<0:\n",
    "                end=mid-1\n",
    "            elif arr[mid]>=0:\n",
    "                start=mid+1\n",
    "        if arr[mid]<0:\n",
    "            neg_num+=n-mid\n",
    "        else:\n",
    "            neg_num+=n-mid-1\n",
    "    return neg_num"
   ]
  },
  {
   "cell_type": "code",
   "execution_count": 18,
   "id": "65fe4cb9",
   "metadata": {},
   "outputs": [
    {
     "data": {
      "text/plain": [
       "7"
      ]
     },
     "execution_count": 18,
     "metadata": {},
     "output_type": "execute_result"
    }
   ],
   "source": [
    "countNegatives([[4, 3, 2, 1], [3, 2, 1, -1], [1, 1, -1, -2], [-1, -1, -2, -3]])"
   ]
  },
  {
   "cell_type": "code",
   "execution_count": null,
   "id": "303d5e78",
   "metadata": {},
   "outputs": [],
   "source": []
  },
  {
   "cell_type": "code",
   "execution_count": 41,
   "id": "d6017ea3",
   "metadata": {},
   "outputs": [],
   "source": [
    "def pos_neg(arr):\n",
    "    n=len(arr)\n",
    "    start=0\n",
    "    end=n\n",
    "    while start<end:\n",
    "        \n",
    "        mid = (start+end)//2\n",
    "        \n",
    "        if arr[mid]<0:\n",
    "            end=mid\n",
    "        else:\n",
    "            start=mid+1\n",
    "    return start,mid,end,n-start"
   ]
  },
  {
   "cell_type": "code",
   "execution_count": 42,
   "id": "b96cbae2",
   "metadata": {},
   "outputs": [
    {
     "data": {
      "text/plain": [
       "(3, 3, 3, 1)"
      ]
     },
     "execution_count": 42,
     "metadata": {},
     "output_type": "execute_result"
    }
   ],
   "source": [
    "pos_neg([4,1,0,-1])"
   ]
  },
  {
   "cell_type": "code",
   "execution_count": 43,
   "id": "f635a57e",
   "metadata": {},
   "outputs": [
    {
     "data": {
      "text/plain": [
       "(0, 0, 0, 4)"
      ]
     },
     "execution_count": 43,
     "metadata": {},
     "output_type": "execute_result"
    }
   ],
   "source": [
    "pos_neg([-1,-2,-3,-33])"
   ]
  },
  {
   "cell_type": "code",
   "execution_count": 44,
   "id": "9beeafb6",
   "metadata": {},
   "outputs": [
    {
     "data": {
      "text/plain": [
       "(4, 3, 4, 0)"
      ]
     },
     "execution_count": 44,
     "metadata": {},
     "output_type": "execute_result"
    }
   ],
   "source": [
    "pos_neg([3,2,1,0])"
   ]
  },
  {
   "cell_type": "code",
   "execution_count": 45,
   "id": "4586857a",
   "metadata": {},
   "outputs": [
    {
     "data": {
      "text/plain": [
       "(1, 0, 1, 3)"
      ]
     },
     "execution_count": 45,
     "metadata": {},
     "output_type": "execute_result"
    }
   ],
   "source": [
    "pos_neg([0,-1,-2,-3])"
   ]
  },
  {
   "cell_type": "code",
   "execution_count": null,
   "id": "e6085127",
   "metadata": {},
   "outputs": [],
   "source": []
  },
  {
   "cell_type": "code",
   "execution_count": null,
   "id": "bc076df8",
   "metadata": {},
   "outputs": [],
   "source": []
  },
  {
   "cell_type": "code",
   "execution_count": 39,
   "id": "f7f1d587",
   "metadata": {},
   "outputs": [],
   "source": [
    "def count_negatives_in_row(row):\n",
    "    \"\"\"\n",
    "    Use binary search to count the number of negative numbers in a row.\n",
    "    \"\"\"\n",
    "    left, right = 0, len(row)\n",
    "    while left < right:\n",
    "        mid = (left + right) // 2\n",
    "        if row[mid] < 0:\n",
    "            right = mid\n",
    "        else:\n",
    "            left = mid + 1\n",
    "    return left,mid,right,len(row) - left"
   ]
  },
  {
   "cell_type": "code",
   "execution_count": 40,
   "metadata": {},
   "outputs": [
    {
     "data": {
      "text/plain": [
       "(4, 3, 4, 0)"
      ]
     },
     "execution_count": 40,
     "metadata": {},
     "output_type": "execute_result"
    }
   ],
   "source": [
    "count_negatives_in_row([ 3, 2, 1,0])"
   ]
  },
  {
   "cell_type": "code",
   "execution_count": null,
   "id": "047efc49",
   "metadata": {},
   "outputs": [],
   "source": []
  },
  {
   "cell_type": "code",
   "execution_count": 46,
   "metadata": {},
   "outputs": [],
   "source": [
    "def next_greatest_letter(letters, target):\n",
    "    \"\"\"\n",
    "    Return the smallest character in letters that is lexicographically greater than target.\n",
    "\n",
    "    Parameters:\n",
    "    letters (List[char]): Sorted array of characters.\n",
    "    target (char): The target character.\n",
    "\n",
    "    Returns:\n",
    "    char: The smallest character greater than target, or the first character if no such character exists.\n",
    "    \"\"\"\n",
    "    # Implement the function logic\n",
    "    \n",
    "    start=0\n",
    "    end=len(letters)\n",
    "    \n",
    "    while start<end:\n",
    "        mid=(start+end)//2\n",
    "        \n",
    "        if ord(letters[mid])>ord(target):\n",
    "            end=mid\n",
    "        else:\n",
    "            start=mid+1\n",
    "    return start,mid,end"
   ]
  },
  {
   "cell_type": "code",
   "execution_count": 48,
   "metadata": {},
   "outputs": [
    {
     "data": {
      "text/plain": [
       "(1, 0, 1)"
      ]
     },
     "execution_count": 48,
     "metadata": {},
     "output_type": "execute_result"
    }
   ],
   "source": [
    "next_greatest_letter(['c', 'f', 'j'],'c')"
   ]
  },
  {
   "cell_type": "code",
   "execution_count": null,
   "metadata": {},
   "outputs": [],
   "source": []
  },
  {
   "cell_type": "code",
   "execution_count": null,
   "id": "2f9fea8b",
   "metadata": {},
   "outputs": [],
   "source": []
  },
  {
   "cell_type": "code",
   "execution_count": null,
   "id": "2957bc5d",
   "metadata": {},
   "outputs": [],
   "source": []
  },
  {
   "cell_type": "code",
   "execution_count": null,
   "id": "d84ffe12",
   "metadata": {},
   "outputs": [],
   "source": []
  },
  {
   "cell_type": "code",
   "execution_count": null,
   "metadata": {},
   "outputs": [],
   "source": []
  },
  {
   "cell_type": "code",
   "execution_count": null,
   "id": "7a2d7b53",
   "metadata": {},
   "outputs": [],
   "source": []
  },
  {
   "cell_type": "code",
   "execution_count": null,
   "id": "637dc331",
   "metadata": {},
   "outputs": [],
   "source": []
  },
  {
   "cell_type": "code",
   "execution_count": null,
   "id": "b71469d9",
   "metadata": {},
   "outputs": [],
   "source": []
  },
  {
   "cell_type": "code",
   "execution_count": null,
   "id": "0443a92c",
   "metadata": {},
   "outputs": [],
   "source": []
  },
  {
   "cell_type": "code",
   "execution_count": null,
   "id": "222a79d8",
   "metadata": {},
   "outputs": [],
   "source": []
  },
  {
   "cell_type": "markdown",
   "id": "c7082cbe",
   "metadata": {},
   "source": []
  }
 ],
 "metadata": {
  "kernelspec": {
   "display_name": "base",
   "language": "python",
   "name": "python3"
  },
  "language_info": {
   "codemirror_mode": {
    "name": "ipython",
    "version": 3
   },
   "file_extension": ".py",
   "mimetype": "text/x-python",
   "name": "python",
   "nbconvert_exporter": "python",
   "pygments_lexer": "ipython3",
   "version": "3.13.2"
  }
 },
 "nbformat": 4,
 "nbformat_minor": 5
}
