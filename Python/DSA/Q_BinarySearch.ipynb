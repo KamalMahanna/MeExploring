{
 "cells": [
  {
   "cell_type": "markdown",
   "id": "63eb6168",
   "metadata": {},
   "source": [
    "### Find First and Last Position of Element in Sorted Array\n",
    "**Asked in companies**: Goldman sachs, Amazon, Wipro, Airtel\n",
    "\n",
    "\n",
    "\n",
    "**Description**:\n",
    "Given an array of integers nums sorted in non-decreasing order, and an integer target, find the starting and ending position of the given target value. If target is not found in the array, return [-1, -1].\n",
    "\n",
    "\n",
    "\n",
    "**Parameters**:\n",
    "\n",
    "nums (List[int]): A list of integers sorted in non-decreasing order.\n",
    "\n",
    "target (int): The target value to search for.\n",
    "\n",
    "**Return Values**:\n",
    "\n",
    "List[int]: The starting and ending positions of the target value in the array. If the target is not found, return [-1, -1].\n",
    "\n",
    "\n",
    "\n",
    "**Example**:\n",
    "\n",
    "Input: nums = [5, 7, 7, 8, 8, 10], target = 8 \n",
    "Output: [3, 4] \n",
    "Explanation: The target 8 appears from index 3 to index 4.\n",
    " \n",
    " \n",
    "Input: nums = [5, 7, 7, 8, 8, 10], target = 6 \n",
    "Output: [-1, -1] \n",
    "Explanation: The target 6 is not found in the array.\n",
    "\n",
    "https://leetcode.com/problems/find-first-and-last-position-of-element-in-sorted-array/description/"
   ]
  },
  {
   "cell_type": "code",
   "execution_count": null,
   "id": "90020f58",
   "metadata": {},
   "outputs": [],
   "source": [
    "def searchRange(nums, target):\n",
    "    # Implement your solution here\n",
    "    start=0\n",
    "    end=len(nums)-1\n",
    "    \n",
    "    while start<end:\n",
    "        mid=(start+end)//2\n",
    "        if nums[mid]==target:\n",
    "            \n",
    "        elif nums[mid]<target:\n",
    "            start=mid+1\n",
    "        else:\n",
    "            end=mid-1\n",
    "    print(start,mid,end)\n",
    "    \n",
    "    start=0\n",
    "    end=len(nums)\n",
    "    \n",
    "    while start<end:\n",
    "        mid=(start+end)//2\n",
    "        \n",
    "        if nums[mid]<target:\n",
    "            start=mid+1\n",
    "        else:\n",
    "            end=mid\n",
    "    print(start,mid,end)"
   ]
  },
  {
   "cell_type": "code",
   "execution_count": 11,
   "id": "98eee0a6",
   "metadata": {},
   "outputs": [
    {
     "name": "stdout",
     "output_type": "stream",
     "text": [
      "6 6 5\n",
      "6 6 6\n"
     ]
    }
   ],
   "source": [
    "nums=[5, 7, 7, 8, 8,8, 10]\n",
    "target = 9\n",
    "searchRange(nums,target)"
   ]
  },
  {
   "cell_type": "code",
   "execution_count": null,
   "id": "dd257c08",
   "metadata": {},
   "outputs": [],
   "source": []
  },
  {
   "cell_type": "code",
   "execution_count": null,
   "id": "d530f54b",
   "metadata": {},
   "outputs": [],
   "source": []
  },
  {
   "cell_type": "code",
   "execution_count": null,
   "id": "a6dd92c3",
   "metadata": {},
   "outputs": [],
   "source": []
  },
  {
   "cell_type": "code",
   "execution_count": null,
   "id": "51368212",
   "metadata": {},
   "outputs": [],
   "source": []
  },
  {
   "cell_type": "code",
   "execution_count": null,
   "id": "cbfc2a61",
   "metadata": {},
   "outputs": [],
   "source": []
  },
  {
   "cell_type": "code",
   "execution_count": null,
   "id": "fb343a2d",
   "metadata": {},
   "outputs": [],
   "source": []
  },
  {
   "cell_type": "code",
   "execution_count": null,
   "id": "488da083",
   "metadata": {},
   "outputs": [],
   "source": []
  },
  {
   "cell_type": "code",
   "execution_count": null,
   "id": "f911cb70",
   "metadata": {},
   "outputs": [],
   "source": []
  }
 ],
 "metadata": {
  "kernelspec": {
   "display_name": "base",
   "language": "python",
   "name": "python3"
  },
  "language_info": {
   "codemirror_mode": {
    "name": "ipython",
    "version": 3
   },
   "file_extension": ".py",
   "mimetype": "text/x-python",
   "name": "python",
   "nbconvert_exporter": "python",
   "pygments_lexer": "ipython3",
   "version": "3.13.2"
  }
 },
 "nbformat": 4,
 "nbformat_minor": 5
}
