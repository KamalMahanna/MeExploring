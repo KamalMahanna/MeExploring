{
 "cells": [
  {
   "cell_type": "code",
   "execution_count": null,
   "id": "a42a3d61",
   "metadata": {
    "vscode": {
     "languageId": "plaintext"
    }
   },
   "outputs": [],
   "source": []
  },
  {
   "cell_type": "code",
   "execution_count": null,
   "id": "5cb19bc4",
   "metadata": {
    "vscode": {
     "languageId": "plaintext"
    }
   },
   "outputs": [],
   "source": [
    "from pyspark.sql import SparkSession\n",
    "from pyspark.ml.classification import LogisticRegression\n",
    "from pyspark.ml.feature import VectorAssembler, StandardScaler\n",
    "from pyspark.ml.evaluation import BinaryClassificationEvaluator\n",
    "\n",
    "# Start Spark session\n",
    "spark = SparkSession.builder.appName(\"LogRegExample\").getOrCreate()\n",
    "\n",
    "# Create DataFrame\n",
    "data = spark.createDataFrame([\n",
    "    (22, 20000, 0),\n",
    "    (25, 25000, 0),\n",
    "    (47, 47000, 1),\n",
    "    (52, 52000, 1),\n",
    "    (46, 46000, 1)\n",
    "], [\"age\", \"income\", \"label\"])\n",
    "\n",
    "# Assemble features\n",
    "assembler = VectorAssembler(inputCols=[\"age\", \"income\"], outputCol=\"features_raw\")\n",
    "data = assembler.transform(data)\n",
    "\n",
    "# Scale features\n",
    "scaler = StandardScaler(inputCol=\"features_raw\", outputCol=\"features\", withStd=True, withMean=False)\n",
    "scaler_model = scaler.fit(data)\n",
    "data = scaler_model.transform(data)\n",
    "\n",
    "# Split data\n",
    "train, test = data.randomSplit([0.8, 0.2])\n",
    "\n",
    "# Train model\n",
    "lr = LogisticRegression(featuresCol=\"features\", labelCol=\"label\")\n",
    "model = lr.fit(train)\n",
    "\n",
    "# Predict and evaluate\n",
    "predictions = model.transform(test)\n",
    "evaluator = BinaryClassificationEvaluator(labelCol=\"label\")\n",
    "accuracy = evaluator.evaluate(predictions)\n",
    "print(\"Area under ROC:\", accuracy)\n"
   ]
  }
 ],
 "metadata": {
  "language_info": {
   "name": "python"
  }
 },
 "nbformat": 4,
 "nbformat_minor": 5
}
