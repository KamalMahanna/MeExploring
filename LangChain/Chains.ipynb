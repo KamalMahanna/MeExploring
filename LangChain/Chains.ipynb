{
 "cells": [
  {
   "cell_type": "markdown",
   "id": "c6263232",
   "metadata": {},
   "source": [
    "### Parallel chain"
   ]
  },
  {
   "cell_type": "code",
   "execution_count": 4,
   "id": "bbb7270a",
   "metadata": {},
   "outputs": [],
   "source": [
    "from dotenv import load_dotenv\n",
    "load_dotenv() \n",
    "\n",
    "from langchain_google_genai import ChatGoogleGenerativeAI\n",
    "from langchain_ollama import ChatOllama\n",
    "from langchain_core.prompts import PromptTemplate\n",
    "from langchain_core.output_parsers import StrOutputParser\n",
    "from langchain_core.runnables import RunnableParallel\n",
    "\n",
    "llm1 = ChatGoogleGenerativeAI(model=\"gemini-2.5-flash-preview-04-17\")\n",
    "llm2 = ChatOllama(model=\"gemma3:1b\")"
   ]
  },
  {
   "cell_type": "code",
   "execution_count": 5,
   "metadata": {},
   "outputs": [],
   "source": [
    "prompt1 = PromptTemplate(\n",
    "    template='Generate short and simple notes from the following text \\n {text}',\n",
    "    input_variables=['text']\n",
    ")\n",
    "\n",
    "prompt2 = PromptTemplate(\n",
    "    template='Generate 5 short question answers from the following text \\n {text}',\n",
    "    input_variables=['text']\n",
    ")\n",
    "\n",
    "prompt3 = PromptTemplate(\n",
    "    template='Merge the provided notes and quiz into a single document \\n notes -> {notes} and quiz -> {quiz}',\n",
    "    input_variables=['notes', 'quiz']\n",
    ")\n",
    "\n",
    "parser = StrOutputParser()"
   ]
  },
  {
   "cell_type": "code",
   "execution_count": 6,
   "metadata": {},
   "outputs": [],
   "source": [
    "# chains\n",
    "parallel_chain = RunnableParallel({\n",
    "    'notes': prompt1 | llm1 | parser,\n",
    "    'quiz': prompt2 | llm2 | parser\n",
    "})"
   ]
  },
  {
   "cell_type": "code",
   "execution_count": 7,
   "metadata": {},
   "outputs": [],
   "source": [
    "chain = parallel_chain | prompt3 | llm1 | parser"
   ]
  },
  {
   "cell_type": "code",
   "execution_count": 8,
   "metadata": {},
   "outputs": [
    {
     "data": {
      "text/plain": [
       "'Okay, here is the merged document containing the notes and the quiz.\\n\\n***\\n\\n**Notes on the First India-Pakistan War (Kashmir)**\\n\\n*   War started Oct 1947 (First India-Pakistan War).\\n*   Cause: Pakistan feared Kashmir joining India.\\n*   Kashmir was a princely state with a Hindu ruler (Maharaja Hari Singh) but mostly Muslim population.\\n*   Tribal forces (with Pakistan support) attacked Kashmir.\\n*   Maharaja joined India to get help.\\n*   UN Resolution 47 passed April 1948.\\n*   Cease-fire declared Jan 1949.\\n*   Line of Control formed.\\n*   India got ~2/3 of Kashmir.\\n*   Pakistan got ~1/3 (called Pakistan administered Kashmir).\\n\\n***\\n\\n**Quiz based on the Notes**\\n\\nHere are 5 short question answers based on the provided text:\\n\\n1.  **What triggered the First India–Pakistan War?**\\n    *   The war started when Pakistan feared Maharaja Kashmir would join India.\\n\\n2.  **Which princely state was the focus of the conflict?**\\n    *   The focus was Jammu and Kashmir.\\n\\n3.  **What happened to Maharaja Hari Singh?**\\n    *   He signed the Instrument of Accession to India to receive Indian military aid.\\n\\n4.  **When was the cease-fire declared?**\\n    *   It was declared on January 1, 1949.\\n\\n5.  **Approximately how much did India gain in Kashmir after the war?**\\n    *   India gained about two-thirds of Kashmir.'"
      ]
     },
     "execution_count": 8,
     "metadata": {},
     "output_type": "execute_result"
    }
   ],
   "source": [
    "chain.invoke({\"text\":\"\"\"\n",
    "              The war, also called the First India–Pakistan War, started in October 1947 when Pakistan feared that the Maharaja of the princely state of Kashmir and Jammu would accede to India. Following partition, princely states were left to choose whether to join India or Pakistan or to remain independent. Jammu and Kashmir, the largest of the princely states, had a majority Muslim population and significant fraction of Hindu population, all ruled by the Hindu Maharaja Hari Singh. Tribal Islamic forces with support from the army of Pakistan attacked and occupied parts of the princely state forcing the Maharaja to sign the Instrument of Accession of the princely state to the Dominion of India to receive Indian military aid. The UN Security Council passed Resolution 47 on 22 April 1948. The fronts solidified gradually along what came to be known as the Line of Control. A formal cease-fire was declared at 23:59 on the night of 1 January 1949.[10]: 379  India gained control of about two-thirds of the state (Kashmir Valley, Jammu and Ladakh) whereas Pakistan gained roughly a third of Kashmir (Azad Kashmir, and Gilgit-Baltistan). The Pakistan controlled areas are collectively referred to as Pakistan administered Kashmir\n",
    "              \"\"\"})"
   ]
  },
  {
   "cell_type": "code",
   "execution_count": null,
   "id": "7d2cf857",
   "metadata": {},
   "outputs": [],
   "source": []
  },
  {
   "cell_type": "code",
   "execution_count": 11,
   "id": "f9233030",
   "metadata": {},
   "outputs": [
    {
     "name": "stdout",
     "output_type": "stream",
     "text": [
      "                +---------------------------+             \n",
      "                | Parallel<notes,quiz>Input |             \n",
      "                +---------------------------+             \n",
      "                     **               **                  \n",
      "                  ***                   ***               \n",
      "                **                         **             \n",
      "    +----------------+                +----------------+  \n",
      "    | PromptTemplate |                | PromptTemplate |  \n",
      "    +----------------+                +----------------+  \n",
      "             *                                 *          \n",
      "             *                                 *          \n",
      "             *                                 *          \n",
      "+------------------------+              +------------+    \n",
      "| ChatGoogleGenerativeAI |              | ChatOllama |    \n",
      "+------------------------+              +------------+    \n",
      "             *                                 *          \n",
      "             *                                 *          \n",
      "             *                                 *          \n",
      "    +-----------------+               +-----------------+ \n",
      "    | StrOutputParser |               | StrOutputParser | \n",
      "    +-----------------+               +-----------------+ \n",
      "                     **               **                  \n",
      "                       ***         ***                    \n",
      "                          **     **                       \n",
      "               +----------------------------+             \n",
      "               | Parallel<notes,quiz>Output |             \n",
      "               +----------------------------+             \n",
      "                              *                           \n",
      "                              *                           \n",
      "                              *                           \n",
      "                     +----------------+                   \n",
      "                     | PromptTemplate |                   \n",
      "                     +----------------+                   \n",
      "                              *                           \n",
      "                              *                           \n",
      "                              *                           \n",
      "                 +------------------------+               \n",
      "                 | ChatGoogleGenerativeAI |               \n",
      "                 +------------------------+               \n",
      "                              *                           \n",
      "                              *                           \n",
      "                              *                           \n",
      "                    +-----------------+                   \n",
      "                    | StrOutputParser |                   \n",
      "                    +-----------------+                   \n",
      "                              *                           \n",
      "                              *                           \n",
      "                              *                           \n",
      "                  +-----------------------+               \n",
      "                  | StrOutputParserOutput |               \n",
      "                  +-----------------------+               \n"
     ]
    }
   ],
   "source": [
    "chain.get_graph().print_ascii()"
   ]
  },
  {
   "cell_type": "markdown",
   "id": "ca7e606a",
   "metadata": {},
   "source": [
    "### Conditional Chain"
   ]
  },
  {
   "cell_type": "code",
   "execution_count": 12,
   "id": "a92b4236",
   "metadata": {},
   "outputs": [
    {
     "name": "stdout",
     "output_type": "stream",
     "text": [
      "Okay, here are several options for responding to positive feedback, ranging from simple to more detailed. Choose the one that best fits the context, your relationship with the person, and your usual tone.\n",
      "\n",
      "**Key Elements of a Good Response:**\n",
      "\n",
      "1.  **Thank them:** Always start with appreciation.\n",
      "2.  **Acknowledge their feedback:** Briefly mention what they said or the fact that they gave feedback.\n",
      "3.  **Express pleasure:** Show you're happy they had a positive experience.\n",
      "4.  **(Optional) Reference specifics:** If they mentioned something specific, referencing it makes the response more personal.\n",
      "5.  **(Optional) Look forward:** Express hope for future interactions.\n",
      "\n",
      "---\n",
      "\n",
      "**Response Options:**\n",
      "\n",
      "**1. Simple & Direct:**\n",
      "\n",
      "*   \"Thank you for your positive feedback!\"\n",
      "*   \"Thanks so much!\"\n",
      "*   \"We appreciate your kind words.\"\n",
      "\n",
      "**2. Slightly More Expressive:**\n",
      "\n",
      "*   \"Thank you for the positive feedback! We're so glad you had a good experience.\"\n",
      "*   \"We really appreciate you taking the time to share your positive feedback. Thank you!\"\n",
      "*   \"Wonderful to hear! Thanks for your positive comments.\"\n",
      "\n",
      "**3. Enthusiastic & Appreciative:**\n",
      "\n",
      "*   \"Thank you so much for this fantastic feedback! We're absolutely thrilled you had such a positive experience.\"\n",
      "*   \"Wow, thank you! Your positive feedback means a lot to us and truly made our day.\"\n",
      "*   \"We're delighted to receive your positive feedback! Thank you for your kind words and for sharing your experience.\"\n",
      "\n",
      "**4. Referencing Specifics (If they mentioned something specific):**\n",
      "\n",
      "*   \"Thank you for your positive feedback! We're especially happy to hear you enjoyed [mention the specific thing they liked, e.g., 'the service,' 'the product,' 'the atmosphere'].\"\n",
      "*   \"We really appreciate your feedback! It's great to know that [mention the specific point, e.g., 'our efforts to...' or 'the feature you mentioned'] made such a positive difference for you. Thank you!\"\n",
      "\n",
      "**5. Adding a Look Forward:**\n",
      "\n",
      "*   \"Thank you for the positive feedback! We're so glad you had a great experience and look forward to [seeing you again / serving you again soon / continuing to provide great service].\"\n",
      "*   \"We appreciate your kind words! Thank you for sharing your positive experience. We hope to have the pleasure of [interacting with you again / serving you again] in the future.\"\n",
      "\n",
      "---\n",
      "\n",
      "**Choose the best fit based on:**\n",
      "\n",
      "*   **The specific feedback:** Was it detailed or just a general positive comment?\n",
      "*   **The platform:** Is this an email, social media comment, review site, etc.?\n",
      "*   **Your brand or personal voice:** Are you typically formal, casual, enthusiastic?\n",
      "\n",
      "A sincere \"Thank you\" is always a good starting point!\n",
      "      +-------------+      \n",
      "      | PromptInput |      \n",
      "      +-------------+      \n",
      "             *             \n",
      "             *             \n",
      "             *             \n",
      "    +----------------+     \n",
      "    | PromptTemplate |     \n",
      "    +----------------+     \n",
      "             *             \n",
      "             *             \n",
      "             *             \n",
      "+------------------------+ \n",
      "| ChatGoogleGenerativeAI | \n",
      "+------------------------+ \n",
      "             *             \n",
      "             *             \n",
      "             *             \n",
      " +----------------------+  \n",
      " | PydanticOutputParser |  \n",
      " +----------------------+  \n",
      "             *             \n",
      "             *             \n",
      "             *             \n",
      "        +--------+         \n",
      "        | Branch |         \n",
      "        +--------+         \n",
      "             *             \n",
      "             *             \n",
      "             *             \n",
      "     +--------------+      \n",
      "     | BranchOutput |      \n",
      "     +--------------+      \n"
     ]
    }
   ],
   "source": [
    "from pydantic import BaseModel, Field\n",
    "from typing import Literal\n",
    "from langchain_core.output_parsers import PydanticOutputParser, StrOutputParser\n",
    "from langchain_core.runnables import RunnableLambda , RunnableBranch\n",
    "\n",
    "parser = StrOutputParser()\n",
    "\n",
    "class Feedback(BaseModel):\n",
    "\n",
    "    sentiment: Literal['positive', 'negative'] = Field(description='Give the sentiment of the feedback')\n",
    "\n",
    "parser2 = PydanticOutputParser(pydantic_object=Feedback)\n",
    "\n",
    "prompt1 = PromptTemplate(\n",
    "    template='Classify the sentiment of the following feedback text into postive or negative \\n {feedback} \\n {format_instruction}',\n",
    "    input_variables=['feedback'],\n",
    "    partial_variables={'format_instruction':parser2.get_format_instructions()}\n",
    ")\n",
    "\n",
    "classifier_chain = prompt1 | llm1 | parser2\n",
    "\n",
    "prompt2 = PromptTemplate(\n",
    "    template='Write an appropriate response to this positive feedback \\n {feedback}',\n",
    "    input_variables=['feedback']\n",
    ")\n",
    "\n",
    "prompt3 = PromptTemplate(\n",
    "    template='Write an appropriate response to this negative feedback \\n {feedback}',\n",
    "    input_variables=['feedback']\n",
    ")\n",
    "\n",
    "branch_chain = RunnableBranch(\n",
    "    (lambda x:x.sentiment == 'positive', prompt2 | llm1 | parser),\n",
    "    (lambda x:x.sentiment == 'negative', prompt3 | llm1 | parser),\n",
    "    RunnableLambda(lambda x: \"could not find sentiment\")\n",
    ")\n",
    "\n",
    "chain = classifier_chain | branch_chain\n",
    "\n",
    "print(chain.invoke({'feedback': 'This is a beautiful phone'}))\n",
    "\n",
    "chain.get_graph().print_ascii()"
   ]
  },
  {
   "cell_type": "code",
   "execution_count": null,
   "id": "29517018",
   "metadata": {},
   "outputs": [],
   "source": []
  },
  {
   "cell_type": "code",
   "execution_count": null,
   "id": "5734d12e",
   "metadata": {},
   "outputs": [],
   "source": []
  },
  {
   "cell_type": "code",
   "execution_count": null,
   "id": "1236d14d",
   "metadata": {},
   "outputs": [],
   "source": []
  },
  {
   "cell_type": "code",
   "execution_count": null,
   "id": "2e83fd24",
   "metadata": {},
   "outputs": [],
   "source": []
  },
  {
   "cell_type": "code",
   "execution_count": null,
   "id": "dfa0fac7",
   "metadata": {},
   "outputs": [],
   "source": []
  },
  {
   "cell_type": "code",
   "execution_count": null,
   "id": "bd48cb16",
   "metadata": {},
   "outputs": [],
   "source": []
  },
  {
   "cell_type": "code",
   "execution_count": null,
   "id": "41ccacad",
   "metadata": {},
   "outputs": [],
   "source": []
  },
  {
   "cell_type": "code",
   "execution_count": null,
   "id": "a1d946b0",
   "metadata": {},
   "outputs": [],
   "source": []
  },
  {
   "cell_type": "code",
   "execution_count": null,
   "id": "877f7a7b",
   "metadata": {},
   "outputs": [],
   "source": []
  }
 ],
 "metadata": {
  "kernelspec": {
   "display_name": ".venv",
   "language": "python",
   "name": "python3"
  },
  "language_info": {
   "codemirror_mode": {
    "name": "ipython",
    "version": 3
   },
   "file_extension": ".py",
   "mimetype": "text/x-python",
   "name": "python",
   "nbconvert_exporter": "python",
   "pygments_lexer": "ipython3",
   "version": "3.12.10"
  }
 },
 "nbformat": 4,
 "nbformat_minor": 5
}
