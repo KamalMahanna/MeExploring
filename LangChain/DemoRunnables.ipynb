{
 "cells": [
  {
   "cell_type": "code",
   "execution_count": 3,
   "id": "12a3a2d2",
   "metadata": {},
   "outputs": [],
   "source": [
    "from ollama import chat\n",
    "\n",
    "class DemoLLM:\n",
    "    def __init__(self, model_name:str =\"gemma3:1b\"):\n",
    "        self.model_name = model_name\n",
    "        self.llm_chat = chat\n",
    "        \n",
    "    def response(self, prompt:str) :\n",
    "        self.user_prompt = prompt\n",
    "        self.llm_response = self.llm_chat(model= self.model_name, \n",
    "                                              messages= [\n",
    "                                                  {\"role\":\"user\", \n",
    "                                                   'content':self.user_prompt}\n",
    "                                              ])\n",
    "        self.llm_response_message = self.llm_response.message\n",
    "        \n",
    "        return self.llm_response_message"
   ]
  },
  {
   "cell_type": "code",
   "execution_count": 4,
   "id": "dde0ab7e",
   "metadata": {},
   "outputs": [],
   "source": [
    "llm= DemoLLM()"
   ]
  },
  {
   "cell_type": "code",
   "execution_count": 5,
   "id": "5c46e4ec",
   "metadata": {},
   "outputs": [
    {
     "data": {
      "text/plain": [
       "Message(role='assistant', content='Hi there! I’m Gemma, a large language model created by the Gemma team at Google DeepMind. I’m an open-weights model, which means I’m publicly available for use! \\n\\nI can take text and images as input and provide text as output. \\n\\nBasically, I’m here to help you with all sorts of text-based tasks. 😊 \\n\\nDo you have any questions you’d like me to answer?', images=None, tool_calls=None)"
      ]
     },
     "execution_count": 5,
     "metadata": {},
     "output_type": "execute_result"
    }
   ],
   "source": [
    "llm_response = llm.response(\"who are you\")\n",
    "llm_response"
   ]
  },
  {
   "cell_type": "code",
   "execution_count": 6,
   "id": "1df8ecdb",
   "metadata": {},
   "outputs": [
    {
     "data": {
      "text/plain": [
       "'Hi there! I’m Gemma, a large language model created by the Gemma team at Google DeepMind. I’m an open-weights model, which means I’m publicly available for use! \\n\\nI can take text and images as input and provide text as output. \\n\\nBasically, I’m here to help you with all sorts of text-based tasks. 😊 \\n\\nDo you have any questions you’d like me to answer?'"
      ]
     },
     "execution_count": 6,
     "metadata": {},
     "output_type": "execute_result"
    }
   ],
   "source": [
    "llm_response.content"
   ]
  },
  {
   "cell_type": "markdown",
   "id": "083a3ed0",
   "metadata": {},
   "source": [
    "### for demo prompt"
   ]
  },
  {
   "cell_type": "code",
   "execution_count": 7,
   "id": "d9e13a7d",
   "metadata": {},
   "outputs": [],
   "source": [
    "import string\n",
    "\n",
    "class DemoPromptTemplate:\n",
    "    \n",
    "    def __init__(self, prompt:str, input_variables: list[str]) -> None:\n",
    "        self.prompt = prompt\n",
    "        self.user_input_variables = input_variables\n",
    "        self.valid_input_variables: list[str] = [var[1] for var in string.Formatter().parse(self.prompt) if isinstance(var[1], str)]\n",
    "        \n",
    "        if sorted(self.user_input_variables) != sorted(self.valid_input_variables):\n",
    "            raise ValueError(\"prompt variables does not match with input variables\")\n",
    "        \n",
    "    def format(self, variables_dict: dict[str, str]) -> str:\n",
    "        self.variables_dict = variables_dict\n",
    "        \n",
    "        self.formatted_prompt = self.prompt.format(**self.variables_dict)\n",
    "        return self.formatted_prompt\n",
    "            \n"
   ]
  },
  {
   "cell_type": "code",
   "execution_count": 8,
   "id": "2fbc4e6c",
   "metadata": {},
   "outputs": [
    {
     "data": {
      "text/plain": [
       "'you are an expert in sql'"
      ]
     },
     "execution_count": 8,
     "metadata": {},
     "output_type": "execute_result"
    }
   ],
   "source": [
    "prompt = DemoPromptTemplate(\"you are an expert in {field}\",\n",
    "                            ['field'])\n",
    "prompt.format({'field':'sql'})"
   ]
  },
  {
   "cell_type": "markdown",
   "id": "3fb1565f",
   "metadata": {},
   "source": [
    "### for String Parser"
   ]
  },
  {
   "cell_type": "code",
   "execution_count": 9,
   "id": "d13b38bd",
   "metadata": {},
   "outputs": [
    {
     "data": {
      "text/plain": [
       "dict_keys(['role', 'content', 'images', 'tool_calls'])"
      ]
     },
     "execution_count": 9,
     "metadata": {},
     "output_type": "execute_result"
    }
   ],
   "source": [
    "llm_response.model_dump().keys()"
   ]
  },
  {
   "cell_type": "code",
   "execution_count": 10,
   "id": "4543cc7c",
   "metadata": {},
   "outputs": [],
   "source": [
    "class DemoStrParser:\n",
    "    def __init__(self) -> None:\n",
    "        pass\n",
    "    \n",
    "    def parse(self,llm_message ) -> str:\n",
    "        self.llm_message = llm_message\n",
    "        \n",
    "        return self.llm_message.content\n",
    "        "
   ]
  },
  {
   "cell_type": "code",
   "execution_count": 11,
   "id": "319f170e",
   "metadata": {},
   "outputs": [
    {
     "data": {
      "text/plain": [
       "'Hi there! I’m Gemma, a large language model created by the Gemma team at Google DeepMind. I’m an open-weights model, which means I’m publicly available for use! \\n\\nI can take text and images as input and provide text as output. \\n\\nBasically, I’m here to help you with all sorts of text-based tasks. 😊 \\n\\nDo you have any questions you’d like me to answer?'"
      ]
     },
     "execution_count": 11,
     "metadata": {},
     "output_type": "execute_result"
    }
   ],
   "source": [
    "parser = DemoStrParser()\n",
    "parser.parse(llm_response)"
   ]
  },
  {
   "cell_type": "code",
   "execution_count": null,
   "id": "c530c1fe",
   "metadata": {},
   "outputs": [],
   "source": []
  }
 ],
 "metadata": {
  "kernelspec": {
   "display_name": "base",
   "language": "python",
   "name": "python3"
  },
  "language_info": {
   "codemirror_mode": {
    "name": "ipython",
    "version": 3
   },
   "file_extension": ".py",
   "mimetype": "text/x-python",
   "name": "python",
   "nbconvert_exporter": "python",
   "pygments_lexer": "ipython3",
   "version": "3.13.2"
  }
 },
 "nbformat": 4,
 "nbformat_minor": 5
}
