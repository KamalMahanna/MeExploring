{
 "cells": [
  {
   "cell_type": "markdown",
   "id": "7a66e7f3",
   "metadata": {},
   "source": [
    "### 1. RunnableSequence"
   ]
  },
  {
   "cell_type": "markdown",
   "id": "1af730ec",
   "metadata": {},
   "source": [
    "executes in swquesnce. output of the first sequence will pass to the input of next sequence and so on"
   ]
  },
  {
   "cell_type": "code",
   "execution_count": 1,
   "id": "cc51a1db",
   "metadata": {},
   "outputs": [
    {
     "data": {
      "text/plain": [
       "True"
      ]
     },
     "execution_count": 1,
     "metadata": {},
     "output_type": "execute_result"
    }
   ],
   "source": [
    "from langchain_google_genai import GoogleGenerativeAI\n",
    "from langchain_core.prompts import PromptTemplate\n",
    "from langchain_core.output_parsers import StrOutputParser\n",
    "from langchain.schema.runnable import RunnableSequence\n",
    "\n",
    "from dotenv import load_dotenv\n",
    "load_dotenv() "
   ]
  },
  {
   "cell_type": "code",
   "execution_count": 2,
   "id": "081fd51c",
   "metadata": {},
   "outputs": [],
   "source": [
    "model = GoogleGenerativeAI(model=\"gemini-2.5-flash-preview-04-17\")\n",
    "parser = StrOutputParser()\n",
    "\n",
    "prompt = PromptTemplate(template= \"write a riddle about {topic}\",\n",
    "                        input_variables=['topic'])"
   ]
  },
  {
   "cell_type": "code",
   "execution_count": 3,
   "id": "7cc31416",
   "metadata": {},
   "outputs": [
    {
     "data": {
      "text/plain": [
       "\"I speak a language, clear and neat,\\nWhere spaces make my structure complete.\\nI wear many hats, from web to AI,\\nAnd help automate tasks, reaching high.\\n\\nThough named for a creature that slithers on land,\\nI'm a tool for developers, close at hand.\\nI'm often the first for those who begin,\\nWith a rich set of tools, I help you win.\\n\\nWhat am I?\\n\\\\\\n... Python\""
      ]
     },
     "execution_count": 3,
     "metadata": {},
     "output_type": "execute_result"
    }
   ],
   "source": [
    "runnable = RunnableSequence(prompt, model, parser)\n",
    "runnable.invoke({'topic':'python'})"
   ]
  },
  {
   "cell_type": "code",
   "execution_count": 4,
   "id": "f19ec1c0",
   "metadata": {},
   "outputs": [],
   "source": [
    "prompt2 = PromptTemplate(template=\"can you solve the following riddle. \\n {riddle}\",\n",
    "                         input_variables=['riddle'])"
   ]
  },
  {
   "cell_type": "code",
   "execution_count": 5,
   "id": "7a381833",
   "metadata": {},
   "outputs": [
    {
     "data": {
      "text/plain": [
       "'You are absolutely right!\\n\\nThe answer to the riddle is indeed **Math**.\\n\\nAll the clues point to it: speaking in numbers, offering problems with multiple solution paths, dealing with patterns and logic, being used in engineering and astronomy, and existing as an abstract concept.\\n\\nWell done!'"
      ]
     },
     "execution_count": 5,
     "metadata": {},
     "output_type": "execute_result"
    }
   ],
   "source": [
    "runnable = RunnableSequence(prompt, model, parser, prompt2, model, parser)\n",
    "runnable.invoke({'topic':'math'})"
   ]
  },
  {
   "cell_type": "markdown",
   "id": "b8692abd",
   "metadata": {},
   "source": [
    "### 2. RunnableParallel"
   ]
  },
  {
   "cell_type": "markdown",
   "id": "9257b91a",
   "metadata": {},
   "source": [
    "to execute each runnables parallely.\n",
    "\n",
    "each runnable will get same input,\n",
    "returns a dict of outputs"
   ]
  },
  {
   "cell_type": "code",
   "execution_count": 6,
   "id": "edc14d78",
   "metadata": {},
   "outputs": [
    {
     "data": {
      "text/plain": [
       "{'linkedin_post': \"Okay, here are a few options for a LinkedIn post about AI, ranging in tone and focus. Choose the one that best fits your perspective!\\n\\n**Option 1 (Focus: Impact & Opportunity)**\\n\\nSubject: The AI Wave: Navigating the Present and Shaping the Future\\n\\nAI isn't just the future; it's the present. And it's accelerating faster than many predicted.\\n\\nFrom automating routine tasks and boosting productivity to unlocking new insights and driving innovation, Artificial Intelligence is fundamentally reshaping industries and roles.\\n\\nFor professionals, understanding and engaging with AI isn't just about staying current – it's about identifying new opportunities, enhancing capabilities, and preparing for the evolving landscape of work.\\n\\nWhile it brings crucial conversations around ethics, job evolution, and responsible development, the potential for positive impact across business, healthcare, education, and beyond is immense.\\n\\nHow is AI impacting *your* role or industry? What opportunities or challenges are you seeing firsthand? Let's discuss! 👇\\n\\n#AI #ArtificialIntelligence #Innovation #Technology #FutureOfWork #DigitalTransformation #Automation #Business #LinkedIn\\n\\n---\\n\\n**Option 2 (Focus: Learning & Adaptation)**\\n\\nSubject: Staying Ahead in the Age of AI\\n\\nThe pace of AI development is breathtaking. It feels like new capabilities and tools are emerging every week.\\n\\nIt's easy to feel overwhelmed, but the key isn't necessarily becoming an AI *expert* overnight. It's about becoming AI-*literate*.\\n\\nUnderstanding its potential, its limitations, and critically, how it can be applied ethically and effectively in your domain is becoming increasingly vital.\\n\\nWhether you're in marketing, finance, HR, engineering, or creative fields, AI is a tool waiting to be leveraged to solve problems and unlock new levels of efficiency and creativity.\\n\\nWhat steps are you taking to learn about or incorporate AI into your work or team processes? Share your insights!\\n\\n#AI #ArtificialIntelligence #Learning #Skills #ProfessionalDevelopment #Technology #Innovation #CareerGrowth #FutureReady\\n\\n---\\n\\n**Option 3 (Short & Punchy)**\\n\\nSubject: AI is Here. Are You Ready?\\n\\nAI is no longer just a concept – it's a powerful force transforming how we work, create, and innovate.\\n\\nIt's impacting every sector, from boosting efficiency to enabling breakthroughs previously unimaginable.\\n\\nEmbracing AI means embracing a future of enhanced possibilities. It's time to lean in, learn, and explore how this incredible technology can drive progress responsibly.\\n\\nWhat's one application of AI that excites or concerns you the most right now?\\n\\n#AI #ArtificialIntelligence #Tech #Innovation #BusinessTransformation #FutureOfWork #Progress\\n\\n---\\n\\n**Remember to:**\\n\\n*   **Add an image or video:** Posts with visuals get more engagement. Consider a relevant graphic, a photo of you if discussing personal experience, or a short video.\\n*   **Engage with comments:** Respond to people who interact with your post.\\n*   **Tag relevant connections (optional):** If you're referencing someone or want to draw specific people into the conversation.\\n\\nChoose the option you like best, or mix and match elements! Good luck!\",\n",
       " 'tweet': \"Here are a few options for a Twitter post about AI, pick the one that best fits your vibe!\\n\\n**Option 1 (Excited & Forward-Looking):**\\n\\nThe pace of AI innovation is absolutely mind-blowing! 🤯 From generating art to writing code, it feels like we're witnessing a fundamental shift.\\n\\nWhat application of AI are *you* most excited (or concerned) about? 👇\\n\\n#AI #ArtificialIntelligence #Tech #Innovation #Future\\n\\n**Option 2 (Simple & Thought-Provoking):**\\n\\nAI is no longer just science fiction. It's shaping our present and future in incredible ways. What are your thoughts on its impact so far?\\n\\n#AI #FutureOfTech #DigitalTransformation\\n\\n**Option 3 (Focus on Tools/Use):**\\n\\nPlaying around with some amazing AI tools lately. It's incredible how they can boost creativity and productivity! 🚀\\n\\nWhat's your favorite AI tool right now?\\n\\n#AItools #Productivity #Innovation #Tech\\n\\n**Option 4 (Slightly Cautious/Questioning):**\\n\\nAI advancements are stunning, but they also bring up important questions about ethics, jobs, and the future of humanity. 🤔 How do we navigate this rapid change responsibly?\\n\\n#AIethics #FutureofWork #Technology #Discussion\\n\\nChoose the one you like best, or mix and match elements!\"}"
      ]
     },
     "execution_count": 6,
     "metadata": {},
     "output_type": "execute_result"
    }
   ],
   "source": [
    "from langchain.schema.runnable import RunnableParallel\n",
    "\n",
    "prompt1 = PromptTemplate(\n",
    "    template=\"generate a linkedin post about {topic}\",\n",
    "    input_variables=['topic']\n",
    ")\n",
    "prompt2 = PromptTemplate(\n",
    "    template=\"generate a twitter post about {topic}\",\n",
    "    input_variables=['topic']\n",
    ")\n",
    "\n",
    "runnable = RunnableParallel(\n",
    "    {\n",
    "        \"linkedin_post\": RunnableSequence(prompt1, model, parser),\n",
    "        \"tweet\": RunnableSequence(prompt2, model, parser)\n",
    "        }\n",
    ")\n",
    "runnable.invoke({'topic':\"AI\"})"
   ]
  },
  {
   "cell_type": "code",
   "execution_count": null,
   "metadata": {},
   "outputs": [],
   "source": []
  },
  {
   "cell_type": "markdown",
   "id": "ca0eb716",
   "metadata": {},
   "source": [
    "### 3. RunnablePassthrough"
   ]
  },
  {
   "cell_type": "markdown",
   "id": "7ef84331",
   "metadata": {},
   "source": [
    "it return the input as it is as output"
   ]
  },
  {
   "cell_type": "code",
   "execution_count": 7,
   "metadata": {},
   "outputs": [
    {
     "data": {
      "text/plain": [
       "2"
      ]
     },
     "execution_count": 7,
     "metadata": {},
     "output_type": "execute_result"
    }
   ],
   "source": [
    "from langchain.schema.runnable import RunnablePassthrough\n",
    "\n",
    "RunnablePassthrough().invoke(2)"
   ]
  },
  {
   "cell_type": "code",
   "execution_count": 8,
   "metadata": {},
   "outputs": [],
   "source": [
    "prompt1 = PromptTemplate(template=\"tell me a joke about {topic}\",\n",
    "                         input_variables=['topic'])\n",
    "\n",
    "prompt2 = PromptTemplate(template=\"explain me the joke below \\n {topic}\",\n",
    "                         input_variables=['topic'])"
   ]
  },
  {
   "cell_type": "code",
   "execution_count": 9,
   "id": "1347fa9b",
   "metadata": {},
   "outputs": [
    {
     "data": {
      "text/plain": [
       "{'the_joke': \"Okay, here's a riddle about AI:\\n\\nI have no body, yet I learn and grow.\\nI have no voice, but I can speak and write.\\nI see patterns in data, though I have no sight.\\nI am made of code, living in the digital light.\\nI get smarter the more I'm taught.\\n\\nWhat am I?\\n\\\\\\n... Artificial Intelligence (AI)\",\n",
       " 'explanation': 'Okay, here is another riddle about AI:\\n\\nI have no body, but I can learn and decide.\\nI process information, with nowhere to hide.\\nI speak without a mouth, and write without a hand.\\nI live in the cloud, across the land.\\nI find patterns in data, vast and grand.\\n\\nWhat am I?\\n\\\\\\n... Artificial Intelligence (AI)'}"
      ]
     },
     "execution_count": 9,
     "metadata": {},
     "output_type": "execute_result"
    }
   ],
   "source": [
    "runnable_sequence = RunnableSequence(prompt, model, parser)\n",
    "\n",
    "runnable_parallel = RunnableParallel({'the_joke': RunnablePassthrough(),\n",
    "                                      'explanation': RunnableSequence(prompt, model, parser)})\n",
    "\n",
    "RunnableSequence(runnable_sequence, runnable_parallel).invoke({\"topic\":'AI'})"
   ]
  },
  {
   "cell_type": "code",
   "execution_count": null,
   "id": "37bc92fe",
   "metadata": {},
   "outputs": [],
   "source": []
  },
  {
   "cell_type": "markdown",
   "id": "c1dddc42",
   "metadata": {},
   "source": [
    "### 4. RunnableLambda"
   ]
  },
  {
   "cell_type": "markdown",
   "id": "d0875037",
   "metadata": {},
   "source": [
    "it allows custom python script into runnables"
   ]
  },
  {
   "cell_type": "code",
   "execution_count": 68,
   "id": "7c5fb7fb",
   "metadata": {},
   "outputs": [
    {
     "name": "stdout",
     "output_type": "stream",
     "text": [
      "Prime numbers between 1 and 100 are:\n",
      "2\n",
      "3\n",
      "5\n",
      "7\n",
      "11\n",
      "13\n",
      "17\n",
      "19\n",
      "23\n",
      "29\n",
      "31\n",
      "37\n",
      "41\n",
      "43\n",
      "47\n",
      "53\n",
      "59\n",
      "61\n",
      "67\n",
      "71\n",
      "73\n",
      "79\n",
      "83\n",
      "89\n",
      "97\n"
     ]
    },
    {
     "data": {
      "text/plain": [
       "{'the_code': 'Okay, here is the full Python code to find and print prime numbers between 1 and 100.\\n\\nThis code includes a helper function `is_prime()` to check if a single number is prime, and then it loops through the range 1 to 100, calling the helper function for each number.\\n\\n```python\\n# Function to check if a number is prime\\ndef is_prime(num):\\n    \"\"\"\\n    Checks if a number is prime.\\n\\n    Args:\\n        num: The integer to check.\\n\\n    Returns:\\n        True if the number is prime, False otherwise.\\n    \"\"\"\\n    # Prime numbers must be greater than 1\\n    if num <= 1:\\n        return False\\n    # 2 is the only even prime number\\n    if num == 2:\\n        return True\\n    # All other even numbers are not prime\\n    if num % 2 == 0:\\n        return False\\n    # Check for odd divisors from 3 up to the square root of the number\\n    # We only need to check up to the square root because if a number has\\n    # a divisor greater than its square root, it must also have one\\n    # smaller than its square root. We can step by 2 since we already\\n    # handled even numbers.\\n    i = 3\\n    # Using i*i <= num is equivalent to i <= sqrt(num) but avoids importing math\\n    while i * i <= num:\\n        if num % i == 0:\\n            return False  # Found a divisor, so it\\'s not prime\\n        i += 2\\n    # If no divisors were found, the number is prime\\n    return True\\n\\n# Iterate through numbers from 1 to 100 and print the primes\\nprint(\"Prime numbers between 1 and 100 are:\")\\nfor number in range(1, 101):\\n    if is_prime(number):\\n        print(number)\\n\\n```\\n\\n**Explanation:**\\n\\n1.  **`is_prime(num)` function:**\\n    *   Takes an integer `num` as input.\\n    *   **`if num <= 1:`**: Numbers less than or equal to 1 are not prime by definition.\\n    *   **`if num == 2:`**: 2 is the smallest and only even prime number.\\n    *   **`if num % 2 == 0:`**: After handling 2, any other even number is divisible by 2 and therefore not prime.\\n    *   **`i = 3; while i * i <= num:`**: This is the core loop for checking divisibility.\\n        *   We start checking potential divisors from 3.\\n        *   We only need to check up to the square root of `num`. The condition `i * i <= num` is an efficient way to do this without calculating the square root directly.\\n        *   **`if num % i == 0:`**: If `num` is divisible by `i` (meaning the remainder is 0), then `num` has a divisor other than 1 and itself, so it\\'s not prime. We return `False`.\\n        *   **`i += 2`**: Since we\\'ve already ruled out even numbers, we only need to check odd potential divisors, so we increment `i` by 2 in each step (3, 5, 7, 9, ...).\\n    *   **`return True`**: If the loop finishes without finding any divisors, it means the number is prime.\\n\\n2.  **Main Loop:**\\n    *   **`for number in range(1, 101):`**: This loop iterates through integers starting from 1 up to (but not including) 101, effectively covering the range 1 to 100.\\n    *   **`if is_prime(number):`**: For each `number` in the range, it calls the `is_prime()` function.\\n    *   **`print(number)`**: If `is_prime()` returns `True`, the number is printed.',\n",
       " 'result': 'Code executed successfully'}"
      ]
     },
     "execution_count": 68,
     "metadata": {},
     "output_type": "execute_result"
    }
   ],
   "source": [
    "from langchain.schema.runnable import RunnableLambda\n",
    "import re\n",
    "\n",
    "\n",
    "def extract_python_code_and_execute(texts):\n",
    "    python_codes = re.findall(r'```python(.*)```',texts, re.DOTALL)\n",
    "    \n",
    "    if python_codes:\n",
    "        combined_python_code = \"\\n\".join(python_codes)\n",
    "        \n",
    "        exec(combined_python_code)\n",
    "        return \"Code executed successfully\"\n",
    "    else:\n",
    "        return \"No Python code found\"\n",
    "\n",
    "\n",
    "prompt1 = PromptTemplate(template=\"\"\"Give me a full python code to {question}\"\"\",\n",
    "                         input_variables=['question'])\n",
    "\n",
    "runnable1 = RunnableParallel({\n",
    "    'the_code': RunnablePassthrough(),\n",
    "    'result' : RunnableLambda(extract_python_code_and_execute)\n",
    "})\n",
    "\n",
    "runnable2 = RunnableSequence(prompt1,model,parser,runnable1)\n",
    "\n",
    "runnable2.invoke({\"question\":'print prime numbers between 1 till 100'})"
   ]
  },
  {
   "cell_type": "code",
   "execution_count": null,
   "id": "0cb04567",
   "metadata": {},
   "outputs": [],
   "source": []
  },
  {
   "cell_type": "markdown",
   "id": "ed4a5ddf",
   "metadata": {},
   "source": [
    "### RunnableBranch"
   ]
  },
  {
   "cell_type": "markdown",
   "id": "e9ef70c0",
   "metadata": {},
   "source": [
    "conditional logic"
   ]
  },
  {
   "cell_type": "code",
   "execution_count": 69,
   "id": "ef758f52",
   "metadata": {},
   "outputs": [],
   "source": [
    "from langchain.schema.runnable import RunnableBranch"
   ]
  },
  {
   "cell_type": "code",
   "execution_count": 70,
   "id": "fbef5feb",
   "metadata": {},
   "outputs": [
    {
     "data": {
      "text/plain": [
       "'Artificial Intelligence (AI) is a field dedicated to creating systems that perform tasks typically requiring human intelligence, such as learning, reasoning, and perception. It encompasses various types like Narrow AI and leverages key technologies including Machine Learning, Deep Learning, and Natural Language Processing. AI is being applied across almost all sectors, driving innovation and efficiency in areas from healthcare to finance. However, its development also poses significant ethical, social, and safety challenges that require careful consideration alongside its rapid evolution and future potential.'"
      ]
     },
     "execution_count": 70,
     "metadata": {},
     "output_type": "execute_result"
    }
   ],
   "source": [
    "prompt1 = PromptTemplate(template=\"Give me report about {topic}\",\n",
    "                         input_variables=['topic'])\n",
    "\n",
    "prompt2 = PromptTemplate(template=\"can you summarize below topic in 4 sentences. \\n {topic}\", \n",
    "                         input_variables=['topic'])\n",
    "cond_runnable = RunnableBranch(\n",
    "    ##  (condition1, runnable)\n",
    "    (lambda x: len(x.split())>150, RunnableSequence(prompt2, model, parser) ),\n",
    "    RunnablePassthrough()\n",
    "    )\n",
    "\n",
    "\n",
    "RunnableSequence(prompt1, model, parser, cond_runnable).invoke({\"topic\":\"AI\"})"
   ]
  },
  {
   "cell_type": "markdown",
   "id": "9e05c33d",
   "metadata": {},
   "source": [
    "## LCEL \n",
    "\n",
    "RunnableSequence(r1, r2, r3)  ---->    r1 | r2 | r3"
   ]
  },
  {
   "cell_type": "code",
   "execution_count": null,
   "id": "0f8062e4",
   "metadata": {},
   "outputs": [],
   "source": []
  },
  {
   "cell_type": "code",
   "execution_count": null,
   "id": "4cc35b62",
   "metadata": {},
   "outputs": [],
   "source": []
  },
  {
   "cell_type": "code",
   "execution_count": null,
   "id": "4522e519",
   "metadata": {},
   "outputs": [],
   "source": []
  }
 ],
 "metadata": {
  "kernelspec": {
   "display_name": "base",
   "language": "python",
   "name": "python3"
  },
  "language_info": {
   "codemirror_mode": {
    "name": "ipython",
    "version": 3
   },
   "file_extension": ".py",
   "mimetype": "text/x-python",
   "name": "python",
   "nbconvert_exporter": "python",
   "pygments_lexer": "ipython3",
   "version": "3.13.2"
  }
 },
 "nbformat": 4,
 "nbformat_minor": 5
}
