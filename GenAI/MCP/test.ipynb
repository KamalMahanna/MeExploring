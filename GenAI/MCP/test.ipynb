{
 "cells": [
  {
   "cell_type": "code",
   "execution_count": 1,
   "id": "20717a1a",
   "metadata": {},
   "outputs": [
    {
     "data": {
      "text/plain": [
       "True"
      ]
     },
     "execution_count": 1,
     "metadata": {},
     "output_type": "execute_result"
    }
   ],
   "source": [
    "import requests\n",
    "from dotenv import load_dotenv\n",
    "import os\n",
    "load_dotenv()"
   ]
  },
  {
   "cell_type": "code",
   "execution_count": 4,
   "id": "09f63252",
   "metadata": {},
   "outputs": [],
   "source": [
    "response_text = requests.get(f\"https://api.weatherapi.com/v1/current.json?q=Paris&key={os.getenv('WEATHER_API_KEY')}\")"
   ]
  },
  {
   "cell_type": "code",
   "execution_count": 8,
   "id": "181c3626",
   "metadata": {},
   "outputs": [
    {
     "data": {
      "text/plain": [
       "{'location': {'name': 'Paris',\n",
       "  'region': 'Ile-de-France',\n",
       "  'country': 'France',\n",
       "  'lat': 48.8667,\n",
       "  'lon': 2.3333,\n",
       "  'tz_id': 'Europe/Paris',\n",
       "  'localtime_epoch': 1750691538,\n",
       "  'localtime': '2025-06-23 17:12'},\n",
       " 'current': {'last_updated_epoch': 1750690800,\n",
       "  'last_updated': '2025-06-23 17:00',\n",
       "  'temp_c': 26.2,\n",
       "  'temp_f': 79.2,\n",
       "  'is_day': 1,\n",
       "  'condition': {'text': 'Partly cloudy',\n",
       "   'icon': '//cdn.weatherapi.com/weather/64x64/day/116.png',\n",
       "   'code': 1003},\n",
       "  'wind_mph': 9.8,\n",
       "  'wind_kph': 15.8,\n",
       "  'wind_degree': 282,\n",
       "  'wind_dir': 'WNW',\n",
       "  'pressure_mb': 1017.0,\n",
       "  'pressure_in': 30.03,\n",
       "  'precip_mm': 0.0,\n",
       "  'precip_in': 0.0,\n",
       "  'humidity': 45,\n",
       "  'cloud': 75,\n",
       "  'feelslike_c': 26.0,\n",
       "  'feelslike_f': 78.8,\n",
       "  'windchill_c': 26.0,\n",
       "  'windchill_f': 78.8,\n",
       "  'heatindex_c': 25.9,\n",
       "  'heatindex_f': 78.6,\n",
       "  'dewpoint_c': 10.2,\n",
       "  'dewpoint_f': 50.3,\n",
       "  'vis_km': 10.0,\n",
       "  'vis_miles': 6.0,\n",
       "  'uv': 4.4,\n",
       "  'gust_mph': 11.3,\n",
       "  'gust_kph': 18.2}}"
      ]
     },
     "execution_count": 8,
     "metadata": {},
     "output_type": "execute_result"
    }
   ],
   "source": [
    "response_text.json()"
   ]
  },
  {
   "cell_type": "code",
   "execution_count": null,
   "id": "894c9679",
   "metadata": {},
   "outputs": [],
   "source": []
  }
 ],
 "metadata": {
  "kernelspec": {
   "display_name": "base",
   "language": "python",
   "name": "python3"
  },
  "language_info": {
   "codemirror_mode": {
    "name": "ipython",
    "version": 3
   },
   "file_extension": ".py",
   "mimetype": "text/x-python",
   "name": "python",
   "nbconvert_exporter": "python",
   "pygments_lexer": "ipython3",
   "version": "3.13.2"
  }
 },
 "nbformat": 4,
 "nbformat_minor": 5
}
