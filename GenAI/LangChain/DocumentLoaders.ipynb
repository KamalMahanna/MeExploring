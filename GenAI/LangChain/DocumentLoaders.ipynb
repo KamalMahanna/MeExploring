{
 "cells": [
  {
   "cell_type": "markdown",
   "id": "ad1af982",
   "metadata": {},
   "source": [
    "### Text Loaders\n",
    "\n",
    "\n",
    "extract texts from documents\n",
    "\n",
    "will return list of documents. each document has a dict with page_content and its metadata"
   ]
  },
  {
   "cell_type": "code",
   "execution_count": 1,
   "id": "70e02b18",
   "metadata": {},
   "outputs": [],
   "source": [
    "from dotenv import load_dotenv\n",
    "load_dotenv() \n",
    "\n",
    "from langchain_google_genai import ChatGoogleGenerativeAI\n",
    "\n",
    "llm = ChatGoogleGenerativeAI(model=\"gemini-2.5-flash-preview-04-17\")"
   ]
  },
  {
   "cell_type": "code",
   "execution_count": null,
   "metadata": {},
   "outputs": [],
   "source": [
    "from langchain_community.document_loaders import TextLoader\n",
    "\n",
    "loader = TextLoader(\"src/article.txt\")"
   ]
  },
  {
   "cell_type": "code",
   "execution_count": 4,
   "metadata": {},
   "outputs": [],
   "source": [
    "docs=loader.load()"
   ]
  },
  {
   "cell_type": "code",
   "execution_count": 7,
   "metadata": {},
   "outputs": [
    {
     "data": {
      "text/plain": [
       "Document(metadata={'source': 'src/article.txt'}, page_content='Advertisement\\n\\n“Chidambaram ji has admitted that this ghamandiya (arrogant) alliance has no basis, no future. We have said time and again that this INDI alliance is a picnic alliance which keeps travelling from place to place seeking to hatch a conspiracy against the BJP,” BJP national spokesperson Syed Zafar Islam alleged.\\n\\n“Today, he has admitted that neither this alliance nor the Congress have any future…several wise Congress leaders have admitted that the BJP is a formidable organisation dedicated to the cause of the nation,” he added.\\n\\nAdding that India had emerged strong under the NDA regime, Islam added that it was under the watch of the BJP-led government at the Centre that terrorists had been hit at their very doorsteps. It was because of the political will exhibited by Prime Minister Narendra Modi and his decision to give a free hand to the country’s armed forces that India had been able to “enter and attack the very homes of terror”, he added.\\n\\n“But the INDI alliance has tried to do politics on this as well…if you talk about the economy, when Chidambaram ji was finance minister, our economy was the 14th in the world…after 2014 (when the BJP formed government), it is the fourth,” Islam said.\\n\\nThe INDIA bloc, he added, had realised that “it had no future” and that BJP-led NDA governments would be in power “for 50 more years”.\\n\\n“…the economy has become stronger, the country has become stronger…and this is all because of its determined leadership…the INDI alliance has only one objective: to put the (central) government and (PM) Modiji in the dock…but the people have stood by him…the INDI alliance has realised that it has no future…so has the congress,” he further said.')"
      ]
     },
     "execution_count": 7,
     "metadata": {},
     "output_type": "execute_result"
    }
   ],
   "source": [
    "docs[0]"
   ]
  },
  {
   "cell_type": "code",
   "execution_count": 10,
   "id": "36981475",
   "metadata": {},
   "outputs": [
    {
     "data": {
      "text/plain": [
       "1"
      ]
     },
     "execution_count": 10,
     "metadata": {},
     "output_type": "execute_result"
    }
   ],
   "source": [
    "len(docs)"
   ]
  },
  {
   "cell_type": "code",
   "execution_count": 8,
   "id": "e78f90b9",
   "metadata": {},
   "outputs": [
    {
     "data": {
      "text/plain": [
       "Document(metadata={'source': 'src/article.txt'}, page_content='Advertisement\\n\\n“Chidambaram ji has admitted that this ghamandiya (arrogant) alliance has no basis, no future. We have said time and again that this INDI alliance is a picnic alliance which keeps travelling from place to place seeking to hatch a conspiracy against the BJP,” BJP national spokesperson Syed Zafar Islam alleged.\\n\\n“Today, he has admitted that neither this alliance nor the Congress have any future…several wise Congress leaders have admitted that the BJP is a formidable organisation dedicated to the cause of the nation,” he added.\\n\\nAdding that India had emerged strong under the NDA regime, Islam added that it was under the watch of the BJP-led government at the Centre that terrorists had been hit at their very doorsteps. It was because of the political will exhibited by Prime Minister Narendra Modi and his decision to give a free hand to the country’s armed forces that India had been able to “enter and attack the very homes of terror”, he added.\\n\\n“But the INDI alliance has tried to do politics on this as well…if you talk about the economy, when Chidambaram ji was finance minister, our economy was the 14th in the world…after 2014 (when the BJP formed government), it is the fourth,” Islam said.\\n\\nThe INDIA bloc, he added, had realised that “it had no future” and that BJP-led NDA governments would be in power “for 50 more years”.\\n\\n“…the economy has become stronger, the country has become stronger…and this is all because of its determined leadership…the INDI alliance has only one objective: to put the (central) government and (PM) Modiji in the dock…but the people have stood by him…the INDI alliance has realised that it has no future…so has the congress,” he further said.')"
      ]
     },
     "execution_count": 8,
     "metadata": {},
     "output_type": "execute_result"
    }
   ],
   "source": [
    "docs[0]\n"
   ]
  },
  {
   "cell_type": "code",
   "execution_count": 12,
   "metadata": {},
   "outputs": [
    {
     "data": {
      "text/plain": [
       "langchain_core.documents.base.Document"
      ]
     },
     "execution_count": 12,
     "metadata": {},
     "output_type": "execute_result"
    }
   ],
   "source": [
    "type(docs[0])"
   ]
  },
  {
   "cell_type": "code",
   "execution_count": 14,
   "id": "7b25f163",
   "metadata": {},
   "outputs": [
    {
     "data": {
      "text/plain": [
       "{'id': None,\n",
       " 'metadata': {'source': 'src/article.txt'},\n",
       " 'page_content': 'Advertisement\\n\\n“Chidambaram ji has admitted that this ghamandiya (arrogant) alliance has no basis, no future. We have said time and again that this INDI alliance is a picnic alliance which keeps travelling from place to place seeking to hatch a conspiracy against the BJP,” BJP national spokesperson Syed Zafar Islam alleged.\\n\\n“Today, he has admitted that neither this alliance nor the Congress have any future…several wise Congress leaders have admitted that the BJP is a formidable organisation dedicated to the cause of the nation,” he added.\\n\\nAdding that India had emerged strong under the NDA regime, Islam added that it was under the watch of the BJP-led government at the Centre that terrorists had been hit at their very doorsteps. It was because of the political will exhibited by Prime Minister Narendra Modi and his decision to give a free hand to the country’s armed forces that India had been able to “enter and attack the very homes of terror”, he added.\\n\\n“But the INDI alliance has tried to do politics on this as well…if you talk about the economy, when Chidambaram ji was finance minister, our economy was the 14th in the world…after 2014 (when the BJP formed government), it is the fourth,” Islam said.\\n\\nThe INDIA bloc, he added, had realised that “it had no future” and that BJP-led NDA governments would be in power “for 50 more years”.\\n\\n“…the economy has become stronger, the country has become stronger…and this is all because of its determined leadership…the INDI alliance has only one objective: to put the (central) government and (PM) Modiji in the dock…but the people have stood by him…the INDI alliance has realised that it has no future…so has the congress,” he further said.',\n",
       " 'type': 'Document'}"
      ]
     },
     "execution_count": 14,
     "metadata": {},
     "output_type": "execute_result"
    }
   ],
   "source": [
    "docs[0].model_dump()"
   ]
  },
  {
   "cell_type": "code",
   "execution_count": null,
   "metadata": {},
   "outputs": [],
   "source": []
  },
  {
   "cell_type": "markdown",
   "id": "69ef9527",
   "metadata": {},
   "source": [
    "### PDF Loaders"
   ]
  },
  {
   "cell_type": "markdown",
   "id": "052e5fc1",
   "metadata": {},
   "source": [
    "for each page it will make a document"
   ]
  },
  {
   "cell_type": "code",
   "execution_count": 16,
   "metadata": {},
   "outputs": [],
   "source": [
    "from langchain_community.document_loaders import PyPDFLoader\n",
    "\n",
    "loader = PyPDFLoader(\"src/temp.pdf\")\n",
    "docs = loader.load()\n"
   ]
  },
  {
   "cell_type": "code",
   "execution_count": 17,
   "metadata": {},
   "outputs": [
    {
     "data": {
      "text/plain": [
       "[Document(metadata={'producer': 'ReportLab PDF Library - www.reportlab.com', 'creator': '(unspecified)', 'creationdate': '2025-05-18T08:50:17+05:00', 'author': '(anonymous)', 'keywords': '', 'moddate': '2025-05-18T08:50:17+05:00', 'subject': '(unspecified)', 'title': '(anonymous)', 'trapped': '/False', 'source': 'src/temp.pdf', 'total_pages': 1, 'page': 0, 'page_label': '1'}, page_content='Incidents of LWE-led violence down from 1,936 to\\n 374 in 15 years: Centre\\nWhile the incidents of violence by LWE saw a reduction of 81 per cent,\\n“the total number of deaths, including civilians and security forces, has\\n also reduced by 85 per cent — from 1005 deaths in 2010 to 150 in\\n 2024,” a government press release said.\\nThe Centre said incidents of violence by Left Wing Extremism (LWE) have reduced to 374 in 2024\\nfrom its highest level of 1936 in 2010, on Saturday.\\nWhile the incidents of violence by LWE saw a reduction of 81 per cent, “the total number of deaths,\\nincluding civilians and security forces, has also reduced by 85 per cent — from 1005 deaths in 2010\\nto 150 in 2024,” a government press release said.\\nPrime Minister Narendra Modi said, “It is true that Maoist violence had stalled the progress of many\\ndistricts in Central and eastern India. That is why in 2015, our government formulated a\\ncomprehensive ‘National Policy and Action Plan’ to eradicate Maoist violence.”\\n“Along with zero tolerance towards violence, we have also focused on a massive push toward\\ninfrastructure and social empowerment to bring a positive change in the lives of the poor people in\\nthese regions,” he said.\\nThe press release said, “Recently, in one of the biggest anti-Naxal operations in the country’s\\nhistory, security forces achieved a major breakthrough in the fight against LWE along the\\nChhattisgarh-Telangana border.”\\nIt said a massive operation was carried out between April 21 and May 11 2025, in the Karreguttalu\\nHill (KGH) region — a known stronghold of Naxalite groups.\\nThe number of LWE-affected districts reduced from 126 to 90 in April 2018, 70 in July 2021 and to\\n38 in April 2024.\\nThe release also said, “In the last 10 years, over 8,000 Naxalites have abandoned the path of\\nviolence, and consequently, the number of Naxal-affected districts has reduced to fewer than 20.”\\n“In recent years, India’s multidimensional counter-LWE strategy — combining security enforcement,\\ninclusive development, and community engagement — has delivered significant success,” the\\npress release said, adding that the movement has been weakened, violence has declined and\\nmany LWE-affected districts are being reintegrated into the national mainstream.\\n“The government of India is committed to completely eliminate Naxalism by March 31 2026, since\\nNaxalism is seen as the biggest obstacle in the development of remote areas and tribal villages, as\\nit prevents education, healthcare, connectivity, banking, and postal services from reaching these\\nvillages,” said the statement.')]"
      ]
     },
     "execution_count": 17,
     "metadata": {},
     "output_type": "execute_result"
    }
   ],
   "source": [
    "docs"
   ]
  },
  {
   "cell_type": "code",
   "execution_count": 18,
   "metadata": {},
   "outputs": [
    {
     "data": {
      "text/plain": [
       "1"
      ]
     },
     "execution_count": 18,
     "metadata": {},
     "output_type": "execute_result"
    }
   ],
   "source": [
    "len(docs)"
   ]
  },
  {
   "cell_type": "code",
   "execution_count": 19,
   "id": "07fcca94",
   "metadata": {},
   "outputs": [],
   "source": [
    "loader = PyPDFLoader(\"src/articles/news_10013025.pdf\")\n",
    "docs = loader.load()\n",
    "\n"
   ]
  },
  {
   "cell_type": "code",
   "execution_count": 20,
   "id": "77d0315f",
   "metadata": {},
   "outputs": [
    {
     "data": {
      "text/plain": [
       "2"
      ]
     },
     "execution_count": 20,
     "metadata": {},
     "output_type": "execute_result"
    }
   ],
   "source": [
    "len(docs)"
   ]
  },
  {
   "cell_type": "code",
   "execution_count": 22,
   "metadata": {},
   "outputs": [
    {
     "data": {
      "text/plain": [
       "{'id': None,\n",
       " 'metadata': {'producer': 'ReportLab PDF Library - www.reportlab.com',\n",
       "  'creator': '(unspecified)',\n",
       "  'creationdate': '2025-05-18T08:50:36+05:00',\n",
       "  'author': '(anonymous)',\n",
       "  'keywords': '',\n",
       "  'moddate': '2025-05-18T08:50:36+05:00',\n",
       "  'subject': '(unspecified)',\n",
       "  'title': '(anonymous)',\n",
       "  'trapped': '/False',\n",
       "  'source': 'src/articles/news_10013025.pdf',\n",
       "  'total_pages': 2,\n",
       "  'page': 0,\n",
       "  'page_label': '1'},\n",
       " 'page_content': 'Opinion Tavleen Singh writes | Urgently needed:\\n A postmortem\\n If there had been real reportage, we would at least know, now that the\\nfog of war has lifted, whether Pakistan’s military machine is as good as\\n ours and if it is, we should know why.\\nThe defining image of Operation Sindoor for me is that photograph of senior Pakistani military\\nofficers at the funeral of a dead jihadi. In the photograph, they stand behind a bearded jihadi who\\nstands beside the coffin of his dead relative. The coffin is covered in the Pakistani flag and wreaths\\nof red roses lie on it. The photograph has been viral on social media for days and the names of the\\nsenior Pakistani officers mourning the death of the Lashkar-e-Taiba terrorist have been made public\\nby our government.\\nThis photograph, which I have looked at many times, left me stunned because of the utter\\nshamelessness it depicts. Ever since the horrendous massacre in Pahalgam, there has been a\\ncollaborative campaign by Pakistan’s military and civilian rulers to convince the world that the old\\npolicy of using jihadi terrorism as a weapon of war has ended. When the Islamist Republic’s military\\nrulers are unable to convince the world of their credentials, they usually summon English-speaking,\\nattractive civilians from well-known political families to make the case for them.\\nThis time it was Bilawal Bhutto and Hina Khar (she of the Birkin bag fame) who were tasked with\\ndenying that Pakistan has anything to do any more with jihadi terrorism. Bhutto admitted that official\\nsupport for jihadist terrorism was something that happened once but in ancient history. And\\nMadame Khar made similar claims on a British TV show, while delicately fiddling with her perfectly\\ngroomed hair and lacy white dupatta. Until Barkha Dutt asked her to state clearly if she believed\\ngroups like the Lashkar-e-Taiba and Jaish-e-Mohammed were terrorist outfits. Instead of answering\\nthe question, she fled and where her face had been, there was a blank window for the rest of the\\nshow.\\nIf there is one thing that Pakistan has revealed, albeit unintentionally, is that it continues to nurture\\nevil, cowardly fanatics who lack the courage to fight real wars and choose instead to kill innocent\\npeople. This alone means that India won the war. The purpose of Operation Sindoor was to send\\nPakistan’s military rulers the message that their jihadi foot soldiers would no longer be able to\\nwander about India, killing unarmed civilians. This message was convincingly delivered with attacks\\non the headquarters of Lashkar-e-Taiba in Muridke and Jaish-e-Mohammed in Bahawalpur. And\\nsimilar messages were delivered to jihadist encampments in Pakistan-occupied Kashmir.\\nWhere India lost, as it often does, was in countering Pakistan’s narrative with a more convincing\\nnarrative of our own. So, it has been asked far too many times not just by Pakistanis, but by\\nWestern commentators, why India had not provided proof that the massacre in Pahalgam was\\nordered by Pakistan. This emboldened far too many Pakistanis to repeat, ad nauseum, that what\\nhappened in Pahalgam was a “false flag operation”. When you live in a country that has been ruled\\nby military men for most of its existence, it is easy to believe that it’s possible for an Indian Prime\\nMinister to kill his own people just to find a reason to go to war. It cannot happen in a democratic\\ncountry. Period.\\nProof of this is that every time the Indian state has been involved in a pogrom or causing communal\\nviolence, it has been exposed and vilified. The list is too long to repeat here, but three come\\nimmediately to mind. Hashimpura in 1987, Delhi in 1984 and Gujarat in 2002. Justice may not have\\nbeen fully done, but the state has been identified as the perpetrator of violence in all three cases.',\n",
       " 'type': 'Document'}"
      ]
     },
     "execution_count": 22,
     "metadata": {},
     "output_type": "execute_result"
    }
   ],
   "source": [
    "docs[0].model_dump()"
   ]
  },
  {
   "cell_type": "code",
   "execution_count": null,
   "id": "ff6369e3",
   "metadata": {},
   "outputs": [],
   "source": []
  },
  {
   "cell_type": "markdown",
   "id": "f3d045ef",
   "metadata": {},
   "source": [
    "### Directory Loader"
   ]
  },
  {
   "cell_type": "markdown",
   "id": "251aec2d",
   "metadata": {},
   "source": [
    "bulk documen load"
   ]
  },
  {
   "cell_type": "code",
   "execution_count": 27,
   "metadata": {},
   "outputs": [
    {
     "data": {
      "text/plain": [
       "46"
      ]
     },
     "execution_count": 27,
     "metadata": {},
     "output_type": "execute_result"
    }
   ],
   "source": [
    "from langchain_community.document_loaders import DirectoryLoader\n",
    "\n",
    "loader = DirectoryLoader(\"src/articles\", glob=\"*.pdf\")\n",
    "docs = loader.load()\n",
    "len(docs)"
   ]
  },
  {
   "cell_type": "code",
   "execution_count": 29,
   "metadata": {},
   "outputs": [
    {
     "data": {
      "text/plain": [
       "{'id': None,\n",
       " 'metadata': {'source': 'src/articles/news_10012148.pdf'},\n",
       " 'page_content': 'Mission Impossible – The Final Reckoning movie review: Tom Cruise’s last rodeo as Ethan Hunt makes a feeble appeal for a united world\\n\\nMission: Impossible - The Final Reckoning movie review: The film is an ode to Tom Cruise. In its numerous flashbacks to the previous M:I films, it underlines the times Ethan Hunt saved the world, and honours the people he loved and lost.\\n\\nDid someone switch a few vowels, maybe? In a film where so many are talking so much, that won’t be entirely, well, impossible. For, this eighth and last (or so they say) film in the M:I franchise could as easily have been called Mission: Impassable, given its tortuous course.\\n\\nThe Final Reckoning, of course, is the second half of what began as Part I in 2023. Five hours and 31 minutes later (making the two Final Reckonings the longest films in the franchise), you are still trying to care enough about the villain to hate it.\\n\\nAnd given that you have arguably the biggest movie star in the world on the other side, that should not be so hard. Tom Cruise is still out there giving it his all – and yes, doing his own stunts – kicking butt, dodging bullets, diving off submarines, dangling now not from one but two planes, almost dying not once but twice.\\n\\nAlso read – Mission Impossible Fallout review: The best Mission Impossible movie yet\\n\\nWriter-director Christopher McQuarrie spares no expense, taking the story from London underground to the Arctic Circle, Virginia’s Emergency Command Centre to South Africa’s Doomsday Vault, and some other stops in the middle. But, it must be asked, why exactly. The chase remains – like in Part I – of an Artificial Intelligence software gone rogue and dubbed the Entity, which is apparently trying to destroy the world (Ethan Hunt, that is Cruise, must take the President’s word for it, which is surely not a good starting point in a world where tech lies in bed with power).\\n\\nSurely, a simpler investment would be someone to write a counter code. But that would not leave Ethan much to do, would it? Particularly as the brains in that department are his two loyal sidekicks returning for the job, Luther (Rhames) and Benji (Pegg). Also returning is Grace (Atwell), whose pickpocketing skills that we saw in Part I are the best resource in a world running out of time.\\n\\nSo this time, Ethan’s mission is retrieving some sort of a device from a Russian submarine that crashed somewhere in the ocean bed sometime in 2012. When a poison pill developed by Luther is plugged into it, Entity would be poof!\\n\\nIf only someone would say poof! If it’s not complicated enough that Entity has brought the world to the brink of a nuclear disaster (a lot of nuclear talk here), lots of men and – hats off – women hold whispered, urgent conversations throughout The Final Reckoning about “counter-acoustic devices”, “primordial digital ooze”, “hyperbaric decompression chambers”, underwater pressure and what it does to a human body… etc etc. And this is even before Cruise gets to the Russian submarine.\\n\\nThe action inside that submarine, precariously balanced and one tip away from crashing, with water filling up and missiles floating about, dead bodies jumping up, and Ethan figuring out its many panels and chambers, is one of the most breathtaking sequences of The Final Reckoning. At the very least, it is something original in a franchise that seems to have run out of original ideas on what\\n\\nto put Ethan through – though Cruise still makes running that fiercely and hanging mid-air that fearlessly look easy. The M:I score barely makes an appearance, and those famous masks get barely a peeling.\\n\\nAbove all, The Final Reckoning is an ode to that Cruise, in its numerous flashbacks to the previous M:I films, underlining the times he saved the world, and just how jaw-droppingly, the sacrifices he made, the people he loved and lost.\\n\\nRead more – Mission Impossible Dead Reckoning Part One movie review: Tom Cruise delivers bang for the buck thrills\\n\\nAnd if McQuarrie, who with five films got the most out of this franchise after his lead actor, is not showing Cruise in action, he has people gushing about it. “The world would be a very different place without you, or not there at all,” is one such praise, followed by many different versions of the same. People can’t help praising Ethan even seconds away from the explosion of megatons of detonators.\\n\\nEthan is supposed to be doubting his contribution, in terms of gains versus loss, and The Final Reckoning makes a feeble appeal for a united world, not divided by nationalities, more than once. That is, till the world is brought to the brink again – and saved.\\n\\nBut hey, Cruise remains one of the best people to do that still. He just needs a better world than The Final Reckoning’s to save.\\n\\nLong time back, in M:I II, Anthony Hopkins’s character tells Ethan: “Now, it’s not Mission Difficult is it… Difficult would be a walk in the park for you.”\\n\\nSo, we’ll wait for a new mission – should Cruise choose to accept it.\\n\\nMission: Impossible – The Final Reckoning Director – Christopher McQuarrie Cast – Tom Cruise, Hayley Atwell, Simon Pegg, Ving Rhames, Esai Morales, Pom Klementieff, Angela Bassett Rating – 3/5',\n",
       " 'type': 'Document'}"
      ]
     },
     "execution_count": 29,
     "metadata": {},
     "output_type": "execute_result"
    }
   ],
   "source": [
    "docs[0].model_dump()"
   ]
  },
  {
   "cell_type": "markdown",
   "id": "1602979a",
   "metadata": {},
   "source": [
    "Lazy Load: it uses generator to load documents"
   ]
  },
  {
   "cell_type": "code",
   "execution_count": null,
   "metadata": {},
   "outputs": [
    {
     "data": {
      "text/plain": [
       "Document(metadata={'source': 'src/articles/news_10012148.pdf'}, page_content='Mission Impossible – The Final Reckoning movie review: Tom Cruise’s last rodeo as Ethan Hunt makes a feeble appeal for a united world\\n\\nMission: Impossible - The Final Reckoning movie review: The film is an ode to Tom Cruise. In its numerous flashbacks to the previous M:I films, it underlines the times Ethan Hunt saved the world, and honours the people he loved and lost.\\n\\nDid someone switch a few vowels, maybe? In a film where so many are talking so much, that won’t be entirely, well, impossible. For, this eighth and last (or so they say) film in the M:I franchise could as easily have been called Mission: Impassable, given its tortuous course.\\n\\nThe Final Reckoning, of course, is the second half of what began as Part I in 2023. Five hours and 31 minutes later (making the two Final Reckonings the longest films in the franchise), you are still trying to care enough about the villain to hate it.\\n\\nAnd given that you have arguably the biggest movie star in the world on the other side, that should not be so hard. Tom Cruise is still out there giving it his all – and yes, doing his own stunts – kicking butt, dodging bullets, diving off submarines, dangling now not from one but two planes, almost dying not once but twice.\\n\\nAlso read – Mission Impossible Fallout review: The best Mission Impossible movie yet\\n\\nWriter-director Christopher McQuarrie spares no expense, taking the story from London underground to the Arctic Circle, Virginia’s Emergency Command Centre to South Africa’s Doomsday Vault, and some other stops in the middle. But, it must be asked, why exactly. The chase remains – like in Part I – of an Artificial Intelligence software gone rogue and dubbed the Entity, which is apparently trying to destroy the world (Ethan Hunt, that is Cruise, must take the President’s word for it, which is surely not a good starting point in a world where tech lies in bed with power).\\n\\nSurely, a simpler investment would be someone to write a counter code. But that would not leave Ethan much to do, would it? Particularly as the brains in that department are his two loyal sidekicks returning for the job, Luther (Rhames) and Benji (Pegg). Also returning is Grace (Atwell), whose pickpocketing skills that we saw in Part I are the best resource in a world running out of time.\\n\\nSo this time, Ethan’s mission is retrieving some sort of a device from a Russian submarine that crashed somewhere in the ocean bed sometime in 2012. When a poison pill developed by Luther is plugged into it, Entity would be poof!\\n\\nIf only someone would say poof! If it’s not complicated enough that Entity has brought the world to the brink of a nuclear disaster (a lot of nuclear talk here), lots of men and – hats off – women hold whispered, urgent conversations throughout The Final Reckoning about “counter-acoustic devices”, “primordial digital ooze”, “hyperbaric decompression chambers”, underwater pressure and what it does to a human body… etc etc. And this is even before Cruise gets to the Russian submarine.\\n\\nThe action inside that submarine, precariously balanced and one tip away from crashing, with water filling up and missiles floating about, dead bodies jumping up, and Ethan figuring out its many panels and chambers, is one of the most breathtaking sequences of The Final Reckoning. At the very least, it is something original in a franchise that seems to have run out of original ideas on what\\n\\nto put Ethan through – though Cruise still makes running that fiercely and hanging mid-air that fearlessly look easy. The M:I score barely makes an appearance, and those famous masks get barely a peeling.\\n\\nAbove all, The Final Reckoning is an ode to that Cruise, in its numerous flashbacks to the previous M:I films, underlining the times he saved the world, and just how jaw-droppingly, the sacrifices he made, the people he loved and lost.\\n\\nRead more – Mission Impossible Dead Reckoning Part One movie review: Tom Cruise delivers bang for the buck thrills\\n\\nAnd if McQuarrie, who with five films got the most out of this franchise after his lead actor, is not showing Cruise in action, he has people gushing about it. “The world would be a very different place without you, or not there at all,” is one such praise, followed by many different versions of the same. People can’t help praising Ethan even seconds away from the explosion of megatons of detonators.\\n\\nEthan is supposed to be doubting his contribution, in terms of gains versus loss, and The Final Reckoning makes a feeble appeal for a united world, not divided by nationalities, more than once. That is, till the world is brought to the brink again – and saved.\\n\\nBut hey, Cruise remains one of the best people to do that still. He just needs a better world than The Final Reckoning’s to save.\\n\\nLong time back, in M:I II, Anthony Hopkins’s character tells Ethan: “Now, it’s not Mission Difficult is it… Difficult would be a walk in the park for you.”\\n\\nSo, we’ll wait for a new mission – should Cruise choose to accept it.\\n\\nMission: Impossible – The Final Reckoning Director – Christopher McQuarrie Cast – Tom Cruise, Hayley Atwell, Simon Pegg, Ving Rhames, Esai Morales, Pom Klementieff, Angela Bassett Rating – 3/5')"
      ]
     },
     "execution_count": 30,
     "metadata": {},
     "output_type": "execute_result"
    }
   ],
   "source": [
    "gen_doc = loader.lazy_load()\n"
   ]
  },
  {
   "cell_type": "code",
   "execution_count": 31,
   "id": "3579c618",
   "metadata": {},
   "outputs": [
    {
     "data": {
      "text/plain": [
       "Document(metadata={'source': 'src/articles/news_10012066.pdf'}, page_content='Young Malayali ‘chenda’ artiste gives percussion twist to Rahat Fateh Ali Khan’s ‘O Re Piya’, video goes viral\\n\\nThe video has already garnered over 2.8 million views.\\n\\nA young percussionist from Kerala is winning hearts on the Internet with her cover of O Re Piya, played on the traditional chenda, a percussion instrument unique to Kerala, with roots that stretch back several centuries.\\n\\nThe chenda, a cylindrical drum widely used in Kerala’s temple festivals and classical art forms like Kathakali and Theyyam, isn’t often heard in Bollywood covers. But Instagram user Samveda M V has changed that with her striking performance of the Rahat Fateh Ali Khan song from the 2007 film Aaja Nachle.\\n\\nIn the video, Samveda brings the soulful melody to life using sharp, syncopated beats on the chenda, creating a unique fusion that has impressed social media users. Shared on her handle @samveda_mv with the caption “O re piya. Please do ignore the flaws,” the video has clocked 2.8 million views and over 4.3 lakh likes.\\n\\nA post shared by SAMVEDA M.V. (@samveda_mv)\\n\\nThe performance has earned Samveda an outpouring of praise. One user commented, “Woowwwww girlllllllllllllll….this made me reallllly sooo happyyyyyyy Keeeeep goinggggggg.” Another user said, “This is talent.”\\n\\nOne Instagram user wrote, “Those who liked it after seeing this should see the rest of the post as well. This will hit the first million.” A lot of other users reacted to the video with heart emojis and clapping emojis.\\n\\nSamveda regularly shares performances of her blending the classical percussion instrument with popular songs. Her skillful use of the chenda, an instrument typically played by male artistes during temple festivals and rituals, is being lauded for bringing visibility to Kerala’s folk traditions.\\n\\nRecently, a talented flautist named Mehboob, from Rajasthan, captured the hearts of many with his impromptu performance at the Raipur airport. He skillfully played a beautiful rendition of Teri Mitti by B Praak and Arko from the movie Kesari. The video quickly went viral.')"
      ]
     },
     "execution_count": 31,
     "metadata": {},
     "output_type": "execute_result"
    }
   ],
   "source": [
    "next(gen_doc)"
   ]
  },
  {
   "cell_type": "code",
   "execution_count": null,
   "metadata": {},
   "outputs": [],
   "source": []
  },
  {
   "cell_type": "markdown",
   "id": "d01cbeb8",
   "metadata": {},
   "source": [
    "### WebBaseLoader"
   ]
  },
  {
   "cell_type": "code",
   "execution_count": 37,
   "id": "4200fe19",
   "metadata": {},
   "outputs": [],
   "source": [
    "from langchain_community.document_loaders import WebBaseLoader\n",
    "\n",
    "loader = WebBaseLoader(\"https://langchain.com\")\n",
    "doc = loader.load()"
   ]
  },
  {
   "cell_type": "code",
   "execution_count": 39,
   "metadata": {},
   "outputs": [
    {
     "data": {
      "text/plain": [
       "1"
      ]
     },
     "execution_count": 39,
     "metadata": {},
     "output_type": "execute_result"
    }
   ],
   "source": [
    "len(doc)"
   ]
  },
  {
   "cell_type": "code",
   "execution_count": 40,
   "id": "36702847",
   "metadata": {},
   "outputs": [
    {
     "data": {
      "text/plain": [
       "{'id': None,\n",
       " 'metadata': {'source': 'https://langchain.com',\n",
       "  'title': 'LangChain',\n",
       "  'description': 'LangChain’s suite of products supports developers along each step of their development journey.',\n",
       "  'language': 'en'},\n",
       " 'page_content': \"LangChain\\n\\n\\n\\n\\n\\n\\n\\n\\n\\n\\n\\n\\n\\n\\n\\n\\n\\n\\n\\n\\nProducts\\n\\nFrameworksLangGraphLangChainPlatformsLangSmithLangGraph PlatformResources\\n\\nResources HubBlogCustomer StoriesLangChain AcademyCommunityExpertsChangelogDocs\\n\\nPythonLangGraphLangSmithLangChainJavaScriptLangGraphLangSmithLangChainCompany\\n\\nAboutCareersPricing\\n\\nLangSmithLangGraph PlatformGet a demoSign up\\n\\n\\n\\n\\n\\n\\n\\n\\n\\n\\n\\n\\nProducts\\n\\nFrameworksLangGraphLangChainPlatformsLangSmithLangGraph PlatformResources\\n\\nResources HubBlogCustomer StoriesLangChain AcademyCommunityExpertsChangelogDocs\\n\\nPythonLangGraphLangSmithLangChainJavaScriptLangGraphLangSmithLangChainCompany\\n\\nAboutCareersPricing\\n\\nLangSmithLangGraph PlatformGet a demoSign upThe platform for reliable agents. Tools for every step of the agent development lifecycle -- built to unlock powerful AI\\xa0in production.Request a demoSee the docs\\n\\nLangGraph Platform, our infrastructure for deploying and managing agents at scale, is now generally available. Learn how to deploy here.LangChain products power top engineering teams, from startups to global enterprisesAccelerate agent development.Build faster with templates & a visual agent IDE. Reuse, configure, and combine agents to go further with less code.Ship reliable agents.Design agents that can handle sophisticated tasks with control. Add human-in-the-loop to steer and approve agent actions.Gain visibility & improve quality.See what’s happening - so you can quickly trace to root cause and debug issues. Evaluate your agent performance to improve over time.The Agent StackORCHESTRATION:Build agents with LangGraphControllable agent orchestration with built-in persistence to handle conversational history, memory, and agent-to-agent collaboration.INTEGRATIONS:Integrate components with LangChainIntegrate with the latest models, databases, and tools with no engineering overhead.EVALS\\xa0&\\xa0OBSERVABILITY:Gain visibility with LangSmithDebug poor-performing LLM app runs. Evaluate and observe agent performance at scale.DEPLOYMENT:Deploy &\\xa0manage with LangGraph PlatformDeploy and scale enterprise-grade agents with long-running workflows. Discover, reuse, and share agents across teams — and iterate faster with LangGraph Studio.CopilotsBuild native co-pilots into your application to unlock new end user experiences for domain-specific tasks.Enterprise GPTGive all employees access\\u2028to information and tools\\u2028in a compliant manner so they\\u2028can perform their best.Customer SupportImprove the speed & efficiency\\u2028of support teams that handle customer requests.ResearchSynthesize data, summarize sources & uncover insights faster than ever for knowledge work.Code generationAccelerate software development by automating code writing, refactoring, and documentation for your team.AI SearchOffer a concierge experience to guide users to products or information in a personalized way.\\n\\n\\n\\n\\n\\nLangChain products are designed to be used independently or stack for multiplicative benefit. LangChainLangGraphFrameworksLangSmithLangGraph PlatformPlatformsFrameworksLangChainLangGraphPlatformsLangSmithLangGraph \\u2028PlatformSTACK 1:\\xa0LangGraph +\\xa0LangChain +\\xa0LangSmith +\\xa0LangGraph\\xa0PlatformA full product suite for reliable agents and LLM appsLangChain's products work seamlessly together to provide an integrated solution for every step of the application development journey. When you use all LangChain products, you'll build better, get to production quicker, and grow visibility -- all with less set up and friction. LangChain provides the smoothest path to high quality agents.Orchestration:Integrations:Evals + Observability:Deployment:STACK 2: No framework +\\xa0LangSmithTrace\\xa0and evaluate any LLM appLangSmith is framework-agnostic. Trace using the TypeScript or Python SDK\\xa0to gain visibility into your agent interactions -- whether you use LangChain's frameworks or not.Orchestration:Your choiceEvals + Observability:STACK 3:\\xa0Any agent framework +\\xa0LangGraph PlatformBuild agents any way you want, then deploy and scale with easeLangGraph Platform works with any agent framework, enabling stateful UXs like human-in-the-loop and streaming-native deployments.Orchestration:Your choiceDeployment:Get inspired by companies who have done it.Teams building with LangChain products are driving operational efficiency, increasing discovery & personalization, and delivering premium products that generate revenue.Discover Use Cases\\n\\n\\nFinancial ServicesKlarna's AI assistant has reduced average customer query resolution time by 80%, powered by LangSmith and LangGraph\\n\\n\\nTransportationThis global logistics provider is saving 600 hours a day using an automated order system built on LangGraph and LangSmith\\n\\n\\nSecurityAs a leading cybersecurity firm with 40k+ customers, Trellix cut log parsing from days to minutes using LangGraph and LangSmith.\\n\\n\\nThe biggest developer community in GenAILearn alongside the 1M+ practitioners using our frameworks to push the industry forward.#1Downloaded agent framework100k+GitHub stars#1Downloaded agent framework600+IntegrationsReady to start shipping \\u2028reliable agents faster?Get started with tools from the LangChain product suite for every step of the agent development lifecycle.Get a demoSign up for freeProductsLangChainLangSmithLangGraphAgentsEvaluationRetrievalResourcesPython DocsJS/TS DocsGitHubIntegrationsChangelogCommunityLangSmith Trust PortalCompanyAboutCareersBlogTwitterLinkedInYouTubeMarketing AssetsSign up for our newsletter to stay up to dateThank you! Your submission has been received!Oops! Something went wrong while submitting the form.All systems operationalPrivacy PolicyTerms of Service\\n\\n\\n\\n\\n\\n\\n\\n\\n\\n\\n\\n\\n\\n\",\n",
       " 'type': 'Document'}"
      ]
     },
     "execution_count": 40,
     "metadata": {},
     "output_type": "execute_result"
    }
   ],
   "source": [
    "doc[0].model_dump()"
   ]
  },
  {
   "cell_type": "code",
   "execution_count": 41,
   "metadata": {},
   "outputs": [
    {
     "data": {
      "text/plain": [
       "2"
      ]
     },
     "execution_count": 41,
     "metadata": {},
     "output_type": "execute_result"
    }
   ],
   "source": [
    "# for multiple webpages\n",
    "from langchain_community.document_loaders import WebBaseLoader\n",
    "\n",
    "loader = WebBaseLoader([\"https://langchain.com\", \"https://flathub.org/\"])\n",
    "doc = loader.load()\n",
    "len(doc)"
   ]
  },
  {
   "cell_type": "code",
   "execution_count": 42,
   "id": "0a8dca6a",
   "metadata": {},
   "outputs": [
    {
     "data": {
      "text/plain": [
       "{'id': None,\n",
       " 'metadata': {'source': 'https://flathub.org/',\n",
       "  'title': 'Flathub - Apps for Linux',\n",
       "  'description': 'Find and install hundreds of apps and games for Linux. Enjoy Firefox, Telegram, RetroArch, GIMP and many more!',\n",
       "  'language': 'en'},\n",
       " 'page_content': 'Flathub - Apps for LinuxSearch apps/Open MenuPublishForumAboutLog InDrum MachineCreate and play drum beatsLetterpressCreate beautiful ASCII artRefineTweak various aspects of GNOMEFractalChat on MatrixKodiUltimate entertainment centerPrevious slideNext slideApp of the DayChronographSync lyrics of your loved songsFlathub is the App Store for LinuxGet the latest versions of all your favorite apps, for any Linux distributionSet Up FlathubTrendingTrendingPopularNewUpdatedKanagramLetter Order GameTallyCount anythingBreathingRelax and meditateBufferEmbrace ephemeral textMirror HallUse Linux devices as second screensButlerCompanion for Home AssistantBibliotecaRead GNOME documentation offlinePasswordPassword calculator and generatorPlaylifin VoyagerTransfer playlists to/from JellyfinTaigoTaigo is a virtual pet for your desktopDoor KnockerCheck the availability of portalsFractalChat on MatrixMore TrendingProductivitySuper ProductivityAdvanced to-do listDenaroManage your personal financesProgressKanban-style task organiserTime TrackerTrack and sync time, local-firstEloquentYour proofreading assistantApostropheEdit Markdown in styleMore ProductivityGraphics & PhotographyBoxy SVGScalable Vector Graphics editorHalftoneDither your imagesLetterpressCreate beautiful ASCII artXnConvertEasily process images in batchesVipsdispImage viewerFotemaAdmire your photosMore Graphics & PhotographyAudio & VideoKodiUltimate entertainment centerGlidePlay movies and audio filesParlatypeMedia player for transcriptionElektroidSample and MIDI device managerShowtimeWatch without distractionCheeseTake photos and videos with your webcam, with fun graphical effectsMore Audio & VideoOn the goApps for your Linux phones and tabletsMore mobile appsTallyCount anythingBreathingRelax and meditateMirror HallUse Linux devices as second screensBibliotecaRead GNOME documentation offlinePasswordPassword calculator and generatorPlaylifin VoyagerTransfer playlists to/from JellyfinMore mobile appsEducationKanagramLetter Order GameSpelling BeeLearn new English wordsPhysicsProve Sir Isaac Newton correctFretboardLook up guitar chordsGameekyPlay, create and learnKeypunchPractice your typing skillsMore EducationNetworkingMirror HallUse Linux devices as second screensButlerCompanion for Home AssistantFractalChat on MatrixNewsflashKeep up with your feedsTen ForwardControl a NAT-PMP gatewaySlackBusiness communicationMore NetworkingWe â™¥ GamesGames and apps to run your favorite titlesGamesGamesEmulatorsGame LaunchersGame ToolsTaigoTaigo is a virtual pet for your desktopThe AMC SquadRetro FPS with modern sensibilitiesTaliRoll dice and score pointsROTAGravity bends beneath your feetCandy WrapperScreen-wrapping arcade actionHex ColordleFind the colorTrivia QuizRespond to endless questionsHuntFind every wordHnefataflPlay the gameMahjonggMatch tiles and clear the boardSurge EngineFun retro platformer & game creatorStepManiaRhythm and dance gameMore GamesDeveloper ToolsBibliotecaRead GNOME documentation offlineTurboWarpMake games, animations, and storiesBellaPick a color from the screenEyedropperPick and format colorsPulsarModern, modifiable editorVSCodiumTelemetry-less code editingMore Developer ToolsScienceGaia SkyExplore the universe in 3DPhotometryView photometric filesCoulombElectronic circuit simulatorCitationsManage your bibliographySirilAstronomical image processorLogarithmPlotterCreate and edit Bode plotsMore ScienceSystemResourcesKeep an eye on system resourcesJunctionApplication chooserConcessioUnderstand file permissionsTrayscaleUnofficial GUI for TailscaleWarehouseManage all things FlatpakPin It!Pin portable apps to the launcherMore SystemUtilitiesTallyCount anythingBreathingRelax and meditateBufferEmbrace ephemeral textPasswordPassword calculator and generatorPlaylifin VoyagerTransfer playlists to/from JellyfinDoor KnockerCheck the availability of portalsMore UtilitiesAppsTrendingPopularNewUpdatedVerifiedRSS FeedsCommunityForumChatMastodonDevelopersDeveloper PortalPublish Your AppDocumentationBadgesFlathubSetupSwitch LanguageTerms and ConditionsPrivacy PolicyStatisticsAboutConsultantsStatusSource Code',\n",
       " 'type': 'Document'}"
      ]
     },
     "execution_count": 42,
     "metadata": {},
     "output_type": "execute_result"
    }
   ],
   "source": [
    "doc[1].model_dump()"
   ]
  },
  {
   "cell_type": "code",
   "execution_count": null,
   "id": "3d5b956d",
   "metadata": {},
   "outputs": [],
   "source": []
  }
 ],
 "metadata": {
  "kernelspec": {
   "display_name": "base",
   "language": "python",
   "name": "python3"
  },
  "language_info": {
   "codemirror_mode": {
    "name": "ipython",
    "version": 3
   },
   "file_extension": ".py",
   "mimetype": "text/x-python",
   "name": "python",
   "nbconvert_exporter": "python",
   "pygments_lexer": "ipython3",
   "version": "3.13.2"
  }
 },
 "nbformat": 4,
 "nbformat_minor": 5
}
