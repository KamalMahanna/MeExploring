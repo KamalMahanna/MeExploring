{
 "cells": [
  {
   "cell_type": "code",
   "execution_count": 1,
   "metadata": {},
   "outputs": [],
   "source": [
    "import requests\n",
    "from bs4 import BeautifulSoup\n",
    "\n",
    "def extract_article_links(url):\n",
    "    \"\"\"\n",
    "    Extracts links from a given URL that start with 'https://indianexpress.com/section/india/'.\n",
    "\n",
    "    Args:\n",
    "        url: The URL to scrape.\n",
    "\n",
    "    Returns:\n",
    "        A list of links that match the criteria.\n",
    "    \"\"\"\n",
    "    try:\n",
    "        response = requests.get(url)\n",
    "        response.raise_for_status()  # Raise an exception for bad status codes\n",
    "\n",
    "        soup = BeautifulSoup(response.content, 'html.parser')\n",
    "        links = []\n",
    "        for a_tag in soup.find_all('a', href=True):\n",
    "            link = a_tag['href']\n",
    "            if link.startswith('https://indianexpress.com/article'):\n",
    "                links.append(link)\n",
    "        return set(links)\n",
    "    except requests.exceptions.RequestException as e:\n",
    "        print(f\"Error during request: {e}\")\n",
    "        return []\n",
    "    except Exception as e:\n",
    "        print(f\"An error occurred: {e}\")\n",
    "        return []\n"
   ]
  },
  {
   "cell_type": "code",
   "execution_count": 2,
   "metadata": {},
   "outputs": [],
   "source": [
    "import requests\n",
    "from bs4 import BeautifulSoup\n",
    "\n",
    "def get_article_texts(url):\n",
    "    response = requests.get(url)\n",
    "    soup = BeautifulSoup(response.content, \"html.parser\")\n",
    "    \n",
    "    heading = soup.find(\"h1\").get_text()\n",
    "    sub_heading = soup.find(\"h2\").get_text()\n",
    "    \n",
    "    try:\n",
    "        texts = soup.find(\"div\", attrs={\"id\": \"pcl-full-content\", \"class\": \"story_details\"}).find_all(\"p\")\n",
    "        texts = [text.get_text() for text in texts]\n",
    "    except:\n",
    "        print(url)\n",
    "        texts = []\n",
    "    \n",
    "    return heading, sub_heading, texts\n",
    "    \n"
   ]
  },
  {
   "cell_type": "code",
   "execution_count": 3,
   "metadata": {},
   "outputs": [],
   "source": [
    "from reportlab.lib.pagesizes import A4\n",
    "from reportlab.platypus import SimpleDocTemplate, Paragraph, Spacer\n",
    "from reportlab.lib.styles import getSampleStyleSheet, ParagraphStyle\n",
    "from reportlab.lib.units import inch\n",
    "\n",
    "\n",
    "def convert_article_to_pdf(heading, sub_heading, paragraphs, path):\n",
    "    doc = SimpleDocTemplate(path, pagesize=A4)\n",
    "\n",
    "    styles = getSampleStyleSheet()\n",
    "\n",
    "    styles.add(ParagraphStyle(name=\"Heading\", fontSize=20, leading=24, spaceAfter=12, alignment=1))\n",
    "    styles.add(ParagraphStyle(name=\"Subheading\", fontSize=14, leading=18, spaceAfter=10, alignment=1))\n",
    "\n",
    "\n",
    "    story = []\n",
    "\n",
    "    story.append(Paragraph(heading, styles[\"Heading\"]))\n",
    "    story.append(Paragraph(sub_heading, styles[\"Subheading\"]))\n",
    "    story.append(Spacer(1, 0.2 * inch))\n",
    "\n",
    "    for para in paragraphs:\n",
    "        story.append(Paragraph(para, styles[\"Normal\"]))\n",
    "        story.append(Spacer(1, 0.15 * inch))\n",
    "    if paragraphs:\n",
    "        doc.build(story)\n"
   ]
  },
  {
   "cell_type": "code",
   "execution_count": 4,
   "metadata": {},
   "outputs": [],
   "source": [
    "article_links = extract_article_links(\"https://indianexpress.com/latest-news/\")"
   ]
  },
  {
   "cell_type": "code",
   "execution_count": 5,
   "metadata": {},
   "outputs": [],
   "source": [
    "convert_article_to_pdf(*get_article_texts(\"https://indianexpress.com/article/india/incidents-of-lwe-led-violence-down-from-1936-to-374-in-15-years-centre-10013161/\"),'temp.pdf')"
   ]
  },
  {
   "cell_type": "code",
   "execution_count": 6,
   "metadata": {},
   "outputs": [
    {
     "name": "stdout",
     "output_type": "stream",
     "text": [
      "https://indianexpress.com/article/cities/bangalore/bengaluru-rains-weather-live-updates-imd-traffic-waterlogging-10015222/\n",
      "https://indianexpress.com/article/education/kerala-plus-2-results-2025-live-keralaresults-nic-in-dhsekerala-gov-in-pareekshabhavan-prd-kite-saphlam-app-topper-district-pass-percent-dhse-vhse-9958610/\n",
      "https://indianexpress.com/article/education/rbse-bser-rajasthan-board-result-2025-class-12th-10th-8th-5th-live-updates-date-time-link-rajeduboard-rajasthan-gov-in-sarkari-result-10017121/\n",
      "https://indianexpress.com/article/education/rbse-12th-result-2025-live-updates-science-arts-commerce-declared-rajeduboard-rajasthan-gov-in-sarkari-result-bser-marksheets-9951410/\n",
      "https://indianexpress.com/article/india/india-pakistan-news-live-updates-ceasefire-congress-bjp-govt-policy-opposition-10016806/\n",
      "https://indianexpress.com/article/cities/delhi/delhi-news-live-updates-hc-weather-imd-india-operation-sindoor-govt-aap-bjp-10014998/\n",
      "https://indianexpress.com/article/education/nta-neet-ug-2025-answer-key-link-to-check-neet-nta-nic-in-objection-window-live-updates-10019145/\n",
      "https://indianexpress.com/article/cities/mumbai/maharashtra-rains-weather-today-live-updates-10018930/\n",
      "https://indianexpress.com/article/education/odisha-chse-plus-2-result-2025-live-updates-chseodisha-nic-in-odisha-board-hsc-class-12th-marksheets-stream-wise-released-9963554/\n"
     ]
    }
   ],
   "source": [
    "for i in article_links:\n",
    "    convert_article_to_pdf(*get_article_texts(i), f\"articles/news_{i.split(\"-\")[-1][:-1]}.pdf\")\n",
    "    "
   ]
  },
  {
   "cell_type": "code",
   "execution_count": null,
   "metadata": {},
   "outputs": [],
   "source": []
  }
 ],
 "metadata": {
  "kernelspec": {
   "display_name": "base",
   "language": "python",
   "name": "python3"
  },
  "language_info": {
   "codemirror_mode": {
    "name": "ipython",
    "version": 3
   },
   "file_extension": ".py",
   "mimetype": "text/x-python",
   "name": "python",
   "nbconvert_exporter": "python",
   "pygments_lexer": "ipython3",
   "version": "3.13.2"
  }
 },
 "nbformat": 4,
 "nbformat_minor": 2
}
