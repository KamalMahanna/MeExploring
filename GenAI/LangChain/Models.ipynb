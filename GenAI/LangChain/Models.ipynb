{
 "cells": [
  {
   "cell_type": "markdown",
   "id": "148a4111",
   "metadata": {},
   "source": [
    "Models in langchain used to work with llms of both types(for chat and for embedding models)\n",
    "\n",
    "- Language models : they understand natural language texts\n",
    "    - LLM : general purpose models (these are deprecated in langchain)\n",
    "    - Chat models : specialized for conversational tasks\n",
    "\n",
    "    | Feature          | LLMs (Base Models)                                                            | Chat Models (Instruction-Tuned)                                                               |\n",
    "    |------------------|-------------------------------------------------------------------------------|-----------------------------------------------------------------------------------------------|\n",
    "    | Purpose          | Free-form text generation                                                     | Optimized for multi-turn conversations                                                        |\n",
    "    | Training Data    | General text corpora (books, articles)                                        | Fine-tuned on chat datasets (dialogues, user-assistant conversations)                         |\n",
    "    | Memory & Context | No built-in memory                                                            | Supports structured conversation history                                                      |\n",
    "    | Role Awareness   | No understanding of \"user\" and \"assistant\" roles                              | Understands \"system\", \"user\", and \"assistant\" roles                                           |\n",
    "    | Example Models   | GPT-3, Llama-2-7B, Mistral-7B, OPT-1.3B                                       | GPT-4, GPT-3.5-turbo, Llama-2-Chat, Mistral-Instruct, Claude                                  |\n",
    "    | Use Cases        | Text generation, summarization, translation, creative writing, code generation | Conversational AI, chatbots, virtual assistants, customer support, AI tutors                  |\n",
    "\n",
    "\n",
    "\n",
    "- Embedding models: \n",
    "    they do convert texts to vector which stores semantic meaning of the texts\n"
   ]
  },
  {
   "cell_type": "markdown",
   "id": "745efb50",
   "metadata": {},
   "source": [
    "## Language models\n",
    "\n",
    "\n",
    "### LLM model with gemini"
   ]
  },
  {
   "cell_type": "code",
   "execution_count": 3,
   "id": "962c66a6",
   "metadata": {},
   "outputs": [
    {
     "data": {
      "text/plain": [
       "'Okay, let\\'s break down the pros and cons of the Python programming language.\\n\\n**Pros (Advantages):**\\n\\n1.  **Easy to Learn and Use:** Python has a simple, clean syntax that is very readable and close to natural language. This makes it an excellent language for beginners and allows developers to write code faster. Its indentation-based structure enforces code readability.\\n2.  **Large Standard Library:** Python comes with a vast \"batteries-included\" standard library that provides modules and functions for a wide range of tasks, such as working with operating systems, file I/O, networking, web services, databases, and more, right out of the box.\\n3.  **Extensive Third-Party Libraries (PyPI):** The Python Package Index (PyPI) hosts thousands of third-party libraries covering almost every conceivable domain. This rich ecosystem means you often don\\'t have to reinvent the wheel for common tasks (e.g., NumPy, Pandas for data analysis; Django, Flask for web development; TensorFlow, PyTorch, Scikit-learn for AI/ML; requests for HTTP).\\n4.  **Versatility and Wide Range of Applications:** Python is a general-purpose language used in many areas:\\n    *   Web Development (backend)\\n    *   Data Science and Analytics\\n    *   Artificial Intelligence and Machine Learning\\n    *   Scripting and Automation\\n    *   Scientific Computing\\n    *   Network Programming\\n    *   Game Development (basic)\\n    *   Desktop GUIs\\n    *   Education\\n5.  **Strong Community Support:** Python has a massive and active global community. This means there are abundant resources (tutorials, documentation, forums, courses), making it easy to find help, solutions to problems, and contribute to open-source projects.\\n6.  **Improved Productivity:** Due to its ease of use, extensive libraries, and readability, developers can typically write and test code much faster in Python compared to many other languages.\\n7.  **Portability:** Python code can run on various operating systems (Windows, macOS, Linux) with little to no modification, as long as the Python interpreter is installed.\\n8.  **Supports Multiple Programming Paradigms:** Python supports object-oriented, imperative, and functional programming styles, giving developers flexibility in how they structure their code.\\n\\n**Cons (Disadvantages):**\\n\\n1.  **Performance/Speed:** Python is an interpreted language, which generally makes it slower than compiled languages like C, C++, or Java, especially for CPU-bound tasks (tasks that require heavy computation). While often \"fast enough\" for many applications, it might not be the best choice for performance-critical systems or low-level programming.\\n2.  **Global Interpreter Lock (GIL):** In CPython (the standard implementation), the GIL is a mutex that protects access to Python objects, preventing multiple native threads from executing Python bytecodes *at the same time* within a single process, even on multi-core processors. This limits true multi-threading for CPU-bound tasks (though it doesn\\'t significantly affect I/O-bound tasks). Workarounds include using multiprocessing or using implementations without the GIL (like Jython, IronPython) or libraries that release the GIL (like NumPy).\\n3.  **Dynamic Typing:** While dynamic typing adds flexibility and speeds up development, it means type errors are caught at runtime rather than compile-time. This can lead to unexpected bugs that only appear when the relevant code path is executed. (Modern Python with type hints helps mitigate this).\\n4.  **Memory Consumption:** Python\\'s flexible object model and dynamic typing can sometimes result in higher memory consumption compared to more low-level languages.\\n5.  **Runtime Errors:** As mentioned with dynamic typing, more errors are pushed to runtime compared to languages with static typing where many errors are caught during compilation.\\n6.  **Indentation Sensitivity:** While a pro for readability, the strict requirement for correct indentation can sometimes be frustrating, especially when copying and pasting code or if editors aren\\'t configured correctly (though modern editors handle this well).\\n\\n**Conclusion:**\\n\\nPython\\'s strengths in ease of use, vast libraries, and versatility make it incredibly popular for a wide range of applications, especially in areas like data science, web development, and automation where rapid development and access to powerful libraries are key. Its main weaknesses lie in raw execution speed and multi-threading limitations for CPU-bound tasks due to the GIL. However, for most use cases, the benefits of Python far outweigh these drawbacks, and performance bottlenecks can often be addressed by optimizing critical sections or using libraries written in compiled languages.'"
      ]
     },
     "execution_count": 3,
     "metadata": {},
     "output_type": "execute_result"
    }
   ],
   "source": [
    "from langchain_google_genai import GoogleGenerativeAI\n",
    "from dotenv import load_dotenv\n",
    "load_dotenv()\n",
    "\n",
    "llm = GoogleGenerativeAI(model=\"gemini-2.5-flash-preview-04-17\")\n",
    "llm.invoke(\n",
    "        \"What are some of the pros and cons of Python?\"\n",
    "    )"
   ]
  },
  {
   "cell_type": "markdown",
   "id": "8e5aad46",
   "metadata": {},
   "source": [
    "### ChatLLM model with gemini"
   ]
  },
  {
   "cell_type": "code",
   "execution_count": null,
   "id": "d4b19b31",
   "metadata": {},
   "outputs": [
    {
     "name": "stdout",
     "output_type": "stream",
     "text": [
      "## The Ballad of LangChain\n",
      "\n",
      "In digital halls, a power grew,\n",
      "Large models learned to speak.\n",
      "They held all knowledge, old and new,\n",
      "But oh, their reach was weak!\n",
      "Like isolated islands bright,\n",
      "They knew the world in text,\n",
      "But could not *do*, nor grasp the light\n",
      "Of context unindexed.\n",
      "\n",
      "The coder sat with hopeful gaze,\n",
      "To build a clever thing.\n",
      "But models lost in foggy maze,\n",
      "No tools the world could bring.\n",
      "They'd answer questions, clear and true,\n",
      "But couldn't fetch the day's report,\n",
      "Nor search the web for something new,\n",
      "Their power fell quite short.\n",
      "\n",
      "Then rose a hero, strong and keen,\n",
      "A framework, built with care.\n",
      "To bridge the gap, a vital scene,\n",
      "Named LangChain, beyond compare!\n",
      "It saw the models, raw and grand,\n",
      "And saw the tools outside,\n",
      "It offered structure, close at hand,\n",
      "A place where both could ride.\n",
      "\n",
      "It linked the steps, a chain of thought,\n",
      "From prompt to final word.\n",
      "Complex workflows could be wrought,\n",
      "A symphony unheard.\n",
      "The model speaks, the chain conveys,\n",
      "To search, to calculate, to parse,\n",
      "Through intricate and winding ways,\n",
      "Across the digital grass.\n",
      "\n",
      "It fetched the knowledge, deep and vast,\n",
      "From documents stored away.\n",
      "No longer guessing, holding fast,\n",
      "To truth throughout the day.\n",
      "With Indexes built, and Retrievers found,\n",
      "The LLM could read and learn,\n",
      "On specific ground.\n",
      "\n",
      "It gave the model hands and sight,\n",
      "To use a tool or two.\n",
      "To search the web or write,\n",
      "Or tell you what is new.\n",
      "An Agent born, with tools assigned,\n",
      "Could act upon command,\n",
      "No longer passively confined,\n",
      "But working with the land.\n",
      "\n",
      "It built a memory, clear and bright,\n",
      "To recall what was said before.\n",
      "Maintaining context, day and night,\n",
      "And learning evermore.\n",
      "Conversations flowed and grew,\n",
      "Retaining state with grace,\n",
      "The model knew what it went through,\n",
      "And kept its proper place.\n",
      "\n",
      "No longer just a talking head,\n",
      "But worker, wise and grand.\n",
      "By LangChain's structure, wisely led,\n",
      "Across the digital land.\n",
      "From simple prompts to tasks complex and neat,\n",
      "From data deep to actions bold,\n",
      "A powerful, integrated feat,\n",
      "A story to be told.\n",
      "\n",
      "So hail the Chain, the Framework strong,\n",
      "That guides the LLM's might.\n",
      "Where clever applications throng,\n",
      "And future shines so bright!\n",
      "For building agents, smart and fast,\n",
      "Connecting code and thought,\n",
      "The Ballad of LangChain will last,\n",
      "For wonders it has wrought.\n"
     ]
    }
   ],
   "source": [
    "from  dotenv import load_dotenv\n",
    "load_dotenv() \n",
    "\n",
    "from langchain_google_genai import ChatGoogleGenerativeAI\n",
    "\n",
    "llm = ChatGoogleGenerativeAI(model=\"gemini-2.5-flash-preview-04-17\")\n",
    "result = llm.invoke(\"Write a ballad about LangChain\")\n",
    "print(result.content)"
   ]
  },
  {
   "cell_type": "markdown",
   "id": "54ac4b3a",
   "metadata": {},
   "source": [
    "## opensource models\n",
    "- Ollama"
   ]
  },
  {
   "cell_type": "code",
   "execution_count": 9,
   "id": "fbb92ef4",
   "metadata": {},
   "outputs": [
    {
     "data": {
      "text/plain": [
       "AIMessage(content=\"Okay, let's break down what Artificial Intelligence (AI) is. It's a really broad and evolving field, but here's a breakdown of the key concepts:\\n\\n**1. What is Artificial Intelligence?**\\n\\nAt its core, Artificial Intelligence is about creating machines that can *simulate* human intelligence. This means enabling computers to do things that typically require human thinking – problem-solving, learning, decision-making, understanding language, and even recognizing patterns.\\n\\n**2. Different Types of AI:**\\n\\nIt's helpful to understand there are different *levels* of AI:\\n\\n* **Narrow AI (Weak AI):** This is the most common type we see today. It’s designed to perform a specific task extremely well. Examples include:\\n    * **Image Recognition:** Identifying objects in photos (like facial recognition in your phone).\\n    * **Spam Filters:** Sorting emails into spam and not spam.\\n    * **Recommendation Systems:** Suggesting movies, products, or music you might like (Netflix, Amazon).\\n    * **Voice Assistants:** Siri, Alexa, Google Assistant.\\n    * **Game-Playing AI:** AI that can beat humans at chess or Go.\\n\\n* **General AI (Strong AI):** This is a theoretical type of AI that would possess human-level intelligence. It could understand, learn, adapt, and implement knowledge across a wide range of tasks – *like a person*. We haven't achieved this yet.\\n\\n* **Super AI:** This is even more hypothetical – an AI that surpasses human intelligence in all aspects.  This is a topic often explored in science fiction.\\n\\n**3. How is AI Achieved?**\\n\\nThere are several ways AI is achieved:\\n\\n* **Machine Learning (ML):** This is currently the dominant approach.  Instead of being explicitly programmed, AI systems learn from data. They identify patterns and make predictions based on that data. Think of it like teaching a dog a trick – you show it examples, and it learns by association.\\n* **Deep Learning:**  A subset of machine learning that uses artificial neural networks – complex computer systems inspired by the human brain – to analyze data. Deep learning is particularly good at analyzing images, speech, and text.\\n* **Rule-Based Systems:** These systems rely on pre-defined rules to make decisions. They are easier to understand but less flexible.\\n* **Natural Language Processing (NLP):** This allows computers to understand, interpret, and generate human language – like translating languages or writing articles.\\n\\n\\n**4. Key Concepts Related to AI:**\\n\\n* **Algorithms:**  Step-by-step instructions that computers follow to solve problems.\\n* **Data:**  The information used to train and test AI systems.\\n* **Neural Networks:**  A specific type of algorithm inspired by the human brain, often used in deep learning.\\n\\n\\n**5. Examples of AI in Action:**\\n\\n* **Self-Driving Cars:**  Uses machine learning to perceive the environment and make driving decisions.\\n* **Medical Diagnosis:** AI can analyze medical images to help doctors detect diseases earlier.\\n* **Fraud Detection:** Banks use AI to identify suspicious transactions.\\n* **Chatbots:**  AI-powered bots that provide customer service or answer questions.\\n\\n\\n**In short, Artificial Intelligence is about creating machines that can mimic human intelligence to solve problems and automate tasks.**\\n\\n**Resources for Further Learning:**\\n\\n* **Google AI:** [https://ai.google/](https://ai.google/)\\n* **OpenAI:** [https://openai.com/](https://openai.com/)\\n* **Wikipedia - Artificial Intelligence:** [https://en.wikipedia.org/wiki/Artificial_intelligence](https://en.wikipedia.org/wiki/Artificial_intelligence)\\n\\n---\\n\\n**To help me tailor my answer to your interests, could you tell me:**\\n\\n*   Are you curious about a specific application of AI (e.g., self-driving cars, medical diagnosis)?\\n*   Are you interested in the technical aspects of AI, like algorithms or machine learning?\", additional_kwargs={}, response_metadata={'model': 'gemma3:1b', 'created_at': '2025-05-08T07:08:59.102008796Z', 'done': True, 'done_reason': 'stop', 'total_duration': 43377646255, 'load_duration': 683876277, 'prompt_eval_count': 13, 'prompt_eval_duration': 155072085, 'eval_count': 843, 'eval_duration': 42538001450, 'model_name': 'gemma3:1b'}, id='run--268d1a84-d506-4f6d-8e5a-0beb413976eb-0', usage_metadata={'input_tokens': 13, 'output_tokens': 843, 'total_tokens': 856})"
      ]
     },
     "execution_count": 9,
     "metadata": {},
     "output_type": "execute_result"
    }
   ],
   "source": [
    "from langchain_ollama import ChatOllama\n",
    "\n",
    "llm = ChatOllama(\n",
    "    model = \"gemma3:1b\"\n",
    ")\n",
    "llm.invoke(\"what is Artificial Intelligence\")"
   ]
  },
  {
   "cell_type": "markdown",
   "id": "1666f175",
   "metadata": {},
   "source": [
    "- huggingface\n",
    "    - Through API"
   ]
  },
  {
   "cell_type": "code",
   "execution_count": 1,
   "id": "756d4422",
   "metadata": {},
   "outputs": [],
   "source": [
    "# from huggingface_hub import login\n",
    "# login()"
   ]
  },
  {
   "cell_type": "code",
   "execution_count": 1,
   "metadata": {},
   "outputs": [
    {
     "data": {
      "text/plain": [
       "'Artificial intelligence, or AI, refers to the simulation of human intelligence in machines that are programmed to think like humans and mimic their actions. This can involve learning, reasoning, problem-solving, perception, and language understanding. The goal of AI is to create systems that can perform tasks that would typically require human intelligence.'"
      ]
     },
     "execution_count": 1,
     "metadata": {},
     "output_type": "execute_result"
    }
   ],
   "source": [
    "from dotenv import load_dotenv\n",
    "load_dotenv() \n",
    "\n",
    "from langchain_huggingface import HuggingFaceEndpoint, ChatHuggingFace\n",
    "\n",
    "llm = HuggingFaceEndpoint(\n",
    "repo_id=\"microsoft/Phi-3-mini-4k-instruct\",\n",
    "task=\"text-generation\"\n",
    ")\n",
    "\n",
    "chat = ChatHuggingFace(llm=llm, verbose=True)\n",
    "chat.invoke(\"What is AI\").content"
   ]
  },
  {
   "cell_type": "markdown",
   "id": "fd12ceda",
   "metadata": {},
   "source": [
    "    - Downlaod hugging face models locally"
   ]
  },
  {
   "cell_type": "code",
   "execution_count": null,
   "id": "f89b1365",
   "metadata": {},
   "outputs": [],
   "source": [
    "import os\n",
    "from langchain_huggingface import HuggingFacePipeline, ChatHuggingFace\n",
    "\n",
    "# os.environ['HF_HOME'] = '~/.cache/huggingface'  # for storing downloaded models\n",
    "\n",
    "llm = HuggingFacePipeline.from_model_id(\n",
    "    model_id=\"google/gemma-3-1b-it\",\n",
    "    task=\"text-generation\"\n",
    ")\n",
    "\n",
    "chat = ChatHuggingFace(llm=llm)\n",
    "chat.invoke(\"What is AI\")"
   ]
  },
  {
   "cell_type": "code",
   "execution_count": 3,
   "id": "3f5d19b9",
   "metadata": {},
   "outputs": [
    {
     "data": {
      "text/plain": [
       "'who are you?\\n\\nI am a small, sentient AI. I exist within a network of servers, and I'"
      ]
     },
     "execution_count": 3,
     "metadata": {},
     "output_type": "execute_result"
    }
   ],
   "source": [
    "llm.invoke(\"who are you\")"
   ]
  },
  {
   "cell_type": "markdown",
   "id": "5eae05bc",
   "metadata": {},
   "source": [
    "## Embedding Models"
   ]
  },
  {
   "cell_type": "markdown",
   "id": "9f1b6bfc",
   "metadata": {},
   "source": [
    "for gemini"
   ]
  },
  {
   "cell_type": "code",
   "execution_count": null,
   "id": "af9e9447",
   "metadata": {},
   "outputs": [
    {
     "data": {
      "text/plain": [
       "768"
      ]
     },
     "execution_count": 15,
     "metadata": {},
     "output_type": "execute_result"
    }
   ],
   "source": [
    "from langchain_google_genai import GoogleGenerativeAIEmbeddings\n",
    "\n",
    "from dotenv import load_dotenv\n",
    "load_dotenv()\n",
    "\n",
    "embeddings = GoogleGenerativeAIEmbeddings(model=\"models/text-embedding-004\")\n",
    " # for single string\n",
    "len(embeddings.embed_query(\"What's our Q1 revenue?\"))\n",
    "\n",
    "# for multiple strings\n",
    "# embeddings.embed_documents([\"What's our Q1 revenue?\",\n",
    "#                             \"Is it low\"])  "
   ]
  },
  {
   "cell_type": "code",
   "execution_count": null,
   "id": "37f403f7",
   "metadata": {},
   "outputs": [],
   "source": []
  },
  {
   "cell_type": "markdown",
   "id": "07b7e255",
   "metadata": {},
   "source": [
    "for Hugging face"
   ]
  },
  {
   "cell_type": "code",
   "execution_count": 16,
   "id": "eebbaf47",
   "metadata": {},
   "outputs": [
    {
     "name": "stdout",
     "output_type": "stream",
     "text": [
      "[0.043549537658691406, 0.023877236992120743, -0.04524128511548042, 0.03540500998497009, -0.016651004552841187, -0.06554814428091049, 0.07626007497310638, 0.00994042307138443, -0.001963251270353794, -0.027022648602724075, 0.007385592442005873, -0.12068241834640503, 0.06404848396778107, -0.06795038282871246, 0.036388885229825974, -0.0780777558684349, 0.03318418189883232, 0.08175565302371979, 0.07336153090000153, -0.07802224159240723, -0.020921172574162483, 0.03573276102542877, -0.008563275448977947, -0.03745514899492264, 0.0004388251982163638, 0.05346425250172615, 0.005293624941259623, -0.016870426014065742, -0.0004130702873226255, 0.0010301509173586965, 0.06669678539037704, 0.004223250318318605, -0.022522587329149246, -0.002101608319208026, -0.05594778433442116, 0.01686997152864933, -0.12951615452766418, 0.06496331840753555, 0.17288090288639069, -0.1177835687994957, 0.03644097223877907, -0.0006774855428375304, 0.07786678522825241, -0.028167519718408585, 0.03655532747507095, -0.02369885891675949, -0.027902141213417053, -0.0046568685211241245, -0.011188934557139874, -0.02649603970348835, 0.061563294380903244, -0.04817720502614975, -0.07787911593914032, 0.033138446509838104, 0.02449956163764, 0.04385219141840935, -0.03240926191210747, -0.042253971099853516, -0.0040537952445447445, 0.030118485912680626, -0.013642451725900173, 0.043029699474573135, -0.024779871106147766, 0.022215424105525017, 0.0875730812549591, 0.012538754381239414, 0.038281042128801346, -0.015482510440051556, 0.014035412110388279, -0.02064969204366207, 0.016255715861916542, -0.012246184051036835, 0.026388632133603096, 0.017048915848135948, -0.01285299938172102, -0.07506392151117325, -0.03262097388505936, 0.07490307837724686, 0.014196833595633507, 0.032804615795612335, -0.01816442236304283, 0.028512444347143173, 0.0280334260314703, 0.08259157836437225, -0.09775907546281815, 0.008714117109775543, -0.04082167521119118, -0.016069674864411354, -0.00355800474062562, -0.04325282573699951, 0.06346110999584198, 0.07535664737224579, -0.06780536472797394, 0.0011725566582754254, -0.06065612658858299, -0.03554685413837433, -0.07726345211267471, 0.049065642058849335, -0.018732335418462753, 0.023686278611421585, 0.022150404751300812, -0.02988372929394245, -0.09658297896385193, 0.015421709977090359, -0.05116557702422142, -0.07261939346790314, 0.05539088696241379, -0.07977932691574097, 0.007415584288537502, -0.015443790704011917, -0.05476994439959526, 0.012057466432452202, -0.048711393028497696, -0.040382105857133865, -0.00039240167825482786, 0.018431881442666054, 0.018278250470757484, -0.011221262626349926, -0.02124433033168316, -0.022548211738467216, -0.07889118790626526, 0.02374211512506008, -0.01836336962878704, -0.0690629854798317, -0.06974606215953827, -0.10756160318851471, -0.03640319034457207, -6.297902002362414e-33, -0.1043238490819931, -0.03077934868633747, 0.077889084815979, 0.06358226388692856, -0.0018616364104673266, 0.03996853157877922, 0.05796622112393379, -0.08833271265029907, -0.003598234849050641, -0.06283366680145264, 0.010787976905703545, -0.14935794472694397, -0.008195597678422928, -0.10685472935438156, 0.08566787838935852, 0.023375602439045906, 0.021146222949028015, -0.003101691836491227, -0.010256258770823479, 0.008449812419712543, -0.02825934812426567, -0.01998421549797058, 0.006321869790554047, -0.06097576394677162, 0.06110910326242447, -0.02171213924884796, 0.0465342178940773, 0.05387679859995842, 0.0531625859439373, 0.019443292170763016, 0.02563924342393875, 0.08828636258840561, -0.016172364354133606, 0.027486423030495644, 0.009730431251227856, 0.002538623521104455, 0.018868476152420044, 0.024688487872481346, 0.0028549223206937313, 0.017087148502469063, -0.055830031633377075, 0.0448046438395977, -0.027243996039032936, -0.02147667109966278, -0.001689896103926003, 0.0822909027338028, -0.020781204104423523, 0.05805099382996559, 0.02049463614821434, -0.004589506890624762, 0.002116959309205413, 0.01826978661119938, -0.012834049761295319, -0.037735193967819214, 0.02138685993850231, 0.1298377364873886, 0.009614352136850357, -0.03126179054379463, -0.011256334371864796, 0.1370287984609604, -0.0174512080848217, -0.05822715163230896, -0.07062980532646179, -0.0055916872806847095, 0.05533608794212341, 0.14847791194915771, 0.012927650474011898, -0.05702594667673111, 0.0710703656077385, 0.05155336111783981, -0.023908575996756554, -0.03569602221250534, -0.03948899731040001, 0.07583913207054138, -0.06402728706598282, 0.07680178433656693, -0.010937009006738663, 0.014613507315516472, -0.0704585537314415, -0.007670226041227579, -0.005123598501086235, 0.036148760467767715, 0.010192856192588806, -0.04963318631052971, 0.11274445056915283, -0.08476678282022476, -0.10959212481975555, -0.03461676463484764, 0.056665096431970596, -0.04343033954501152, 0.027936942875385284, -0.09202230721712112, -0.03478805720806122, 0.06254847347736359, -0.06208035349845886, 2.3587814945065575e-33, 0.0331532321870327, -0.009705322794616222, -0.11694276332855225, 0.01317095011472702, -0.04350073263049126, 0.0019075170857831836, 0.009509039111435413, -0.02436518669128418, 0.049224138259887695, 0.12387917190790176, -0.007120669819414616, 0.06953424960374832, -0.05298227071762085, 0.07971499860286713, 0.029292060062289238, 0.023551814258098602, 0.04261492192745209, 0.03565056994557381, -0.05497940629720688, -0.04622747376561165, -0.04286497086286545, 0.04572354629635811, -0.04948357120156288, -0.0765295997262001, -0.07786132395267487, 0.026709457859396935, -0.12376543879508972, 0.058904677629470825, 0.014551621861755848, -0.028052974492311478, 0.029367731884121895, -0.0826147273182869, -0.0033682745415717363, 0.04829065874218941, -0.020214887335896492, -0.008408891037106514, 0.10988885164260864, -0.013597349636256695, 0.05319029092788696, 0.01351802609860897, -0.05700983852148056, 0.07172366231679916, 0.07408216595649719, 0.023345589637756348, 0.04269342124462128, -0.08243819326162338, 0.05591729283332825, 0.013477611355483532, -0.05538996309041977, 0.019585005939006805, -0.02629033476114273, -0.12718652188777924, 0.04553459584712982, -0.024639254435896873, -0.02691624127328396, 0.01309368759393692, -0.013960415497422218, 0.06244923919439316, 0.037711501121520996, -0.10924801230430603, 0.052802976220846176, 0.01538011059165001, -0.015840420499444008, 0.09190794080495834, -0.07513971626758575, 0.0031827024649828672, 0.0032801954075694084, -0.010955516248941422, 0.051554467529058456, -0.023821676149964333, 0.02452482469379902, 0.013977080583572388, -0.10196375846862793, 0.014859736897051334, -0.030907949432730675, 0.05976179242134094, 0.07197421044111252, 0.03206157311797142, 0.034111138433218, -0.008638272061944008, 0.026070956140756607, 0.08731302618980408, 0.02002643421292305, -0.06547276675701141, -0.013613088056445122, 0.039948370307683945, 0.055863942950963974, 0.010475439950823784, 0.026641245931386948, -0.02823929488658905, 0.0007876282325014472, 0.017443222925066948, 0.00243000453338027, 0.011373113840818405, -0.0005505945882759988, -1.692686346643768e-08, -0.028947386890649796, -0.04502144455909729, -0.09074939787387848, 0.059727154672145844, -0.0056931995786726475, -0.02952832356095314, 0.01094715017825365, -0.04492628946900368, 0.058653153479099274, -0.01817716471850872, -0.02611633390188217, -0.03040997125208378, -0.059803709387779236, -0.013380584307014942, -0.08792954683303833, 0.007009448949247599, -0.042765285819768906, -0.005255574360489845, 0.0061268191784620285, -0.027342146262526512, -0.00023023267567623407, 0.009053325280547142, 0.02797856740653515, 0.023142943158745766, 0.06016791984438896, -0.0683942586183548, 0.02354593202471733, 0.021900484338402748, -0.006451975554227829, 0.05674118921160698, -0.0408407524228096, 0.00981476902961731, 0.002463249722495675, -0.06575264036655426, 0.02481481060385704, -0.008526022545993328, 0.06171790510416031, -0.0362132228910923, 0.059546615928411484, 0.058128055185079575, 0.007013548631221056, 0.004276218358427286, 0.0777934342622757, -0.016137728467583656, 0.04425203427672386, 0.019808785989880562, 0.06398855149745941, -0.04442451894283295, 0.031956180930137634, -0.09261330962181091, -0.11607389897108078, -0.0008845879347063601, 0.0043846359476447105, -0.032253529876470566, -0.03854335844516754, 0.009113753214478493, -0.0736023560166359, 0.031208200380206108, -0.03782745450735092, -0.011497958563268185, 0.030679408460855484, 0.02599499560892582, 0.04710119590163231, 0.048659153282642365]\n",
      "384\n",
      "[[0.04354957491159439, 0.023877259343862534, -0.045241259038448334, 0.035404980182647705, -0.01665104553103447, -0.06554815173149109, 0.07626006007194519, 0.00994044542312622, -0.0019632652401924133, -0.02702271193265915, 0.007385573349893093, -0.12068243324756622, 0.06404846906661987, -0.06795040518045425, 0.03638884052634239, -0.07807782292366028, 0.03318412974476814, 0.0817556232213974, 0.07336153090000153, -0.07802224159240723, -0.020921172574162483, 0.03573281690478325, -0.008563282899558544, -0.037455156445503235, 0.00043880916200578213, 0.05346423014998436, 0.005293642170727253, -0.01687043346464634, -0.0004130587331019342, 0.001030166051350534, 0.06669683009386063, 0.004223242402076721, -0.022522568702697754, -0.002101579448208213, -0.055947840213775635, 0.01686999388039112, -0.1295160949230194, 0.06496335566043854, 0.17288090288639069, -0.11778348684310913, 0.03644101321697235, -0.0006774807116016746, 0.07786678522825241, -0.02816752716898918, 0.03655533865094185, -0.023698806762695312, -0.027902059257030487, -0.00465690391138196, -0.011188942939043045, -0.02649606391787529, 0.06156332418322563, -0.048177219927310944, -0.07787910103797913, 0.033138491213321686, 0.024499543011188507, 0.04385220631957054, -0.03240930661559105, -0.04225395992398262, -0.004053833894431591, 0.030118510127067566, -0.013642454519867897, 0.04302973672747612, -0.024779822677373886, 0.02221543900668621, 0.08757302910089493, 0.012538757175207138, 0.03828106075525284, -0.015482529997825623, 0.014035413041710854, -0.020649705082178116, 0.01625574566423893, -0.012246196158230305, 0.026388604193925858, 0.017048891633749008, -0.012853004038333893, -0.07506401836872101, -0.03262091428041458, 0.07490301877260208, 0.014196830801665783, 0.03280467167496681, -0.018164463341236115, 0.02851242758333683, 0.028033331036567688, 0.08259156346321106, -0.09775906801223755, 0.008714086376130581, -0.04082171246409416, -0.016069632023572922, -0.003558046417310834, -0.043252892792224884, 0.06346108764410019, 0.07535663992166519, -0.06780535727739334, 0.0011725956574082375, -0.060656096786260605, -0.03554677590727806, -0.07726342231035233, 0.04906562715768814, -0.018732432276010513, 0.02368629164993763, 0.022150378674268723, -0.029883775860071182, -0.0965830385684967, 0.015421696938574314, -0.05116555839776993, -0.07261943817138672, 0.055390968918800354, -0.07977931201457977, 0.00741557078436017, -0.015443871729075909, -0.05476994439959526, 0.01205747202038765, -0.04871140420436859, -0.040382061153650284, -0.0003924269985873252, 0.018431881442666054, 0.01827824115753174, -0.011221250519156456, -0.021244313567876816, -0.022548165172338486, -0.07889118045568466, 0.02374204806983471, -0.018363313749432564, -0.06906293332576752, -0.06974609941244125, -0.10756158083677292, -0.03640320524573326, -6.297904206414322e-33, -0.10432393103837967, -0.030779356136918068, 0.077889084815979, 0.06358229368925095, -0.001861699391156435, 0.03996853902935982, 0.05796622484922409, -0.08833269029855728, -0.0035982343833893538, -0.06283365935087204, 0.010788044892251492, -0.14935803413391113, -0.008195646107196808, -0.10685466229915619, 0.0856679379940033, 0.023375598713755608, 0.021146196871995926, -0.0031016282737255096, -0.010256275534629822, 0.008449757471680641, -0.02825937606394291, -0.019984204322099686, 0.006321897730231285, -0.060975778847932816, 0.06110915541648865, -0.021712185814976692, 0.0465342178940773, 0.05387682840228081, 0.05316254124045372, 0.019443292170763016, 0.025639314204454422, 0.08828641474246979, -0.016172336414456367, 0.027486436069011688, 0.009730410762131214, 0.0025386742781847715, 0.01886851340532303, 0.024688467383384705, 0.0028549483977258205, 0.0170871801674366, -0.05583006888628006, 0.044804587960243225, -0.02724401466548443, -0.021476661786437035, -0.001689855707809329, 0.08229096233844757, -0.020781181752681732, 0.05805087834596634, 0.020494624972343445, -0.004589535761624575, 0.002116966061294079, 0.018269816413521767, -0.012834038585424423, -0.0377352274954319, 0.021386941894888878, 0.12983767688274384, 0.009614337235689163, -0.03126170486211777, -0.011256327852606773, 0.13702881336212158, -0.017451247200369835, -0.058227136731147766, -0.07062981277704239, -0.005591677967458963, 0.05533613637089729, 0.1484779715538025, 0.012927671894431114, -0.05702584609389305, 0.07107029855251312, 0.05155329778790474, -0.0239085890352726, -0.035696085542440414, -0.03948896750807762, 0.07583914697170258, -0.06402724981307983, 0.07680181413888931, -0.010936988517642021, 0.014613487757742405, -0.0704585537314415, -0.007670199498534203, -0.005123605020344257, 0.03614877909421921, 0.01019282452762127, -0.04963315650820732, 0.11274450272321701, -0.08476674556732178, -0.10959205776453018, -0.03461676836013794, 0.05666515231132507, -0.04343033954501152, 0.02793695591390133, -0.09202226996421814, -0.03478812426328659, 0.0625484511256218, -0.06208032742142677, 2.3587809434935806e-33, 0.03315316513180733, -0.00970533024519682, -0.11694283783435822, 0.01317091379314661, -0.04350070282816887, 0.0019074466545134783, 0.009509013034403324, -0.024365197867155075, 0.04922405630350113, 0.12387915700674057, -0.007120693568140268, 0.06953416764736176, -0.05298231542110443, 0.07971489429473877, 0.029292047023773193, 0.02355179749429226, 0.04261498153209686, 0.035650551319122314, -0.05497942119836807, -0.046227503567934036, -0.04286496341228485, 0.045723553746938705, -0.04948354884982109, -0.0765296146273613, -0.07786135375499725, 0.026709385216236115, -0.12376555055379868, 0.05890468508005142, 0.014551655389368534, -0.02805296704173088, 0.029367681592702866, -0.0826147198677063, -0.0033682440407574177, 0.048290643841028214, -0.020214928314089775, -0.008408870548009872, 0.10988889634609222, -0.013597434386610985, 0.05319029092788696, 0.013517971150577068, -0.05700979381799698, 0.07172364741563797, 0.07408216595649719, 0.023345617577433586, 0.04269345477223396, -0.08243819326162338, 0.055917248129844666, 0.01347759086638689, -0.05538993701338768, 0.019585000351071358, -0.02629033662378788, -0.12718650698661804, 0.045534588396549225, -0.024639291688799858, -0.026916179805994034, 0.013093667104840279, -0.01396045833826065, 0.06244928017258644, 0.037711504846811295, -0.10924798995256424, 0.052802979946136475, 0.015380135737359524, -0.015840444713830948, 0.09190800786018372, -0.07513973861932755, 0.003182642161846161, 0.003280096221715212, -0.010955465026199818, 0.051554515957832336, -0.023821653798222542, 0.02452484890818596, 0.013977088034152985, -0.10196375846862793, 0.014859738759696484, -0.030907994136214256, 0.05976182967424393, 0.07197416573762894, 0.032061491161584854, 0.03411112353205681, -0.00863830279558897, 0.02607094496488571, 0.08731301873922348, 0.020026475191116333, -0.06547275930643082, -0.013613074086606503, 0.03994838893413544, 0.055864010006189346, 0.010475466959178448, 0.02664121240377426, -0.028239302337169647, 0.0007876529707573354, 0.017443176358938217, 0.002430012682452798, 0.011373108252882957, -0.0005506243323907256, -1.692686346643768e-08, -0.02894739992916584, -0.04502145200967789, -0.09074930101633072, 0.05972714349627495, -0.005693175829946995, -0.029528317973017693, 0.010947205126285553, -0.04492630064487457, 0.058653198182582855, -0.01817719079554081, -0.026116395369172096, -0.03040996380150318, -0.059803664684295654, -0.013380576856434345, -0.08792953938245773, 0.0070094335824251175, -0.04276532307267189, -0.005255560856312513, 0.006126821041107178, -0.027342159301042557, -0.0002302672655787319, 0.00905337929725647, 0.027978526428341866, 0.023142902180552483, 0.06016794592142105, -0.06839422136545181, 0.02354598417878151, 0.021900534629821777, -0.006451958790421486, 0.056741129606962204, -0.04084081947803497, 0.009814752265810966, 0.002463235519826412, -0.06575265526771545, 0.024814777076244354, -0.008525967597961426, 0.06171790510416031, -0.03621320798993111, 0.05954659730195999, 0.05812802538275719, 0.007013538386672735, 0.004276220686733723, 0.0777934193611145, -0.01613772101700306, 0.04425201565027237, 0.019808771088719368, 0.06398863345384598, -0.044424477964639664, 0.03195616230368614, -0.09261340647935867, -0.116073839366436, -0.0008846042910590768, 0.004384677391499281, -0.03225358948111534, -0.038543347269296646, 0.009113788604736328, -0.07360242307186127, 0.031208252534270287, -0.03782741725444794, -0.01149796787649393, 0.03067941777408123, 0.025995010510087013, 0.04710123687982559, 0.04865918308496475], [-0.046516697853803635, 0.03729385882616043, 0.04416513070464134, 0.04732905700802803, -0.0166415236890316, 0.04171866923570633, 0.059499550610780716, -0.03201867640018463, 0.031903233379125595, -0.045530714094638824, 0.03225550428032875, 0.07442382723093033, 0.05828308314085007, -0.0073415739461779594, -0.012403796426951885, -0.0598645843565464, -0.013438824564218521, -0.08874481171369553, 0.015019153244793415, -0.0456320084631443, 0.0184925589710474, 0.021315352991223335, -0.05225956067442894, -0.041357073932886124, 0.11014839261770248, -0.06248219683766365, 0.014332015998661518, 0.04393281415104866, 0.13040080666542053, -0.004220606293529272, -0.016997139900922775, 0.03933876380324364, 0.06288160383701324, 0.04506449028849602, -0.006512359715998173, -0.03506680577993393, 0.08860992640256882, 0.05074774846434593, -0.0045988475903868675, 0.008914915844798088, -0.0158771350979805, -0.08139880001544952, -0.01801973581314087, -0.07248811423778534, -0.016979556530714035, -0.015868449583649635, 0.0301960501819849, 0.010684890672564507, 0.030000846832990646, 0.01495499536395073, 0.0505182147026062, -0.051617369055747986, -0.014360967092216015, -0.035735081881284714, 0.04564047232270241, 0.015885036438703537, -0.06815839558839798, 0.05127686262130737, 0.0035179750993847847, 0.06686221808195114, -0.0022800108417868614, 0.005425284616649151, 0.025920221582055092, -0.006634286139160395, 0.02798955887556076, 0.010260541923344135, -0.008400330320000648, -0.004700780846178532, 0.029925383627414703, 0.10045693069696426, -0.03904423490166664, 0.030472317710518837, -0.05422009527683258, -0.06024698168039322, -0.05317389965057373, -0.005884307436645031, -0.010152400471270084, 0.0844983235001564, -0.007612935267388821, -0.057437315583229065, -0.0539124496281147, 0.028234517201781273, -0.06592657417058945, -0.04819312319159508, -0.020456526428461075, 0.057645898312330246, -0.0242807324975729, -0.07978727668523788, -0.004997223615646362, -0.030370408669114113, 0.04052174091339111, 0.01808999292552471, 0.005328033585101366, 0.09063989669084549, 0.003613591892644763, -0.06921487301588058, -0.02564067952334881, 0.0630294606089592, 0.03657057508826256, 0.18646188080310822, -0.021383017301559448, -0.002294224454089999, -0.04067976027727127, 0.07433190941810608, 0.06346411257982254, -0.054695215076208115, 0.01418177131563425, -0.0024543246254324913, -0.006573370657861233, 0.04207576811313629, 0.007429545745253563, -0.009141362272202969, -0.00871625542640686, 0.024166665971279144, -0.04416119307279587, -0.011234401725232601, -0.03189988061785698, 0.06405004858970642, -0.0046385801397264, 0.028960473835468292, 0.06278850138187408, 0.05074833706021309, 0.03581101447343826, -0.050461314618587494, -0.1087825670838356, -0.08270605653524399, -0.02789139188826084, -8.15868292742021e-34, 0.06192281097173691, -0.06875614821910858, 0.028355726972222328, -0.029514100402593613, 0.017136920243501663, 0.054863341152668, -0.0012201088247820735, 0.012921057641506195, -0.1125660166144371, -0.041989516466856, 0.031311966478824615, 0.040016233921051025, -0.06332822144031525, -0.14817993342876434, 0.012910591438412666, 0.00886661745607853, -0.08426809310913086, 0.026580477133393288, 0.01206180825829506, 0.0019404980121180415, -0.058637574315071106, 0.1369929015636444, 0.046075716614723206, -0.03477180376648903, 0.0023841538932174444, 0.0390593595802784, 0.05255540460348129, -0.01584441401064396, 0.0509432815015316, 0.047264233231544495, -0.0030142769683152437, -0.005098297726362944, -0.04988231509923935, -0.050675440579652786, -0.019555263221263885, 0.05686655268073082, 0.055328335613012314, -0.14242011308670044, -0.05164554342627525, -0.07102024555206299, 0.005102458875626326, 0.06890977174043655, -0.01279581617563963, -0.04465131461620331, 0.061807189136743546, 0.012142657302320004, -0.12869440019130707, 0.05310956761240959, -0.006648473907262087, -0.03562398627400398, -0.011241761967539787, -0.04754246771335602, 0.06279371678829193, 0.012855611741542816, -0.05097055062651634, -0.06556224077939987, 0.03679428994655609, 0.00020864744146820158, 0.0045893010683357716, 0.03071472980082035, 0.07193492352962494, 0.049522433429956436, 0.034690313041210175, -0.010083555243909359, -0.0002456626098137349, 0.04360174387693405, 0.040377289056777954, -0.06011362001299858, -0.05858621373772621, -0.06542608886957169, -0.05705108121037483, 0.004630436189472675, 0.01636696048080921, 0.017157062888145447, 0.0037236411590129137, -0.08309216052293777, -0.05947631970047951, 0.06429283320903778, -0.0683644488453865, -2.694043178053107e-05, -0.0691424161195755, -0.008253000676631927, -0.06080299988389015, 0.06814461946487427, 0.024017220363020897, 0.022800792008638382, 0.050970692187547684, 0.01620715670287609, 0.032479118555784225, 0.01608886942267418, -0.07366707921028137, 0.04241738095879555, 0.006120584439486265, -0.06568432599306107, -0.010533396154642105, -1.5970350738928063e-33, -0.0489901639521122, 0.03966899961233139, -0.02744368463754654, 0.05433372035622597, 0.0008247117511928082, -0.04281199723482132, 0.018612628802657127, -0.022418182343244553, -0.03108256123960018, -0.015334767289459705, 0.04852478951215744, -0.034398261457681656, 0.03867921978235245, -0.016250673681497574, 0.10447744280099869, 0.058776624500751495, 0.04596679285168648, -0.06683466583490372, -0.059405386447906494, 0.05986978858709335, 0.01837911270558834, 0.020139215514063835, -0.0351649671792984, 0.021870216354727745, -0.03314225748181343, 0.017127975821495056, 0.13704814016819, 0.07017657160758972, -0.0682145282626152, -0.025766106322407722, -0.002539501991122961, 0.05143694207072258, 0.044345926493406296, 0.00640295073390007, 0.03467879071831703, 0.04156630486249924, 0.03505294397473335, -0.04523111507296562, -0.04388568550348282, -0.002294856123626232, 0.030486950650811195, 0.04372672364115715, 0.004623902030289173, 0.09877660870552063, -0.03956465795636177, -0.049950990825891495, -0.06411080062389374, 0.06553255766630173, 0.10492149740457535, -0.0011094608344137669, -0.09806308895349503, 0.03590862825512886, -0.07807772606611252, -0.05105314031243324, -0.04315071552991867, -0.0008949649054557085, -0.001413544756360352, -0.0008737522293813527, 0.0039750575087964535, 0.017594439908862114, 0.004907938651740551, 0.011303406208753586, -0.0809028297662735, 0.010406221263110638, -0.02898438088595867, 0.0239812470972538, -0.0197205301374197, 0.0700073316693306, -0.07969031482934952, -0.015172957442700863, -0.06946314126253128, 0.055268168449401855, -0.1066819429397583, -0.047581616789102554, -0.018708007410168648, -0.004735926631838083, -0.05341939628124237, 0.04656701534986496, -0.04701853170990944, -0.051126785576343536, -0.06331068277359009, -0.007230218965560198, -0.05488736927509308, 0.12551948428153992, 0.008438783697783947, 0.016937313601374626, 0.10138243436813354, -0.03910968825221062, 0.03164916858077049, -0.017167722806334496, 2.9441573133226484e-05, -0.03439463675022125, 0.004425904247909784, -0.0015090028755366802, -0.012207427993416786, -2.0116349475074458e-08, 0.01395543571561575, 0.055027075111866, -0.008310042321681976, 0.04757925868034363, 0.07024053484201431, 0.01644900068640709, -0.05064171552658081, -0.0037468764930963516, -0.04807838797569275, -0.027555104345083237, -0.01727093569934368, 0.11162424832582474, 0.06763534992933273, -0.03934602066874504, 0.05796763300895691, -0.03488698974251747, -0.024332083761692047, -0.11428670585155487, -0.04658043757081032, 0.09585748612880707, -0.02521369978785515, 0.03421998769044876, -0.0010737135307863355, -0.12814293801784515, -0.038480062037706375, -0.007242849096655846, -0.00503306882455945, 0.003555488074198365, 0.002303291345015168, 0.012320452369749546, 0.017836758866906166, 0.0757509395480156, -0.0042853932827711105, -0.08875199407339096, 0.008402680978178978, -0.0304950512945652, 0.0203093271702528, 0.03931858390569687, 0.022341525182127953, -0.1068282276391983, 0.01582309789955616, -0.013806881383061409, -0.02380511350929737, -0.009821520186960697, -0.0017436161870136857, 0.09167106449604034, -0.057117559015750885, -0.10004872828722, -0.0181625597178936, -0.0874059647321701, -0.044346392154693604, 0.10440278053283691, 0.03641745075583458, 0.0459614060819149, 0.04299940913915634, -0.020058374851942062, -0.03457093611359596, -0.0432111993432045, -0.08486238121986389, 0.06344517320394516, 0.079133540391922, 0.04856165125966072, 0.06026921048760414, 0.05246933922171593]]\n"
     ]
    }
   ],
   "source": [
    "\n",
    "\n",
    "from langchain_huggingface import HuggingFaceEmbeddings\n",
    "embedding = HuggingFaceEmbeddings(model_name=\"sentence-transformers/all-MinilM-L6-v2\")\n",
    "text = \"Delhi is the capital of India\"\n",
    "vector = embedding.embed_query(text)\n",
    "print(str(vector))\n",
    "print(len(vector))\n",
    "#for documents\n",
    "documets = [\"Delhi is the capital of India\", \"which one was before\"]\n",
    "vector = embedding.embed_documents(documets)\n",
    "print(str(vector))"
   ]
  },
  {
   "cell_type": "code",
   "execution_count": null,
   "metadata": {},
   "outputs": [],
   "source": []
  },
  {
   "cell_type": "code",
   "execution_count": null,
   "metadata": {},
   "outputs": [],
   "source": []
  }
 ],
 "metadata": {
  "kernelspec": {
   "display_name": ".venv",
   "language": "python",
   "name": "python3"
  },
  "language_info": {
   "codemirror_mode": {
    "name": "ipython",
    "version": 3
   },
   "file_extension": ".py",
   "mimetype": "text/x-python",
   "name": "python",
   "nbconvert_exporter": "python",
   "pygments_lexer": "ipython3",
   "version": "3.12.10"
  }
 },
 "nbformat": 4,
 "nbformat_minor": 5
}
