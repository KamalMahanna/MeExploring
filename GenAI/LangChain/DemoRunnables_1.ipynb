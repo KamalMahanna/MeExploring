{
 "cells": [
  {
   "cell_type": "code",
   "execution_count": 1,
   "id": "9157dba9",
   "metadata": {},
   "outputs": [],
   "source": [
    "from ollama import chat\n",
    "from abc import ABC, abstractmethod\n",
    "import string\n",
    "import warnings\n",
    "\n",
    "\n",
    "class Runnables(ABC):\n",
    "    def __init__(self) -> None:\n",
    "        pass\n",
    "    \n",
    "    @abstractmethod\n",
    "    def invoke(self):\n",
    "        pass\n",
    "\n",
    "class DemoLLM(Runnables):\n",
    "    def __init__(self, model_name:str =\"gemma3:1b\"):\n",
    "        self.model_name = model_name\n",
    "        self.llm_chat = chat\n",
    "        \n",
    "    def invoke(self, prompt:str) :\n",
    "        self.user_prompt = prompt\n",
    "        self.llm_response = self.llm_chat(model= self.model_name, \n",
    "                                              messages= [\n",
    "                                                  {\"role\":\"user\", \n",
    "                                                   'content':self.user_prompt}\n",
    "                                              ])\n",
    "        self.llm_response_message = self.llm_response.message\n",
    "        \n",
    "        return {'content': self.llm_response_message.content}\n",
    "        \n",
    "    def response(self, prompt:str) :\n",
    "        self.user_prompt = prompt\n",
    "        self.llm_response = self.llm_chat(model= self.model_name, \n",
    "                                              messages= [\n",
    "                                                  {\"role\":\"user\", \n",
    "                                                   'content':self.user_prompt}\n",
    "                                              ])\n",
    "        self.llm_response_message = self.llm_response.message\n",
    "        warnings.warn(\n",
    "        \"response() is deprecated and will be removed. Use invoke() instead.\",\n",
    "        category=DeprecationWarning,\n",
    "        stacklevel=2\n",
    "        )\n",
    "        \n",
    "        return self.llm_response_message"
   ]
  },
  {
   "cell_type": "code",
   "execution_count": 2,
   "id": "8ee307da",
   "metadata": {},
   "outputs": [],
   "source": [
    "class DemoPromptTemplate(Runnables):\n",
    "    \n",
    "    def __init__(self, prompt:str, input_variables: list[str]) -> None:\n",
    "        self.prompt = prompt\n",
    "        self.user_input_variables = input_variables\n",
    "        self.valid_input_variables: list[str] = [var[1] for var in string.Formatter().parse(self.prompt) if isinstance(var[1], str)]\n",
    "        \n",
    "        if sorted(self.user_input_variables) != sorted(self.valid_input_variables):\n",
    "            raise ValueError(\"prompt variables does not match with input variables\")\n",
    "        \n",
    "    def invoke(self, variables_dict: dict[str, str]) -> str:\n",
    "        self.variables_dict = variables_dict\n",
    "        \n",
    "        self.formatted_prompt = self.prompt.format(**self.variables_dict)\n",
    "        return self.formatted_prompt\n",
    "            \n",
    "    def format(self, variables_dict: dict[str, str]) -> str:\n",
    "        self.variables_dict = variables_dict\n",
    "        \n",
    "        self.formatted_prompt = self.prompt.format(**self.variables_dict)\n",
    "        warnings.warn(\n",
    "        \"format() is deprecated and will be removed. Use invoke() instead.\",\n",
    "        category=DeprecationWarning,\n",
    "        stacklevel=2\n",
    "        )\n",
    "        return self.formatted_prompt\n",
    "            "
   ]
  },
  {
   "cell_type": "code",
   "execution_count": 10,
   "id": "f343a1eb",
   "metadata": {},
   "outputs": [],
   "source": [
    "class DemoStrParser(Runnables):\n",
    "    def __init__(self) -> None:\n",
    "        pass\n",
    "\n",
    "    def invoke(self,llm_message ) -> str:\n",
    "        self.llm_message = llm_message\n",
    "        \n",
    "        return self.llm_message['content']\n",
    "    \n",
    "    def parse(self,llm_message ) -> str:\n",
    "        self.llm_message = llm_message\n",
    "        warnings.warn(\n",
    "        \"parse() is deprecated and will be removed. Use invoke() instead.\",\n",
    "        category=DeprecationWarning,\n",
    "        stacklevel=2\n",
    "        )\n",
    "        return self.llm_message.content\n",
    "        "
   ]
  },
  {
   "cell_type": "code",
   "execution_count": 11,
   "id": "7be3ee40",
   "metadata": {},
   "outputs": [],
   "source": [
    "class DemoRunnableConnector(Runnables):\n",
    "    def __init__(self, runnables: list[any]) -> str:\n",
    "        self.runnables= runnables\n",
    "        \n",
    "    def invoke(self,input_data):\n",
    "        self.input_data = input_data\n",
    "        for runnable in self.runnables:\n",
    "            self.input_data = runnable.invoke(self.input_data)\n",
    "        return self.input_data"
   ]
  },
  {
   "cell_type": "code",
   "execution_count": 12,
   "id": "2419618f",
   "metadata": {},
   "outputs": [],
   "source": [
    "llm = DemoLLM()\n",
    "parser = DemoStrParser()\n",
    "prompt_template_1 = DemoPromptTemplate(\n",
    "    \"tell me about {query}\",\n",
    "    ['query']\n",
    ")\n",
    "\n",
    "prompt_template_2 = DemoPromptTemplate(\n",
    "    \"Give me questions on {content}\",\n",
    "    ['content']\n",
    ")"
   ]
  },
  {
   "cell_type": "code",
   "execution_count": 19,
   "id": "33bc58cf",
   "metadata": {},
   "outputs": [],
   "source": [
    "chain_1 = DemoRunnableConnector([prompt_template_1,llm])\n",
    "\n",
    "chain_2 = DemoRunnableConnector([prompt_template_2,llm, parser])"
   ]
  },
  {
   "cell_type": "code",
   "execution_count": 16,
   "id": "17a7bba3",
   "metadata": {},
   "outputs": [
    {
     "data": {
      "text/plain": [
       "{'content': \"Okay, let's dive into Polyethylene (PE), also known as polyethylene. It's a hugely important and versatile plastic with a massive range of applications. Here's a breakdown of what you need to know:\\n\\n**1. What is Polyethylene?**\\n\\n* **Definition:** Polyethylene is a synthetic polymer – meaning it's made up of repeating molecules – produced by linking together small units (monomers).\\n* **Types:** There are many different types of polyethylene, each with slightly different properties. The most common types are:\\n    * **Low-Density Polyethylene (LDPE):**  This is the most widely used type, known for its flexibility, good transparency, and ability to be molded into various shapes.\\n    * **High-Density Polyethylene (HDPE):**  It’s stronger and more rigid than LDPE, making it ideal for applications requiring durability and impact resistance.\\n    * **Linear Low-Density Polyethylene (LLDPE):**  A blend of LDPE and HDPE, offering improved toughness and stretchability.\\n\\n**2. Key Properties & Characteristics:**\\n\\n* **Flexibility:**  PE is incredibly flexible, making it suitable for wrapping, cushioning, and applications where it needs to bend.\\n* **Rigidity:** HDPE offers greater strength and rigidity.\\n* **Weather Resistance:** PE is relatively resistant to UV radiation and moisture.\\n* **Chemical Resistance:**  It can withstand a variety of chemicals, making it useful in industrial applications.\\n* **Transparency:** LDPE is particularly transparent, making it good for films and packaging.\\n* **Cost-Effectiveness:**  PE is generally a relatively inexpensive plastic.\\n\\n**3. Where is Polyethylene Used? (Applications)**\\n\\nThis is where PE really shines! Here's a breakdown of some key areas:\\n\\n* **Packaging:** This is *the* biggest use for PE.\\n    * **Food Packaging:**  Plastic bags, films, containers for fruits and vegetables, etc. (Important to note: food-grade PE is required)\\n    * **Beverage Bottles:** Used for both water and soda.\\n    * **Film & Slates:**  Moving blankets, grocery bags, and industrial films.\\n* **Construction:**\\n    * **Insulation:**  Used in building insulation materials (foam boards, pipe insulation).\\n    * **Window and Door Seals:** Provides a durable seal.\\n* **Automotive:**\\n    * **Gasoline Tanks:**  Highly resistant to fuel degradation.\\n    * **Exterior Trim:**  Bumpers, door handles, etc.\\n    * **Wiring Insulation:**  Provides electrical insulation.\\n* **Consumer Goods:**\\n    * **Toys:**  Used in the production of toys due to its flexibility and durability.\\n    * **Household Items:**  Plastic utensils, containers, and storage boxes.\\n    * **Clothing:**  Some fabrics and clothing.\\n* **Medical:**  Used in medical tubing and bags.\\n* **Agriculture:**  Landscaping fabrics, mulch films.\\n* **Industrial Applications:**\\n    * **Pipes and Tanks:**  Durable and resistant to chemicals.\\n    * **Wire and Cable Insulation:** Protecting wires.\\n\\n**4. Production Process:**\\n\\n* **Polymerization:** PE is produced through a process called polymerization, where monomers (small molecules) link together to form long chains.\\n* **Extrusion:** The most common method for producing PE sheets and films.  Molten PE is forced through a die to create a continuous shape.\\n* **Injection Molding:** Used to create complex shapes with PE.\\n\\n**5.  Sustainability and Recyclability:**\\n\\n* **Recycling Challenges:** PE is *not* easily recyclable in many regions.  While significant progress is being made, it's often not widely accepted in recycling programs.\\n* **Mechanical Recycling:**  Recycling efforts are increasing, but the process isn’t always perfectly efficient.  It often involves fragmentation and reprocessing.\\n* **Bio-based PE:**  There’s growing interest in producing PE from renewable resources like sugarcane and corn. This is still a developing area.\\n\\n\\n**Resources for Further Learning:**\\n\\n* **American Chemistry Council (ACC):** [https://www.acc.org/plastics/polyethylene](https://www.acc.org/plastics/polyethylene)\\n* **Materialized Plastics:** [https://www.materializedplastics.com/polyethylene-material/](https://www.materializedplastics.com/polyethylene-material/)\\n* **EPA - Recycling:** [https://www.epa.gov/recycle/recycling-plastic-recycling](https://www.epa.gov/recycle/recycling-plastic-recycling)\\n\\n---\\n\\nTo help me give you even more tailored information, could you tell me:\\n\\n*   **What specifically are you interested in learning about Polyethylene?** (e.g., a specific application, recycling challenges, the differences between LDPE and HDPE, etc.?)\"}"
      ]
     },
     "execution_count": 16,
     "metadata": {},
     "output_type": "execute_result"
    }
   ],
   "source": [
    "chain_1.invoke({\"query\":\"Polyethyline\"})"
   ]
  },
  {
   "cell_type": "code",
   "execution_count": 17,
   "id": "e66087cb",
   "metadata": {},
   "outputs": [
    {
     "data": {
      "text/plain": [
       "{'content': \"Okay, let's dive into some Python questions! I'll categorize them by difficulty and topic.  I'll aim for questions that range from beginner to slightly more advanced.\\n\\n**I. Beginner Level (Focus: Basic Syntax & Data Types)**\\n\\n1. **What is the difference between a list and a tuple in Python? When would you use one over the other?** (Easy - Tests understanding of fundamental data structures)\\n\\n2. **What is a variable in Python, and how do you assign a value to it?** (Easy - Core concept)\\n\\n3. **What are data types in Python? List, Tuple, String, Integer, Float, Boolean, etc.  Give an example of each.** (Easy - Basic data type knowledge)\\n\\n4. **What is the purpose of the `print()` function in Python?** (Easy - Core functionality)\\n\\n5. **How do you check if a variable is a number in Python?** (Easy - Basic type checking)\\n\\n**II. Intermediate Level (Focus: Control Flow & Functions)**\\n\\n6. **What are 'if' statements in Python?  Provide a simple example of how to use them to check if a number is positive.** (Medium - Control Flow)\\n\\n7. **What is a function in Python? Explain the concept of a function definition using `def`.** (Medium - Fundamental concept - understanding of function definition)\\n\\n8. **What is the difference between `break` and `continue` statements in a loop?** (Medium - Loop Control)\\n\\n9. **What are list comprehensions in Python? Give an example of how to create a list of squares of numbers from 1 to 10 using a list comprehension.** (Medium -  Advanced List Creation)\\n\\n10. **What are the advantages of using functions over blocks of code?  Provide an example of why you might want to use functions in a larger program.** (Medium - Concepts of modularity and reusability)\\n\\n**III.  More Challenging (Focus:  Data Structures & Libraries)**\\n\\n11. **Explain the concept of a dictionary in Python. How do you add, remove, and access elements in a dictionary?** (Medium - Core concept - data structures)\\n\\n12. **What is the purpose of the `map()` function in Python? Give an example of how you could use it to square each number in a list.** (Medium - Using functions)\\n\\n13. **What are Pandas DataFrames?  Briefly explain what they are and why they're useful for data analysis.** (Medium -  Data Analysis - Pandas)\\n\\n14. **Explain the difference between `==` and `is` operators in Python.** (Harder - Data types & Object Identity - important for understanding comparisons)\\n\\n15. **Describe the behavior of the `random` module in Python.  Give an example of using it to generate a random number between 1 and 100.** (Harder - Random Number Generation)\\n\\n**IV.  Problem Solving & Logic (Adaptable - Can be on a quiz or test)**\\n\\n16. **Write a Python function that takes a list of integers and returns the sum of all the even numbers in the list.** (Harder - Logic & function)\\n\\n17. **Given a string, determine if it is a palindrome (reads the same backward as forward).** (Medium - String manipulation & logic)\\n\\n18. **Write a Python program to find the maximum value in a list of numbers.** (Medium - Basic Algorithms)\\n\\n19. **You have two lists of numbers:  `list1 = [1, 2, 3]` and `list2 = [4, 5, 6]`.  How can you efficiently find the common elements between the two lists?** (Harder -  Data Structures & Algorithm - requires some thought beyond simple looping)\\n\\n20. **(Real-World Scenario) You're building a simple to-do list application. Describe how you might use a dictionary to store the to-do items and their completion status.** (Harder - Application Design - requires applying concepts)\\n\\n\\n---\\n\\n**To help me tailor the questions even better, could you tell me:**\\n\\n*   **What is your level of Python experience?** (Beginner, Intermediate, Advanced?)\\n*   **What areas of Python are you most interested in?** (e.g., data science, web development, scripting, etc.)\"}"
      ]
     },
     "execution_count": 17,
     "metadata": {},
     "output_type": "execute_result"
    }
   ],
   "source": [
    "chain_2.invoke({\"content\":\"Python\"})"
   ]
  },
  {
   "cell_type": "code",
   "execution_count": 20,
   "id": "cdf467a2",
   "metadata": {},
   "outputs": [
    {
     "data": {
      "text/plain": [
       "'Okay, fantastic! Let’s focus on the **role of the Sun in shaping our weather and daily life.**\\n\\nHere are some questions for you, based on the provided information, designed to dig deeper into that area:\\n\\n**1.  Beyond Light and Heat – How does the Sun’s energy actually *influence* weather patterns?** (Think about the mechanisms – think about things like atmospheric pressure, ocean currents, and the jet stream.)\\n\\n**2.  The Solar Cycle – Can you explain in a way that’s easy to understand *why* the Sun\\'s activity (sunspots, flares, etc.) has such a significant impact on Earth’s climate?** (Relate it to the concepts of atmospheric instability and the transfer of energy.)\\n\\n**3.  What’s the connection between the Sun’s energy and the formation of storms?** (Perhaps you’d like to know how the Sun drives the jet stream and influences the intensity of storms.)\\n\\n**4.  Imagine a future where we could significantly change the Sun’s activity. What *potential* consequences might arise for Earth\\'s climate and life?** (Think beyond just \"more weather extremes,\" but how could it be more significant?)\\n\\n**5.  The “Solar Wind” – What *exactly* does it do to Earth’s atmosphere, and why is it important to study it?** (Focus on its impact on auroras and, more broadly, atmospheric conditions.)\\n\\nLet\\'s start with question number 1 – How does the Sun\\'s energy *influence* weather patterns?'"
      ]
     },
     "execution_count": 20,
     "metadata": {},
     "output_type": "execute_result"
    }
   ],
   "source": [
    "connected_chains = DemoRunnableConnector([chain_1, chain_2])\n",
    "\n",
    "connected_chains.invoke({'query':\"Sun\"})"
   ]
  },
  {
   "cell_type": "code",
   "execution_count": null,
   "id": "5c6a264e",
   "metadata": {},
   "outputs": [],
   "source": []
  },
  {
   "cell_type": "code",
   "execution_count": null,
   "id": "9429ceca",
   "metadata": {},
   "outputs": [],
   "source": []
  }
 ],
 "metadata": {
  "kernelspec": {
   "display_name": "base",
   "language": "python",
   "name": "python3"
  },
  "language_info": {
   "codemirror_mode": {
    "name": "ipython",
    "version": 3
   },
   "file_extension": ".py",
   "mimetype": "text/x-python",
   "name": "python",
   "nbconvert_exporter": "python",
   "pygments_lexer": "ipython3",
   "version": "3.13.2"
  }
 },
 "nbformat": 4,
 "nbformat_minor": 5
}
