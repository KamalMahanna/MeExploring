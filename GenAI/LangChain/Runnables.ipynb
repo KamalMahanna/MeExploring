{
 "cells": [
  {
   "cell_type": "markdown",
   "id": "273acbc5",
   "metadata": {
    "vscode": {
     "languageId": "plaintext"
    }
   },
   "source": [
    "2 types of runnables\n",
    "\n",
    "1. Task specific runnables\n",
    "\n",
    "    core components that has been converted to Runnables\n",
    "    e.g ChatOllama, ChatPromptTemplate, \n",
    "\n",
    "2. Premitive Runnables\n",
    "\n",
    "    helps to orchestrate the task specific runnables to form AI workflows\n",
    "\n"
   ]
  },
  {
   "cell_type": "code",
   "execution_count": null,
   "id": "e4b03c82",
   "metadata": {
    "vscode": {
     "languageId": "plaintext"
    }
   },
   "outputs": [],
   "source": []
  }
 ],
 "metadata": {
  "language_info": {
   "name": "python"
  }
 },
 "nbformat": 4,
 "nbformat_minor": 5
}
