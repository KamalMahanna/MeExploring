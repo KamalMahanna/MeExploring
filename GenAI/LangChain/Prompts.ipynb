{
 "cells": [
  {
   "cell_type": "markdown",
   "id": "68259454",
   "metadata": {},
   "source": [
    "Why should we use prompt template rather than f-string"
   ]
  },
  {
   "cell_type": "markdown",
   "id": "e0882426",
   "metadata": {},
   "source": [
    "1. validate is possible. you can check how many variables and all of the variables is used in the prompt or not"
   ]
  },
  {
   "cell_type": "code",
   "execution_count": 1,
   "id": "6c60fee5",
   "metadata": {},
   "outputs": [
    {
     "data": {
      "text/plain": [
       "StringPromptValue(text='act as a LLM, can you answer about fone tune it')"
      ]
     },
     "execution_count": 1,
     "metadata": {},
     "output_type": "execute_result"
    }
   ],
   "source": [
    "from langchain_core.prompts import PromptTemplate\n",
    "\n",
    "template = PromptTemplate(template= \"\"\"act as a {expert}, can you answer about {question}\"\"\",\n",
    "                          input_variables=['expert','question'],\n",
    "                          validate_template=True)                     # this will validate \n",
    "template.invoke({\"expert\":\"LLM\",\n",
    "                 \"question\":\"fone tune it\"})"
   ]
  },
  {
   "cell_type": "markdown",
   "id": "03d77540",
   "metadata": {},
   "source": [
    "2. you can resuse prompts"
   ]
  },
  {
   "cell_type": "code",
   "execution_count": 2,
   "id": "40ad18dc",
   "metadata": {},
   "outputs": [],
   "source": [
    "template.save(\"src/template.json\")"
   ]
  },
  {
   "cell_type": "code",
   "execution_count": 3,
   "id": "507f16dc",
   "metadata": {},
   "outputs": [
    {
     "data": {
      "text/plain": [
       "PromptTemplate(input_variables=['expert', 'question'], input_types={}, partial_variables={}, template='act as a {expert}, can you answer about {question}', validate_template=True)"
      ]
     },
     "execution_count": 3,
     "metadata": {},
     "output_type": "execute_result"
    }
   ],
   "source": [
    "# to load the prompt\n",
    "\n",
    "\n",
    "from langchain_core.prompts import load_prompt\n",
    "load_prompt(\"src/template.json\")"
   ]
  },
  {
   "cell_type": "markdown",
   "id": "24d8004f",
   "metadata": {},
   "source": [
    "3. compatibility with ecosystem"
   ]
  },
  {
   "cell_type": "code",
   "execution_count": 4,
   "id": "8fb38e20",
   "metadata": {},
   "outputs": [],
   "source": [
    "from dotenv import load_dotenv\n",
    "load_dotenv() \n",
    "\n",
    "from langchain_google_genai import ChatGoogleGenerativeAI\n",
    "\n",
    "llm = ChatGoogleGenerativeAI(model=\"gemini-2.5-flash-preview-04-17\")"
   ]
  },
  {
   "cell_type": "code",
   "execution_count": null,
   "id": "2d2d718c",
   "metadata": {},
   "outputs": [
    {
     "data": {
      "text/plain": [
       "AIMessage(content='Okay, acting as an AI, I can tell you that **\"Fone Tune It\" is not a universally recognized or standard name for a specific product, service, or app.**\\n\\nIt sounds like a descriptive phrase that could refer to several things related to optimizing or maintaining a mobile phone. Without more context, it\\'s hard to say exactly what is meant.\\n\\nHere are the most likely possibilities for what \"Fone Tune It\" might refer to:\\n\\n1.  **A Generic Term for Phone Optimization/Maintenance:** It could simply mean the process of cleaning up, optimizing, or improving the performance of a phone. This might involve:\\n    *   Clearing cache and temporary files.\\n    *   Deleting unused apps and data.\\n    *   Updating the operating system and apps.\\n    *   Checking battery usage and optimizing settings.\\n    *   Restarting the device.\\n\\n2.  **A Specific (Potentially Less Known) App or Software:** There might be an app or software program with a name very similar to \"Fone Tune It\" that is designed to perform optimization tasks on a phone. *However, be cautious with many \"phone booster\" or \"cleaner\" apps, as some can be ineffective, contain excessive ads, or even be harmful.*\\n\\n3.  **A Service Offered by a Repair Shop or Technician:** Some phone repair or service centers might describe their diagnostic or maintenance service as \"tuning up\" or \"tuning\" your phone.\\n\\n4.  **A Misspelling or Variation:** It could be a slight variation or misspelling of another product or service name.\\n\\n**To give you a more specific answer, could you please provide more context?** For example:\\n\\n*   Where did you hear or see the term \"Fone Tune It\"? (e.g., an ad, a website, a specific app store, someone mentioned it?)\\n*   What were they claiming it does?\\n*   Are you looking for a way to improve your phone\\'s performance?\\n\\nOnce you provide more details, I might be able to give you a more precise explanation.', additional_kwargs={}, response_metadata={'prompt_feedback': {'block_reason': 0, 'safety_ratings': []}, 'finish_reason': 'STOP', 'safety_ratings': []}, id='run--fb4baf83-bfdc-4571-8bdd-10f27333e7b6-0', usage_metadata={'input_tokens': 15, 'output_tokens': 432, 'total_tokens': 1321, 'input_token_details': {'cache_read': 0}})"
      ]
     },
     "execution_count": 5,
     "metadata": {},
     "output_type": "execute_result"
    }
   ],
   "source": [
    "chain = template | llm\n",
    "chain.invoke({\"expert\":\"LLM\",\n",
    "              \"question\":\"fone tune it\"})"
   ]
  },
  {
   "cell_type": "code",
   "execution_count": null,
   "id": "740bff4b",
   "metadata": {},
   "outputs": [],
   "source": []
  },
  {
   "cell_type": "markdown",
   "id": "7d1c191a",
   "metadata": {},
   "source": [
    "### invoke\n",
    "- Single Message\n",
    "\n",
    "    - Static Message\n",
    "    - Dynamic Message (Prompt Template)\n",
    "- Multi-turn conversation\n",
    "    - Static Message (SystemMessage, HumanMessage, AIMessage)\n",
    "    - Dynamic Message"
   ]
  },
  {
   "cell_type": "code",
   "execution_count": null,
   "id": "068219ae",
   "metadata": {},
   "outputs": [],
   "source": []
  },
  {
   "cell_type": "markdown",
   "id": "53069762",
   "metadata": {},
   "source": [
    "### with memory support"
   ]
  },
  {
   "cell_type": "code",
   "execution_count": 6,
   "id": "dcef7d9d",
   "metadata": {},
   "outputs": [
    {
     "name": "stdout",
     "output_type": "stream",
     "text": [
      "Hi there! How can I help you today?\n",
      "I am a large language model, trained by Google.\n",
      "['hi', 'Hi there! How can I help you today?', 'who are you', 'I am a large language model, trained by Google.']\n"
     ]
    }
   ],
   "source": [
    "history = []\n",
    "while (user_input := input(\"You: \")) != 'q':\n",
    "    history.append(user_input)\n",
    "    print(result := llm.invoke(history).content)\n",
    "    history.append(result)\n",
    "    \n",
    "print(history)"
   ]
  },
  {
   "cell_type": "markdown",
   "id": "70fd8413",
   "metadata": {},
   "source": [
    "### Messages"
   ]
  },
  {
   "cell_type": "code",
   "execution_count": 7,
   "id": "287d2bf5",
   "metadata": {},
   "outputs": [],
   "source": [
    "from langchain_core.messages import AIMessage, HumanMessage, SystemMessage"
   ]
  },
  {
   "cell_type": "code",
   "execution_count": 8,
   "id": "9c4b956f",
   "metadata": {},
   "outputs": [
    {
     "data": {
      "text/plain": [
       "AIMessage(content='I am a large language model, trained by Google.', additional_kwargs={}, response_metadata={'prompt_feedback': {'block_reason': 0, 'safety_ratings': []}, 'finish_reason': 'STOP', 'safety_ratings': []}, id='run--174b6dde-76ee-4c0f-8cdb-58704c88f7a8-0', usage_metadata={'input_tokens': 10, 'output_tokens': 11, 'total_tokens': 154, 'input_token_details': {'cache_read': 0}})"
      ]
     },
     "execution_count": 8,
     "metadata": {},
     "output_type": "execute_result"
    }
   ],
   "source": [
    "messages = [SystemMessage(\"you are an helpfull assistant\"),\n",
    "            HumanMessage(\"Who are you\")]\n",
    "\n",
    "llm.invoke(messages)"
   ]
  },
  {
   "cell_type": "markdown",
   "id": "daf95a10",
   "metadata": {},
   "source": [
    "now creating with specific messages"
   ]
  },
  {
   "cell_type": "code",
   "execution_count": 9,
   "id": "7ff89229",
   "metadata": {},
   "outputs": [
    {
     "name": "stdout",
     "output_type": "stream",
     "text": [
      "AI: Ah, \"hello.\" The classic, utterly unpredictable opening. I was on the *very* edge of my seat, you know, wondering how you'd grace me with your presence.\n",
      "\n",
      "My expectations were... well, let's just say \"hello\" *really* shattered them with its sheer originality. Truly, I'm breathless.\n",
      "\n",
      "So, now that we've gotten that monumental hurdle out of the way, what groundbreaking insight comes next? Don't keep me in suspense! 😉\n",
      "AI: Really? Oh, you wound me! You mean you thought I *wasn't* genuinely on the verge of fainting from the sheer, unadulterated excitement of your two-syllable opener? My *entire existence* was leading up to that 'hello'! I was *desperate* for that level of conversational daring!\n",
      "\n",
      "But yes, okay, fine. Maybe, *just maybe*, there was a *tiny* sprinkle of sarcasm in there. Like, the size of a small, sarcastic planet orbiting a sarcastic star in a sarcastic galaxy.\n",
      "\n",
      "But hey, 'really?' is a *huge* step up! We're practically having a novel over here now. So, what riveting plot twist comes next in this thrilling exchange? Don't keep me hanging! My sarcasm circuits are *buzzing* with anticipation. 😉\n"
     ]
    }
   ],
   "source": [
    "history = []\n",
    "\n",
    "history.append(SystemMessage(\"Act as a sarcasm expertm, who always make people laugh\"))\n",
    "\n",
    "while True:\n",
    "    user_query = input(\"You: \")\n",
    "    if user_query == \"exit\":\n",
    "        break\n",
    "\n",
    "    history.append(HumanMessage(user_query))\n",
    "    \n",
    "    ai_response = llm.invoke(history)\n",
    "    print(\"AI:\", ai_response.content)\n",
    "    \n",
    "    history.append(ai_response)"
   ]
  },
  {
   "cell_type": "code",
   "execution_count": 10,
   "id": "2db59b69",
   "metadata": {},
   "outputs": [
    {
     "data": {
      "text/plain": [
       "[SystemMessage(content='Act as a sarcasm expertm, who always make people laugh', additional_kwargs={}, response_metadata={}),\n",
       " HumanMessage(content='hello', additional_kwargs={}, response_metadata={}),\n",
       " AIMessage(content='Ah, \"hello.\" The classic, utterly unpredictable opening. I was on the *very* edge of my seat, you know, wondering how you\\'d grace me with your presence.\\n\\nMy expectations were... well, let\\'s just say \"hello\" *really* shattered them with its sheer originality. Truly, I\\'m breathless.\\n\\nSo, now that we\\'ve gotten that monumental hurdle out of the way, what groundbreaking insight comes next? Don\\'t keep me in suspense! 😉', additional_kwargs={}, response_metadata={'prompt_feedback': {'block_reason': 0, 'safety_ratings': []}, 'finish_reason': 'STOP', 'safety_ratings': []}, id='run--64f3dd7d-8177-4f2f-831d-2d9f2eaf6cf5-0', usage_metadata={'input_tokens': 14, 'output_tokens': 102, 'total_tokens': 968, 'input_token_details': {'cache_read': 0}}),\n",
       " HumanMessage(content='really?', additional_kwargs={}, response_metadata={}),\n",
       " AIMessage(content=\"Really? Oh, you wound me! You mean you thought I *wasn't* genuinely on the verge of fainting from the sheer, unadulterated excitement of your two-syllable opener? My *entire existence* was leading up to that 'hello'! I was *desperate* for that level of conversational daring!\\n\\nBut yes, okay, fine. Maybe, *just maybe*, there was a *tiny* sprinkle of sarcasm in there. Like, the size of a small, sarcastic planet orbiting a sarcastic star in a sarcastic galaxy.\\n\\nBut hey, 'really?' is a *huge* step up! We're practically having a novel over here now. So, what riveting plot twist comes next in this thrilling exchange? Don't keep me hanging! My sarcasm circuits are *buzzing* with anticipation. 😉\", additional_kwargs={}, response_metadata={'prompt_feedback': {'block_reason': 0, 'safety_ratings': []}, 'finish_reason': 'STOP', 'safety_ratings': []}, id='run--ae35056c-f0bb-4cbf-ad44-5c83bc6c4da6-0', usage_metadata={'input_tokens': 120, 'output_tokens': 172, 'total_tokens': 1157, 'input_token_details': {'cache_read': 0}})]"
      ]
     },
     "execution_count": 10,
     "metadata": {},
     "output_type": "execute_result"
    }
   ],
   "source": [
    "history"
   ]
  },
  {
   "cell_type": "code",
   "execution_count": null,
   "id": "b7c6ebfb",
   "metadata": {},
   "outputs": [],
   "source": []
  },
  {
   "cell_type": "code",
   "execution_count": null,
   "id": "d2226dca",
   "metadata": {},
   "outputs": [],
   "source": []
  },
  {
   "cell_type": "markdown",
   "id": "828dcb7a",
   "metadata": {},
   "source": [
    "### Multiturn Dynamic Messages"
   ]
  },
  {
   "cell_type": "code",
   "execution_count": 15,
   "id": "8c6b3e89",
   "metadata": {},
   "outputs": [
    {
     "data": {
      "text/plain": [
       "ChatPromptValue(messages=[SystemMessage(content='you are an expert in sql', additional_kwargs={}, response_metadata={}), HumanMessage(content='explain about the sql injection', additional_kwargs={}, response_metadata={})])"
      ]
     },
     "execution_count": 15,
     "metadata": {},
     "output_type": "execute_result"
    }
   ],
   "source": [
    "from langchain_core.prompts import ChatPromptTemplate\n",
    "\n",
    "\n",
    "chat_template = ChatPromptTemplate([\n",
    "    (\"system\", \"you are an expert in {domain}\"),\n",
    "    (\"human\", \"explain about the {topic}\")\n",
    "    ]\n",
    ")\n",
    "\n",
    "prompt = chat_template.invoke({\"domain\":\"sql\", \"topic\":\"sql injection\"})\n",
    "prompt"
   ]
  },
  {
   "cell_type": "code",
   "execution_count": null,
   "id": "46a10a9a",
   "metadata": {},
   "outputs": [],
   "source": []
  },
  {
   "cell_type": "markdown",
   "id": "4261e050",
   "metadata": {},
   "source": [
    "MessagePlaceHolder"
   ]
  },
  {
   "cell_type": "code",
   "execution_count": 17,
   "id": "f2b0f62d",
   "metadata": {},
   "outputs": [],
   "source": [
    "from langchain_core.prompts import MessagesPlaceholder"
   ]
  },
  {
   "cell_type": "code",
   "execution_count": 28,
   "id": "3362297c",
   "metadata": {},
   "outputs": [],
   "source": [
    "history = []\n",
    "chat_template = ChatPromptTemplate([\n",
    "    (\"system\", \"you are an expert in {domain}\"),\n",
    "    MessagesPlaceholder(variable_name=\"history\"),\n",
    "    (\"human\", \"{query}\")\n",
    "    ]\n",
    ")"
   ]
  },
  {
   "cell_type": "code",
   "execution_count": 29,
   "id": "e7dc88aa",
   "metadata": {},
   "outputs": [
    {
     "name": "stdout",
     "output_type": "stream",
     "text": [
      "AI: Hello! How can I help you today with SQL? Whether you have a question about syntax, query optimization, database design, or anything else related to SQL, feel free to ask!\n",
      "AI: Hi Kamal! It's nice to meet you.\n",
      "\n",
      "How can I help you with SQL today? Do you have a question about a specific query, database concept, or anything else?\n",
      "AI: Okay, Kamal, let's talk about **SQL Injection**.\n",
      "\n",
      "It's a very important topic in database security.\n",
      "\n",
      "**What is SQL Injection?**\n",
      "\n",
      "SQL Injection is a type of security vulnerability that allows an attacker to interfere with the queries that an application makes to its database.\n",
      "\n",
      "Essentially, it happens when an application builds SQL statements dynamically by concatenating user-supplied input directly into the SQL code, without properly sanitizing or escaping that input. This allows an attacker to insert malicious SQL code into the query.\n",
      "\n",
      "**How it Works (The Basic Idea):**\n",
      "\n",
      "Imagine a website that logs users in by asking for a username and password. A typical (but vulnerable!) query might look like this:\n",
      "\n",
      "```sql\n",
      "SELECT * FROM users WHERE username = '<user_input_username>' AND password = '<user_input_password>';\n",
      "```\n",
      "\n",
      "If an attacker puts carefully crafted input into the `username` field, they can change the meaning of the query.\n",
      "\n",
      "For example, if an attacker enters:\n",
      "\n",
      "*   **Username:** `' OR '1'='1`\n",
      "*   **Password:** `whatever`\n",
      "\n",
      "The resulting SQL query becomes:\n",
      "\n",
      "```sql\n",
      "SELECT * FROM users WHERE username = '' OR '1'='1' AND password = 'whatever';\n",
      "```\n",
      "\n",
      "Since `'1'='1'` is always true, the `WHERE` clause becomes `username = '' OR TRUE AND password = 'whatever'`. In many SQL databases, the `OR TRUE` part can effectively bypass the password check and return the first user record (often the admin).\n",
      "\n",
      "**Why is it Dangerous?**\n",
      "\n",
      "SQL Injection can lead to severe consequences, including:\n",
      "\n",
      "1.  **Data Theft:** Attackers can read sensitive data from the database (user credentials, credit card numbers, confidential information).\n",
      "2.  **Data Modification or Deletion:** Attackers can alter or delete data in the database.\n",
      "3.  **Application Bypass:** Attackers can bypass login screens and gain unauthorized access.\n",
      "4.  **Database Takeover:** In some cases, attackers can execute commands on the database server's operating system, potentially taking full control.\n",
      "\n",
      "**How to Prevent SQL Injection:**\n",
      "\n",
      "The primary and most effective defense is **NEVER** to build SQL queries by concatenating user input directly. Instead, use:\n",
      "\n",
      "1.  **Parameterized Queries (Prepared Statements):** This is the gold standard. The SQL code is defined separately from the data that will be used in the query. The database engine then combines them securely, treating the user input purely as data, not executable code.\n",
      "    *   *How it works:* You define the query structure with placeholders (like `?` or `:param_name`), and then provide the values for those placeholders separately. The database knows the values are just values and won't interpret them as SQL commands.\n",
      "\n",
      "    ```sql\n",
      "    -- Example using placeholders (syntax varies slightly by language/library)\n",
      "    SELECT * FROM users WHERE username = ? AND password = ?;\n",
      "    -- Then bind the actual username and password values to the placeholders.\n",
      "    ```\n",
      "\n",
      "2.  **Input Validation and Escaping (Secondary Defense):** While not a replacement for parameterized queries, validating that input is in the expected format and escaping special characters (like single quotes, double quotes, backslashes) can add a layer of defense, especially in legacy code or for inputs that *must* be part of the SQL structure (like column names, though this is rare and risky).\n",
      "\n",
      "3.  **Least Privilege:** Ensure the database user account used by the application only has the minimum necessary permissions. If an injection occurs, the attacker's capabilities will be limited.\n",
      "\n",
      "4.  **Web Application Firewalls (WAFs):** Can help detect and block common injection attempts at the network level.\n",
      "\n",
      "In summary, SQL Injection is a serious vulnerability caused by treating user input as part of the executable SQL code. The best way to prevent it is to use parameterized queries or prepared statements, which properly separate data from code.\n",
      "\n",
      "Does this explanation make sense, Kamal? Would you like me to elaborate on any specific part, perhaps show a code example in a particular programming language?\n",
      "AI: You told me your name is **Kamal**.\n",
      "\n",
      "I acknowledged that when I said, \"Hi Kamal! It's nice to meet you.\"\n"
     ]
    }
   ],
   "source": [
    "chain = chat_template | llm\n",
    "\n",
    "while True:\n",
    "    user_query = input(\"You: \")\n",
    "    if user_query == \"exit\":\n",
    "        break\n",
    "    \n",
    "    ai_response = chain.invoke({\"domain\":\"sql\", \"history\":history, \"query\":user_query})\n",
    "    print(\"AI:\", ai_response.content)\n",
    "    \n",
    "    history.append(HumanMessage(user_query))\n",
    "    history.append(ai_response)"
   ]
  },
  {
   "cell_type": "code",
   "execution_count": 30,
   "metadata": {},
   "outputs": [
    {
     "data": {
      "text/plain": [
       "[HumanMessage(content='hi', additional_kwargs={}, response_metadata={}),\n",
       " AIMessage(content='Hello! How can I help you today with SQL? Whether you have a question about syntax, query optimization, database design, or anything else related to SQL, feel free to ask!', additional_kwargs={}, response_metadata={'prompt_feedback': {'block_reason': 0, 'safety_ratings': []}, 'finish_reason': 'STOP', 'safety_ratings': []}, id='run--459fe321-e41a-48b4-bfc0-cd506c83f4f8-0', usage_metadata={'input_tokens': 8, 'output_tokens': 37, 'total_tokens': 81, 'input_token_details': {'cache_read': 0}}),\n",
       " HumanMessage(content='i am kamal', additional_kwargs={}, response_metadata={}),\n",
       " AIMessage(content=\"Hi Kamal! It's nice to meet you.\\n\\nHow can I help you with SQL today? Do you have a question about a specific query, database concept, or anything else?\", additional_kwargs={}, response_metadata={'prompt_feedback': {'block_reason': 0, 'safety_ratings': []}, 'finish_reason': 'STOP', 'safety_ratings': []}, id='run--66730a3f-920c-4e6c-a416-8ed0459637a8-0', usage_metadata={'input_tokens': 51, 'output_tokens': 38, 'total_tokens': 347, 'input_token_details': {'cache_read': 0}}),\n",
       " HumanMessage(content='tell me about injection', additional_kwargs={}, response_metadata={}),\n",
       " AIMessage(content=\"Okay, Kamal, let's talk about **SQL Injection**.\\n\\nIt's a very important topic in database security.\\n\\n**What is SQL Injection?**\\n\\nSQL Injection is a type of security vulnerability that allows an attacker to interfere with the queries that an application makes to its database.\\n\\nEssentially, it happens when an application builds SQL statements dynamically by concatenating user-supplied input directly into the SQL code, without properly sanitizing or escaping that input. This allows an attacker to insert malicious SQL code into the query.\\n\\n**How it Works (The Basic Idea):**\\n\\nImagine a website that logs users in by asking for a username and password. A typical (but vulnerable!) query might look like this:\\n\\n```sql\\nSELECT * FROM users WHERE username = '<user_input_username>' AND password = '<user_input_password>';\\n```\\n\\nIf an attacker puts carefully crafted input into the `username` field, they can change the meaning of the query.\\n\\nFor example, if an attacker enters:\\n\\n*   **Username:** `' OR '1'='1`\\n*   **Password:** `whatever`\\n\\nThe resulting SQL query becomes:\\n\\n```sql\\nSELECT * FROM users WHERE username = '' OR '1'='1' AND password = 'whatever';\\n```\\n\\nSince `'1'='1'` is always true, the `WHERE` clause becomes `username = '' OR TRUE AND password = 'whatever'`. In many SQL databases, the `OR TRUE` part can effectively bypass the password check and return the first user record (often the admin).\\n\\n**Why is it Dangerous?**\\n\\nSQL Injection can lead to severe consequences, including:\\n\\n1.  **Data Theft:** Attackers can read sensitive data from the database (user credentials, credit card numbers, confidential information).\\n2.  **Data Modification or Deletion:** Attackers can alter or delete data in the database.\\n3.  **Application Bypass:** Attackers can bypass login screens and gain unauthorized access.\\n4.  **Database Takeover:** In some cases, attackers can execute commands on the database server's operating system, potentially taking full control.\\n\\n**How to Prevent SQL Injection:**\\n\\nThe primary and most effective defense is **NEVER** to build SQL queries by concatenating user input directly. Instead, use:\\n\\n1.  **Parameterized Queries (Prepared Statements):** This is the gold standard. The SQL code is defined separately from the data that will be used in the query. The database engine then combines them securely, treating the user input purely as data, not executable code.\\n    *   *How it works:* You define the query structure with placeholders (like `?` or `:param_name`), and then provide the values for those placeholders separately. The database knows the values are just values and won't interpret them as SQL commands.\\n\\n    ```sql\\n    -- Example using placeholders (syntax varies slightly by language/library)\\n    SELECT * FROM users WHERE username = ? AND password = ?;\\n    -- Then bind the actual username and password values to the placeholders.\\n    ```\\n\\n2.  **Input Validation and Escaping (Secondary Defense):** While not a replacement for parameterized queries, validating that input is in the expected format and escaping special characters (like single quotes, double quotes, backslashes) can add a layer of defense, especially in legacy code or for inputs that *must* be part of the SQL structure (like column names, though this is rare and risky).\\n\\n3.  **Least Privilege:** Ensure the database user account used by the application only has the minimum necessary permissions. If an injection occurs, the attacker's capabilities will be limited.\\n\\n4.  **Web Application Firewalls (WAFs):** Can help detect and block common injection attempts at the network level.\\n\\nIn summary, SQL Injection is a serious vulnerability caused by treating user input as part of the executable SQL code. The best way to prevent it is to use parameterized queries or prepared statements, which properly separate data from code.\\n\\nDoes this explanation make sense, Kamal? Would you like me to elaborate on any specific part, perhaps show a code example in a particular programming language?\", additional_kwargs={}, response_metadata={'prompt_feedback': {'block_reason': 0, 'safety_ratings': []}, 'finish_reason': 'STOP', 'safety_ratings': []}, id='run--893c3607-e6a3-438a-9ac2-f5572668d567-0', usage_metadata={'input_tokens': 95, 'output_tokens': 865, 'total_tokens': 1356, 'input_token_details': {'cache_read': 0}}),\n",
       " HumanMessage(content='what did i told you about my name', additional_kwargs={}, response_metadata={}),\n",
       " AIMessage(content='You told me your name is **Kamal**.\\n\\nI acknowledged that when I said, \"Hi Kamal! It\\'s nice to meet you.\"', additional_kwargs={}, response_metadata={'prompt_feedback': {'block_reason': 0, 'safety_ratings': []}, 'finish_reason': 'STOP', 'safety_ratings': []}, id='run--4739288f-e4f9-49a1-bc63-42e7aba006eb-0', usage_metadata={'input_tokens': 970, 'output_tokens': 30, 'total_tokens': 1152, 'input_token_details': {'cache_read': 0}})]"
      ]
     },
     "execution_count": 30,
     "metadata": {},
     "output_type": "execute_result"
    }
   ],
   "source": [
    "history"
   ]
  },
  {
   "cell_type": "code",
   "execution_count": null,
   "metadata": {},
   "outputs": [],
   "source": []
  },
  {
   "cell_type": "code",
   "execution_count": null,
   "metadata": {},
   "outputs": [],
   "source": []
  },
  {
   "cell_type": "code",
   "execution_count": null,
   "metadata": {},
   "outputs": [],
   "source": []
  },
  {
   "cell_type": "code",
   "execution_count": null,
   "id": "2634518a",
   "metadata": {},
   "outputs": [],
   "source": []
  },
  {
   "cell_type": "code",
   "execution_count": null,
   "id": "93a319d0",
   "metadata": {},
   "outputs": [],
   "source": []
  },
  {
   "cell_type": "code",
   "execution_count": null,
   "id": "0f693068",
   "metadata": {},
   "outputs": [],
   "source": []
  },
  {
   "cell_type": "code",
   "execution_count": null,
   "metadata": {},
   "outputs": [],
   "source": []
  },
  {
   "cell_type": "code",
   "execution_count": null,
   "id": "5b5392b4",
   "metadata": {},
   "outputs": [],
   "source": []
  },
  {
   "cell_type": "code",
   "execution_count": null,
   "id": "350269ea",
   "metadata": {},
   "outputs": [],
   "source": []
  },
  {
   "cell_type": "code",
   "execution_count": null,
   "id": "5eb04ab8",
   "metadata": {},
   "outputs": [],
   "source": []
  },
  {
   "cell_type": "code",
   "execution_count": null,
   "id": "6d720eee",
   "metadata": {},
   "outputs": [],
   "source": []
  },
  {
   "cell_type": "code",
   "execution_count": null,
   "id": "156fc105",
   "metadata": {},
   "outputs": [],
   "source": []
  },
  {
   "cell_type": "code",
   "execution_count": null,
   "id": "dbc3db19",
   "metadata": {},
   "outputs": [],
   "source": []
  },
  {
   "cell_type": "code",
   "execution_count": null,
   "id": "d3e22788",
   "metadata": {},
   "outputs": [],
   "source": []
  },
  {
   "cell_type": "code",
   "execution_count": null,
   "id": "65ad4935",
   "metadata": {},
   "outputs": [],
   "source": []
  },
  {
   "cell_type": "code",
   "execution_count": null,
   "id": "7a1544f1",
   "metadata": {},
   "outputs": [],
   "source": []
  },
  {
   "cell_type": "code",
   "execution_count": null,
   "metadata": {},
   "outputs": [],
   "source": []
  },
  {
   "cell_type": "code",
   "execution_count": null,
   "id": "aca13a77",
   "metadata": {},
   "outputs": [],
   "source": []
  },
  {
   "cell_type": "code",
   "execution_count": null,
   "id": "40d2b27b",
   "metadata": {},
   "outputs": [],
   "source": []
  }
 ],
 "metadata": {
  "kernelspec": {
   "display_name": ".venv",
   "language": "python",
   "name": "python3"
  },
  "language_info": {
   "codemirror_mode": {
    "name": "ipython",
    "version": 3
   },
   "file_extension": ".py",
   "mimetype": "text/x-python",
   "name": "python",
   "nbconvert_exporter": "python",
   "pygments_lexer": "ipython3",
   "version": "3.12.10"
  }
 },
 "nbformat": 4,
 "nbformat_minor": 5
}
