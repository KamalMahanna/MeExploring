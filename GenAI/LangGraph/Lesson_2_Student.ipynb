{
 "cells": [
  {
   "cell_type": "markdown",
   "id": "21fa2e13-567d-4509-9023-c99fb230f31f",
   "metadata": {},
   "source": [
    "# Lesson 2 : LangGraph Components"
   ]
  },
  {
   "cell_type": "code",
   "execution_count": 14,
   "id": "f5762271-8736-4e94-9444-8c92bd0e8074",
   "metadata": {
    "height": 47
   },
   "outputs": [],
   "source": [
    "from dotenv import load_dotenv\n",
    "_ = load_dotenv()"
   ]
  },
  {
   "cell_type": "code",
   "execution_count": 15,
   "id": "d0168aee-bce9-4d60-b827-f86a88187e31",
   "metadata": {
    "height": 115
   },
   "outputs": [],
   "source": [
    "from langgraph.graph import StateGraph, END\n",
    "from typing import TypedDict, Annotated\n",
    "import operator\n",
    "from langchain_core.messages import AnyMessage, SystemMessage, HumanMessage, ToolMessage\n",
    "from langchain_google_genai import ChatGoogleGenerativeAI\n",
    "from langchain_community.tools.tavily_search import TavilySearchResults"
   ]
  },
  {
   "cell_type": "code",
   "execution_count": 16,
   "id": "2589c5b6-6cc2-4594-9a17-dccdcf676054",
   "metadata": {
    "height": 64
   },
   "outputs": [
    {
     "name": "stdout",
     "output_type": "stream",
     "text": [
      "<class 'langchain_community.tools.tavily_search.tool.TavilySearchResults'>\n",
      "tavily_search_results_json\n"
     ]
    }
   ],
   "source": [
    "travily_tool = TavilySearchResults(max_results=4) #increased number of results\n",
    "print(type(travily_tool))\n",
    "print(travily_tool.name)"
   ]
  },
  {
   "cell_type": "markdown",
   "id": "e196c186-af55-4f2d-b569-b7d63a859304",
   "metadata": {},
   "source": [
    "> If you are not familiar with python typing annotation, you can refer to the [python documents](https://docs.python.org/3/library/typing.html)."
   ]
  },
  {
   "cell_type": "code",
   "execution_count": 17,
   "id": "a2ba84ec-c172-4de7-ac55-e3158a531b23",
   "metadata": {
    "height": 47
   },
   "outputs": [],
   "source": [
    "class AgentState(TypedDict):\n",
    "    messages: Annotated[list[AnyMessage], operator.add]"
   ]
  },
  {
   "cell_type": "markdown",
   "id": "74c7ba73-e603-453b-b06f-5db92c567b19",
   "metadata": {},
   "source": [
    "> Note: in `take_action` below, some logic was added to cover the case that the LLM returned a non-existent tool name. Even with function calling, LLMs can still occasionally hallucinate. Note that all that is done is instructing the LLM to try again! An advantage of an agentic organization."
   ]
  },
  {
   "cell_type": "code",
   "execution_count": 18,
   "id": "876d5092-b8ef-4e38-b4d7-0e80c609bf7a",
   "metadata": {
    "height": 727
   },
   "outputs": [],
   "source": [
    "class Agent:\n",
    "\n",
    "    def __init__(self, model, tools, system=\"\"):\n",
    "        self.system = system\n",
    "        graph = StateGraph(AgentState)\n",
    "        graph.add_node(\"llm\", self.call_openai)\n",
    "        graph.add_node(\"action\", self.take_action)\n",
    "        graph.add_conditional_edges(\n",
    "            \"llm\",\n",
    "            self.exists_action,\n",
    "            {True: \"action\", False: END}\n",
    "        )\n",
    "        graph.add_edge(\"action\", \"llm\")\n",
    "        graph.set_entry_point(\"llm\")\n",
    "        self.graph = graph.compile()\n",
    "        self.tools = {t.name: t for t in tools}\n",
    "        self.model = model.bind_tools(tools)\n",
    "\n",
    "    def exists_action(self, state: AgentState):\n",
    "        result = state['messages'][-1]\n",
    "        return len(result.tool_calls) > 0\n",
    "\n",
    "    def call_openai(self, state: AgentState):\n",
    "        messages = state['messages']\n",
    "        if self.system:\n",
    "            messages = [SystemMessage(content=self.system)] + messages\n",
    "        message = self.model.invoke(messages)\n",
    "        return {'messages': [message]}\n",
    "\n",
    "    def take_action(self, state: AgentState):\n",
    "        tool_calls = state['messages'][-1].tool_calls\n",
    "        results = []\n",
    "        for t in tool_calls:\n",
    "            print(f\"Calling: {t}\")\n",
    "            if not t['name'] in self.tools:      # check for bad tool name from LLM\n",
    "                print(\"\\n ....bad tool name....\")\n",
    "                result = \"bad tool name, retry\"  # instruct LLM to retry if bad\n",
    "            else:\n",
    "                result = self.tools[t['name']].invoke(t['args'])\n",
    "            results.append(ToolMessage(tool_call_id=t['id'], name=t['name'], content=str(result)))\n",
    "        print(\"Back to the model!\")\n",
    "        return {'messages': results}"
   ]
  },
  {
   "cell_type": "code",
   "execution_count": 19,
   "id": "10084a02-2928-4945-9f7c-ad3f5b33caf7",
   "metadata": {
    "height": 149
   },
   "outputs": [],
   "source": [
    "prompt = \"\"\"You are a smart research assistant. Use the search engine to look up information. \\\n",
    "You are allowed to make multiple calls (either together or in sequence). \\\n",
    "Only look up information when you are sure of what you want. \\\n",
    "If you need to look up some information before asking a follow up question, you are allowed to do that!\n",
    "\"\"\"\n",
    "\n",
    "model = ChatGoogleGenerativeAI(model=\"gemini-2.5-flash-preview-05-20\")  #reduce inference cost\n",
    "abot = Agent(model, [travily_tool], system=prompt)"
   ]
  },
  {
   "cell_type": "code",
   "execution_count": 20,
   "id": "a3d6f5f4-2392-41b9-ab96-7919840baa3e",
   "metadata": {
    "height": 64
   },
   "outputs": [
    {
     "data": {
      "image/png": "[encoded data removed]",
      "text/plain": [
       "<IPython.core.display.Image object>"
      ]
     },
     "execution_count": 20,
     "metadata": {},
     "output_type": "execute_result"
    }
   ],
   "source": [
    "from IPython.display import Image\n",
    "\n",
    "Image(abot.graph.get_graph().draw_png())"
   ]
  },
  {
   "cell_type": "code",
   "execution_count": 21,
   "id": "83588e70-254f-4f83-a510-c8ae81e729b0",
   "metadata": {
    "height": 47
   },
   "outputs": [
    {
     "name": "stdout",
     "output_type": "stream",
     "text": [
      "Calling: {'name': 'tavily_search_results_json', 'args': {'query': 'weather in San Francisco'}, 'id': 'cb7d4dbd-59da-4ad4-93b3-28d2b36bd426', 'type': 'tool_call'}\n",
      "Back to the model!\n"
     ]
    }
   ],
   "source": [
    "messages = [HumanMessage(content=\"What is the weather in sf?\")]\n",
    "result = abot.graph.invoke({\"messages\": messages})"
   ]
  },
  {
   "cell_type": "code",
   "execution_count": 22,
   "id": "89a06a8c-fcd4-4ca6-98f0-36c5809813e6",
   "metadata": {
    "height": 30,
    "scrolled": true
   },
   "outputs": [
    {
     "data": {
      "text/plain": [
       "{'messages': [HumanMessage(content='What is the weather in sf?', additional_kwargs={}, response_metadata={}),\n",
       "  AIMessage(content='', additional_kwargs={'function_call': {'name': 'tavily_search_results_json', 'arguments': '{\"query\": \"weather in San Francisco\"}'}}, response_metadata={'prompt_feedback': {'block_reason': 0, 'safety_ratings': []}, 'finish_reason': 'STOP', 'safety_ratings': []}, id='run--0eafc8d7-324a-4231-b0d8-b6e508712d5c-0', tool_calls=[{'name': 'tavily_search_results_json', 'args': {'query': 'weather in San Francisco'}, 'id': 'cb7d4dbd-59da-4ad4-93b3-28d2b36bd426', 'type': 'tool_call'}], usage_metadata={'input_tokens': 147, 'output_tokens': 24, 'total_tokens': 240, 'input_token_details': {'cache_read': 0}}),\n",
       "  ToolMessage(content='[{\\'title\\': \\'Monday, June 23, 2025. San Francisco, CA - Weather Forecast\\', \\'url\\': \\'https://weathershogun.com/weather/usa/ca/san-francisco/480/june/2025-06-23\\', \\'content\\': \\'San Francisco, California Weather: Monday, June 23, 2025. Sunny weather, clear skies and sunny weather. Day 61°. Night 52°.\\', \\'score\\': 0.95885104}, {\\'title\\': \\'Weather in San Francisco in June 2025 (California)\\', \\'url\\': \\'https://world-weather.info/forecast/usa/san_francisco/june-2025/\\', \\'content\\': \\'*   [23 +64° +52°](https://world-weather.info/forecast/usa/san_francisco/14days/#2025-06-23)\\\\n*   [24 +64° +54°](https://world-weather.info/forecast/usa/san_francisco/14days/#2025-06-24)\\\\n*   [25 +63° +54°](https://world-weather.info/forecast/usa/san_francisco/14days/#2025-06-25)\\\\n*   [26 +63° +52°](https://world-weather.info/forecast/usa/san_francisco/14days/#2025-06-26)\\\\n*   [27 +66° +52°](https://world-weather.info/forecast/usa/san_francisco/14days/#2025-06-27)\\', \\'score\\': 0.9492242}, {\\'title\\': \\'San Francisco weather in June 2025 | Weather25.com\\', \\'url\\': \\'https://www.weather25.com/north-america/usa/california/san-francisco?page=month&month=June\\', \\'content\\': \\'Sunny](https://res.weather25.com/images/weather_icons/new/day/sunny.svg) 0 mm 17°/12°](https://www.weather25.com/north-america/usa/california/san-francisco?page=day#date=2025-06-22)[Monday Jun 23 ![Image 13: Sunny](https://res.weather25.com/images/weather_icons/new/day/sunny.svg) 0 mm 18°/12°](https://www.weather25.com/north-america/usa/california/san-francisco?page=day#date=2025-06-23)[Tuesday Jun 24 ![Image 14: Patchy rain [...] | [22 ![Image 49: Sunny](https://res.weather25.com/images/weather_icons/new/day/sunny.svg) 17°/12°](https://www.weather25.com/north-america/usa/california/san-francisco?page=day#date=2025-06-22 \"Weather in 22 june 2025\") | [23 ![Image 50: Sunny](https://res.weather25.com/images/weather_icons/new/day/sunny.svg) 18°/12°](https://www.weather25.com/north-america/usa/california/san-francisco?page=day#date=2025-06-23 \"Weather in 23 june 2025\") | [24 ![Image 51: Patchy rain\\', \\'score\\': 0.91156644}, {\\'title\\': \\'Weather Forecast for San Francisco for Monday 23 June\\', \\'url\\': \\'https://www.metcheck.com/WEATHER/dayforecast.asp?location=San%20Francisco&locationID=57997&lat=-28.963100&lon=-65.426710&dateFor=23/06/2025\\', \\'content\\': \"314](https://www.metcheck.com/IMAGES/ICONS/SITEAREA/table_charts.gif)](https://www.metcheck.com/WEATHER/trendmaker.asp?location=San%20Francisco&locationID=57997&lat=-28.963100&lon=-65.426710&dateFor=23/06/2025&VARS=RAIN)[![Image 315](https://www.metcheck.com/IMAGES/ICONS/SITEAREA/table_charts.gif)](https://www.metcheck.com/WEATHER/trendmaker.asp?location=San%20Francisco&locationID=57997&lat=-28.963100&lon=-65.426710&dateFor=23/06/2025&VARS=ACLOUD)[![Image [...] 259: Sunny For Most Of The Day With Max Temp Of 14°c And Min Temp Of 10°c](https://www.metcheck.com/IMAGES/ICONS/WEATHER/STATIC/SU.jpg) 14°c 10°c Sat](javascript:LoadForecastLocationV11(\\'location\\',\\'57997\\',\\'San Francisco\\',\\'-28.963100\\',\\'-65.426710\\',\\'&dateFor=28/06/2025\\',\\'\\',\\'\\'))[![Image 260: Starting Cloudy But Fair Later With Max Temp Of 13°c And Min Temp Of 5°c](https://www.metcheck.com/IMAGES/ICONS/WEATHER/STATIC/CLFA.jpg) 13°c 5°c Sun](javascript:LoadForecastLocationV11(\\'location\\',\\'57997\\',\\'San [...] [Wet/Dry](https://www.metcheck.com/WEATHER/dayforecast.asp?location=San%20Francisco&locationID=57997&lat=-28.963100&lon=-65.426710&dateFor=23/06/2025#)\\\\n*   Wet Only\\\\n*   Dry Only\\\\n*   Dry & Wet\\\\n\\\\n![Image 262](https://www.metcheck.com/WEATHER/dayforecast.asp?location=San%20Francisco&locationID=57997&lat=-28.963100&lon=-65.426710&dateFor=23/06/2025)\", \\'score\\': 0.9016528}]', name='tavily_search_results_json', tool_call_id='cb7d4dbd-59da-4ad4-93b3-28d2b36bd426'),\n",
       "  AIMessage(content='The weather in San Francisco on Monday, June 23, 2025, will be sunny with clear skies. The daytime temperature will be 61°F and the nighttime temperature will be 52°F.', additional_kwargs={}, response_metadata={'prompt_feedback': {'block_reason': 0, 'safety_ratings': []}, 'finish_reason': 'STOP', 'safety_ratings': []}, id='run--42949e74-8534-4372-8596-d938c32bd3ac-0', usage_metadata={'input_tokens': 1840, 'output_tokens': 48, 'total_tokens': 2031, 'input_token_details': {'cache_read': 0}})]}"
      ]
     },
     "execution_count": 22,
     "metadata": {},
     "output_type": "execute_result"
    }
   ],
   "source": [
    "result"
   ]
  },
  {
   "cell_type": "code",
   "execution_count": 23,
   "id": "6cb3ef4c-58b3-401b-b104-0d51e553d982",
   "metadata": {
    "height": 30
   },
   "outputs": [
    {
     "data": {
      "text/plain": [
       "'The weather in San Francisco on Monday, June 23, 2025, will be sunny with clear skies. The daytime temperature will be 61°F and the nighttime temperature will be 52°F.'"
      ]
     },
     "execution_count": 23,
     "metadata": {},
     "output_type": "execute_result"
    }
   ],
   "source": [
    "result['messages'][-1].content"
   ]
  },
  {
   "cell_type": "code",
   "execution_count": 24,
   "id": "dc3293b7-a50c-43c8-a022-8975e1e444b8",
   "metadata": {
    "height": 47
   },
   "outputs": [
    {
     "name": "stdout",
     "output_type": "stream",
     "text": [
      "Calling: {'name': 'tavily_search_results_json', 'args': {'query': 'weather in San Francisco and Los Angeles'}, 'id': '40926599-c032-4ac6-bc64-d32a17341c7e', 'type': 'tool_call'}\n",
      "Back to the model!\n"
     ]
    }
   ],
   "source": [
    "messages = [HumanMessage(content=\"What is the weather in SF and LA?\")]\n",
    "result = abot.graph.invoke({\"messages\": messages})"
   ]
  },
  {
   "cell_type": "code",
   "execution_count": 25,
   "id": "0722c3d4-4cbf-43bf-81b0-50f634c4ce61",
   "metadata": {
    "height": 30
   },
   "outputs": [
    {
     "data": {
      "text/plain": [
       "'I cannot provide the current weather for San Francisco and Los Angeles with the information I have, as the search results are providing forecasts for June 2025. I will perform a new search to get the current weather.'"
      ]
     },
     "execution_count": 25,
     "metadata": {},
     "output_type": "execute_result"
    }
   ],
   "source": [
    "result['messages'][-1].content"
   ]
  },
  {
   "cell_type": "code",
   "execution_count": 26,
   "id": "6b2f82fe-3ec4-4917-be51-9fb10d1317fa",
   "metadata": {
    "height": 183
   },
   "outputs": [
    {
     "name": "stdout",
     "output_type": "stream",
     "text": [
      "Calling: {'name': 'tavily_search_results_json', 'args': {'query': 'who won super bowl 2024'}, 'id': 'b9dbed48-c88e-42fb-9c59-09b048596d3b', 'type': 'tool_call'}\n",
      "Back to the model!\n",
      "Calling: {'name': 'tavily_search_results_json', 'args': {'query': 'Kansas City Chiefs headquarters state'}, 'id': '314d95f6-4b8d-4d57-b8dc-1d9d4d999919', 'type': 'tool_call'}\n",
      "Back to the model!\n",
      "Calling: {'name': 'tavily_search_results_json', 'args': {'query': 'GDP of Missouri'}, 'id': '016d6d05-1f13-44df-808a-034eab68c6b2', 'type': 'tool_call'}\n",
      "Back to the model!\n"
     ]
    }
   ],
   "source": [
    "# Note, the query was modified to produce more consistent results. \n",
    "# Results may vary per run and over time as search information and models change.\n",
    "\n",
    "query = \"Who won the super bowl in 2024? In what state is the winning team headquarters located? \\\n",
    "What is the GDP of that state? Answer each question.\" \n",
    "messages = [HumanMessage(content=query)]\n",
    "\n",
    "model = ChatGoogleGenerativeAI(model=\"gemini-2.5-flash-preview-05-20\")  # requires more advanced model\n",
    "abot = Agent(model, [travily_tool], system=prompt)\n",
    "result = abot.graph.invoke({\"messages\": messages})"
   ]
  },
  {
   "cell_type": "code",
   "execution_count": 27,
   "id": "ee0fe1c7-77e2-499c-a2f9-1f739bb6ddf0",
   "metadata": {
    "height": 30
   },
   "outputs": [
    {
     "name": "stdout",
     "output_type": "stream",
     "text": [
      "The Kansas City Chiefs won the Super Bowl in 2024. Their headquarters are located in Missouri. The GDP of Missouri in 2023 was $348.49 billion (inflation-adjusted to 2017 dollars).\n"
     ]
    }
   ],
   "source": [
    "print(result['messages'][-1].content)"
   ]
  },
  {
   "cell_type": "code",
   "execution_count": null,
   "id": "1d643182-2802-40fb-ba35-d4f893c5b976",
   "metadata": {
    "height": 30
   },
   "outputs": [],
   "source": []
  }
 ],
 "metadata": {
  "kernelspec": {
   "display_name": "base",
   "language": "python",
   "name": "python3"
  },
  "language_info": {
   "codemirror_mode": {
    "name": "ipython",
    "version": 3
   },
   "file_extension": ".py",
   "mimetype": "text/x-python",
   "name": "python",
   "nbconvert_exporter": "python",
   "pygments_lexer": "ipython3",
   "version": "3.13.2"
  }
 },
 "nbformat": 4,
 "nbformat_minor": 5
}
