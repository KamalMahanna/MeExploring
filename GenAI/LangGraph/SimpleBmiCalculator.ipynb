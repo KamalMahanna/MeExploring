{
 "cells": [
  {
   "cell_type": "code",
   "execution_count": 1,
   "id": "469bd922",
   "metadata": {},
   "outputs": [],
   "source": [
    "\n",
    "from typing_extensions import TypedDict\n",
    "from langgraph.graph import StateGraph, START, END"
   ]
  },
  {
   "cell_type": "code",
   "execution_count": 2,
   "id": "a6f62742",
   "metadata": {},
   "outputs": [],
   "source": [
    "class State(TypedDict):\n",
    "    height: float\n",
    "    weight: float\n",
    "    bmi: float\n",
    "    bmi_label: str"
   ]
  },
  {
   "cell_type": "code",
   "execution_count": 3,
   "id": "bdcac100",
   "metadata": {},
   "outputs": [],
   "source": [
    "\n",
    "def calculate_bmi(values:State) -> State:\n",
    "    \"\"\"\n",
    "    This function calculates the BMI (Body Mass Index) for a given weight(kg) and height(m).\n",
    "    \"\"\"\n",
    "    values['bmi'] = values['weight'] / (values['height'] ** 2)\n",
    "    return values\n",
    "\n",
    "def label_bmi(values:State) -> State:\n",
    "    \"\"\"\n",
    "    This function labels the BMI (Body Mass Index) for a given weight(kg) and height(m).\n",
    "    \"\"\"\n",
    "    if values['bmi'] < 18.5:\n",
    "        values['bmi_label'] = 'Underweight'\n",
    "    elif values['bmi'] < 25:\n",
    "        values['bmi_label'] = 'Normal weight'\n",
    "    elif values['bmi'] < 30:\n",
    "        values['bmi_label'] = 'Overweight'\n",
    "    else:\n",
    "        values['bmi_label'] = 'Obesity'\n",
    "    return values"
   ]
  },
  {
   "cell_type": "code",
   "execution_count": 4,
   "id": "995c47b3",
   "metadata": {},
   "outputs": [
    {
     "data": {
      "text/plain": [
       "<langgraph.graph.state.StateGraph at 0x71ad789a1400>"
      ]
     },
     "execution_count": 4,
     "metadata": {},
     "output_type": "execute_result"
    }
   ],
   "source": [
    "graph = StateGraph(State)\n",
    "\n",
    "graph.add_node(\"calculate_bmi\", calculate_bmi)\n",
    "graph.add_node(\"label_bmi\", label_bmi)\n",
    "\n",
    "graph.add_edge(START,\"calculate_bmi\")\n",
    "graph.add_edge(\"calculate_bmi\", \"label_bmi\")\n",
    "graph.add_edge(\"label_bmi\", END)"
   ]
  },
  {
   "cell_type": "code",
   "execution_count": 5,
   "id": "15cb6943",
   "metadata": {},
   "outputs": [],
   "source": [
    "workflow = graph.compile()"
   ]
  },
  {
   "cell_type": "code",
   "execution_count": 6,
   "id": "b3f55d46",
   "metadata": {},
   "outputs": [
    {
     "data": {
      "text/plain": [
       "{'height': 1.6, 'weight': 93, 'bmi': 36.32812499999999, 'bmi_label': 'Obesity'}"
      ]
     },
     "execution_count": 6,
     "metadata": {},
     "output_type": "execute_result"
    }
   ],
   "source": [
    "workflow.invoke({\"height\": 1.6, \"weight\": 93})"
   ]
  },
  {
   "cell_type": "code",
   "execution_count": null,
   "id": "bd81005f",
   "metadata": {},
   "outputs": [],
   "source": []
  }
 ],
 "metadata": {
  "kernelspec": {
   "display_name": ".venv",
   "language": "python",
   "name": "python3"
  },
  "language_info": {
   "codemirror_mode": {
    "name": "ipython",
    "version": 3
   },
   "file_extension": ".py",
   "mimetype": "text/x-python",
   "name": "python",
   "nbconvert_exporter": "python",
   "pygments_lexer": "ipython3",
   "version": "3.12.11"
  }
 },
 "nbformat": 4,
 "nbformat_minor": 5
}
