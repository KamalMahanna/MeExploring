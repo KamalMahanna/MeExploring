{
 "cells": [
  {
   "cell_type": "code",
   "execution_count": 1,
   "id": "4169c1ba",
   "metadata": {},
   "outputs": [],
   "source": [
    "import numpy as np"
   ]
  },
  {
   "cell_type": "code",
   "execution_count": 2,
   "id": "faf448a9",
   "metadata": {},
   "outputs": [],
   "source": [
    "def derivative(x):\n",
    "    return np.exp(x)-1/x"
   ]
  },
  {
   "cell_type": "code",
   "execution_count": 13,
   "id": "15d914b5",
   "metadata": {},
   "outputs": [],
   "source": [
    "def gradient(x,alpha=0.005):\n",
    "    diff=float(\"inf\")\n",
    "    while diff>1e-15:\n",
    "        new_x=x-alpha*derivative(x)\n",
    "        diff=np.abs(new_x-x)\n",
    "        x=new_x\n",
    "    return x"
   ]
  },
  {
   "cell_type": "code",
   "execution_count": 17,
   "id": "4b88126f",
   "metadata": {},
   "outputs": [
    {
     "data": {
      "text/plain": [
       "np.float64(0.5671432904097425)"
      ]
     },
     "execution_count": 17,
     "metadata": {},
     "output_type": "execute_result"
    }
   ],
   "source": [
    "gradient(0.05)"
   ]
  },
  {
   "cell_type": "code",
   "execution_count": null,
   "id": "207c19a8",
   "metadata": {},
   "outputs": [],
   "source": []
  }
 ],
 "metadata": {
  "kernelspec": {
   "display_name": "Math",
   "language": "python",
   "name": "python3"
  },
  "language_info": {
   "codemirror_mode": {
    "name": "ipython",
    "version": 3
   },
   "file_extension": ".py",
   "mimetype": "text/x-python",
   "name": "python",
   "nbconvert_exporter": "python",
   "pygments_lexer": "ipython3",
   "version": "3.13.3"
  }
 },
 "nbformat": 4,
 "nbformat_minor": 5
}
