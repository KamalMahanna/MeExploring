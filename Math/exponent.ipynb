{
 "cells": [
  {
   "cell_type": "code",
   "execution_count": 1,
   "id": "24b4c89f",
   "metadata": {},
   "outputs": [],
   "source": [
    "import numpy as np\n",
    "import plotly.graph_objects as go"
   ]
  },
  {
   "cell_type": "code",
   "execution_count": 2,
   "id": "4d896c71-ea90-4e01-a0b5-cc7ce683e3f0",
   "metadata": {},
   "outputs": [],
   "source": [
    "x=np.linspace(-2,6,10_000_000)"
   ]
  },
  {
   "cell_type": "code",
   "execution_count": 3,
   "id": "16cedad9-fc2c-476b-8d87-69e9a18c568c",
   "metadata": {},
   "outputs": [],
   "source": [
    "y=np.exp(x)"
   ]
  },
  {
   "cell_type": "code",
   "execution_count": 4,
   "id": "19296bd5-3109-4b1c-96fa-484e80cf3e3d",
   "metadata": {},
   "outputs": [],
   "source": [
    "slope = (y[1:]-y[:-1])/(x[1:]-x[:-1])"
   ]
  },
  {
   "cell_type": "code",
   "execution_count": 5,
   "id": "89c5be32-9747-411c-a55e-9690a90b449a",
   "metadata": {},
   "outputs": [
    {
     "data": {
      "text/plain": [
       "np.int64(0)"
      ]
     },
     "execution_count": 5,
     "metadata": {},
     "output_type": "execute_result"
    }
   ],
   "source": [
    "np.sum(np.isclose(slope,y[:-1],1e-14,1e-14))"
   ]
  },
  {
   "cell_type": "code",
   "execution_count": 6,
   "id": "001eba0b-cd20-4fcc-96a8-0d2e37280373",
   "metadata": {},
   "outputs": [
    {
     "data": {
      "text/plain": [
       "(np.float64(0.13533533735073305), np.float64(0.1353352832366127))"
      ]
     },
     "execution_count": 6,
     "metadata": {},
     "output_type": "execute_result"
    }
   ],
   "source": [
    "slope[0],y[0]"
   ]
  },
  {
   "cell_type": "code",
   "execution_count": 7,
   "id": "7a506bd8-3a72-4859-ba6e-e5a351264c73",
   "metadata": {},
   "outputs": [
    {
     "data": {
      "text/plain": [
       "np.int64(0)"
      ]
     },
     "execution_count": 7,
     "metadata": {},
     "output_type": "execute_result"
    }
   ],
   "source": [
    "np.sum(slope==y[:-1])"
   ]
  },
  {
   "cell_type": "code",
   "execution_count": null,
   "id": "932621d8-80df-4fbd-bf55-dcda11881069",
   "metadata": {},
   "outputs": [],
   "source": [
    "fig=go.Figure(\n",
    "[\n",
    "    go.Scatter(x=x,y=y,name=\"exp\"),\n",
    "\n",
    "],layout={\n",
    "    \"hovermode\":False\n",
    "}\n",
    ")\n",
    "fig.show()"
   ]
  },
  {
   "cell_type": "code",
   "execution_count": null,
   "id": "508726f4-9b68-4433-96c2-98651487bb1e",
   "metadata": {},
   "outputs": [],
   "source": [
    "\n",
    "fig=go.Figure(\n",
    "[\n",
    "    go.Scatter(x=y,y=slope,name='slope')\n",
    "\n",
    "],layout={\n",
    "    \"hovermode\":False\n",
    "}\n",
    ")\n",
    "fig.show()"
   ]
  },
  {
   "cell_type": "code",
   "execution_count": null,
   "id": "3a4d864b",
   "metadata": {},
   "outputs": [],
   "source": []
  },
  {
   "cell_type": "code",
   "execution_count": null,
   "id": "c13f773a",
   "metadata": {},
   "outputs": [],
   "source": []
  },
  {
   "cell_type": "code",
   "execution_count": null,
   "id": "199f949f",
   "metadata": {},
   "outputs": [],
   "source": []
  },
  {
   "cell_type": "code",
   "execution_count": null,
   "id": "151be171",
   "metadata": {},
   "outputs": [],
   "source": []
  }
 ],
 "metadata": {
  "kernelspec": {
   "display_name": ".venv",
   "language": "python",
   "name": "python3"
  },
  "language_info": {
   "codemirror_mode": {
    "name": "ipython",
    "version": 3
   },
   "file_extension": ".py",
   "mimetype": "text/x-python",
   "name": "python",
   "nbconvert_exporter": "python",
   "pygments_lexer": "ipython3",
   "version": "3.13.3"
  }
 },
 "nbformat": 4,
 "nbformat_minor": 5
}
