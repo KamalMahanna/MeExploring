{
 "cells": [
  {
   "cell_type": "code",
   "execution_count": null,
   "id": "8b2f427f",
   "metadata": {},
   "outputs": [],
   "source": [
    "import numpy as np\n",
    "import plotly.graph_objects as go"
   ]
  },
  {
   "cell_type": "code",
   "execution_count": 10,
   "id": "b30ba6d9",
   "metadata": {},
   "outputs": [
    {
     "data": {
      "application/vnd.plotly.v1+json": {
       "config": {
        "plotlyServerURL": "https://plot.ly"
       },
       "data": [
        {
         "type": "surface",
         "x": {
          "bdata": "AAAAAAAAAAAAAAEBAQEBAQEBAQECAgICAgICAgICAwMDAwMDAwMDAwQEBAQEBAQEBAQFBQUFBQUFBQUFBgYGBgYGBgYGBgcHBwcHBwcHBwcICAgICAgICAgICQkJCQkJCQkJCQ==",
          "dtype": "i1",
          "shape": "10, 10"
         },
         "y": {
          "bdata": "AAECAwQFBgcICQABAgMEBQYHCAkAAQIDBAUGBwgJAAECAwQFBgcICQABAgMEBQYHCAkAAQIDBAUGBwgJAAECAwQFBgcICQABAgMEBQYHCAkAAQIDBAUGBwgJAAECAwQFBgcICQ==",
          "dtype": "i1",
          "shape": "10, 10"
         },
         "z": {
          "bdata": "AAAAAAAAAAAAAAAAAADwPwAAAAAAAABAAAAAAAAACEAAAAAAAAAQQAAAAAAAABRAAAAAAAAAGEAAAAAAAAAcQAAAAAAAACBAAAAAAAAAIkAAAAAAAADwP807f2aeoPY/qPSXm3fjAUBTW9o6WEwJQAftr2YPfhBA9i8SX2VlFEA53GOzv1QYQMAKHwDGSBxA0LphP+AfIEAk+NlwWxwiQAAAAAAAAABAqPSXm3fjAUDNO39mnqAGQPNZYUQr2AxAqPSXm3fjEUDz2aikaIoVQFNb2jpYTBlA6ft2INUeHUAH7a9mD34gQJoukCFocCJAAAAAAAAACEBTW9o6WEwJQPNZYUQr2AxA2WzfzHb4EEAAAAAAAAAUQKKjsw3lUhdA/O5jaTPVGkBwxJ05jXYeQKMUrqiHFiFAfsQjLEL5IkAAAAAAAAAQQAftr2YPfhBAqPSXm3fjEUAAAAAAAAAUQM07f2aeoBZAAP+fmcycGUDzWWFEK9gcQNC6YT/gHyBAqPSXm3fjIUBiVmN9nbIjQAAAAAAAABRA9i8SX2VlFEDz2aikaIoVQKKjsw3lUhdAAP+fmcycGUDACh8AxkgcQGh0TheyPR9ATgE3+mM0IUBBh2LGMt4iQIiAdtVclyRAAAAAAAAAGEA53GOzv1QYQFNb2jpYTBlA/O5jaTPVGkDzWWFEK9gcQGh0TheyPR9A2WzfzHb4IECaLpAhaHAiQAAAAAAAACRAdwNJcyCiJUAAAAAAAAAcQMAKHwDGSBxA6ft2INUeHUBwxJ05jXYeQNC6YT/gHyBATgE3+mM0IUCaLpAhaHAiQFNUr5mKzCNANtDSeKJCJUDrErK7ss0mQAAAAAAAACBA0LphP+AfIEAH7a9mD34gQKMUrqiHFiFAqPSXm3fjIUBBh2LGMt4iQAAAAAAAACRANtDSeKJCJUDNO39mnqAmQCY1d+JLFShAAAAAAAAAIkAk+NlwWxwiQJoukCFocCJAfsQjLEL5IkBiVmN9nbIjQIiAdtVclyRAdwNJcyCiJUDrErK7ss0mQCY1d+JLFShARiNPM7J0KUA=",
          "dtype": "f8",
          "shape": "10, 10"
         }
        }
       ],
       "layout": {
        "template": {
         "data": {
          "bar": [
           {
            "error_x": {
             "color": "#2a3f5f"
            },
            "error_y": {
             "color": "#2a3f5f"
            },
            "marker": {
             "line": {
              "color": "#E5ECF6",
              "width": 0.5
             },
             "pattern": {
              "fillmode": "overlay",
              "size": 10,
              "solidity": 0.2
             }
            },
            "type": "bar"
           }
          ],
          "barpolar": [
           {
            "marker": {
             "line": {
              "color": "#E5ECF6",
              "width": 0.5
             },
             "pattern": {
              "fillmode": "overlay",
              "size": 10,
              "solidity": 0.2
             }
            },
            "type": "barpolar"
           }
          ],
          "carpet": [
           {
            "aaxis": {
             "endlinecolor": "#2a3f5f",
             "gridcolor": "white",
             "linecolor": "white",
             "minorgridcolor": "white",
             "startlinecolor": "#2a3f5f"
            },
            "baxis": {
             "endlinecolor": "#2a3f5f",
             "gridcolor": "white",
             "linecolor": "white",
             "minorgridcolor": "white",
             "startlinecolor": "#2a3f5f"
            },
            "type": "carpet"
           }
          ],
          "choropleth": [
           {
            "colorbar": {
             "outlinewidth": 0,
             "ticks": ""
            },
            "type": "choropleth"
           }
          ],
          "contour": [
           {
            "colorbar": {
             "outlinewidth": 0,
             "ticks": ""
            },
            "colorscale": [
             [
              0,
              "#0d0887"
             ],
             [
              0.1111111111111111,
              "#46039f"
             ],
             [
              0.2222222222222222,
              "#7201a8"
             ],
             [
              0.3333333333333333,
              "#9c179e"
             ],
             [
              0.4444444444444444,
              "#bd3786"
             ],
             [
              0.5555555555555556,
              "#d8576b"
             ],
             [
              0.6666666666666666,
              "#ed7953"
             ],
             [
              0.7777777777777778,
              "#fb9f3a"
             ],
             [
              0.8888888888888888,
              "#fdca26"
             ],
             [
              1,
              "#f0f921"
             ]
            ],
            "type": "contour"
           }
          ],
          "contourcarpet": [
           {
            "colorbar": {
             "outlinewidth": 0,
             "ticks": ""
            },
            "type": "contourcarpet"
           }
          ],
          "heatmap": [
           {
            "colorbar": {
             "outlinewidth": 0,
             "ticks": ""
            },
            "colorscale": [
             [
              0,
              "#0d0887"
             ],
             [
              0.1111111111111111,
              "#46039f"
             ],
             [
              0.2222222222222222,
              "#7201a8"
             ],
             [
              0.3333333333333333,
              "#9c179e"
             ],
             [
              0.4444444444444444,
              "#bd3786"
             ],
             [
              0.5555555555555556,
              "#d8576b"
             ],
             [
              0.6666666666666666,
              "#ed7953"
             ],
             [
              0.7777777777777778,
              "#fb9f3a"
             ],
             [
              0.8888888888888888,
              "#fdca26"
             ],
             [
              1,
              "#f0f921"
             ]
            ],
            "type": "heatmap"
           }
          ],
          "histogram": [
           {
            "marker": {
             "pattern": {
              "fillmode": "overlay",
              "size": 10,
              "solidity": 0.2
             }
            },
            "type": "histogram"
           }
          ],
          "histogram2d": [
           {
            "colorbar": {
             "outlinewidth": 0,
             "ticks": ""
            },
            "colorscale": [
             [
              0,
              "#0d0887"
             ],
             [
              0.1111111111111111,
              "#46039f"
             ],
             [
              0.2222222222222222,
              "#7201a8"
             ],
             [
              0.3333333333333333,
              "#9c179e"
             ],
             [
              0.4444444444444444,
              "#bd3786"
             ],
             [
              0.5555555555555556,
              "#d8576b"
             ],
             [
              0.6666666666666666,
              "#ed7953"
             ],
             [
              0.7777777777777778,
              "#fb9f3a"
             ],
             [
              0.8888888888888888,
              "#fdca26"
             ],
             [
              1,
              "#f0f921"
             ]
            ],
            "type": "histogram2d"
           }
          ],
          "histogram2dcontour": [
           {
            "colorbar": {
             "outlinewidth": 0,
             "ticks": ""
            },
            "colorscale": [
             [
              0,
              "#0d0887"
             ],
             [
              0.1111111111111111,
              "#46039f"
             ],
             [
              0.2222222222222222,
              "#7201a8"
             ],
             [
              0.3333333333333333,
              "#9c179e"
             ],
             [
              0.4444444444444444,
              "#bd3786"
             ],
             [
              0.5555555555555556,
              "#d8576b"
             ],
             [
              0.6666666666666666,
              "#ed7953"
             ],
             [
              0.7777777777777778,
              "#fb9f3a"
             ],
             [
              0.8888888888888888,
              "#fdca26"
             ],
             [
              1,
              "#f0f921"
             ]
            ],
            "type": "histogram2dcontour"
           }
          ],
          "mesh3d": [
           {
            "colorbar": {
             "outlinewidth": 0,
             "ticks": ""
            },
            "type": "mesh3d"
           }
          ],
          "parcoords": [
           {
            "line": {
             "colorbar": {
              "outlinewidth": 0,
              "ticks": ""
             }
            },
            "type": "parcoords"
           }
          ],
          "pie": [
           {
            "automargin": true,
            "type": "pie"
           }
          ],
          "scatter": [
           {
            "fillpattern": {
             "fillmode": "overlay",
             "size": 10,
             "solidity": 0.2
            },
            "type": "scatter"
           }
          ],
          "scatter3d": [
           {
            "line": {
             "colorbar": {
              "outlinewidth": 0,
              "ticks": ""
             }
            },
            "marker": {
             "colorbar": {
              "outlinewidth": 0,
              "ticks": ""
             }
            },
            "type": "scatter3d"
           }
          ],
          "scattercarpet": [
           {
            "marker": {
             "colorbar": {
              "outlinewidth": 0,
              "ticks": ""
             }
            },
            "type": "scattercarpet"
           }
          ],
          "scattergeo": [
           {
            "marker": {
             "colorbar": {
              "outlinewidth": 0,
              "ticks": ""
             }
            },
            "type": "scattergeo"
           }
          ],
          "scattergl": [
           {
            "marker": {
             "colorbar": {
              "outlinewidth": 0,
              "ticks": ""
             }
            },
            "type": "scattergl"
           }
          ],
          "scattermap": [
           {
            "marker": {
             "colorbar": {
              "outlinewidth": 0,
              "ticks": ""
             }
            },
            "type": "scattermap"
           }
          ],
          "scattermapbox": [
           {
            "marker": {
             "colorbar": {
              "outlinewidth": 0,
              "ticks": ""
             }
            },
            "type": "scattermapbox"
           }
          ],
          "scatterpolar": [
           {
            "marker": {
             "colorbar": {
              "outlinewidth": 0,
              "ticks": ""
             }
            },
            "type": "scatterpolar"
           }
          ],
          "scatterpolargl": [
           {
            "marker": {
             "colorbar": {
              "outlinewidth": 0,
              "ticks": ""
             }
            },
            "type": "scatterpolargl"
           }
          ],
          "scatterternary": [
           {
            "marker": {
             "colorbar": {
              "outlinewidth": 0,
              "ticks": ""
             }
            },
            "type": "scatterternary"
           }
          ],
          "surface": [
           {
            "colorbar": {
             "outlinewidth": 0,
             "ticks": ""
            },
            "colorscale": [
             [
              0,
              "#0d0887"
             ],
             [
              0.1111111111111111,
              "#46039f"
             ],
             [
              0.2222222222222222,
              "#7201a8"
             ],
             [
              0.3333333333333333,
              "#9c179e"
             ],
             [
              0.4444444444444444,
              "#bd3786"
             ],
             [
              0.5555555555555556,
              "#d8576b"
             ],
             [
              0.6666666666666666,
              "#ed7953"
             ],
             [
              0.7777777777777778,
              "#fb9f3a"
             ],
             [
              0.8888888888888888,
              "#fdca26"
             ],
             [
              1,
              "#f0f921"
             ]
            ],
            "type": "surface"
           }
          ],
          "table": [
           {
            "cells": {
             "fill": {
              "color": "#EBF0F8"
             },
             "line": {
              "color": "white"
             }
            },
            "header": {
             "fill": {
              "color": "#C8D4E3"
             },
             "line": {
              "color": "white"
             }
            },
            "type": "table"
           }
          ]
         },
         "layout": {
          "annotationdefaults": {
           "arrowcolor": "#2a3f5f",
           "arrowhead": 0,
           "arrowwidth": 1
          },
          "autotypenumbers": "strict",
          "coloraxis": {
           "colorbar": {
            "outlinewidth": 0,
            "ticks": ""
           }
          },
          "colorscale": {
           "diverging": [
            [
             0,
             "#8e0152"
            ],
            [
             0.1,
             "#c51b7d"
            ],
            [
             0.2,
             "#de77ae"
            ],
            [
             0.3,
             "#f1b6da"
            ],
            [
             0.4,
             "#fde0ef"
            ],
            [
             0.5,
             "#f7f7f7"
            ],
            [
             0.6,
             "#e6f5d0"
            ],
            [
             0.7,
             "#b8e186"
            ],
            [
             0.8,
             "#7fbc41"
            ],
            [
             0.9,
             "#4d9221"
            ],
            [
             1,
             "#276419"
            ]
           ],
           "sequential": [
            [
             0,
             "#0d0887"
            ],
            [
             0.1111111111111111,
             "#46039f"
            ],
            [
             0.2222222222222222,
             "#7201a8"
            ],
            [
             0.3333333333333333,
             "#9c179e"
            ],
            [
             0.4444444444444444,
             "#bd3786"
            ],
            [
             0.5555555555555556,
             "#d8576b"
            ],
            [
             0.6666666666666666,
             "#ed7953"
            ],
            [
             0.7777777777777778,
             "#fb9f3a"
            ],
            [
             0.8888888888888888,
             "#fdca26"
            ],
            [
             1,
             "#f0f921"
            ]
           ],
           "sequentialminus": [
            [
             0,
             "#0d0887"
            ],
            [
             0.1111111111111111,
             "#46039f"
            ],
            [
             0.2222222222222222,
             "#7201a8"
            ],
            [
             0.3333333333333333,
             "#9c179e"
            ],
            [
             0.4444444444444444,
             "#bd3786"
            ],
            [
             0.5555555555555556,
             "#d8576b"
            ],
            [
             0.6666666666666666,
             "#ed7953"
            ],
            [
             0.7777777777777778,
             "#fb9f3a"
            ],
            [
             0.8888888888888888,
             "#fdca26"
            ],
            [
             1,
             "#f0f921"
            ]
           ]
          },
          "colorway": [
           "#636efa",
           "#EF553B",
           "#00cc96",
           "#ab63fa",
           "#FFA15A",
           "#19d3f3",
           "#FF6692",
           "#B6E880",
           "#FF97FF",
           "#FECB52"
          ],
          "font": {
           "color": "#2a3f5f"
          },
          "geo": {
           "bgcolor": "white",
           "lakecolor": "white",
           "landcolor": "#E5ECF6",
           "showlakes": true,
           "showland": true,
           "subunitcolor": "white"
          },
          "hoverlabel": {
           "align": "left"
          },
          "hovermode": "closest",
          "mapbox": {
           "style": "light"
          },
          "paper_bgcolor": "white",
          "plot_bgcolor": "#E5ECF6",
          "polar": {
           "angularaxis": {
            "gridcolor": "white",
            "linecolor": "white",
            "ticks": ""
           },
           "bgcolor": "#E5ECF6",
           "radialaxis": {
            "gridcolor": "white",
            "linecolor": "white",
            "ticks": ""
           }
          },
          "scene": {
           "xaxis": {
            "backgroundcolor": "#E5ECF6",
            "gridcolor": "white",
            "gridwidth": 2,
            "linecolor": "white",
            "showbackground": true,
            "ticks": "",
            "zerolinecolor": "white"
           },
           "yaxis": {
            "backgroundcolor": "#E5ECF6",
            "gridcolor": "white",
            "gridwidth": 2,
            "linecolor": "white",
            "showbackground": true,
            "ticks": "",
            "zerolinecolor": "white"
           },
           "zaxis": {
            "backgroundcolor": "#E5ECF6",
            "gridcolor": "white",
            "gridwidth": 2,
            "linecolor": "white",
            "showbackground": true,
            "ticks": "",
            "zerolinecolor": "white"
           }
          },
          "shapedefaults": {
           "line": {
            "color": "#2a3f5f"
           }
          },
          "ternary": {
           "aaxis": {
            "gridcolor": "white",
            "linecolor": "white",
            "ticks": ""
           },
           "baxis": {
            "gridcolor": "white",
            "linecolor": "white",
            "ticks": ""
           },
           "bgcolor": "#E5ECF6",
           "caxis": {
            "gridcolor": "white",
            "linecolor": "white",
            "ticks": ""
           }
          },
          "title": {
           "x": 0.05
          },
          "xaxis": {
           "automargin": true,
           "gridcolor": "white",
           "linecolor": "white",
           "ticks": "",
           "title": {
            "standoff": 15
           },
           "zerolinecolor": "white",
           "zerolinewidth": 2
          },
          "yaxis": {
           "automargin": true,
           "gridcolor": "white",
           "linecolor": "white",
           "ticks": "",
           "title": {
            "standoff": 15
           },
           "zerolinecolor": "white",
           "zerolinewidth": 2
          }
         }
        }
       }
      }
     },
     "metadata": {},
     "output_type": "display_data"
    }
   ],
   "source": [
    "x=np.arange(0,10)\n",
    "y=np.copy(x)\n",
    "x,y=np.meshgrid(x,y,indexing='ij')\n",
    "z=(x**2+y**2)**0.5\n",
    "\n",
    "fig=go.Figure(data=[go.Surface(z=z,x=x,y=y)])\n",
    "fig.show()"
   ]
  },
  {
   "cell_type": "code",
   "execution_count": 3,
   "id": "80eaf2b4",
   "metadata": {},
   "outputs": [
    {
     "data": {
      "text/plain": [
       "((10, 10), (10, 10), (10, 10))"
      ]
     },
     "execution_count": 3,
     "metadata": {},
     "output_type": "execute_result"
    }
   ],
   "source": [
    "x.shape,y.shape,z.shape"
   ]
  },
  {
   "cell_type": "code",
   "execution_count": 4,
   "id": "a7165fb0",
   "metadata": {},
   "outputs": [
    {
     "data": {
      "text/plain": [
       "(array([0, 0, 0, 0, 0, 0, 0, 0, 0, 0]),\n",
       " array([0, 1, 2, 3, 4, 5, 6, 7, 8, 9]),\n",
       " array([0, 1, 2, 3, 4, 5, 6, 7, 8, 9]))"
      ]
     },
     "execution_count": 4,
     "metadata": {},
     "output_type": "execute_result"
    }
   ],
   "source": [
    "x[0],y[0],z[0]"
   ]
  },
  {
   "cell_type": "code",
   "execution_count": 5,
   "id": "0686924d",
   "metadata": {},
   "outputs": [
    {
     "data": {
      "text/plain": [
       "(array([1, 1, 1, 1, 1, 1, 1, 1, 1, 1]),\n",
       " array([0, 1, 2, 3, 4, 5, 6, 7, 8, 9]),\n",
       " array([ 1,  2,  3,  4,  5,  6,  7,  8,  9, 10]))"
      ]
     },
     "execution_count": 5,
     "metadata": {},
     "output_type": "execute_result"
    }
   ],
   "source": [
    "x[1],y[1],z[1]"
   ]
  },
  {
   "cell_type": "code",
   "execution_count": 6,
   "id": "4840aca6",
   "metadata": {},
   "outputs": [
    {
     "data": {
      "text/plain": [
       "(array([2, 2, 2, 2, 2, 2, 2, 2, 2, 2]),\n",
       " array([0, 1, 2, 3, 4, 5, 6, 7, 8, 9]),\n",
       " array([ 2,  3,  4,  5,  6,  7,  8,  9, 10, 11]))"
      ]
     },
     "execution_count": 6,
     "metadata": {},
     "output_type": "execute_result"
    }
   ],
   "source": [
    "x[2],y[2],z[2]"
   ]
  },
  {
   "cell_type": "code",
   "execution_count": 7,
   "id": "4c8bca37",
   "metadata": {},
   "outputs": [
    {
     "data": {
      "application/vnd.plotly.v1+json": {
       "config": {
        "plotlyServerURL": "https://plot.ly"
       },
       "data": [
        {
         "marker": {
          "size": 1
         },
         "mode": "markers",
         "type": "scatter3d",
         "x": {
          "bdata": "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",
          "dtype": "f8"
         },
         "y": {
          "bdata": "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",
          "dtype": "f8"
         },
         "z": {
          "bdata": "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",
          "dtype": "f8"
         }
        }
       ],
       "layout": {
        "template": {
         "data": {
          "bar": [
           {
            "error_x": {
             "color": "#2a3f5f"
            },
            "error_y": {
             "color": "#2a3f5f"
            },
            "marker": {
             "line": {
              "color": "#E5ECF6",
              "width": 0.5
             },
             "pattern": {
              "fillmode": "overlay",
              "size": 10,
              "solidity": 0.2
             }
            },
            "type": "bar"
           }
          ],
          "barpolar": [
           {
            "marker": {
             "line": {
              "color": "#E5ECF6",
              "width": 0.5
             },
             "pattern": {
              "fillmode": "overlay",
              "size": 10,
              "solidity": 0.2
             }
            },
            "type": "barpolar"
           }
          ],
          "carpet": [
           {
            "aaxis": {
             "endlinecolor": "#2a3f5f",
             "gridcolor": "white",
             "linecolor": "white",
             "minorgridcolor": "white",
             "startlinecolor": "#2a3f5f"
            },
            "baxis": {
             "endlinecolor": "#2a3f5f",
             "gridcolor": "white",
             "linecolor": "white",
             "minorgridcolor": "white",
             "startlinecolor": "#2a3f5f"
            },
            "type": "carpet"
           }
          ],
          "choropleth": [
           {
            "colorbar": {
             "outlinewidth": 0,
             "ticks": ""
            },
            "type": "choropleth"
           }
          ],
          "contour": [
           {
            "colorbar": {
             "outlinewidth": 0,
             "ticks": ""
            },
            "colorscale": [
             [
              0,
              "#0d0887"
             ],
             [
              0.1111111111111111,
              "#46039f"
             ],
             [
              0.2222222222222222,
              "#7201a8"
             ],
             [
              0.3333333333333333,
              "#9c179e"
             ],
             [
              0.4444444444444444,
              "#bd3786"
             ],
             [
              0.5555555555555556,
              "#d8576b"
             ],
             [
              0.6666666666666666,
              "#ed7953"
             ],
             [
              0.7777777777777778,
              "#fb9f3a"
             ],
             [
              0.8888888888888888,
              "#fdca26"
             ],
             [
              1,
              "#f0f921"
             ]
            ],
            "type": "contour"
           }
          ],
          "contourcarpet": [
           {
            "colorbar": {
             "outlinewidth": 0,
             "ticks": ""
            },
            "type": "contourcarpet"
           }
          ],
          "heatmap": [
           {
            "colorbar": {
             "outlinewidth": 0,
             "ticks": ""
            },
            "colorscale": [
             [
              0,
              "#0d0887"
             ],
             [
              0.1111111111111111,
              "#46039f"
             ],
             [
              0.2222222222222222,
              "#7201a8"
             ],
             [
              0.3333333333333333,
              "#9c179e"
             ],
             [
              0.4444444444444444,
              "#bd3786"
             ],
             [
              0.5555555555555556,
              "#d8576b"
             ],
             [
              0.6666666666666666,
              "#ed7953"
             ],
             [
              0.7777777777777778,
              "#fb9f3a"
             ],
             [
              0.8888888888888888,
              "#fdca26"
             ],
             [
              1,
              "#f0f921"
             ]
            ],
            "type": "heatmap"
           }
          ],
          "histogram": [
           {
            "marker": {
             "pattern": {
              "fillmode": "overlay",
              "size": 10,
              "solidity": 0.2
             }
            },
            "type": "histogram"
           }
          ],
          "histogram2d": [
           {
            "colorbar": {
             "outlinewidth": 0,
             "ticks": ""
            },
            "colorscale": [
             [
              0,
              "#0d0887"
             ],
             [
              0.1111111111111111,
              "#46039f"
             ],
             [
              0.2222222222222222,
              "#7201a8"
             ],
             [
              0.3333333333333333,
              "#9c179e"
             ],
             [
              0.4444444444444444,
              "#bd3786"
             ],
             [
              0.5555555555555556,
              "#d8576b"
             ],
             [
              0.6666666666666666,
              "#ed7953"
             ],
             [
              0.7777777777777778,
              "#fb9f3a"
             ],
             [
              0.8888888888888888,
              "#fdca26"
             ],
             [
              1,
              "#f0f921"
             ]
            ],
            "type": "histogram2d"
           }
          ],
          "histogram2dcontour": [
           {
            "colorbar": {
             "outlinewidth": 0,
             "ticks": ""
            },
            "colorscale": [
             [
              0,
              "#0d0887"
             ],
             [
              0.1111111111111111,
              "#46039f"
             ],
             [
              0.2222222222222222,
              "#7201a8"
             ],
             [
              0.3333333333333333,
              "#9c179e"
             ],
             [
              0.4444444444444444,
              "#bd3786"
             ],
             [
              0.5555555555555556,
              "#d8576b"
             ],
             [
              0.6666666666666666,
              "#ed7953"
             ],
             [
              0.7777777777777778,
              "#fb9f3a"
             ],
             [
              0.8888888888888888,
              "#fdca26"
             ],
             [
              1,
              "#f0f921"
             ]
            ],
            "type": "histogram2dcontour"
           }
          ],
          "mesh3d": [
           {
            "colorbar": {
             "outlinewidth": 0,
             "ticks": ""
            },
            "type": "mesh3d"
           }
          ],
          "parcoords": [
           {
            "line": {
             "colorbar": {
              "outlinewidth": 0,
              "ticks": ""
             }
            },
            "type": "parcoords"
           }
          ],
          "pie": [
           {
            "automargin": true,
            "type": "pie"
           }
          ],
          "scatter": [
           {
            "fillpattern": {
             "fillmode": "overlay",
             "size": 10,
             "solidity": 0.2
            },
            "type": "scatter"
           }
          ],
          "scatter3d": [
           {
            "line": {
             "colorbar": {
              "outlinewidth": 0,
              "ticks": ""
             }
            },
            "marker": {
             "colorbar": {
              "outlinewidth": 0,
              "ticks": ""
             }
            },
            "type": "scatter3d"
           }
          ],
          "scattercarpet": [
           {
            "marker": {
             "colorbar": {
              "outlinewidth": 0,
              "ticks": ""
             }
            },
            "type": "scattercarpet"
           }
          ],
          "scattergeo": [
           {
            "marker": {
             "colorbar": {
              "outlinewidth": 0,
              "ticks": ""
             }
            },
            "type": "scattergeo"
           }
          ],
          "scattergl": [
           {
            "marker": {
             "colorbar": {
              "outlinewidth": 0,
              "ticks": ""
             }
            },
            "type": "scattergl"
           }
          ],
          "scattermap": [
           {
            "marker": {
             "colorbar": {
              "outlinewidth": 0,
              "ticks": ""
             }
            },
            "type": "scattermap"
           }
          ],
          "scattermapbox": [
           {
            "marker": {
             "colorbar": {
              "outlinewidth": 0,
              "ticks": ""
             }
            },
            "type": "scattermapbox"
           }
          ],
          "scatterpolar": [
           {
            "marker": {
             "colorbar": {
              "outlinewidth": 0,
              "ticks": ""
             }
            },
            "type": "scatterpolar"
           }
          ],
          "scatterpolargl": [
           {
            "marker": {
             "colorbar": {
              "outlinewidth": 0,
              "ticks": ""
             }
            },
            "type": "scatterpolargl"
           }
          ],
          "scatterternary": [
           {
            "marker": {
             "colorbar": {
              "outlinewidth": 0,
              "ticks": ""
             }
            },
            "type": "scatterternary"
           }
          ],
          "surface": [
           {
            "colorbar": {
             "outlinewidth": 0,
             "ticks": ""
            },
            "colorscale": [
             [
              0,
              "#0d0887"
             ],
             [
              0.1111111111111111,
              "#46039f"
             ],
             [
              0.2222222222222222,
              "#7201a8"
             ],
             [
              0.3333333333333333,
              "#9c179e"
             ],
             [
              0.4444444444444444,
              "#bd3786"
             ],
             [
              0.5555555555555556,
              "#d8576b"
             ],
             [
              0.6666666666666666,
              "#ed7953"
             ],
             [
              0.7777777777777778,
              "#fb9f3a"
             ],
             [
              0.8888888888888888,
              "#fdca26"
             ],
             [
              1,
              "#f0f921"
             ]
            ],
            "type": "surface"
           }
          ],
          "table": [
           {
            "cells": {
             "fill": {
              "color": "#EBF0F8"
             },
             "line": {
              "color": "white"
             }
            },
            "header": {
             "fill": {
              "color": "#C8D4E3"
             },
             "line": {
              "color": "white"
             }
            },
            "type": "table"
           }
          ]
         },
         "layout": {
          "annotationdefaults": {
           "arrowcolor": "#2a3f5f",
           "arrowhead": 0,
           "arrowwidth": 1
          },
          "autotypenumbers": "strict",
          "coloraxis": {
           "colorbar": {
            "outlinewidth": 0,
            "ticks": ""
           }
          },
          "colorscale": {
           "diverging": [
            [
             0,
             "#8e0152"
            ],
            [
             0.1,
             "#c51b7d"
            ],
            [
             0.2,
             "#de77ae"
            ],
            [
             0.3,
             "#f1b6da"
            ],
            [
             0.4,
             "#fde0ef"
            ],
            [
             0.5,
             "#f7f7f7"
            ],
            [
             0.6,
             "#e6f5d0"
            ],
            [
             0.7,
             "#b8e186"
            ],
            [
             0.8,
             "#7fbc41"
            ],
            [
             0.9,
             "#4d9221"
            ],
            [
             1,
             "#276419"
            ]
           ],
           "sequential": [
            [
             0,
             "#0d0887"
            ],
            [
             0.1111111111111111,
             "#46039f"
            ],
            [
             0.2222222222222222,
             "#7201a8"
            ],
            [
             0.3333333333333333,
             "#9c179e"
            ],
            [
             0.4444444444444444,
             "#bd3786"
            ],
            [
             0.5555555555555556,
             "#d8576b"
            ],
            [
             0.6666666666666666,
             "#ed7953"
            ],
            [
             0.7777777777777778,
             "#fb9f3a"
            ],
            [
             0.8888888888888888,
             "#fdca26"
            ],
            [
             1,
             "#f0f921"
            ]
           ],
           "sequentialminus": [
            [
             0,
             "#0d0887"
            ],
            [
             0.1111111111111111,
             "#46039f"
            ],
            [
             0.2222222222222222,
             "#7201a8"
            ],
            [
             0.3333333333333333,
             "#9c179e"
            ],
            [
             0.4444444444444444,
             "#bd3786"
            ],
            [
             0.5555555555555556,
             "#d8576b"
            ],
            [
             0.6666666666666666,
             "#ed7953"
            ],
            [
             0.7777777777777778,
             "#fb9f3a"
            ],
            [
             0.8888888888888888,
             "#fdca26"
            ],
            [
             1,
             "#f0f921"
            ]
           ]
          },
          "colorway": [
           "#636efa",
           "#EF553B",
           "#00cc96",
           "#ab63fa",
           "#FFA15A",
           "#19d3f3",
           "#FF6692",
           "#B6E880",
           "#FF97FF",
           "#FECB52"
          ],
          "font": {
           "color": "#2a3f5f"
          },
          "geo": {
           "bgcolor": "white",
           "lakecolor": "white",
           "landcolor": "#E5ECF6",
           "showlakes": true,
           "showland": true,
           "subunitcolor": "white"
          },
          "hoverlabel": {
           "align": "left"
          },
          "hovermode": "closest",
          "mapbox": {
           "style": "light"
          },
          "paper_bgcolor": "white",
          "plot_bgcolor": "#E5ECF6",
          "polar": {
           "angularaxis": {
            "gridcolor": "white",
            "linecolor": "white",
            "ticks": ""
           },
           "bgcolor": "#E5ECF6",
           "radialaxis": {
            "gridcolor": "white",
            "linecolor": "white",
            "ticks": ""
           }
          },
          "scene": {
           "xaxis": {
            "backgroundcolor": "#E5ECF6",
            "gridcolor": "white",
            "gridwidth": 2,
            "linecolor": "white",
            "showbackground": true,
            "ticks": "",
            "zerolinecolor": "white"
           },
           "yaxis": {
            "backgroundcolor": "#E5ECF6",
            "gridcolor": "white",
            "gridwidth": 2,
            "linecolor": "white",
            "showbackground": true,
            "ticks": "",
            "zerolinecolor": "white"
           },
           "zaxis": {
            "backgroundcolor": "#E5ECF6",
            "gridcolor": "white",
            "gridwidth": 2,
            "linecolor": "white",
            "showbackground": true,
            "ticks": "",
            "zerolinecolor": "white"
           }
          },
          "shapedefaults": {
           "line": {
            "color": "#2a3f5f"
           }
          },
          "ternary": {
           "aaxis": {
            "gridcolor": "white",
            "linecolor": "white",
            "ticks": ""
           },
           "baxis": {
            "gridcolor": "white",
            "linecolor": "white",
            "ticks": ""
           },
           "bgcolor": "#E5ECF6",
           "caxis": {
            "gridcolor": "white",
            "linecolor": "white",
            "ticks": ""
           }
          },
          "title": {
           "x": 0.05
          },
          "xaxis": {
           "automargin": true,
           "gridcolor": "white",
           "linecolor": "white",
           "ticks": "",
           "title": {
            "standoff": 15
           },
           "zerolinecolor": "white",
           "zerolinewidth": 2
          },
          "yaxis": {
           "automargin": true,
           "gridcolor": "white",
           "linecolor": "white",
           "ticks": "",
           "title": {
            "standoff": 15
           },
           "zerolinecolor": "white",
           "zerolinewidth": 2
          }
         }
        }
       }
      }
     },
     "metadata": {},
     "output_type": "display_data"
    }
   ],
   "source": [
    "x=np.linspace(-10,10,1000)\n",
    "y=np.copy(x)\n",
    "z=np.sin(np.sqrt(x**2+y**2))\n",
    "\n",
    "fig=go.Figure(data=[go.Scatter3d(z=z,x=x,y=y,mode=\"markers\",marker=dict(size=1))])\n",
    "fig.show()"
   ]
  },
  {
   "cell_type": "code",
   "execution_count": 8,
   "metadata": {},
   "outputs": [
    {
     "data": {
      "text/plain": [
       "((1000,), (1000,), (1000,))"
      ]
     },
     "execution_count": 8,
     "metadata": {},
     "output_type": "execute_result"
    }
   ],
   "source": [
    "x.shape,y.shape,z.shape"
   ]
  },
  {
   "cell_type": "code",
   "execution_count": 9,
   "id": "8a5c1ab3",
   "metadata": {},
   "outputs": [
    {
     "data": {
      "application/vnd.plotly.v1+json": {
       "config": {
        "plotlyServerURL": "https://plot.ly"
       },
       "data": [
        {
         "marker": {
          "color": {
           "bdata": "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",
           "dtype": "f8"
          },
          "colorscale": [
           [
            0,
            "rgb(150,0,90)"
           ],
           [
            0.125,
            "rgb(0,0,200)"
           ],
           [
            0.25,
            "rgb(0,25,255)"
           ],
           [
            0.375,
            "rgb(0,152,255)"
           ],
           [
            0.5,
            "rgb(44,255,150)"
           ],
           [
            0.625,
            "rgb(151,255,0)"
           ],
           [
            0.75,
            "rgb(255,234,0)"
           ],
           [
            0.875,
            "rgb(255,111,0)"
           ],
           [
            1,
            "rgb(255,0,0)"
           ]
          ],
          "size": 1
         },
         "mode": "markers",
         "type": "scatter3d",
         "x": {
          "bdata": "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",
          "dtype": "f8"
         },
         "y": {
          "bdata": "AAAAAAAAJMAAAAAAAAAkwAAAAAAAACTAAAAAAAAAJMAAAAAAAAAkwAAAAAAAACTAAAAAAAAAJMAAAAAAAAAkwAAAAAAAACTAAAAAAAAAJMAAAAAAAAAkwAAAAAAAACTAAAAAAAAAJMAAAAAAAAAkwAAAAAAAACTAAAAAAAAAJMAAAAAAAAAkwAAAAAAAACTAAAAAAAAAJMAAAAAAAAAkwAAAAAAAACTAAAAAAAAAJMAAAAAAAAAkwAAAAAAAACTAAAAAAAAAJMAAAAAAAAAkwAAAAAAAACTAAAAAAAAAJMAAAAAAAAAkwAAAAAAAACTAAAAAAAAAJMAAAAAAAAAkwAAAAAAAACTAAAAAAAAAJMAAAAAAAAAkwAAAAAAAACTAAAAAAAAAJMAAAAAAAAAkwAAAAAAAACTAAAAAAAAAJMAAAAAAAAAkwAAAAAAAACTAAAAAAAAAJMAAAAAAAAAkwAAAAAAAACTAAAAAAAAAJMAAAAAAAAAkwAAAAAAAACTAAAAAAAAAJMAAAAAAAAAkwAAAAAAAACTAAAAAAAAAJMAAAAAAAAAkwAAAAAAAACTAAAAAAAAAJMAAAAAAAAAkwAAAAAAAACTAAAAAAAAAJMAAAAAAAAAkwAAAAAAAACTAAAAAAAAAJMAAAAAAAAAkwAAAAAAAACTAAAAAAAAAJMAAAAAAAAAkwAAAAAAAACTAAAAAAAAAJMAAAAAAAAAkwAAAAAAAACTAAAAAAAAAJMAAAAAAAAAkwAAAAAAAACTAAAAAAAAAJMAAAAAAAAAkwAAAAAAAACTAAAAAAAAAJMAAAAAAAAAkwAAAAAAAACTAAAAAAAAAJMAAAAAAAAAkwAAAAAAAACTAAAAAAAAAJMAAAAAAAAAkwAAAAAAAACTAAAAAAAAAJMAAAAAAAAAkwAAAAAAAACTAAAAAAAAAJMAAAAAAAAAkwAAAAAAAACTAAAAAAAAAJMAAAAAAAAAkwAAAAAAAACTAAAAAAAAAJMAAAAAAAAAkwAAAAAAAACTAAAAAAAAAJMAAAAAAAAAkwAAAAAAAACTAAAAAAAAAJMBDYt7OkJgjwENi3s6QmCPAQ2LezpCYI8BDYt7OkJgjwENi3s6QmCPAQ2LezpCYI8BDYt7OkJgjwENi3s6QmCPAQ2LezpCYI8BDYt7OkJgjwENi3s6QmCPAQ2LezpCYI8BDYt7OkJgjwENi3s6QmCPAQ2LezpCYI8BDYt7OkJgjwENi3s6QmCPAQ2LezpCYI8BDYt7OkJgjwENi3s6QmCPAQ2LezpCYI8BDYt7OkJgjwENi3s6QmCPAQ2LezpCYI8BDYt7OkJgjwENi3s6QmCPAQ2LezpCYI8BDYt7OkJgjwENi3s6QmCPAQ2LezpCYI8BDYt7OkJgjwENi3s6QmCPAQ2LezpCYI8BDYt7OkJgjwENi3s6QmCPAQ2LezpCYI8BDYt7OkJgjwENi3s6QmCPAQ2LezpCYI8BDYt7OkJgjwENi3s6QmCPAQ2LezpCYI8BDYt7OkJgjwENi3s6QmCPAQ2LezpCYI8BDYt7OkJgjwENi3s6QmCPAQ2LezpCYI8BDYt7OkJgjwENi3s6QmCPAQ2LezpCYI8BDYt7OkJgjwENi3s6QmCPAQ2LezpCYI8BDYt7OkJgjwENi3s6QmCPAQ2LezpCYI8BDYt7OkJgjwENi3s6QmCPAQ2LezpCYI8BDYt7OkJgjwENi3s6QmCPAQ2LezpCYI8BDYt7OkJgjwENi3s6QmCPAQ2LezpCYI8BDYt7OkJgjwENi3s6QmCPAQ2LezpCYI8BDYt7OkJgjwENi3s6QmCPAQ2LezpCYI8BDYt7OkJgjwENi3s6QmCPAQ2LezpCYI8BDYt7OkJgjwENi3s6QmCPAQ2LezpCYI8BDYt7OkJgjwENi3s6QmCPAQ2LezpCYI8BDYt7OkJgjwENi3s6QmCPAQ2LezpCYI8BDYt7OkJgjwENi3s6QmCPAQ2LezpCYI8BDYt7OkJgjwENi3s6QmCPAQ2LezpCYI8BDYt7OkJgjwENi3s6QmCPAQ2LezpCYI8BDYt7OkJgjwENi3s6QmCPAQ2LezpCYI8BDYt7OkJgjwENi3s6QmCPAQ2LezpCYI8BDYt7OkJgjwIbEvJ0hMSPAhsS8nSExI8CGxLydITEjwIbEvJ0hMSPAhsS8nSExI8CGxLydITEjwIbEvJ0hMSPAhsS8nSExI8CGxLydITEjwIbEvJ0hMSPAhsS8nSExI8CGxLydITEjwIbEvJ0hMSPAhsS8nSExI8CGxLydITEjwIbEvJ0hMSPAhsS8nSExI8CGxLydITEjwIbEvJ0hMSPAhsS8nSExI8CGxLydITEjwIbEvJ0hMSPAhsS8nSExI8CGxLydITEjwIbEvJ0hMSPAhsS8nSExI8CGxLydITEjwIbEvJ0hMSPAhsS8nSExI8CGxLydITEjwIbEvJ0hMSPAhsS8nSExI8CGxLydITEjwIbEvJ0hMSPAhsS8nSExI8CGxLydITEjwIbEvJ0hMSPAhsS8nSExI8CGxLydITEjwIbEvJ0hMSPAhsS8nSExI8CGxLydITEjwIbEvJ0hMSPAhsS8nSExI8CGxLydITEjwIbEvJ0hMSPAhsS8nSExI8CGxLydITEjwIbEvJ0hMSPAhsS8nSExI8CGxLydITEjwIbEvJ0hMSPAhsS8nSExI8CGxLydITEjwIbEvJ0hMSPAhsS8nSExI8CGxLydITEjwIbEvJ0hMSPAhsS8nSExI8CGxLydITEjwIbEvJ0hMSPAhsS8nSExI8CGxLydITEjwIbEvJ0hMSPAhsS8nSExI8CGxLydITEjwIbEvJ0hMSPAhsS8nSExI8CGxLydITEjwIbEvJ0hMSPAhsS8nSExI8CGxLydITEjwIbEvJ0hMSPAhsS8nSExI8CGxLydITEjwIbEvJ0hMSPAhsS8nSExI8CGxLydITEjwIbEvJ0hMSPAhsS8nSExI8CGxLydITEjwIbEvJ0hMSPAhsS8nSExI8CGxLydITEjwIbEvJ0hMSPAhsS8nSExI8CGxLydITEjwIbEvJ0hMSPAhsS8nSExI8CGxLydITEjwIbEvJ0hMSPAhsS8nSExI8CGxLydITEjwIbEvJ0hMSPAhsS8nSExI8CGxLydITEjwIbEvJ0hMSPAhsS8nSExI8CGxLydITEjwIbEvJ0hMSPAyiabbLLJIsDKJptssskiwMomm2yyySLAyiabbLLJIsDKJptssskiwMomm2yyySLAyiabbLLJIsDKJptssskiwMomm2yyySLAyiabbLLJIsDKJptssskiwMomm2yyySLAyiabbLLJIsDKJptssskiwMomm2yyySLAyiabbLLJIsDKJptssskiwMomm2yyySLAyiabbLLJIsDKJptssskiwMomm2yyySLAyiabbLLJIsDKJptssskiwMomm2yyySLAyiabbLLJIsDKJptssskiwMomm2yyySLAyiabbLLJIsDKJptssskiwMomm2yyySLAyiabbLLJIsDKJptssskiwMomm2yyySLAyiabbLLJIsDKJptssskiwMomm2yyySLAyiabbLLJIsDKJptssskiwMomm2yyySLAyiabbLLJIsDKJptssskiwMomm2yyySLAyiabbLLJIsDKJptssskiwMomm2yyySLAyiabbLLJIsDKJptssskiwMomm2yyySLAyiabbLLJIsDKJptssskiwMomm2yyySLAyiabbLLJIsDKJptssskiwMomm2yyySLAyiabbLLJIsDKJptssskiwMomm2yyySLAyiabbLLJIsDKJptssskiwMomm2yyySLAyiabbLLJIsDKJptssskiwMomm2yyySLAyiabbLLJIsDKJptssskiwMomm2yyySLAyiabbLLJIsDKJptssskiwMomm2yyySLAyiabbLLJIsDKJptssskiwMomm2yyySLAyiabbLLJIsDKJptssskiwMomm2yyySLAyiabbLLJIsDKJptssskiwMomm2yyySLAyiabbLLJIsDKJptssskiwMomm2yyySLAyiabbLLJIsDKJptssskiwMomm2yyySLAyiabbLLJIsDKJptssskiwMomm2yyySLAyiabbLLJIsDKJptssskiwMomm2yyySLAyiabbLLJIsDKJptssskiwMomm2yyySLAyiabbLLJIsDKJptssskiwMomm2yyySLAyiabbLLJIsDKJptssskiwMomm2yyySLAyiabbLLJIsANiXk7Q2IiwA2JeTtDYiLADYl5O0NiIsANiXk7Q2IiwA2JeTtDYiLADYl5O0NiIsANiXk7Q2IiwA2JeTtDYiLADYl5O0NiIsANiXk7Q2IiwA2JeTtDYiLADYl5O0NiIsANiXk7Q2IiwA2JeTtDYiLADYl5O0NiIsANiXk7Q2IiwA2JeTtDYiLADYl5O0NiIsANiXk7Q2IiwA2JeTtDYiLADYl5O0NiIsANiXk7Q2IiwA2JeTtDYiLADYl5O0NiIsANiXk7Q2IiwA2JeTtDYiLADYl5O0NiIsANiXk7Q2IiwA2JeTtDYiLADYl5O0NiIsANiXk7Q2IiwA2JeTtDYiLADYl5O0NiIsANiXk7Q2IiwA2JeTtDYiLADYl5O0NiIsANiXk7Q2IiwA2JeTtDYiLADYl5O0NiIsANiXk7Q2IiwA2JeTtDYiLADYl5O0NiIsANiXk7Q2IiwA2JeTtDYiLADYl5O0NiIsANiXk7Q2IiwA2JeTtDYiLADYl5O0NiIsANiXk7Q2IiwA2JeTtDYiLADYl5O0NiIsANiXk7Q2IiwA2JeTtDYiLADYl5O0NiIsANiXk7Q2IiwA2JeTtDYiLADYl5O0NiIsANiXk7Q2IiwA2JeTtDYiLADYl5O0NiIsANiXk7Q2IiwA2JeTtDYiLADYl5O0NiIsANiXk7Q2IiwA2JeTtDYiLADYl5O0NiIsANiXk7Q2IiwA2JeTtDYiLADYl5O0NiIsANiXk7Q2IiwA2JeTtDYiLADYl5O0NiIsANiXk7Q2IiwA2JeTtDYiLADYl5O0NiIsANiXk7Q2IiwA2JeTtDYiLADYl5O0NiIsANiXk7Q2IiwA2JeTtDYiLADYl5O0NiIsANiXk7Q2IiwA2JeTtDYiLADYl5O0NiIsANiXk7Q2IiwA2JeTtDYiLADYl5O0NiIsANiXk7Q2IiwA2JeTtDYiLADYl5O0NiIsANiXk7Q2IiwA2JeTtDYiLADYl5O0NiIsANiXk7Q2IiwA2JeTtDYiLADYl5O0NiIsANiXk7Q2IiwA2JeTtDYiLADYl5O0NiIsANiXk7Q2IiwFDrVwrU+iHAUOtXCtT6IcBQ61cK1PohwFDrVwrU+iHAUOtXCtT6IcBQ61cK1PohwFDrVwrU+iHAUOtXCtT6IcBQ61cK1PohwFDrVwrU+iHAUOtXCtT6IcBQ61cK1PohwFDrVwrU+iHAUOtXCtT6IcBQ61cK1PohwFDrVwrU+iHAUOtXCtT6IcBQ61cK1PohwFDrVwrU+iHAUOtXCtT6IcBQ61cK1PohwFDrVwrU+iHAUOtXCtT6IcBQ61cK1PohwFDrVwrU+iHAUOtXCtT6IcBQ61cK1PohwFDrVwrU+iHAUOtXCtT6IcBQ61cK1PohwFDrVwrU+iHAUOtXCtT6IcBQ61cK1PohwFDrVwrU+iHAUOtXCtT6IcBQ61cK1PohwFDrVwrU+iHAUOtXCtT6IcBQ61cK1PohwFDrVwrU+iHAUOtXCtT6IcBQ61cK1PohwFDrVwrU+iHAUOtXCtT6IcBQ61cK1PohwFDrVwrU+iHAUOtXCtT6IcBQ61cK1PohwFDrVwrU+iHAUOtXCtT6IcBQ61cK1PohwFDrVwrU+iHAUOtXCtT6IcBQ61cK1PohwFDrVwrU+iHAUOtXCtT6IcBQ61cK1PohwFDrVwrU+iHAUOtXCtT6IcBQ61cK1PohwFDrVwrU+iHAUOtXCtT6IcBQ61cK1PohwFDrVwrU+iHAUOtXCtT6IcBQ61cK1PohwFDrVwrU+iHAUOtXCtT6IcBQ61cK1PohwFDrVwrU+iHAUOtXCtT6IcBQ61cK1PohwFDrVwrU+iHAUOtXCtT6IcBQ61cK1PohwFDrVwrU+iHAUOtXCtT6IcBQ61cK1PohwFDrVwrU+iHAUOtXCtT6IcBQ61cK1PohwFDrVwrU+iHAUOtXCtT6IcBQ61cK1PohwFDrVwrU+iHAUOtXCtT6IcBQ61cK1PohwFDrVwrU+iHAUOtXCtT6IcBQ61cK1PohwFDrVwrU+iHAUOtXCtT6IcBQ61cK1PohwFDrVwrU+iHAUOtXCtT6IcBQ61cK1PohwFDrVwrU+iHAUOtXCtT6IcBQ61cK1PohwFDrVwrU+iHAk0022WSTIcCTTTbZZJMhwJNNNtlkkyHAk0022WSTIcCTTTbZZJMhwJNNNtlkkyHAk0022WSTIcCTTTbZZJMhwJNNNtlkkyHAk0022WSTIcCTTTbZZJMhwJNNNtlkkyHAk0022WSTIcCTTTbZZJMhwJNNNtlkkyHAk0022WSTIcCTTTbZZJMhwJNNNtlkkyHAk0022WSTIcCTTTbZZJMhwJNNNtlkkyHAk0022WSTIcCTTTbZZJMhwJNNNtlkkyHAk0022WSTIcCTTTbZZJMhwJNNNtlkkyHAk0022WSTIcCTTTbZZJMhwJNNNtlkkyHAk0022WSTIcCTTTbZZJMhwJNNNtlkkyHAk0022WSTIcCTTTbZZJMhwJNNNtlkkyHAk0022WSTIcCTTTbZZJMhwJNNNtlkkyHAk0022WSTIcCTTTbZZJMhwJNNNtlkkyHAk0022WSTIcCTTTbZZJMhwJNNNtlkkyHAk0022WSTIcCTTTbZZJMhwJNNNtlkkyHAk0022WSTIcCTTTbZZJMhwJNNNtlkkyHAk0022WSTIcCTTTbZZJMhwJNNNtlkkyHAk0022WSTIcCTTTbZZJMhwJNNNtlkkyHAk0022WSTIcCTTTbZZJMhwJNNNtlkkyHAk0022WSTIcCTTTbZZJMhwJNNNtlkkyHAk0022WSTIcCTTTbZZJMhwJNNNtlkkyHAk0022WSTIcCTTTbZZJMhwJNNNtlkkyHAk0022WSTIcCTTTbZZJMhwJNNNtlkkyHAk0022WSTIcCTTTbZZJMhwJNNNtlkkyHAk0022WSTIcCTTTbZZJMhwJNNNtlkkyHAk0022WSTIcCTTTbZZJMhwJNNNtlkkyHAk0022WSTIcCTTTbZZJMhwJNNNtlkkyHAk0022WSTIcCTTTbZZJMhwJNNNtlkkyHAk0022WSTIcCTTTbZZJMhwJNNNtlkkyHAk0022WSTIcCTTTbZZJMhwJNNNtlkkyHAk0022WSTIcCTTTbZZJMhwJNNNtlkkyHAk0022WSTIcCTTTbZZJMhwJNNNtlkkyHAk0022WSTIcDXrxSo9SshwNevFKj1KyHA168UqPUrIcDXrxSo9SshwNevFKj1KyHA168UqPUrIcDXrxSo9SshwNevFKj1KyHA168UqPUrIcDXrxSo9SshwNevFKj1KyHA168UqPUrIcDXrxSo9SshwNevFKj1KyHA168UqPUrIcDXrxSo9SshwNevFKj1KyHA168UqPUrIcDXrxSo9SshwNevFKj1KyHA168UqPUrIcDXrxSo9SshwNevFKj1KyHA168UqPUrIcDXrxSo9SshwNevFKj1KyHA168UqPUrIcDXrxSo9SshwNevFKj1KyHA168UqPUrIcDXrxSo9SshwNevFKj1KyHA168UqPUrIcDXrxSo9SshwNevFKj1KyHA168UqPUrIcDXrxSo9SshwNevFKj1KyHA168UqPUrIcDXrxSo9SshwNevFKj1KyHA168UqPUrIcDXrxSo9SshwNevFKj1KyHA168UqPUrIcDXrxSo9SshwNevFKj1KyHA168UqPUrIcDXrxSo9SshwNevFKj1KyHA168UqPUrIcDXrxSo9SshwNevFKj1KyHA168UqPUrIcDXrxSo9SshwNevFKj1KyHA168UqPUrIcDXrxSo9SshwNevFKj1KyHA168UqPUrIcDXrxSo9SshwNevFKj1KyHA168UqPUrIcDXrxSo9SshwNevFKj1KyHA168UqPUrIcDXrxSo9SshwNevFKj1KyHA168UqPUrIcDXrxSo9SshwNevFKj1KyHA168UqPUrIcDXrxSo9SshwNevFKj1KyHA168UqPUrIcDXrxSo9SshwNevFKj1KyHA168UqPUrIcDXrxSo9SshwNevFKj1KyHA168UqPUrIcDXrxSo9SshwNevFKj1KyHA168UqPUrIcDXrxSo9SshwNevFKj1KyHA168UqPUrIcDXrxSo9SshwNevFKj1KyHA168UqPUrIcDXrxSo9SshwNevFKj1KyHA168UqPUrIcDXrxSo9SshwNevFKj1KyHA168UqPUrIcDXrxSo9SshwNevFKj1KyHA168UqPUrIcDXrxSo9SshwBoS83aGxCDAGhLzdobEIMAaEvN2hsQgwBoS83aGxCDAGhLzdobEIMAaEvN2hsQgwBoS83aGxCDAGhLzdobEIMAaEvN2hsQgwBoS83aGxCDAGhLzdobEIMAaEvN2hsQgwBoS83aGxCDAGhLzdobEIMAaEvN2hsQgwBoS83aGxCDAGhLzdobEIMAaEvN2hsQgwBoS83aGxCDAGhLzdobEIMAaEvN2hsQgwBoS83aGxCDAGhLzdobEIMAaEvN2hsQgwBoS83aGxCDAGhLzdobEIMAaEvN2hsQgwBoS83aGxCDAGhLzdobEIMAaEvN2hsQgwBoS83aGxCDAGhLzdobEIMAaEvN2hsQgwBoS83aGxCDAGhLzdobEIMAaEvN2hsQgwBoS83aGxCDAGhLzdobEIMAaEvN2hsQgwBoS83aGxCDAGhLzdobEIMAaEvN2hsQgwBoS83aGxCDAGhLzdobEIMAaEvN2hsQgwBoS83aGxCDAGhLzdobEIMAaEvN2hsQgwBoS83aGxCDAGhLzdobEIMAaEvN2hsQgwBoS83aGxCDAGhLzdobEIMAaEvN2hsQgwBoS83aGxCDAGhLzdobEIMAaEvN2hsQgwBoS83aGxCDAGhLzdobEIMAaEvN2hsQgwBoS83aGxCDAGhLzdobEIMAaEvN2hsQgwBoS83aGxCDAGhLzdobEIMAaEvN2hsQgwBoS83aGxCDAGhLzdobEIMAaEvN2hsQgwBoS83aGxCDAGhLzdobEIMAaEvN2hsQgwBoS83aGxCDAGhLzdobEIMAaEvN2hsQgwBoS83aGxCDAGhLzdobEIMAaEvN2hsQgwBoS83aGxCDAGhLzdobEIMAaEvN2hsQgwBoS83aGxCDAGhLzdobEIMAaEvN2hsQgwBoS83aGxCDAGhLzdobEIMAaEvN2hsQgwBoS83aGxCDAGhLzdobEIMAaEvN2hsQgwBoS83aGxCDAGhLzdobEIMAaEvN2hsQgwBoS83aGxCDAGhLzdobEIMAaEvN2hsQgwBoS83aGxCDAGhLzdobEIMAaEvN2hsQgwBoS83aGxCDAXXTRRRddIMBddNFFF10gwF100UUXXSDAXXTRRRddIMBddNFFF10gwF100UUXXSDAXXTRRRddIMBddNFFF10gwF100UUXXSDAXXTRRRddIMBddNFFF10gwF100UUXXSDAXXTRRRddIMBddNFFF10gwF100UUXXSDAXXTRRRddIMBddNFFF10gwF100UUXXSDAXXTRRRddIMBddNFFF10gwF100UUXXSDAXXTRRRddIMBddNFFF10gwF100UUXXSDAXXTRRRddIMBddNFFF10gwF100UUXXSDAXXTRRRddIMBddNFFF10gwF100UUXXSDAXXTRRRddIMBddNFFF10gwF100UUXXSDAXXTRRRddIMBddNFFF10gwF100UUXXSDAXXTRRRddIMBddNFFF10gwF100UUXXSDAXXTRRRddIMBddNFFF10gwF100UUXXSDAXXTRRRddIMBddNFFF10gwF100UUXXSDAXXTRRRddIMBddNFFF10gwF100UUXXSDAXXTRRRddIMBddNFFF10gwF100UUXXSDAXXTRRRddIMBddNFFF10gwF100UUXXSDAXXTRRRddIMBddNFFF10gwF100UUXXSDAXXTRRRddIMBddNFFF10gwF100UUXXSDAXXTRRRddIMBddNFFF10gwF100UUXXSDAXXTRRRddIMBddNFFF10gwF100UUXXSDAXXTRRRddIMBddNFFF10gwF100UUXXSDAXXTRRRddIMBddNFFF10gwF100UUXXSDAXXTRRRddIMBddNFFF10gwF100UUXXSDAXXTRRRddIMBddNFFF10gwF100UUXXSDAXXTRRRddIMBddNFFF10gwF100UUXXSDAXXTRRRddIMBddNFFF10gwF100UUXXSDAXXTRRRddIMBddNFFF10gwF100UUXXSDAXXTRRRddIMBddNFFF10gwF100UUXXSDAXXTRRRddIMBddNFFF10gwF100UUXXSDAXXTRRRddIMBddNFFF10gwF100UUXXSDAXXTRRRddIMBddNFFF10gwF100UUXXSDAXXTRRRddIMBArV8pUOsfwECtXylQ6x/AQK1fKVDrH8BArV8pUOsfwECtXylQ6x/AQK1fKVDrH8BArV8pUOsfwECtXylQ6x/AQK1fKVDrH8BArV8pUOsfwECtXylQ6x/AQK1fKVDrH8BArV8pUOsfwECtXylQ6x/AQK1fKVDrH8BArV8pUOsfwECtXylQ6x/AQK1fKVDrH8BArV8pUOsfwECtXylQ6x/AQK1fKVDrH8BArV8pUOsfwECtXylQ6x/AQK1fKVDrH8BArV8pUOsfwECtXylQ6x/AQK1fKVDrH8BArV8pUOsfwECtXylQ6x/AQK1fKVDrH8BArV8pUOsfwECtXylQ6x/AQK1fKVDrH8BArV8pUOsfwECtXylQ6x/AQK1fKVDrH8BArV8pUOsfwECtXylQ6x/AQK1fKVDrH8BArV8pUOsfwECtXylQ6x/AQK1fKVDrH8BArV8pUOsfwECtXylQ6x/AQK1fKVDrH8BArV8pUOsfwECtXylQ6x/AQK1fKVDrH8BArV8pUOsfwECtXylQ6x/AQK1fKVDrH8BArV8pUOsfwECtXylQ6x/AQK1fKVDrH8BArV8pUOsfwECtXylQ6x/AQK1fKVDrH8BArV8pUOsfwECtXylQ6x/AQK1fKVDrH8BArV8pUOsfwECtXylQ6x/AQK1fKVDrH8BArV8pUOsfwECtXylQ6x/AQK1fKVDrH8BArV8pUOsfwECtXylQ6x/AQK1fKVDrH8BArV8pUOsfwECtXylQ6x/AQK1fKVDrH8BArV8pUOsfwECtXylQ6x/AQK1fKVDrH8BArV8pUOsfwECtXylQ6x/AQK1fKVDrH8BArV8pUOsfwECtXylQ6x/AQK1fKVDrH8BArV8pUOsfwECtXylQ6x/AQK1fKVDrH8BArV8pUOsfwECtXylQ6x/AQK1fKVDrH8BArV8pUOsfwECtXylQ6x/AQK1fKVDrH8BArV8pUOsfwECtXylQ6x/AQK1fKVDrH8BArV8pUOsfwECtXylQ6x/AQK1fKVDrH8BArV8pUOsfwECtXylQ6x/AQK1fKVDrH8BArV8pUOsfwMdxHMdxHB/Ax3Ecx3EcH8DHcRzHcRwfwMdxHMdxHB/Ax3Ecx3EcH8DHcRzHcRwfwMdxHMdxHB/Ax3Ecx3EcH8DHcRzHcRwfwMdxHMdxHB/Ax3Ecx3EcH8DHcRzHcRwfwMdxHMdxHB/Ax3Ecx3EcH8DHcRzHcRwfwMdxHMdxHB/Ax3Ecx3EcH8DHcRzHcRwfwMdxHMdxHB/Ax3Ecx3EcH8DHcRzHcRwfwMdxHMdxHB/Ax3Ecx3EcH8DHcRzHcRwfwMdxHMdxHB/Ax3Ecx3EcH8DHcRzHcRwfwMdxHMdxHB/Ax3Ecx3EcH8DHcRzHcRwfwMdxHMdxHB/Ax3Ecx3EcH8DHcRzHcRwfwMdxHMdxHB/Ax3Ecx3EcH8DHcRzHcRwfwMdxHMdxHB/Ax3Ecx3EcH8DHcRzHcRwfwMdxHMdxHB/Ax3Ecx3EcH8DHcRzHcRwfwMdxHMdxHB/Ax3Ecx3EcH8DHcRzHcRwfwMdxHMdxHB/Ax3Ecx3EcH8DHcRzHcRwfwMdxHMdxHB/Ax3Ecx3EcH8DHcRzHcRwfwMdxHMdxHB/Ax3Ecx3EcH8DHcRzHcRwfwMdxHMdxHB/Ax3Ecx3EcH8DHcRzHcRwfwMdxHMdxHB/Ax3Ecx3EcH8DHcRzHcRwfwMdxHMdxHB/Ax3Ecx3EcH8DHcRzHcRwfwMdxHMdxHB/Ax3Ecx3EcH8DHcRzHcRwfwMdxHMdxHB/Ax3Ecx3EcH8DHcRzHcRwfwMdxHMdxHB/Ax3Ecx3EcH8DHcRzHcRwfwMdxHMdxHB/Ax3Ecx3EcH8DHcRzHcRwfwMdxHMdxHB/Ax3Ecx3EcH8DHcRzHcRwfwMdxHMdxHB/Ax3Ecx3EcH8DHcRzHcRwfwMdxHMdxHB/Ax3Ecx3EcH8DHcRzHcRwfwMdxHMdxHB/Ax3Ecx3EcH8DHcRzHcRwfwMdxHMdxHB/Ax3Ecx3EcH8DHcRzHcRwfwMdxHMdxHB/Ax3Ecx3EcH8DHcRzHcRwfwMdxHMdxHB/Ax3Ecx3EcH8DHcRzHcRwfwMdxHMdxHB/Ax3Ecx3EcH8DHcRzHcRwfwMdxHMdxHB/ATjbZZJNNHsBONtlkk00ewE422WSTTR7ATjbZZJNNHsBONtlkk00ewE422WSTTR7ATjbZZJNNHsBONtlkk00ewE422WSTTR7ATjbZZJNNHsBONtlkk00ewE422WSTTR7ATjbZZJNNHsBONtlkk00ewE422WSTTR7ATjbZZJNNHsBONtlkk00ewE422WSTTR7ATjbZZJNNHsBONtlkk00ewE422WSTTR7ATjbZZJNNHsBONtlkk00ewE422WSTTR7ATjbZZJNNHsBONtlkk00ewE422WSTTR7ATjbZZJNNHsBONtlkk00ewE422WSTTR7ATjbZZJNNHsBONtlkk00ewE422WSTTR7ATjbZZJNNHsBONtlkk00ewE422WSTTR7ATjbZZJNNHsBONtlkk00ewE422WSTTR7ATjbZZJNNHsBONtlkk00ewE422WSTTR7ATjbZZJNNHsBONtlkk00ewE422WSTTR7ATjbZZJNNHsBONtlkk00ewE422WSTTR7ATjbZZJNNHsBONtlkk00ewE422WSTTR7ATjbZZJNNHsBONtlkk00ewE422WSTTR7ATjbZZJNNHsBONtlkk00ewE422WSTTR7ATjbZZJNNHsBONtlkk00ewE422WSTTR7ATjbZZJNNHsBONtlkk00ewE422WSTTR7ATjbZZJNNHsBONtlkk00ewE422WSTTR7ATjbZZJNNHsBONtlkk00ewE422WSTTR7ATjbZZJNNHsBONtlkk00ewE422WSTTR7ATjbZZJNNHsBONtlkk00ewE422WSTTR7ATjbZZJNNHsBONtlkk00ewE422WSTTR7ATjbZZJNNHsBONtlkk00ewE422WSTTR7ATjbZZJNNHsBONtlkk00ewE422WSTTR7ATjbZZJNNHsBONtlkk00ewE422WSTTR7ATjbZZJNNHsBONtlkk00ewE422WSTTR7ATjbZZJNNHsBONtlkk00ewE422WSTTR7ATjbZZJNNHsBONtlkk00ewE422WSTTR7ATjbZZJNNHsBONtlkk00ewE422WSTTR7ATjbZZJNNHsDU+pUCtX4dwNT6lQK1fh3A1PqVArV+HcDU+pUCtX4dwNT6lQK1fh3A1PqVArV+HcDU+pUCtX4dwNT6lQK1fh3A1PqVArV+HcDU+pUCtX4dwNT6lQK1fh3A1PqVArV+HcDU+pUCtX4dwNT6lQK1fh3A1PqVArV+HcDU+pUCtX4dwNT6lQK1fh3A1PqVArV+HcDU+pUCtX4dwNT6lQK1fh3A1PqVArV+HcDU+pUCtX4dwNT6lQK1fh3A1PqVArV+HcDU+pUCtX4dwNT6lQK1fh3A1PqVArV+HcDU+pUCtX4dwNT6lQK1fh3A1PqVArV+HcDU+pUCtX4dwNT6lQK1fh3A1PqVArV+HcDU+pUCtX4dwNT6lQK1fh3A1PqVArV+HcDU+pUCtX4dwNT6lQK1fh3A1PqVArV+HcDU+pUCtX4dwNT6lQK1fh3A1PqVArV+HcDU+pUCtX4dwNT6lQK1fh3A1PqVArV+HcDU+pUCtX4dwNT6lQK1fh3A1PqVArV+HcDU+pUCtX4dwNT6lQK1fh3A1PqVArV+HcDU+pUCtX4dwNT6lQK1fh3A1PqVArV+HcDU+pUCtX4dwNT6lQK1fh3A1PqVArV+HcDU+pUCtX4dwNT6lQK1fh3A1PqVArV+HcDU+pUCtX4dwNT6lQK1fh3A1PqVArV+HcDU+pUCtX4dwNT6lQK1fh3A1PqVArV+HcDU+pUCtX4dwNT6lQK1fh3A1PqVArV+HcDU+pUCtX4dwNT6lQK1fh3A1PqVArV+HcDU+pUCtX4dwNT6lQK1fh3A1PqVArV+HcDU+pUCtX4dwNT6lQK1fh3A1PqVArV+HcDU+pUCtX4dwNT6lQK1fh3A1PqVArV+HcDU+pUCtX4dwNT6lQK1fh3A1PqVArV+HcDU+pUCtX4dwNT6lQK1fh3A1PqVArV+HcDU+pUCtX4dwNT6lQK1fh3A1PqVArV+HcDU+pUCtX4dwNT6lQK1fh3A1PqVArV+HcDU+pUCtX4dwNT6lQK1fh3A1PqVArV+HcDU+pUCtX4dwNT6lQK1fh3A1PqVArV+HcDU+pUCtX4dwFq/UqDWrxzAWr9SoNavHMBav1Kg1q8cwFq/UqDWrxzAWr9SoNavHMBav1Kg1q8cwFq/UqDWrxzAWr9SoNavHMBav1Kg1q8cwFq/UqDWrxzAWr9SoNavHMBav1Kg1q8cwFq/UqDWrxzAWr9SoNavHMBav1Kg1q8cwFq/UqDWrxzAWr9SoNavHMBav1Kg1q8cwFq/UqDWrxzAWr9SoNavHMBav1Kg1q8cwFq/UqDWrxzAWr9SoNavHMBav1Kg1q8cwFq/UqDWrxzAWr9SoNavHMBav1Kg1q8cwFq/UqDWrxzAWr9SoNavHMBav1Kg1q8cwFq/UqDWrxzAWr9SoNavHMBav1Kg1q8cwFq/UqDWrxzAWr9SoNavHMBav1Kg1q8cwFq/UqDWrxzAWr9SoNavHMBav1Kg1q8cwFq/UqDWrxzAWr9SoNavHMBav1Kg1q8cwFq/UqDWrxzAWr9SoNavHMBav1Kg1q8cwFq/UqDWrxzAWr9SoNavHMBav1Kg1q8cwFq/UqDWrxzAWr9SoNavHMBav1Kg1q8cwFq/UqDWrxzAWr9SoNavHMBav1Kg1q8cwFq/UqDWrxzAWr9SoNavHMBav1Kg1q8cwFq/UqDWrxzAWr9SoNavHMBav1Kg1q8cwFq/UqDWrxzAWr9SoNavHMBav1Kg1q8cwFq/UqDWrxzAWr9SoNavHMBav1Kg1q8cwFq/UqDWrxzAWr9SoNavHMBav1Kg1q8cwFq/UqDWrxzAWr9SoNavHMBav1Kg1q8cwFq/UqDWrxzAWr9SoNavHMBav1Kg1q8cwFq/UqDWrxzAWr9SoNavHMBav1Kg1q8cwFq/UqDWrxzAWr9SoNavHMBav1Kg1q8cwFq/UqDWrxzAWr9SoNavHMBav1Kg1q8cwFq/UqDWrxzAWr9SoNavHMBav1Kg1q8cwFq/UqDWrxzAWr9SoNavHMBav1Kg1q8cwFq/UqDWrxzAWr9SoNavHMBav1Kg1q8cwFq/UqDWrxzAWr9SoNavHMBav1Kg1q8cwFq/UqDWrxzAWr9SoNavHMBav1Kg1q8cwFq/UqDWrxzA4YMPPvjgG8Dhgw8++OAbwOGDDz744BvA4YMPPvjgG8Dhgw8++OAbwOGDDz744BvA4YMPPvjgG8Dhgw8++OAbwOGDDz744BvA4YMPPvjgG8Dhgw8++OAbwOGDDz744BvA4YMPPvjgG8Dhgw8++OAbwOGDDz744BvA4YMPPvjgG8Dhgw8++OAbwOGDDz744BvA4YMPPvjgG8Dhgw8++OAbwOGDDz744BvA4YMPPvjgG8Dhgw8++OAbwOGDDz744BvA4YMPPvjgG8Dhgw8++OAbwOGDDz744BvA4YMPPvjgG8Dhgw8++OAbwOGDDz744BvA4YMPPvjgG8Dhgw8++OAbwOGDDz744BvA4YMPPvjgG8Dhgw8++OAbwOGDDz744BvA4YMPPvjgG8Dhgw8++OAbwOGDDz744BvA4YMPPvjgG8Dhgw8++OAbwOGDDz744BvA4YMPPvjgG8Dhgw8++OAbwOGDDz744BvA4YMPPvjgG8Dhgw8++OAbwOGDDz744BvA4YMPPvjgG8Dhgw8++OAbwOGDDz744BvA4YMPPvjgG8Dhgw8++OAbwOGDDz744BvA4YMPPvjgG8Dhgw8++OAbwOGDDz744BvA4YMPPvjgG8Dhgw8++OAbwOGDDz744BvA4YMPPvjgG8Dhgw8++OAbwOGDDz744BvA4YMPPvjgG8Dhgw8++OAbwOGDDz744BvA4YMPPvjgG8Dhgw8++OAbwOGDDz744BvA4YMPPvjgG8Dhgw8++OAbwOGDDz744BvA4YMPPvjgG8Dhgw8++OAbwOGDDz744BvA4YMPPvjgG8Dhgw8++OAbwOGDDz744BvA4YMPPvjgG8Dhgw8++OAbwOGDDz744BvA4YMPPvjgG8Dhgw8++OAbwOGDDz744BvA4YMPPvjgG8Dhgw8++OAbwOGDDz744BvA4YMPPvjgG8Dhgw8++OAbwOGDDz744BvA4YMPPvjgG8Dhgw8++OAbwOGDDz744BvA4YMPPvjgG8Dhgw8++OAbwOGDDz744BvA4YMPPvjgG8Dhgw8++OAbwOGDDz744BvA4YMPPvjgG8BoSMzbGRIbwGhIzNsZEhvAaEjM2xkSG8BoSMzbGRIbwGhIzNsZEhvAaEjM2xkSG8BoSMzbGRIbwGhIzNsZEhvAaEjM2xkSG8BoSMzbGRIbwGhIzNsZEhvAaEjM2xkSG8BoSMzbGRIbwGhIzNsZEhvAaEjM2xkSG8BoSMzbGRIbwGhIzNsZEhvAaEjM2xkSG8BoSMzbGRIbwGhIzNsZEhvAaEjM2xkSG8BoSMzbGRIbwGhIzNsZEhvAaEjM2xkSG8BoSMzbGRIbwGhIzNsZEhvAaEjM2xkSG8BoSMzbGRIbwGhIzNsZEhvAaEjM2xkSG8BoSMzbGRIbwGhIzNsZEhvAaEjM2xkSG8BoSMzbGRIbwGhIzNsZEhvAaEjM2xkSG8BoSMzbGRIbwGhIzNsZEhvAaEjM2xkSG8BoSMzbGRIbwGhIzNsZEhvAaEjM2xkSG8BoSMzbGRIbwGhIzNsZEhvAaEjM2xkSG8BoSMzbGRIbwGhIzNsZEhvAaEjM2xkSG8BoSMzbGRIbwGhIzNsZEhvAaEjM2xkSG8BoSMzbGRIbwGhIzNsZEhvAaEjM2xkSG8BoSMzbGRIbwGhIzNsZEhvAaEjM2xkSG8BoSMzbGRIbwGhIzNsZEhvAaEjM2xkSG8BoSMzbGRIbwGhIzNsZEhvAaEjM2xkSG8BoSMzbGRIbwGhIzNsZEhvAaEjM2xkSG8BoSMzbGRIbwGhIzNsZEhvAaEjM2xkSG8BoSMzbGRIbwGhIzNsZEhvAaEjM2xkSG8BoSMzbGRIbwGhIzNsZEhvAaEjM2xkSG8BoSMzbGRIbwGhIzNsZEhvAaEjM2xkSG8BoSMzbGRIbwGhIzNsZEhvAaEjM2xkSG8BoSMzbGRIbwGhIzNsZEhvAaEjM2xkSG8BoSMzbGRIbwGhIzNsZEhvAaEjM2xkSG8BoSMzbGRIbwGhIzNsZEhvAaEjM2xkSG8BoSMzbGRIbwGhIzNsZEhvAaEjM2xkSG8BoSMzbGRIbwGhIzNsZEhvAaEjM2xkSG8BoSMzbGRIbwGhIzNsZEhvAaEjM2xkSG8BoSMzbGRIbwO4MiXk7QxrA7gyJeTtDGsDuDIl5O0MawO4MiXk7QxrA7gyJeTtDGsDuDIl5O0MawO4MiXk7QxrA7gyJeTtDGsDuDIl5O0MawO4MiXk7QxrA7gyJeTtDGsDuDIl5O0MawO4MiXk7QxrA7gyJeTtDGsDuDIl5O0MawO4MiXk7QxrA7gyJeTtDGsDuDIl5O0MawO4MiXk7QxrA7gyJeTtDGsDuDIl5O0MawO4MiXk7QxrA7gyJeTtDGsDuDIl5O0MawO4MiXk7QxrA7gyJeTtDGsDuDIl5O0MawO4MiXk7QxrA7gyJeTtDGsDuDIl5O0MawO4MiXk7QxrA7gyJeTtDGsDuDIl5O0MawO4MiXk7QxrA7gyJeTtDGsDuDIl5O0MawO4MiXk7QxrA7gyJeTtDGsDuDIl5O0MawO4MiXk7QxrA7gyJeTtDGsDuDIl5O0MawO4MiXk7QxrA7gyJeTtDGsDuDIl5O0MawO4MiXk7QxrA7gyJeTtDGsDuDIl5O0MawO4MiXk7QxrA7gyJeTtDGsDuDIl5O0MawO4MiXk7QxrA7gyJeTtDGsDuDIl5O0MawO4MiXk7QxrA7gyJeTtDGsDuDIl5O0MawO4MiXk7QxrA7gyJeTtDGsDuDIl5O0MawO4MiXk7QxrA7gyJeTtDGsDuDIl5O0MawO4MiXk7QxrA7gyJeTtDGsDuDIl5O0MawO4MiXk7QxrA7gyJeTtDGsDuDIl5O0MawO4MiXk7QxrA7gyJeTtDGsDuDIl5O0MawO4MiXk7QxrA7gyJeTtDGsDuDIl5O0MawO4MiXk7QxrA7gyJeTtDGsDuDIl5O0MawO4MiXk7QxrA7gyJeTtDGsDuDIl5O0MawO4MiXk7QxrA7gyJeTtDGsDuDIl5O0MawO4MiXk7QxrA7gyJeTtDGsDuDIl5O0MawO4MiXk7QxrA7gyJeTtDGsDuDIl5O0MawO4MiXk7QxrA7gyJeTtDGsDuDIl5O0MawO4MiXk7QxrA7gyJeTtDGsDuDIl5O0MawO4MiXk7QxrA7gyJeTtDGsDuDIl5O0MawO4MiXk7QxrAdNFFF110GcB00UUXXXQZwHTRRRdddBnAdNFFF110GcB00UUXXXQZwHTRRRdddBnAdNFFF110GcB00UUXXXQZwHTRRRdddBnAdNFFF110GcB00UUXXXQZwHTRRRdddBnAdNFFF110GcB00UUXXXQZwHTRRRdddBnAdNFFF110GcB00UUXXXQZwHTRRRdddBnAdNFFF110GcB00UUXXXQZwHTRRRdddBnAdNFFF110GcB00UUXXXQZwHTRRRdddBnAdNFFF110GcB00UUXXXQZwHTRRRdddBnAdNFFF110GcB00UUXXXQZwHTRRRdddBnAdNFFF110GcB00UUXXXQZwHTRRRdddBnAdNFFF110GcB00UUXXXQZwHTRRRdddBnAdNFFF110GcB00UUXXXQZwHTRRRdddBnAdNFFF110GcB00UUXXXQZwHTRRRdddBnAdNFFF110GcB00UUXXXQZwHTRRRdddBnAdNFFF110GcB00UUXXXQZwHTRRRdddBnAdNFFF110GcB00UUXXXQZwHTRRRdddBnAdNFFF110GcB00UUXXXQZwHTRRRdddBnAdNFFF110GcB00UUXXXQZwHTRRRdddBnAdNFFF110GcB00UUXXXQZwHTRRRdddBnAdNFFF110GcB00UUXXXQZwHTRRRdddBnAdNFFF110GcB00UUXXXQZwHTRRRdddBnAdNFFF110GcB00UUXXXQZwHTRRRdddBnAdNFFF110GcB00UUXXXQZwHTRRRdddBnAdNFFF110GcB00UUXXXQZwHTRRRdddBnAdNFFF110GcB00UUXXXQZwHTRRRdddBnAdNFFF110GcB00UUXXXQZwHTRRRdddBnAdNFFF110GcB00UUXXXQZwHTRRRdddBnAdNFFF110GcB00UUXXXQZwHTRRRdddBnAdNFFF110GcB00UUXXXQZwHTRRRdddBnAdNFFF110GcB00UUXXXQZwHTRRRdddBnAdNFFF110GcB00UUXXXQZwHTRRRdddBnAdNFFF110GcB00UUXXXQZwHTRRRdddBnAdNFFF110GcD7lQK1fqUYwPuVArV+pRjA+5UCtX6lGMD7lQK1fqUYwPuVArV+pRjA+5UCtX6lGMD7lQK1fqUYwPuVArV+pRjA+5UCtX6lGMD7lQK1fqUYwPuVArV+pRjA+5UCtX6lGMD7lQK1fqUYwPuVArV+pRjA+5UCtX6lGMD7lQK1fqUYwPuVArV+pRjA+5UCtX6lGMD7lQK1fqUYwPuVArV+pRjA+5UCtX6lGMD7lQK1fqUYwPuVArV+pRjA+5UCtX6lGMD7lQK1fqUYwPuVArV+pRjA+5UCtX6lGMD7lQK1fqUYwPuVArV+pRjA+5UCtX6lGMD7lQK1fqUYwPuVArV+pRjA+5UCtX6lGMD7lQK1fqUYwPuVArV+pRjA+5UCtX6lGMD7lQK1fqUYwPuVArV+pRjA+5UCtX6lGMD7lQK1fqUYwPuVArV+pRjA+5UCtX6lGMD7lQK1fqUYwPuVArV+pRjA+5UCtX6lGMD7lQK1fqUYwPuVArV+pRjA+5UCtX6lGMD7lQK1fqUYwPuVArV+pRjA+5UCtX6lGMD7lQK1fqUYwPuVArV+pRjA+5UCtX6lGMD7lQK1fqUYwPuVArV+pRjA+5UCtX6lGMD7lQK1fqUYwPuVArV+pRjA+5UCtX6lGMD7lQK1fqUYwPuVArV+pRjA+5UCtX6lGMD7lQK1fqUYwPuVArV+pRjA+5UCtX6lGMD7lQK1fqUYwPuVArV+pRjA+5UCtX6lGMD7lQK1fqUYwPuVArV+pRjA+5UCtX6lGMD7lQK1fqUYwPuVArV+pRjA+5UCtX6lGMD7lQK1fqUYwPuVArV+pRjA+5UCtX6lGMD7lQK1fqUYwPuVArV+pRjA+5UCtX6lGMD7lQK1fqUYwPuVArV+pRjA+5UCtX6lGMD7lQK1fqUYwPuVArV+pRjA+5UCtX6lGMD7lQK1fqUYwPuVArV+pRjA+5UCtX6lGMD7lQK1fqUYwPuVArV+pRjA+5UCtX6lGMD7lQK1fqUYwPuVArV+pRjA+5UCtX6lGMD7lQK1fqUYwPuVArV+pRjA+5UCtX6lGMD7lQK1fqUYwIFav1Kg1hfAgVq/UqDWF8CBWr9SoNYXwIFav1Kg1hfAgVq/UqDWF8CBWr9SoNYXwIFav1Kg1hfAgVq/UqDWF8CBWr9SoNYXwIFav1Kg1hfAgVq/UqDWF8CBWr9SoNYXwIFav1Kg1hfAgVq/UqDWF8CBWr9SoNYXwIFav1Kg1hfAgVq/UqDWF8CBWr9SoNYXwIFav1Kg1hfAgVq/UqDWF8CBWr9SoNYXwIFav1Kg1hfAgVq/UqDWF8CBWr9SoNYXwIFav1Kg1hfAgVq/UqDWF8CBWr9SoNYXwIFav1Kg1hfAgVq/UqDWF8CBWr9SoNYXwIFav1Kg1hfAgVq/UqDWF8CBWr9SoNYXwIFav1Kg1hfAgVq/UqDWF8CBWr9SoNYXwIFav1Kg1hfAgVq/UqDWF8CBWr9SoNYXwIFav1Kg1hfAgVq/UqDWF8CBWr9SoNYXwIFav1Kg1hfAgVq/UqDWF8CBWr9SoNYXwIFav1Kg1hfAgVq/UqDWF8CBWr9SoNYXwIFav1Kg1hfAgVq/UqDWF8CBWr9SoNYXwIFav1Kg1hfAgVq/UqDWF8CBWr9SoNYXwIFav1Kg1hfAgVq/UqDWF8CBWr9SoNYXwIFav1Kg1hfAgVq/UqDWF8CBWr9SoNYXwIFav1Kg1hfAgVq/UqDWF8CBWr9SoNYXwIFav1Kg1hfAgVq/UqDWF8CBWr9SoNYXwIFav1Kg1hfAgVq/UqDWF8CBWr9SoNYXwIFav1Kg1hfAgVq/UqDWF8CBWr9SoNYXwIFav1Kg1hfAgVq/UqDWF8CBWr9SoNYXwIFav1Kg1hfAgVq/UqDWF8CBWr9SoNYXwIFav1Kg1hfAgVq/UqDWF8CBWr9SoNYXwIFav1Kg1hfAgVq/UqDWF8CBWr9SoNYXwIFav1Kg1hfAgVq/UqDWF8CBWr9SoNYXwIFav1Kg1hfAgVq/UqDWF8CBWr9SoNYXwIFav1Kg1hfAgVq/UqDWF8CBWr9SoNYXwIFav1Kg1hfAgVq/UqDWF8CBWr9SoNYXwIFav1Kg1hfAgVq/UqDWF8CBWr9SoNYXwIFav1Kg1hfACB988MEHF8AIH3zwwQcXwAgffPDBBxfACB988MEHF8AIH3zwwQcXwAgffPDBBxfACB988MEHF8AIH3zwwQcXwAgffPDBBxfACB988MEHF8AIH3zwwQcXwAgffPDBBxfACB988MEHF8AIH3zwwQcXwAgffPDBBxfACB988MEHF8AIH3zwwQcXwAgffPDBBxfACB988MEHF8AIH3zwwQcXwAgffPDBBxfACB988MEHF8AIH3zwwQcXwAgffPDBBxfACB988MEHF8AIH3zwwQcXwAgffPDBBxfACB988MEHF8AIH3zwwQcXwAgffPDBBxfACB988MEHF8AIH3zwwQcXwAgffPDBBxfACB988MEHF8AIH3zwwQcXwAgffPDBBxfACB988MEHF8AIH3zwwQcXwAgffPDBBxfACB988MEHF8AIH3zwwQcXwAgffPDBBxfACB988MEHF8AIH3zwwQcXwAgffPDBBxfACB988MEHF8AIH3zwwQcXwAgffPDBBxfACB988MEHF8AIH3zwwQcXwAgffPDBBxfACB988MEHF8AIH3zwwQcXwAgffPDBBxfACB988MEHF8AIH3zwwQcXwAgffPDBBxfACB988MEHF8AIH3zwwQcXwAgffPDBBxfACB988MEHF8AIH3zwwQcXwAgffPDBBxfACB988MEHF8AIH3zwwQcXwAgffPDBBxfACB988MEHF8AIH3zwwQcXwAgffPDBBxfACB988MEHF8AIH3zwwQcXwAgffPDBBxfACB988MEHF8AIH3zwwQcXwAgffPDBBxfACB988MEHF8AIH3zwwQcXwAgffPDBBxfACB988MEHF8AIH3zwwQcXwAgffPDBBxfACB988MEHF8AIH3zwwQcXwAgffPDBBxfACB988MEHF8AIH3zwwQcXwAgffPDBBxfACB988MEHF8AIH3zwwQcXwAgffPDBBxfACB988MEHF8AIH3zwwQcXwAgffPDBBxfACB988MEHF8AIH3zwwQcXwAgffPDBBxfACB988MEHF8AIH3zwwQcXwAgffPDBBxfACB988MEHF8CO4ziO4zgWwI7jOI7jOBbAjuM4juM4FsCO4ziO4zgWwI7jOI7jOBbAjuM4juM4FsCO4ziO4zgWwI7jOI7jOBbAjuM4juM4FsCO4ziO4zgWwI7jOI7jOBbAjuM4juM4FsCO4ziO4zgWwI7jOI7jOBbAjuM4juM4FsCO4ziO4zgWwI7jOI7jOBbAjuM4juM4FsCO4ziO4zgWwI7jOI7jOBbAjuM4juM4FsCO4ziO4zgWwI7jOI7jOBbAjuM4juM4FsCO4ziO4zgWwI7jOI7jOBbAjuM4juM4FsCO4ziO4zgWwI7jOI7jOBbAjuM4juM4FsCO4ziO4zgWwI7jOI7jOBbAjuM4juM4FsCO4ziO4zgWwI7jOI7jOBbAjuM4juM4FsCO4ziO4zgWwI7jOI7jOBbAjuM4juM4FsCO4ziO4zgWwI7jOI7jOBbAjuM4juM4FsCO4ziO4zgWwI7jOI7jOBbAjuM4juM4FsCO4ziO4zgWwI7jOI7jOBbAjuM4juM4FsCO4ziO4zgWwI7jOI7jOBbAjuM4juM4FsCO4ziO4zgWwI7jOI7jOBbAjuM4juM4FsCO4ziO4zgWwI7jOI7jOBbAjuM4juM4FsCO4ziO4zgWwI7jOI7jOBbAjuM4juM4FsCO4ziO4zgWwI7jOI7jOBbAjuM4juM4FsCO4ziO4zgWwI7jOI7jOBbAjuM4juM4FsCO4ziO4zgWwI7jOI7jOBbAjuM4juM4FsCO4ziO4zgWwI7jOI7jOBbAjuM4juM4FsCO4ziO4zgWwI7jOI7jOBbAjuM4juM4FsCO4ziO4zgWwI7jOI7jOBbAjuM4juM4FsCO4ziO4zgWwI7jOI7jOBbAjuM4juM4FsCO4ziO4zgWwI7jOI7jOBbAjuM4juM4FsCO4ziO4zgWwI7jOI7jOBbAjuM4juM4FsCO4ziO4zgWwI7jOI7jOBbAjuM4juM4FsCO4ziO4zgWwI7jOI7jOBbAjuM4juM4FsCO4ziO4zgWwI7jOI7jOBbAjuM4juM4FsCO4ziO4zgWwI7jOI7jOBbAjuM4juM4FsCO4ziO4zgWwBWo9SsFahXAFaj1KwVqFcAVqPUrBWoVwBWo9SsFahXAFaj1KwVqFcAVqPUrBWoVwBWo9SsFahXAFaj1KwVqFcAVqPUrBWoVwBWo9SsFahXAFaj1KwVqFcAVqPUrBWoVwBWo9SsFahXAFaj1KwVqFcAVqPUrBWoVwBWo9SsFahXAFaj1KwVqFcAVqPUrBWoVwBWo9SsFahXAFaj1KwVqFcAVqPUrBWoVwBWo9SsFahXAFaj1KwVqFcAVqPUrBWoVwBWo9SsFahXAFaj1KwVqFcAVqPUrBWoVwBWo9SsFahXAFaj1KwVqFcAVqPUrBWoVwBWo9SsFahXAFaj1KwVqFcAVqPUrBWoVwBWo9SsFahXAFaj1KwVqFcAVqPUrBWoVwBWo9SsFahXAFaj1KwVqFcAVqPUrBWoVwBWo9SsFahXAFaj1KwVqFcAVqPUrBWoVwBWo9SsFahXAFaj1KwVqFcAVqPUrBWoVwBWo9SsFahXAFaj1KwVqFcAVqPUrBWoVwBWo9SsFahXAFaj1KwVqFcAVqPUrBWoVwBWo9SsFahXAFaj1KwVqFcAVqPUrBWoVwBWo9SsFahXAFaj1KwVqFcAVqPUrBWoVwBWo9SsFahXAFaj1KwVqFcAVqPUrBWoVwBWo9SsFahXAFaj1KwVqFcAVqPUrBWoVwBWo9SsFahXAFaj1KwVqFcAVqPUrBWoVwBWo9SsFahXAFaj1KwVqFcAVqPUrBWoVwBWo9SsFahXAFaj1KwVqFcAVqPUrBWoVwBWo9SsFahXAFaj1KwVqFcAVqPUrBWoVwBWo9SsFahXAFaj1KwVqFcAVqPUrBWoVwBWo9SsFahXAFaj1KwVqFcAVqPUrBWoVwBWo9SsFahXAFaj1KwVqFcAVqPUrBWoVwBWo9SsFahXAFaj1KwVqFcAVqPUrBWoVwBWo9SsFahXAFaj1KwVqFcAVqPUrBWoVwBWo9SsFahXAFaj1KwVqFcAVqPUrBWoVwBWo9SsFahXAFaj1KwVqFcAVqPUrBWoVwBWo9SsFahXAFaj1KwVqFcAVqPUrBWoVwBWo9SsFahXAm2yyySabFMCbbLLJJpsUwJtssskmmxTAm2yyySabFMCbbLLJJpsUwJtssskmmxTAm2yyySabFMCbbLLJJpsUwJtssskmmxTAm2yyySabFMCbbLLJJpsUwJtssskmmxTAm2yyySabFMCbbLLJJpsUwJtssskmmxTAm2yyySabFMCbbLLJJpsUwJtssskmmxTAm2yyySabFMCbbLLJJpsUwJtssskmmxTAm2yyySabFMCbbLLJJpsUwJtssskmmxTAm2yyySabFMCbbLLJJpsUwJtssskmmxTAm2yyySabFMCbbLLJJpsUwJtssskmmxTAm2yyySabFMCbbLLJJpsUwJtssskmmxTAm2yyySabFMCbbLLJJpsUwJtssskmmxTAm2yyySabFMCbbLLJJpsUwJtssskmmxTAm2yyySabFMCbbLLJJpsUwJtssskmmxTAm2yyySabFMCbbLLJJpsUwJtssskmmxTAm2yyySabFMCbbLLJJpsUwJtssskmmxTAm2yyySabFMCbbLLJJpsUwJtssskmmxTAm2yyySabFMCbbLLJJpsUwJtssskmmxTAm2yyySabFMCbbLLJJpsUwJtssskmmxTAm2yyySabFMCbbLLJJpsUwJtssskmmxTAm2yyySabFMCbbLLJJpsUwJtssskmmxTAm2yyySabFMCbbLLJJpsUwJtssskmmxTAm2yyySabFMCbbLLJJpsUwJtssskmmxTAm2yyySabFMCbbLLJJpsUwJtssskmmxTAm2yyySabFMCbbLLJJpsUwJtssskmmxTAm2yyySabFMCbbLLJJpsUwJtssskmmxTAm2yyySabFMCbbLLJJpsUwJtssskmmxTAm2yyySabFMCbbLLJJpsUwJtssskmmxTAm2yyySabFMCbbLLJJpsUwJtssskmmxTAm2yyySabFMCbbLLJJpsUwJtssskmmxTAm2yyySabFMCbbLLJJpsUwJtssskmmxTAm2yyySabFMCbbLLJJpsUwJtssskmmxTAm2yyySabFMCbbLLJJpsUwJtssskmmxTAm2yyySabFMAiMW9nSMwTwCIxb2dIzBPAIjFvZ0jME8AiMW9nSMwTwCIxb2dIzBPAIjFvZ0jME8AiMW9nSMwTwCIxb2dIzBPAIjFvZ0jME8AiMW9nSMwTwCIxb2dIzBPAIjFvZ0jME8AiMW9nSMwTwCIxb2dIzBPAIjFvZ0jME8AiMW9nSMwTwCIxb2dIzBPAIjFvZ0jME8AiMW9nSMwTwCIxb2dIzBPAIjFvZ0jME8AiMW9nSMwTwCIxb2dIzBPAIjFvZ0jME8AiMW9nSMwTwCIxb2dIzBPAIjFvZ0jME8AiMW9nSMwTwCIxb2dIzBPAIjFvZ0jME8AiMW9nSMwTwCIxb2dIzBPAIjFvZ0jME8AiMW9nSMwTwCIxb2dIzBPAIjFvZ0jME8AiMW9nSMwTwCIxb2dIzBPAIjFvZ0jME8AiMW9nSMwTwCIxb2dIzBPAIjFvZ0jME8AiMW9nSMwTwCIxb2dIzBPAIjFvZ0jME8AiMW9nSMwTwCIxb2dIzBPAIjFvZ0jME8AiMW9nSMwTwCIxb2dIzBPAIjFvZ0jME8AiMW9nSMwTwCIxb2dIzBPAIjFvZ0jME8AiMW9nSMwTwCIxb2dIzBPAIjFvZ0jME8AiMW9nSMwTwCIxb2dIzBPAIjFvZ0jME8AiMW9nSMwTwCIxb2dIzBPAIjFvZ0jME8AiMW9nSMwTwCIxb2dIzBPAIjFvZ0jME8AiMW9nSMwTwCIxb2dIzBPAIjFvZ0jME8AiMW9nSMwTwCIxb2dIzBPAIjFvZ0jME8AiMW9nSMwTwCIxb2dIzBPAIjFvZ0jME8AiMW9nSMwTwCIxb2dIzBPAIjFvZ0jME8AiMW9nSMwTwCIxb2dIzBPAIjFvZ0jME8AiMW9nSMwTwCIxb2dIzBPAIjFvZ0jME8AiMW9nSMwTwCIxb2dIzBPAIjFvZ0jME8AiMW9nSMwTwCIxb2dIzBPAIjFvZ0jME8AiMW9nSMwTwCIxb2dIzBPAIjFvZ0jME8AiMW9nSMwTwCIxb2dIzBPAIjFvZ0jME8AiMW9nSMwTwCIxb2dIzBPAIjFvZ0jME8AiMW9nSMwTwKj1KwVq/RLAqPUrBWr9EsCo9SsFav0SwKj1KwVq/RLAqPUrBWr9EsCo9SsFav0SwKj1KwVq/RLAqPUrBWr9EsCo9SsFav0SwKj1KwVq/RLAqPUrBWr9EsCo9SsFav0SwKj1KwVq/RLAqPUrBWr9EsCo9SsFav0SwKj1KwVq/RLAqPUrBWr9EsCo9SsFav0SwKj1KwVq/RLAqPUrBWr9EsCo9SsFav0SwKj1KwVq/RLAqPUrBWr9EsCo9SsFav0SwKj1KwVq/RLAqPUrBWr9EsCo9SsFav0SwKj1KwVq/RLAqPUrBWr9EsCo9SsFav0SwKj1KwVq/RLAqPUrBWr9EsCo9SsFav0SwKj1KwVq/RLAqPUrBWr9EsCo9SsFav0SwKj1KwVq/RLAqPUrBWr9EsCo9SsFav0SwKj1KwVq/RLAqPUrBWr9EsCo9SsFav0SwKj1KwVq/RLAqPUrBWr9EsCo9SsFav0SwKj1KwVq/RLAqPUrBWr9EsCo9SsFav0SwKj1KwVq/RLAqPUrBWr9EsCo9SsFav0SwKj1KwVq/RLAqPUrBWr9EsCo9SsFav0SwKj1KwVq/RLAqPUrBWr9EsCo9SsFav0SwKj1KwVq/RLAqPUrBWr9EsCo9SsFav0SwKj1KwVq/RLAqPUrBWr9EsCo9SsFav0SwKj1KwVq/RLAqPUrBWr9EsCo9SsFav0SwKj1KwVq/RLAqPUrBWr9EsCo9SsFav0SwKj1KwVq/RLAqPUrBWr9EsCo9SsFav0SwKj1KwVq/RLAqPUrBWr9EsCo9SsFav0SwKj1KwVq/RLAqPUrBWr9EsCo9SsFav0SwKj1KwVq/RLAqPUrBWr9EsCo9SsFav0SwKj1KwVq/RLAqPUrBWr9EsCo9SsFav0SwKj1KwVq/RLAqPUrBWr9EsCo9SsFav0SwKj1KwVq/RLAqPUrBWr9EsCo9SsFav0SwKj1KwVq/RLAqPUrBWr9EsCo9SsFav0SwKj1KwVq/RLAqPUrBWr9EsCo9SsFav0SwKj1KwVq/RLAqPUrBWr9EsCo9SsFav0SwKj1KwVq/RLAL7rooosuEsAvuuiiiy4SwC+66KKLLhLAL7rooosuEsAvuuiiiy4SwC+66KKLLhLAL7rooosuEsAvuuiiiy4SwC+66KKLLhLAL7rooosuEsAvuuiiiy4SwC+66KKLLhLAL7rooosuEsAvuuiiiy4SwC+66KKLLhLAL7rooosuEsAvuuiiiy4SwC+66KKLLhLAL7rooosuEsAvuuiiiy4SwC+66KKLLhLAL7rooosuEsAvuuiiiy4SwC+66KKLLhLAL7rooosuEsAvuuiiiy4SwC+66KKLLhLAL7rooosuEsAvuuiiiy4SwC+66KKLLhLAL7rooosuEsAvuuiiiy4SwC+66KKLLhLAL7rooosuEsAvuuiiiy4SwC+66KKLLhLAL7rooosuEsAvuuiiiy4SwC+66KKLLhLAL7rooosuEsAvuuiiiy4SwC+66KKLLhLAL7rooosuEsAvuuiiiy4SwC+66KKLLhLAL7rooosuEsAvuuiiiy4SwC+66KKLLhLAL7rooosuEsAvuuiiiy4SwC+66KKLLhLAL7rooosuEsAvuuiiiy4SwC+66KKLLhLAL7rooosuEsAvuuiiiy4SwC+66KKLLhLAL7rooosuEsAvuuiiiy4SwC+66KKLLhLAL7rooosuEsAvuuiiiy4SwC+66KKLLhLAL7rooosuEsAvuuiiiy4SwC+66KKLLhLAL7rooosuEsAvuuiiiy4SwC+66KKLLhLAL7rooosuEsAvuuiiiy4SwC+66KKLLhLAL7rooosuEsAvuuiiiy4SwC+66KKLLhLAL7rooosuEsAvuuiiiy4SwC+66KKLLhLAL7rooosuEsAvuuiiiy4SwC+66KKLLhLAL7rooosuEsAvuuiiiy4SwC+66KKLLhLAL7rooosuEsAvuuiiiy4SwC+66KKLLhLAL7rooosuEsAvuuiiiy4SwC+66KKLLhLAL7rooosuEsAvuuiiiy4SwC+66KKLLhLAL7rooosuEsAvuuiiiy4SwC+66KKLLhLAL7rooosuEsAvuuiiiy4SwC+66KKLLhLAL7rooosuEsC1fqVArV8RwLV+pUCtXxHAtX6lQK1fEcC1fqVArV8RwLV+pUCtXxHAtX6lQK1fEcC1fqVArV8RwLV+pUCtXxHAtX6lQK1fEcC1fqVArV8RwLV+pUCtXxHAtX6lQK1fEcC1fqVArV8RwLV+pUCtXxHAtX6lQK1fEcC1fqVArV8RwLV+pUCtXxHAtX6lQK1fEcC1fqVArV8RwLV+pUCtXxHAtX6lQK1fEcC1fqVArV8RwLV+pUCtXxHAtX6lQK1fEcC1fqVArV8RwLV+pUCtXxHAtX6lQK1fEcC1fqVArV8RwLV+pUCtXxHAtX6lQK1fEcC1fqVArV8RwLV+pUCtXxHAtX6lQK1fEcC1fqVArV8RwLV+pUCtXxHAtX6lQK1fEcC1fqVArV8RwLV+pUCtXxHAtX6lQK1fEcC1fqVArV8RwLV+pUCtXxHAtX6lQK1fEcC1fqVArV8RwLV+pUCtXxHAtX6lQK1fEcC1fqVArV8RwLV+pUCtXxHAtX6lQK1fEcC1fqVArV8RwLV+pUCtXxHAtX6lQK1fEcC1fqVArV8RwLV+pUCtXxHAtX6lQK1fEcC1fqVArV8RwLV+pUCtXxHAtX6lQK1fEcC1fqVArV8RwLV+pUCtXxHAtX6lQK1fEcC1fqVArV8RwLV+pUCtXxHAtX6lQK1fEcC1fqVArV8RwLV+pUCtXxHAtX6lQK1fEcC1fqVArV8RwLV+pUCtXxHAtX6lQK1fEcC1fqVArV8RwLV+pUCtXxHAtX6lQK1fEcC1fqVArV8RwLV+pUCtXxHAtX6lQK1fEcC1fqVArV8RwLV+pUCtXxHAtX6lQK1fEcC1fqVArV8RwLV+pUCtXxHAtX6lQK1fEcC1fqVArV8RwLV+pUCtXxHAtX6lQK1fEcC1fqVArV8RwLV+pUCtXxHAtX6lQK1fEcC1fqVArV8RwLV+pUCtXxHAtX6lQK1fEcC1fqVArV8RwLV+pUCtXxHAtX6lQK1fEcC1fqVArV8RwLV+pUCtXxHAtX6lQK1fEcC1fqVArV8RwLV+pUCtXxHAtX6lQK1fEcC1fqVArV8RwDxDYt7OkBDAPENi3s6QEMA8Q2LezpAQwDxDYt7OkBDAPENi3s6QEMA8Q2LezpAQwDxDYt7OkBDAPENi3s6QEMA8Q2LezpAQwDxDYt7OkBDAPENi3s6QEMA8Q2LezpAQwDxDYt7OkBDAPENi3s6QEMA8Q2LezpAQwDxDYt7OkBDAPENi3s6QEMA8Q2LezpAQwDxDYt7OkBDAPENi3s6QEMA8Q2LezpAQwDxDYt7OkBDAPENi3s6QEMA8Q2LezpAQwDxDYt7OkBDAPENi3s6QEMA8Q2LezpAQwDxDYt7OkBDAPENi3s6QEMA8Q2LezpAQwDxDYt7OkBDAPENi3s6QEMA8Q2LezpAQwDxDYt7OkBDAPENi3s6QEMA8Q2LezpAQwDxDYt7OkBDAPENi3s6QEMA8Q2LezpAQwDxDYt7OkBDAPENi3s6QEMA8Q2LezpAQwDxDYt7OkBDAPENi3s6QEMA8Q2LezpAQwDxDYt7OkBDAPENi3s6QEMA8Q2LezpAQwDxDYt7OkBDAPENi3s6QEMA8Q2LezpAQwDxDYt7OkBDAPENi3s6QEMA8Q2LezpAQwDxDYt7OkBDAPENi3s6QEMA8Q2LezpAQwDxDYt7OkBDAPENi3s6QEMA8Q2LezpAQwDxDYt7OkBDAPENi3s6QEMA8Q2LezpAQwDxDYt7OkBDAPENi3s6QEMA8Q2LezpAQwDxDYt7OkBDAPENi3s6QEMA8Q2LezpAQwDxDYt7OkBDAPENi3s6QEMA8Q2LezpAQwDxDYt7OkBDAPENi3s6QEMA8Q2LezpAQwDxDYt7OkBDAPENi3s6QEMA8Q2LezpAQwDxDYt7OkBDAPENi3s6QEMA8Q2LezpAQwDxDYt7OkBDAPENi3s6QEMA8Q2LezpAQwDxDYt7OkBDAPENi3s6QEMA8Q2LezpAQwDxDYt7OkBDAPENi3s6QEMA8Q2LezpAQwDxDYt7OkBDAPENi3s6QEMA8Q2LezpAQwDxDYt7OkBDAPENi3s6QEMA8Q2LezpAQwDxDYt7OkBDAPENi3s6QEMA8Q2LezpAQwDxDYt7OkBDAhA8++OCDD8CEDz744IMPwIQPPvjggw/AhA8++OCDD8CEDz744IMPwIQPPvjggw/AhA8++OCDD8CEDz744IMPwIQPPvjggw/AhA8++OCDD8CEDz744IMPwIQPPvjggw/AhA8++OCDD8CEDz744IMPwIQPPvjggw/AhA8++OCDD8CEDz744IMPwIQPPvjggw/AhA8++OCDD8CEDz744IMPwIQPPvjggw/AhA8++OCDD8CEDz744IMPwIQPPvjggw/AhA8++OCDD8CEDz744IMPwIQPPvjggw/AhA8++OCDD8CEDz744IMPwIQPPvjggw/AhA8++OCDD8CEDz744IMPwIQPPvjggw/AhA8++OCDD8CEDz744IMPwIQPPvjggw/AhA8++OCDD8CEDz744IMPwIQPPvjggw/AhA8++OCDD8CEDz744IMPwIQPPvjggw/AhA8++OCDD8CEDz744IMPwIQPPvjggw/AhA8++OCDD8CEDz744IMPwIQPPvjggw/AhA8++OCDD8CEDz744IMPwIQPPvjggw/AhA8++OCDD8CEDz744IMPwIQPPvjggw/AhA8++OCDD8CEDz744IMPwIQPPvjggw/AhA8++OCDD8CEDz744IMPwIQPPvjggw/AhA8++OCDD8CEDz744IMPwIQPPvjggw/AhA8++OCDD8CEDz744IMPwIQPPvjggw/AhA8++OCDD8CEDz744IMPwIQPPvjggw/AhA8++OCDD8CEDz744IMPwIQPPvjggw/AhA8++OCDD8CEDz744IMPwIQPPvjggw/AhA8++OCDD8CEDz744IMPwIQPPvjggw/AhA8++OCDD8CEDz744IMPwIQPPvjggw/AhA8++OCDD8CEDz744IMPwIQPPvjggw/AhA8++OCDD8CEDz744IMPwIQPPvjggw/AhA8++OCDD8CEDz744IMPwIQPPvjggw/AhA8++OCDD8CEDz744IMPwIQPPvjggw/AhA8++OCDD8CEDz744IMPwIQPPvjggw/AhA8++OCDD8CEDz744IMPwIQPPvjggw/AhA8++OCDD8CSmLczJOYNwJKYtzMk5g3Akpi3MyTmDcCSmLczJOYNwJKYtzMk5g3Akpi3MyTmDcCSmLczJOYNwJKYtzMk5g3Akpi3MyTmDcCSmLczJOYNwJKYtzMk5g3Akpi3MyTmDcCSmLczJOYNwJKYtzMk5g3Akpi3MyTmDcCSmLczJOYNwJKYtzMk5g3Akpi3MyTmDcCSmLczJOYNwJKYtzMk5g3Akpi3MyTmDcCSmLczJOYNwJKYtzMk5g3Akpi3MyTmDcCSmLczJOYNwJKYtzMk5g3Akpi3MyTmDcCSmLczJOYNwJKYtzMk5g3Akpi3MyTmDcCSmLczJOYNwJKYtzMk5g3Akpi3MyTmDcCSmLczJOYNwJKYtzMk5g3Akpi3MyTmDcCSmLczJOYNwJKYtzMk5g3Akpi3MyTmDcCSmLczJOYNwJKYtzMk5g3Akpi3MyTmDcCSmLczJOYNwJKYtzMk5g3Akpi3MyTmDcCSmLczJOYNwJKYtzMk5g3Akpi3MyTmDcCSmLczJOYNwJKYtzMk5g3Akpi3MyTmDcCSmLczJOYNwJKYtzMk5g3Akpi3MyTmDcCSmLczJOYNwJKYtzMk5g3Akpi3MyTmDcCSmLczJOYNwJKYtzMk5g3Akpi3MyTmDcCSmLczJOYNwJKYtzMk5g3Akpi3MyTmDcCSmLczJOYNwJKYtzMk5g3Akpi3MyTmDcCSmLczJOYNwJKYtzMk5g3Akpi3MyTmDcCSmLczJOYNwJKYtzMk5g3Akpi3MyTmDcCSmLczJOYNwJKYtzMk5g3Akpi3MyTmDcCSmLczJOYNwJKYtzMk5g3Akpi3MyTmDcCSmLczJOYNwJKYtzMk5g3Akpi3MyTmDcCSmLczJOYNwJKYtzMk5g3Akpi3MyTmDcCSmLczJOYNwJKYtzMk5g3Akpi3MyTmDcCSmLczJOYNwJKYtzMk5g3Akpi3MyTmDcCSmLczJOYNwJKYtzMk5g3Akpi3MyTmDcCSmLczJOYNwJKYtzMk5g3Akpi3MyTmDcCSmLczJOYNwJKYtzMk5g3Akpi3MyTmDcCSmLczJOYNwJ4hMW9nSAzAniExb2dIDMCeITFvZ0gMwJ4hMW9nSAzAniExb2dIDMCeITFvZ0gMwJ4hMW9nSAzAniExb2dIDMCeITFvZ0gMwJ4hMW9nSAzAniExb2dIDMCeITFvZ0gMwJ4hMW9nSAzAniExb2dIDMCeITFvZ0gMwJ4hMW9nSAzAniExb2dIDMCeITFvZ0gMwJ4hMW9nSAzAniExb2dIDMCeITFvZ0gMwJ4hMW9nSAzAniExb2dIDMCeITFvZ0gMwJ4hMW9nSAzAniExb2dIDMCeITFvZ0gMwJ4hMW9nSAzAniExb2dIDMCeITFvZ0gMwJ4hMW9nSAzAniExb2dIDMCeITFvZ0gMwJ4hMW9nSAzAniExb2dIDMCeITFvZ0gMwJ4hMW9nSAzAniExb2dIDMCeITFvZ0gMwJ4hMW9nSAzAniExb2dIDMCeITFvZ0gMwJ4hMW9nSAzAniExb2dIDMCeITFvZ0gMwJ4hMW9nSAzAniExb2dIDMCeITFvZ0gMwJ4hMW9nSAzAniExb2dIDMCeITFvZ0gMwJ4hMW9nSAzAniExb2dIDMCeITFvZ0gMwJ4hMW9nSAzAniExb2dIDMCeITFvZ0gMwJ4hMW9nSAzAniExb2dIDMCeITFvZ0gMwJ4hMW9nSAzAniExb2dIDMCeITFvZ0gMwJ4hMW9nSAzAniExb2dIDMCeITFvZ0gMwJ4hMW9nSAzAniExb2dIDMCeITFvZ0gMwJ4hMW9nSAzAniExb2dIDMCeITFvZ0gMwJ4hMW9nSAzAniExb2dIDMCeITFvZ0gMwJ4hMW9nSAzAniExb2dIDMCeITFvZ0gMwJ4hMW9nSAzAniExb2dIDMCeITFvZ0gMwJ4hMW9nSAzAniExb2dIDMCeITFvZ0gMwJ4hMW9nSAzAniExb2dIDMCeITFvZ0gMwJ4hMW9nSAzAniExb2dIDMCeITFvZ0gMwJ4hMW9nSAzAniExb2dIDMCeITFvZ0gMwJ4hMW9nSAzAniExb2dIDMCeITFvZ0gMwJ4hMW9nSAzAniExb2dIDMCeITFvZ0gMwJ4hMW9nSAzAqqqqqqqqCsCqqqqqqqoKwKqqqqqqqgrAqqqqqqqqCsCqqqqqqqoKwKqqqqqqqgrAqqqqqqqqCsCqqqqqqqoKwKqqqqqqqgrAqqqqqqqqCsCqqqqqqqoKwKqqqqqqqgrAqqqqqqqqCsCqqqqqqqoKwKqqqqqqqgrAqqqqqqqqCsCqqqqqqqoKwKqqqqqqqgrAqqqqqqqqCsCqqqqqqqoKwKqqqqqqqgrAqqqqqqqqCsCqqqqqqqoKwKqqqqqqqgrAqqqqqqqqCsCqqqqqqqoKwKqqqqqqqgrAqqqqqqqqCsCqqqqqqqoKwKqqqqqqqgrAqqqqqqqqCsCqqqqqqqoKwKqqqqqqqgrAqqqqqqqqCsCqqqqqqqoKwKqqqqqqqgrAqqqqqqqqCsCqqqqqqqoKwKqqqqqqqgrAqqqqqqqqCsCqqqqqqqoKwKqqqqqqqgrAqqqqqqqqCsCqqqqqqqoKwKqqqqqqqgrAqqqqqqqqCsCqqqqqqqoKwKqqqqqqqgrAqqqqqqqqCsCqqqqqqqoKwKqqqqqqqgrAqqqqqqqqCsCqqqqqqqoKwKqqqqqqqgrAqqqqqqqqCsCqqqqqqqoKwKqqqqqqqgrAqqqqqqqqCsCqqqqqqqoKwKqqqqqqqgrAqqqqqqqqCsCqqqqqqqoKwKqqqqqqqgrAqqqqqqqqCsCqqqqqqqoKwKqqqqqqqgrAqqqqqqqqCsCqqqqqqqoKwKqqqqqqqgrAqqqqqqqqCsCqqqqqqqoKwKqqqqqqqgrAqqqqqqqqCsCqqqqqqqoKwKqqqqqqqgrAqqqqqqqqCsCqqqqqqqoKwKqqqqqqqgrAqqqqqqqqCsCqqqqqqqoKwKqqqqqqqgrAqqqqqqqqCsCqqqqqqqoKwKqqqqqqqgrAqqqqqqqqCsCqqqqqqqoKwKqqqqqqqgrAqqqqqqqqCsCqqqqqqqoKwKqqqqqqqgrAqqqqqqqqCsCqqqqqqqoKwKqqqqqqqgrAqqqqqqqqCsCqqqqqqqoKwKqqqqqqqgrAqqqqqqqqCsCqqqqqqqoKwKqqqqqqqgrAqqqqqqqqCsC4MyTm7QwJwLgzJObtDAnAuDMk5u0MCcC4MyTm7QwJwLgzJObtDAnAuDMk5u0MCcC4MyTm7QwJwLgzJObtDAnAuDMk5u0MCcC4MyTm7QwJwLgzJObtDAnAuDMk5u0MCcC4MyTm7QwJwLgzJObtDAnAuDMk5u0MCcC4MyTm7QwJwLgzJObtDAnAuDMk5u0MCcC4MyTm7QwJwLgzJObtDAnAuDMk5u0MCcC4MyTm7QwJwLgzJObtDAnAuDMk5u0MCcC4MyTm7QwJwLgzJObtDAnAuDMk5u0MCcC4MyTm7QwJwLgzJObtDAnAuDMk5u0MCcC4MyTm7QwJwLgzJObtDAnAuDMk5u0MCcC4MyTm7QwJwLgzJObtDAnAuDMk5u0MCcC4MyTm7QwJwLgzJObtDAnAuDMk5u0MCcC4MyTm7QwJwLgzJObtDAnAuDMk5u0MCcC4MyTm7QwJwLgzJObtDAnAuDMk5u0MCcC4MyTm7QwJwLgzJObtDAnAuDMk5u0MCcC4MyTm7QwJwLgzJObtDAnAuDMk5u0MCcC4MyTm7QwJwLgzJObtDAnAuDMk5u0MCcC4MyTm7QwJwLgzJObtDAnAuDMk5u0MCcC4MyTm7QwJwLgzJObtDAnAuDMk5u0MCcC4MyTm7QwJwLgzJObtDAnAuDMk5u0MCcC4MyTm7QwJwLgzJObtDAnAuDMk5u0MCcC4MyTm7QwJwLgzJObtDAnAuDMk5u0MCcC4MyTm7QwJwLgzJObtDAnAuDMk5u0MCcC4MyTm7QwJwLgzJObtDAnAuDMk5u0MCcC4MyTm7QwJwLgzJObtDAnAuDMk5u0MCcC4MyTm7QwJwLgzJObtDAnAuDMk5u0MCcC4MyTm7QwJwLgzJObtDAnAuDMk5u0MCcC4MyTm7QwJwLgzJObtDAnAuDMk5u0MCcC4MyTm7QwJwLgzJObtDAnAuDMk5u0MCcC4MyTm7QwJwLgzJObtDAnAuDMk5u0MCcC4MyTm7QwJwLgzJObtDAnAuDMk5u0MCcC4MyTm7QwJwLgzJObtDAnAuDMk5u0MCcC4MyTm7QwJwMS8nSExbwfAxLydITFvB8DEvJ0hMW8HwMS8nSExbwfAxLydITFvB8DEvJ0hMW8HwMS8nSExbwfAxLydITFvB8DEvJ0hMW8HwMS8nSExbwfAxLydITFvB8DEvJ0hMW8HwMS8nSExbwfAxLydITFvB8DEvJ0hMW8HwMS8nSExbwfAxLydITFvB8DEvJ0hMW8HwMS8nSExbwfAxLydITFvB8DEvJ0hMW8HwMS8nSExbwfAxLydITFvB8DEvJ0hMW8HwMS8nSExbwfAxLydITFvB8DEvJ0hMW8HwMS8nSExbwfAxLydITFvB8DEvJ0hMW8HwMS8nSExbwfAxLydITFvB8DEvJ0hMW8HwMS8nSExbwfAxLydITFvB8DEvJ0hMW8HwMS8nSExbwfAxLydITFvB8DEvJ0hMW8HwMS8nSExbwfAxLydITFvB8DEvJ0hMW8HwMS8nSExbwfAxLydITFvB8DEvJ0hMW8HwMS8nSExbwfAxLydITFvB8DEvJ0hMW8HwMS8nSExbwfAxLydITFvB8DEvJ0hMW8HwMS8nSExbwfAxLydITFvB8DEvJ0hMW8HwMS8nSExbwfAxLydITFvB8DEvJ0hMW8HwMS8nSExbwfAxLydITFvB8DEvJ0hMW8HwMS8nSExbwfAxLydITFvB8DEvJ0hMW8HwMS8nSExbwfAxLydITFvB8DEvJ0hMW8HwMS8nSExbwfAxLydITFvB8DEvJ0hMW8HwMS8nSExbwfAxLydITFvB8DEvJ0hMW8HwMS8nSExbwfAxLydITFvB8DEvJ0hMW8HwMS8nSExbwfAxLydITFvB8DEvJ0hMW8HwMS8nSExbwfAxLydITFvB8DEvJ0hMW8HwMS8nSExbwfAxLydITFvB8DEvJ0hMW8HwMS8nSExbwfAxLydITFvB8DEvJ0hMW8HwMS8nSExbwfAxLydITFvB8DEvJ0hMW8HwMS8nSExbwfAxLydITFvB8DEvJ0hMW8HwMS8nSExbwfAxLydITFvB8DEvJ0hMW8HwMS8nSExbwfAxLydITFvB8DEvJ0hMW8HwMS8nSExbwfA0kUXXXTRBcDSRRdddNEFwNJFF1100QXA0kUXXXTRBcDSRRdddNEFwNJFF1100QXA0kUXXXTRBcDSRRdddNEFwNJFF1100QXA0kUXXXTRBcDSRRdddNEFwNJFF1100QXA0kUXXXTRBcDSRRdddNEFwNJFF1100QXA0kUXXXTRBcDSRRdddNEFwNJFF1100QXA0kUXXXTRBcDSRRdddNEFwNJFF1100QXA0kUXXXTRBcDSRRdddNEFwNJFF1100QXA0kUXXXTRBcDSRRdddNEFwNJFF1100QXA0kUXXXTRBcDSRRdddNEFwNJFF1100QXA0kUXXXTRBcDSRRdddNEFwNJFF1100QXA0kUXXXTRBcDSRRdddNEFwNJFF1100QXA0kUXXXTRBcDSRRdddNEFwNJFF1100QXA0kUXXXTRBcDSRRdddNEFwNJFF1100QXA0kUXXXTRBcDSRRdddNEFwNJFF1100QXA0kUXXXTRBcDSRRdddNEFwNJFF1100QXA0kUXXXTRBcDSRRdddNEFwNJFF1100QXA0kUXXXTRBcDSRRdddNEFwNJFF1100QXA0kUXXXTRBcDSRRdddNEFwNJFF1100QXA0kUXXXTRBcDSRRdddNEFwNJFF1100QXA0kUXXXTRBcDSRRdddNEFwNJFF1100QXA0kUXXXTRBcDSRRdddNEFwNJFF1100QXA0kUXXXTRBcDSRRdddNEFwNJFF1100QXA0kUXXXTRBcDSRRdddNEFwNJFF1100QXA0kUXXXTRBcDSRRdddNEFwNJFF1100QXA0kUXXXTRBcDSRRdddNEFwNJFF1100QXA0kUXXXTRBcDSRRdddNEFwNJFF1100QXA0kUXXXTRBcDSRRdddNEFwNJFF1100QXA0kUXXXTRBcDSRRdddNEFwNJFF1100QXA0kUXXXTRBcDSRRdddNEFwNJFF1100QXA0kUXXXTRBcDSRRdddNEFwNJFF1100QXA0kUXXXTRBcDSRRdddNEFwNJFF1100QXA0kUXXXTRBcDSRRdddNEFwNJFF1100QXA0kUXXXTRBcDezpCYtzMEwN7OkJi3MwTA3s6QmLczBMDezpCYtzMEwN7OkJi3MwTA3s6QmLczBMDezpCYtzMEwN7OkJi3MwTA3s6QmLczBMDezpCYtzMEwN7OkJi3MwTA3s6QmLczBMDezpCYtzMEwN7OkJi3MwTA3s6QmLczBMDezpCYtzMEwN7OkJi3MwTA3s6QmLczBMDezpCYtzMEwN7OkJi3MwTA3s6QmLczBMDezpCYtzMEwN7OkJi3MwTA3s6QmLczBMDezpCYtzMEwN7OkJi3MwTA3s6QmLczBMDezpCYtzMEwN7OkJi3MwTA3s6QmLczBMDezpCYtzMEwN7OkJi3MwTA3s6QmLczBMDezpCYtzMEwN7OkJi3MwTA3s6QmLczBMDezpCYtzMEwN7OkJi3MwTA3s6QmLczBMDezpCYtzMEwN7OkJi3MwTA3s6QmLczBMDezpCYtzMEwN7OkJi3MwTA3s6QmLczBMDezpCYtzMEwN7OkJi3MwTA3s6QmLczBMDezpCYtzMEwN7OkJi3MwTA3s6QmLczBMDezpCYtzMEwN7OkJi3MwTA3s6QmLczBMDezpCYtzMEwN7OkJi3MwTA3s6QmLczBMDezpCYtzMEwN7OkJi3MwTA3s6QmLczBMDezpCYtzMEwN7OkJi3MwTA3s6QmLczBMDezpCYtzMEwN7OkJi3MwTA3s6QmLczBMDezpCYtzMEwN7OkJi3MwTA3s6QmLczBMDezpCYtzMEwN7OkJi3MwTA3s6QmLczBMDezpCYtzMEwN7OkJi3MwTA3s6QmLczBMDezpCYtzMEwN7OkJi3MwTA3s6QmLczBMDezpCYtzMEwN7OkJi3MwTA3s6QmLczBMDezpCYtzMEwN7OkJi3MwTA3s6QmLczBMDezpCYtzMEwN7OkJi3MwTA3s6QmLczBMDezpCYtzMEwN7OkJi3MwTA3s6QmLczBMDezpCYtzMEwN7OkJi3MwTA3s6QmLczBMDezpCYtzMEwN7OkJi3MwTA3s6QmLczBMDezpCYtzMEwN7OkJi3MwTA3s6QmLczBMDezpCYtzMEwOxXCtT6lQLA7FcK1PqVAsDsVwrU+pUCwOxXCtT6lQLA7FcK1PqVAsDsVwrU+pUCwOxXCtT6lQLA7FcK1PqVAsDsVwrU+pUCwOxXCtT6lQLA7FcK1PqVAsDsVwrU+pUCwOxXCtT6lQLA7FcK1PqVAsDsVwrU+pUCwOxXCtT6lQLA7FcK1PqVAsDsVwrU+pUCwOxXCtT6lQLA7FcK1PqVAsDsVwrU+pUCwOxXCtT6lQLA7FcK1PqVAsDsVwrU+pUCwOxXCtT6lQLA7FcK1PqVAsDsVwrU+pUCwOxXCtT6lQLA7FcK1PqVAsDsVwrU+pUCwOxXCtT6lQLA7FcK1PqVAsDsVwrU+pUCwOxXCtT6lQLA7FcK1PqVAsDsVwrU+pUCwOxXCtT6lQLA7FcK1PqVAsDsVwrU+pUCwOxXCtT6lQLA7FcK1PqVAsDsVwrU+pUCwOxXCtT6lQLA7FcK1PqVAsDsVwrU+pUCwOxXCtT6lQLA7FcK1PqVAsDsVwrU+pUCwOxXCtT6lQLA7FcK1PqVAsDsVwrU+pUCwOxXCtT6lQLA7FcK1PqVAsDsVwrU+pUCwOxXCtT6lQLA7FcK1PqVAsDsVwrU+pUCwOxXCtT6lQLA7FcK1PqVAsDsVwrU+pUCwOxXCtT6lQLA7FcK1PqVAsDsVwrU+pUCwOxXCtT6lQLA7FcK1PqVAsDsVwrU+pUCwOxXCtT6lQLA7FcK1PqVAsDsVwrU+pUCwOxXCtT6lQLA7FcK1PqVAsDsVwrU+pUCwOxXCtT6lQLA7FcK1PqVAsDsVwrU+pUCwOxXCtT6lQLA7FcK1PqVAsDsVwrU+pUCwOxXCtT6lQLA7FcK1PqVAsDsVwrU+pUCwOxXCtT6lQLA7FcK1PqVAsDsVwrU+pUCwOxXCtT6lQLA7FcK1PqVAsDsVwrU+pUCwOxXCtT6lQLA7FcK1PqVAsDsVwrU+pUCwOxXCtT6lQLA7FcK1PqVAsDsVwrU+pUCwOxXCtT6lQLA7FcK1PqVAsDsVwrU+pUCwOxXCtT6lQLA7FcK1PqVAsDsVwrU+pUCwOxXCtT6lQLA+OCDDz74AMD44IMPPvgAwPjggw8++ADA+OCDDz74AMD44IMPPvgAwPjggw8++ADA+OCDDz74AMD44IMPPvgAwPjggw8++ADA+OCDDz74AMD44IMPPvgAwPjggw8++ADA+OCDDz74AMD44IMPPvgAwPjggw8++ADA+OCDDz74AMD44IMPPvgAwPjggw8++ADA+OCDDz74AMD44IMPPvgAwPjggw8++ADA+OCDDz74AMD44IMPPvgAwPjggw8++ADA+OCDDz74AMD44IMPPvgAwPjggw8++ADA+OCDDz74AMD44IMPPvgAwPjggw8++ADA+OCDDz74AMD44IMPPvgAwPjggw8++ADA+OCDDz74AMD44IMPPvgAwPjggw8++ADA+OCDDz74AMD44IMPPvgAwPjggw8++ADA+OCDDz74AMD44IMPPvgAwPjggw8++ADA+OCDDz74AMD44IMPPvgAwPjggw8++ADA+OCDDz74AMD44IMPPvgAwPjggw8++ADA+OCDDz74AMD44IMPPvgAwPjggw8++ADA+OCDDz74AMD44IMPPvgAwPjggw8++ADA+OCDDz74AMD44IMPPvgAwPjggw8++ADA+OCDDz74AMD44IMPPvgAwPjggw8++ADA+OCDDz74AMD44IMPPvgAwPjggw8++ADA+OCDDz74AMD44IMPPvgAwPjggw8++ADA+OCDDz74AMD44IMPPvgAwPjggw8++ADA+OCDDz74AMD44IMPPvgAwPjggw8++ADA+OCDDz74AMD44IMPPvgAwPjggw8++ADA+OCDDz74AMD44IMPPvgAwPjggw8++ADA+OCDDz74AMD44IMPPvgAwPjggw8++ADA+OCDDz74AMD44IMPPvgAwPjggw8++ADA+OCDDz74AMD44IMPPvgAwPjggw8++ADA+OCDDz74AMD44IMPPvgAwPjggw8++ADA+OCDDz74AMD44IMPPvgAwPjggw8++ADA+OCDDz74AMD44IMPPvgAwPjggw8++ADA+OCDDz74AMD44IMPPvgAwPjggw8++ADA+OCDDz74AMAI1PqVArX+vwjU+pUCtf6/CNT6lQK1/r8I1PqVArX+vwjU+pUCtf6/CNT6lQK1/r8I1PqVArX+vwjU+pUCtf6/CNT6lQK1/r8I1PqVArX+vwjU+pUCtf6/CNT6lQK1/r8I1PqVArX+vwjU+pUCtf6/CNT6lQK1/r8I1PqVArX+vwjU+pUCtf6/CNT6lQK1/r8I1PqVArX+vwjU+pUCtf6/CNT6lQK1/r8I1PqVArX+vwjU+pUCtf6/CNT6lQK1/r8I1PqVArX+vwjU+pUCtf6/CNT6lQK1/r8I1PqVArX+vwjU+pUCtf6/CNT6lQK1/r8I1PqVArX+vwjU+pUCtf6/CNT6lQK1/r8I1PqVArX+vwjU+pUCtf6/CNT6lQK1/r8I1PqVArX+vwjU+pUCtf6/CNT6lQK1/r8I1PqVArX+vwjU+pUCtf6/CNT6lQK1/r8I1PqVArX+vwjU+pUCtf6/CNT6lQK1/r8I1PqVArX+vwjU+pUCtf6/CNT6lQK1/r8I1PqVArX+vwjU+pUCtf6/CNT6lQK1/r8I1PqVArX+vwjU+pUCtf6/CNT6lQK1/r8I1PqVArX+vwjU+pUCtf6/CNT6lQK1/r8I1PqVArX+vwjU+pUCtf6/CNT6lQK1/r8I1PqVArX+vwjU+pUCtf6/CNT6lQK1/r8I1PqVArX+vwjU+pUCtf6/CNT6lQK1/r8I1PqVArX+vwjU+pUCtf6/CNT6lQK1/r8I1PqVArX+vwjU+pUCtf6/CNT6lQK1/r8I1PqVArX+vwjU+pUCtf6/CNT6lQK1/r8I1PqVArX+vwjU+pUCtf6/CNT6lQK1/r8I1PqVArX+vwjU+pUCtf6/CNT6lQK1/r8I1PqVArX+vwjU+pUCtf6/CNT6lQK1/r8I1PqVArX+vwjU+pUCtf6/CNT6lQK1/r8I1PqVArX+vwjU+pUCtf6/CNT6lQK1/r8I1PqVArX+vwjU+pUCtf6/CNT6lQK1/r8I1PqVArX+vwjU+pUCtf6/CNT6lQK1/r8I1PqVArX+vwjU+pUCtf6/CNT6lQK1/r8I1PqVArX+vyjm7QyJefu/KObtDIl5+78o5u0MiXn7vyjm7QyJefu/KObtDIl5+78o5u0MiXn7vyjm7QyJefu/KObtDIl5+78o5u0MiXn7vyjm7QyJefu/KObtDIl5+78o5u0MiXn7vyjm7QyJefu/KObtDIl5+78o5u0MiXn7vyjm7QyJefu/KObtDIl5+78o5u0MiXn7vyjm7QyJefu/KObtDIl5+78o5u0MiXn7vyjm7QyJefu/KObtDIl5+78o5u0MiXn7vyjm7QyJefu/KObtDIl5+78o5u0MiXn7vyjm7QyJefu/KObtDIl5+78o5u0MiXn7vyjm7QyJefu/KObtDIl5+78o5u0MiXn7vyjm7QyJefu/KObtDIl5+78o5u0MiXn7vyjm7QyJefu/KObtDIl5+78o5u0MiXn7vyjm7QyJefu/KObtDIl5+78o5u0MiXn7vyjm7QyJefu/KObtDIl5+78o5u0MiXn7vyjm7QyJefu/KObtDIl5+78o5u0MiXn7vyjm7QyJefu/KObtDIl5+78o5u0MiXn7vyjm7QyJefu/KObtDIl5+78o5u0MiXn7vyjm7QyJefu/KObtDIl5+78o5u0MiXn7vyjm7QyJefu/KObtDIl5+78o5u0MiXn7vyjm7QyJefu/KObtDIl5+78o5u0MiXn7vyjm7QyJefu/KObtDIl5+78o5u0MiXn7vyjm7QyJefu/KObtDIl5+78o5u0MiXn7vyjm7QyJefu/KObtDIl5+78o5u0MiXn7vyjm7QyJefu/KObtDIl5+78o5u0MiXn7vyjm7QyJefu/KObtDIl5+78o5u0MiXn7vyjm7QyJefu/KObtDIl5+78o5u0MiXn7vyjm7QyJefu/KObtDIl5+78o5u0MiXn7vyjm7QyJefu/KObtDIl5+78o5u0MiXn7vyjm7QyJefu/KObtDIl5+78o5u0MiXn7vyjm7QyJefu/KObtDIl5+78o5u0MiXn7vyjm7QyJefu/KObtDIl5+78o5u0MiXn7vyjm7QyJefu/KObtDIl5+78o5u0MiXn7vyjm7QyJefu/QPjggw8++L9A+OCDDz74v0D44IMPPvi/QPjggw8++L9A+OCDDz74v0D44IMPPvi/QPjggw8++L9A+OCDDz74v0D44IMPPvi/QPjggw8++L9A+OCDDz74v0D44IMPPvi/QPjggw8++L9A+OCDDz74v0D44IMPPvi/QPjggw8++L9A+OCDDz74v0D44IMPPvi/QPjggw8++L9A+OCDDz74v0D44IMPPvi/QPjggw8++L9A+OCDDz74v0D44IMPPvi/QPjggw8++L9A+OCDDz74v0D44IMPPvi/QPjggw8++L9A+OCDDz74v0D44IMPPvi/QPjggw8++L9A+OCDDz74v0D44IMPPvi/QPjggw8++L9A+OCDDz74v0D44IMPPvi/QPjggw8++L9A+OCDDz74v0D44IMPPvi/QPjggw8++L9A+OCDDz74v0D44IMPPvi/QPjggw8++L9A+OCDDz74v0D44IMPPvi/QPjggw8++L9A+OCDDz74v0D44IMPPvi/QPjggw8++L9A+OCDDz74v0D44IMPPvi/QPjggw8++L9A+OCDDz74v0D44IMPPvi/QPjggw8++L9A+OCDDz74v0D44IMPPvi/QPjggw8++L9A+OCDDz74v0D44IMPPvi/QPjggw8++L9A+OCDDz74v0D44IMPPvi/QPjggw8++L9A+OCDDz74v0D44IMPPvi/QPjggw8++L9A+OCDDz74v0D44IMPPvi/QPjggw8++L9A+OCDDz74v0D44IMPPvi/QPjggw8++L9A+OCDDz74v0D44IMPPvi/QPjggw8++L9A+OCDDz74v0D44IMPPvi/QPjggw8++L9A+OCDDz74v0D44IMPPvi/QPjggw8++L9A+OCDDz74v0D44IMPPvi/QPjggw8++L9A+OCDDz74v0D44IMPPvi/QPjggw8++L9A+OCDDz74v0D44IMPPvi/QPjggw8++L9A+OCDDz74v0D44IMPPvi/QPjggw8++L9A+OCDDz74v0D44IMPPvi/QPjggw8++L9A+OCDDz74v0D44IMPPvi/QPjggw8++L9YCtT6lQL1v1gK1PqVAvW/WArU+pUC9b9YCtT6lQL1v1gK1PqVAvW/WArU+pUC9b9YCtT6lQL1v1gK1PqVAvW/WArU+pUC9b9YCtT6lQL1v1gK1PqVAvW/WArU+pUC9b9YCtT6lQL1v1gK1PqVAvW/WArU+pUC9b9YCtT6lQL1v1gK1PqVAvW/WArU+pUC9b9YCtT6lQL1v1gK1PqVAvW/WArU+pUC9b9YCtT6lQL1v1gK1PqVAvW/WArU+pUC9b9YCtT6lQL1v1gK1PqVAvW/WArU+pUC9b9YCtT6lQL1v1gK1PqVAvW/WArU+pUC9b9YCtT6lQL1v1gK1PqVAvW/WArU+pUC9b9YCtT6lQL1v1gK1PqVAvW/WArU+pUC9b9YCtT6lQL1v1gK1PqVAvW/WArU+pUC9b9YCtT6lQL1v1gK1PqVAvW/WArU+pUC9b9YCtT6lQL1v1gK1PqVAvW/WArU+pUC9b9YCtT6lQL1v1gK1PqVAvW/WArU+pUC9b9YCtT6lQL1v1gK1PqVAvW/WArU+pUC9b9YCtT6lQL1v1gK1PqVAvW/WArU+pUC9b9YCtT6lQL1v1gK1PqVAvW/WArU+pUC9b9YCtT6lQL1v1gK1PqVAvW/WArU+pUC9b9YCtT6lQL1v1gK1PqVAvW/WArU+pUC9b9YCtT6lQL1v1gK1PqVAvW/WArU+pUC9b9YCtT6lQL1v1gK1PqVAvW/WArU+pUC9b9YCtT6lQL1v1gK1PqVAvW/WArU+pUC9b9YCtT6lQL1v1gK1PqVAvW/WArU+pUC9b9YCtT6lQL1v1gK1PqVAvW/WArU+pUC9b9YCtT6lQL1v1gK1PqVAvW/WArU+pUC9b9YCtT6lQL1v1gK1PqVAvW/WArU+pUC9b9YCtT6lQL1v1gK1PqVAvW/WArU+pUC9b9YCtT6lQL1v1gK1PqVAvW/WArU+pUC9b9YCtT6lQL1v1gK1PqVAvW/WArU+pUC9b9YCtT6lQL1v1gK1PqVAvW/WArU+pUC9b9YCtT6lQL1v1gK1PqVAvW/WArU+pUC9b9YCtT6lQL1v3Acx3Ecx/G/cBzHcRzH8b9wHMdxHMfxv3Acx3Ecx/G/cBzHcRzH8b9wHMdxHMfxv3Acx3Ecx/G/cBzHcRzH8b9wHMdxHMfxv3Acx3Ecx/G/cBzHcRzH8b9wHMdxHMfxv3Acx3Ecx/G/cBzHcRzH8b9wHMdxHMfxv3Acx3Ecx/G/cBzHcRzH8b9wHMdxHMfxv3Acx3Ecx/G/cBzHcRzH8b9wHMdxHMfxv3Acx3Ecx/G/cBzHcRzH8b9wHMdxHMfxv3Acx3Ecx/G/cBzHcRzH8b9wHMdxHMfxv3Acx3Ecx/G/cBzHcRzH8b9wHMdxHMfxv3Acx3Ecx/G/cBzHcRzH8b9wHMdxHMfxv3Acx3Ecx/G/cBzHcRzH8b9wHMdxHMfxv3Acx3Ecx/G/cBzHcRzH8b9wHMdxHMfxv3Acx3Ecx/G/cBzHcRzH8b9wHMdxHMfxv3Acx3Ecx/G/cBzHcRzH8b9wHMdxHMfxv3Acx3Ecx/G/cBzHcRzH8b9wHMdxHMfxv3Acx3Ecx/G/cBzHcRzH8b9wHMdxHMfxv3Acx3Ecx/G/cBzHcRzH8b9wHMdxHMfxv3Acx3Ecx/G/cBzHcRzH8b9wHMdxHMfxv3Acx3Ecx/G/cBzHcRzH8b9wHMdxHMfxv3Acx3Ecx/G/cBzHcRzH8b9wHMdxHMfxv3Acx3Ecx/G/cBzHcRzH8b9wHMdxHMfxv3Acx3Ecx/G/cBzHcRzH8b9wHMdxHMfxv3Acx3Ecx/G/cBzHcRzH8b9wHMdxHMfxv3Acx3Ecx/G/cBzHcRzH8b9wHMdxHMfxv3Acx3Ecx/G/cBzHcRzH8b9wHMdxHMfxv3Acx3Ecx/G/cBzHcRzH8b9wHMdxHMfxv3Acx3Ecx/G/cBzHcRzH8b9wHMdxHMfxv3Acx3Ecx/G/cBzHcRzH8b9wHMdxHMfxv3Acx3Ecx/G/cBzHcRzH8b9wHMdxHMfxv3Acx3Ecx/G/cBzHcRzH8b9wHMdxHMfxv3Acx3Ecx/G/cBzHcRzH8b9wHMdxHMfxv3Acx3Ecx/G/cBzHcRzH8b9wHMdxHMfxv3Acx3Ecx/G/IF100UUX7b8gXXTRRRftvyBddNFFF+2/IF100UUX7b8gXXTRRRftvyBddNFFF+2/IF100UUX7b8gXXTRRRftvyBddNFFF+2/IF100UUX7b8gXXTRRRftvyBddNFFF+2/IF100UUX7b8gXXTRRRftvyBddNFFF+2/IF100UUX7b8gXXTRRRftvyBddNFFF+2/IF100UUX7b8gXXTRRRftvyBddNFFF+2/IF100UUX7b8gXXTRRRftvyBddNFFF+2/IF100UUX7b8gXXTRRRftvyBddNFFF+2/IF100UUX7b8gXXTRRRftvyBddNFFF+2/IF100UUX7b8gXXTRRRftvyBddNFFF+2/IF100UUX7b8gXXTRRRftvyBddNFFF+2/IF100UUX7b8gXXTRRRftvyBddNFFF+2/IF100UUX7b8gXXTRRRftvyBddNFFF+2/IF100UUX7b8gXXTRRRftvyBddNFFF+2/IF100UUX7b8gXXTRRRftvyBddNFFF+2/IF100UUX7b8gXXTRRRftvyBddNFFF+2/IF100UUX7b8gXXTRRRftvyBddNFFF+2/IF100UUX7b8gXXTRRRftvyBddNFFF+2/IF100UUX7b8gXXTRRRftvyBddNFFF+2/IF100UUX7b8gXXTRRRftvyBddNFFF+2/IF100UUX7b8gXXTRRRftvyBddNFFF+2/IF100UUX7b8gXXTRRRftvyBddNFFF+2/IF100UUX7b8gXXTRRRftvyBddNFFF+2/IF100UUX7b8gXXTRRRftvyBddNFFF+2/IF100UUX7b8gXXTRRRftvyBddNFFF+2/IF100UUX7b8gXXTRRRftvyBddNFFF+2/IF100UUX7b8gXXTRRRftvyBddNFFF+2/IF100UUX7b8gXXTRRRftvyBddNFFF+2/IF100UUX7b8gXXTRRRftvyBddNFFF+2/IF100UUX7b8gXXTRRRftvyBddNFFF+2/IF100UUX7b8gXXTRRRftvyBddNFFF+2/IF100UUX7b8gXXTRRRftvyBddNFFF+2/IF100UUX7b9QgVq/UqDmv1CBWr9SoOa/UIFav1Kg5r9QgVq/UqDmv1CBWr9SoOa/UIFav1Kg5r9QgVq/UqDmv1CBWr9SoOa/UIFav1Kg5r9QgVq/UqDmv1CBWr9SoOa/UIFav1Kg5r9QgVq/UqDmv1CBWr9SoOa/UIFav1Kg5r9QgVq/UqDmv1CBWr9SoOa/UIFav1Kg5r9QgVq/UqDmv1CBWr9SoOa/UIFav1Kg5r9QgVq/UqDmv1CBWr9SoOa/UIFav1Kg5r9QgVq/UqDmv1CBWr9SoOa/UIFav1Kg5r9QgVq/UqDmv1CBWr9SoOa/UIFav1Kg5r9QgVq/UqDmv1CBWr9SoOa/UIFav1Kg5r9QgVq/UqDmv1CBWr9SoOa/UIFav1Kg5r9QgVq/UqDmv1CBWr9SoOa/UIFav1Kg5r9QgVq/UqDmv1CBWr9SoOa/UIFav1Kg5r9QgVq/UqDmv1CBWr9SoOa/UIFav1Kg5r9QgVq/UqDmv1CBWr9SoOa/UIFav1Kg5r9QgVq/UqDmv1CBWr9SoOa/UIFav1Kg5r9QgVq/UqDmv1CBWr9SoOa/UIFav1Kg5r9QgVq/UqDmv1CBWr9SoOa/UIFav1Kg5r9QgVq/UqDmv1CBWr9SoOa/UIFav1Kg5r9QgVq/UqDmv1CBWr9SoOa/UIFav1Kg5r9QgVq/UqDmv1CBWr9SoOa/UIFav1Kg5r9QgVq/UqDmv1CBWr9SoOa/UIFav1Kg5r9QgVq/UqDmv1CBWr9SoOa/UIFav1Kg5r9QgVq/UqDmv1CBWr9SoOa/UIFav1Kg5r9QgVq/UqDmv1CBWr9SoOa/UIFav1Kg5r9QgVq/UqDmv1CBWr9SoOa/UIFav1Kg5r9QgVq/UqDmv1CBWr9SoOa/UIFav1Kg5r9QgVq/UqDmv1CBWr9SoOa/UIFav1Kg5r9QgVq/UqDmv1CBWr9SoOa/UIFav1Kg5r9QgVq/UqDmv1CBWr9SoOa/UIFav1Kg5r9QgVq/UqDmv1CBWr9SoOa/UIFav1Kg5r9QgVq/UqDmv1CBWr9SoOa/UIFav1Kg5r9QgVq/UqDmv4ClQK1fKeC/gKVArV8p4L+ApUCtXyngv4ClQK1fKeC/gKVArV8p4L+ApUCtXyngv4ClQK1fKeC/gKVArV8p4L+ApUCtXyngv4ClQK1fKeC/gKVArV8p4L+ApUCtXyngv4ClQK1fKeC/gKVArV8p4L+ApUCtXyngv4ClQK1fKeC/gKVArV8p4L+ApUCtXyngv4ClQK1fKeC/gKVArV8p4L+ApUCtXyngv4ClQK1fKeC/gKVArV8p4L+ApUCtXyngv4ClQK1fKeC/gKVArV8p4L+ApUCtXyngv4ClQK1fKeC/gKVArV8p4L+ApUCtXyngv4ClQK1fKeC/gKVArV8p4L+ApUCtXyngv4ClQK1fKeC/gKVArV8p4L+ApUCtXyngv4ClQK1fKeC/gKVArV8p4L+ApUCtXyngv4ClQK1fKeC/gKVArV8p4L+ApUCtXyngv4ClQK1fKeC/gKVArV8p4L+ApUCtXyngv4ClQK1fKeC/gKVArV8p4L+ApUCtXyngv4ClQK1fKeC/gKVArV8p4L+ApUCtXyngv4ClQK1fKeC/gKVArV8p4L+ApUCtXyngv4ClQK1fKeC/gKVArV8p4L+ApUCtXyngv4ClQK1fKeC/gKVArV8p4L+ApUCtXyngv4ClQK1fKeC/gKVArV8p4L+ApUCtXyngv4ClQK1fKeC/gKVArV8p4L+ApUCtXyngv4ClQK1fKeC/gKVArV8p4L+ApUCtXyngv4ClQK1fKeC/gKVArV8p4L+ApUCtXyngv4ClQK1fKeC/gKVArV8p4L+ApUCtXyngv4ClQK1fKeC/gKVArV8p4L+ApUCtXyngv4ClQK1fKeC/gKVArV8p4L+ApUCtXyngv4ClQK1fKeC/gKVArV8p4L+ApUCtXyngv4ClQK1fKeC/gKVArV8p4L+ApUCtXyngv4ClQK1fKeC/gKVArV8p4L+ApUCtXyngv4ClQK1fKeC/gKVArV8p4L+ApUCtXyngv4ClQK1fKeC/gKVArV8p4L+ApUCtXyngv4ClQK1fKeC/gKVArV8p4L+ApUCtXyngv4ClQK1fKeC/YJNNNtlk079gk0022WTTv2CTTTbZZNO/YJNNNtlk079gk0022WTTv2CTTTbZZNO/YJNNNtlk079gk0022WTTv2CTTTbZZNO/YJNNNtlk079gk0022WTTv2CTTTbZZNO/YJNNNtlk079gk0022WTTv2CTTTbZZNO/YJNNNtlk079gk0022WTTv2CTTTbZZNO/YJNNNtlk079gk0022WTTv2CTTTbZZNO/YJNNNtlk079gk0022WTTv2CTTTbZZNO/YJNNNtlk079gk0022WTTv2CTTTbZZNO/YJNNNtlk079gk0022WTTv2CTTTbZZNO/YJNNNtlk079gk0022WTTv2CTTTbZZNO/YJNNNtlk079gk0022WTTv2CTTTbZZNO/YJNNNtlk079gk0022WTTv2CTTTbZZNO/YJNNNtlk079gk0022WTTv2CTTTbZZNO/YJNNNtlk079gk0022WTTv2CTTTbZZNO/YJNNNtlk079gk0022WTTv2CTTTbZZNO/YJNNNtlk079gk0022WTTv2CTTTbZZNO/YJNNNtlk079gk0022WTTv2CTTTbZZNO/YJNNNtlk079gk0022WTTv2CTTTbZZNO/YJNNNtlk079gk0022WTTv2CTTTbZZNO/YJNNNtlk079gk0022WTTv2CTTTbZZNO/YJNNNtlk079gk0022WTTv2CTTTbZZNO/YJNNNtlk079gk0022WTTv2CTTTbZZNO/YJNNNtlk079gk0022WTTv2CTTTbZZNO/YJNNNtlk079gk0022WTTv2CTTTbZZNO/YJNNNtlk079gk0022WTTv2CTTTbZZNO/YJNNNtlk079gk0022WTTv2CTTTbZZNO/YJNNNtlk079gk0022WTTv2CTTTbZZNO/YJNNNtlk079gk0022WTTv2CTTTbZZNO/YJNNNtlk079gk0022WTTv2CTTTbZZNO/YJNNNtlk079gk0022WTTv2CTTTbZZNO/YJNNNtlk079gk0022WTTv2CTTTbZZNO/YJNNNtlk079gk0022WTTv2CTTTbZZNO/YJNNNtlk078Ab2dIzNu5vwBvZ0jM27m/AG9nSMzbub8Ab2dIzNu5vwBvZ0jM27m/AG9nSMzbub8Ab2dIzNu5vwBvZ0jM27m/AG9nSMzbub8Ab2dIzNu5vwBvZ0jM27m/AG9nSMzbub8Ab2dIzNu5vwBvZ0jM27m/AG9nSMzbub8Ab2dIzNu5vwBvZ0jM27m/AG9nSMzbub8Ab2dIzNu5vwBvZ0jM27m/AG9nSMzbub8Ab2dIzNu5vwBvZ0jM27m/AG9nSMzbub8Ab2dIzNu5vwBvZ0jM27m/AG9nSMzbub8Ab2dIzNu5vwBvZ0jM27m/AG9nSMzbub8Ab2dIzNu5vwBvZ0jM27m/AG9nSMzbub8Ab2dIzNu5vwBvZ0jM27m/AG9nSMzbub8Ab2dIzNu5vwBvZ0jM27m/AG9nSMzbub8Ab2dIzNu5vwBvZ0jM27m/AG9nSMzbub8Ab2dIzNu5vwBvZ0jM27m/AG9nSMzbub8Ab2dIzNu5vwBvZ0jM27m/AG9nSMzbub8Ab2dIzNu5vwBvZ0jM27m/AG9nSMzbub8Ab2dIzNu5vwBvZ0jM27m/AG9nSMzbub8Ab2dIzNu5vwBvZ0jM27m/AG9nSMzbub8Ab2dIzNu5vwBvZ0jM27m/AG9nSMzbub8Ab2dIzNu5vwBvZ0jM27m/AG9nSMzbub8Ab2dIzNu5vwBvZ0jM27m/AG9nSMzbub8Ab2dIzNu5vwBvZ0jM27m/AG9nSMzbub8Ab2dIzNu5vwBvZ0jM27m/AG9nSMzbub8Ab2dIzNu5vwBvZ0jM27m/AG9nSMzbub8Ab2dIzNu5vwBvZ0jM27m/AG9nSMzbub8Ab2dIzNu5vwBvZ0jM27m/AG9nSMzbub8Ab2dIzNu5vwBvZ0jM27m/AG9nSMzbub8Ab2dIzNu5vwBvZ0jM27m/AG9nSMzbub8Ab2dIzNu5vwBvZ0jM27m/AG9nSMzbub8Ab2dIzNu5vwBvZ0jM27m/AG9nSMzbub8Ab2dIzNu5vwBvZ0jM27m/AG9nSMzbub8Ab2dIzNu5vwBvZ0jM27m/AG9nSMzbub8Ab2dIzNu5vwBvZ0jM27k/AG9nSMzbuT8Ab2dIzNu5PwBvZ0jM27k/AG9nSMzbuT8Ab2dIzNu5PwBvZ0jM27k/AG9nSMzbuT8Ab2dIzNu5PwBvZ0jM27k/AG9nSMzbuT8Ab2dIzNu5PwBvZ0jM27k/AG9nSMzbuT8Ab2dIzNu5PwBvZ0jM27k/AG9nSMzbuT8Ab2dIzNu5PwBvZ0jM27k/AG9nSMzbuT8Ab2dIzNu5PwBvZ0jM27k/AG9nSMzbuT8Ab2dIzNu5PwBvZ0jM27k/AG9nSMzbuT8Ab2dIzNu5PwBvZ0jM27k/AG9nSMzbuT8Ab2dIzNu5PwBvZ0jM27k/AG9nSMzbuT8Ab2dIzNu5PwBvZ0jM27k/AG9nSMzbuT8Ab2dIzNu5PwBvZ0jM27k/AG9nSMzbuT8Ab2dIzNu5PwBvZ0jM27k/AG9nSMzbuT8Ab2dIzNu5PwBvZ0jM27k/AG9nSMzbuT8Ab2dIzNu5PwBvZ0jM27k/AG9nSMzbuT8Ab2dIzNu5PwBvZ0jM27k/AG9nSMzbuT8Ab2dIzNu5PwBvZ0jM27k/AG9nSMzbuT8Ab2dIzNu5PwBvZ0jM27k/AG9nSMzbuT8Ab2dIzNu5PwBvZ0jM27k/AG9nSMzbuT8Ab2dIzNu5PwBvZ0jM27k/AG9nSMzbuT8Ab2dIzNu5PwBvZ0jM27k/AG9nSMzbuT8Ab2dIzNu5PwBvZ0jM27k/AG9nSMzbuT8Ab2dIzNu5PwBvZ0jM27k/AG9nSMzbuT8Ab2dIzNu5PwBvZ0jM27k/AG9nSMzbuT8Ab2dIzNu5PwBvZ0jM27k/AG9nSMzbuT8Ab2dIzNu5PwBvZ0jM27k/AG9nSMzbuT8Ab2dIzNu5PwBvZ0jM27k/AG9nSMzbuT8Ab2dIzNu5PwBvZ0jM27k/AG9nSMzbuT8Ab2dIzNu5PwBvZ0jM27k/AG9nSMzbuT8Ab2dIzNu5PwBvZ0jM27k/AG9nSMzbuT8Ab2dIzNu5PwBvZ0jM27k/AG9nSMzbuT8Ab2dIzNu5PwBvZ0jM27k/AG9nSMzbuT8Ab2dIzNu5PwBvZ0jM27k/YJNNNtlk0z9gk0022WTTP2CTTTbZZNM/YJNNNtlk0z9gk0022WTTP2CTTTbZZNM/YJNNNtlk0z9gk0022WTTP2CTTTbZZNM/YJNNNtlk0z9gk0022WTTP2CTTTbZZNM/YJNNNtlk0z9gk0022WTTP2CTTTbZZNM/YJNNNtlk0z9gk0022WTTP2CTTTbZZNM/YJNNNtlk0z9gk0022WTTP2CTTTbZZNM/YJNNNtlk0z9gk0022WTTP2CTTTbZZNM/YJNNNtlk0z9gk0022WTTP2CTTTbZZNM/YJNNNtlk0z9gk0022WTTP2CTTTbZZNM/YJNNNtlk0z9gk0022WTTP2CTTTbZZNM/YJNNNtlk0z9gk0022WTTP2CTTTbZZNM/YJNNNtlk0z9gk0022WTTP2CTTTbZZNM/YJNNNtlk0z9gk0022WTTP2CTTTbZZNM/YJNNNtlk0z9gk0022WTTP2CTTTbZZNM/YJNNNtlk0z9gk0022WTTP2CTTTbZZNM/YJNNNtlk0z9gk0022WTTP2CTTTbZZNM/YJNNNtlk0z9gk0022WTTP2CTTTbZZNM/YJNNNtlk0z9gk0022WTTP2CTTTbZZNM/YJNNNtlk0z9gk0022WTTP2CTTTbZZNM/YJNNNtlk0z9gk0022WTTP2CTTTbZZNM/YJNNNtlk0z9gk0022WTTP2CTTTbZZNM/YJNNNtlk0z9gk0022WTTP2CTTTbZZNM/YJNNNtlk0z9gk0022WTTP2CTTTbZZNM/YJNNNtlk0z9gk0022WTTP2CTTTbZZNM/YJNNNtlk0z9gk0022WTTP2CTTTbZZNM/YJNNNtlk0z9gk0022WTTP2CTTTbZZNM/YJNNNtlk0z9gk0022WTTP2CTTTbZZNM/YJNNNtlk0z9gk0022WTTP2CTTTbZZNM/YJNNNtlk0z9gk0022WTTP2CTTTbZZNM/YJNNNtlk0z9gk0022WTTP2CTTTbZZNM/YJNNNtlk0z9gk0022WTTP2CTTTbZZNM/YJNNNtlk0z9gk0022WTTP2CTTTbZZNM/YJNNNtlk0z+ApUCtXyngP4ClQK1fKeA/gKVArV8p4D+ApUCtXyngP4ClQK1fKeA/gKVArV8p4D+ApUCtXyngP4ClQK1fKeA/gKVArV8p4D+ApUCtXyngP4ClQK1fKeA/gKVArV8p4D+ApUCtXyngP4ClQK1fKeA/gKVArV8p4D+ApUCtXyngP4ClQK1fKeA/gKVArV8p4D+ApUCtXyngP4ClQK1fKeA/gKVArV8p4D+ApUCtXyngP4ClQK1fKeA/gKVArV8p4D+ApUCtXyngP4ClQK1fKeA/gKVArV8p4D+ApUCtXyngP4ClQK1fKeA/gKVArV8p4D+ApUCtXyngP4ClQK1fKeA/gKVArV8p4D+ApUCtXyngP4ClQK1fKeA/gKVArV8p4D+ApUCtXyngP4ClQK1fKeA/gKVArV8p4D+ApUCtXyngP4ClQK1fKeA/gKVArV8p4D+ApUCtXyngP4ClQK1fKeA/gKVArV8p4D+ApUCtXyngP4ClQK1fKeA/gKVArV8p4D+ApUCtXyngP4ClQK1fKeA/gKVArV8p4D+ApUCtXyngP4ClQK1fKeA/gKVArV8p4D+ApUCtXyngP4ClQK1fKeA/gKVArV8p4D+ApUCtXyngP4ClQK1fKeA/gKVArV8p4D+ApUCtXyngP4ClQK1fKeA/gKVArV8p4D+ApUCtXyngP4ClQK1fKeA/gKVArV8p4D+ApUCtXyngP4ClQK1fKeA/gKVArV8p4D+ApUCtXyngP4ClQK1fKeA/gKVArV8p4D+ApUCtXyngP4ClQK1fKeA/gKVArV8p4D+ApUCtXyngP4ClQK1fKeA/gKVArV8p4D+ApUCtXyngP4ClQK1fKeA/gKVArV8p4D+ApUCtXyngP4ClQK1fKeA/gKVArV8p4D+ApUCtXyngP4ClQK1fKeA/gKVArV8p4D+ApUCtXyngP4ClQK1fKeA/gKVArV8p4D+ApUCtXyngP4ClQK1fKeA/gKVArV8p4D+ApUCtXyngP4ClQK1fKeA/gKVArV8p4D+ApUCtXyngP4ClQK1fKeA/gKVArV8p4D+ApUCtXyngP1CBWr9SoOY/UIFav1Kg5j9QgVq/UqDmP1CBWr9SoOY/UIFav1Kg5j9QgVq/UqDmP1CBWr9SoOY/UIFav1Kg5j9QgVq/UqDmP1CBWr9SoOY/UIFav1Kg5j9QgVq/UqDmP1CBWr9SoOY/UIFav1Kg5j9QgVq/UqDmP1CBWr9SoOY/UIFav1Kg5j9QgVq/UqDmP1CBWr9SoOY/UIFav1Kg5j9QgVq/UqDmP1CBWr9SoOY/UIFav1Kg5j9QgVq/UqDmP1CBWr9SoOY/UIFav1Kg5j9QgVq/UqDmP1CBWr9SoOY/UIFav1Kg5j9QgVq/UqDmP1CBWr9SoOY/UIFav1Kg5j9QgVq/UqDmP1CBWr9SoOY/UIFav1Kg5j9QgVq/UqDmP1CBWr9SoOY/UIFav1Kg5j9QgVq/UqDmP1CBWr9SoOY/UIFav1Kg5j9QgVq/UqDmP1CBWr9SoOY/UIFav1Kg5j9QgVq/UqDmP1CBWr9SoOY/UIFav1Kg5j9QgVq/UqDmP1CBWr9SoOY/UIFav1Kg5j9QgVq/UqDmP1CBWr9SoOY/UIFav1Kg5j9QgVq/UqDmP1CBWr9SoOY/UIFav1Kg5j9QgVq/UqDmP1CBWr9SoOY/UIFav1Kg5j9QgVq/UqDmP1CBWr9SoOY/UIFav1Kg5j9QgVq/UqDmP1CBWr9SoOY/UIFav1Kg5j9QgVq/UqDmP1CBWr9SoOY/UIFav1Kg5j9QgVq/UqDmP1CBWr9SoOY/UIFav1Kg5j9QgVq/UqDmP1CBWr9SoOY/UIFav1Kg5j9QgVq/UqDmP1CBWr9SoOY/UIFav1Kg5j9QgVq/UqDmP1CBWr9SoOY/UIFav1Kg5j9QgVq/UqDmP1CBWr9SoOY/UIFav1Kg5j9QgVq/UqDmP1CBWr9SoOY/UIFav1Kg5j9QgVq/UqDmP1CBWr9SoOY/UIFav1Kg5j9QgVq/UqDmP1CBWr9SoOY/UIFav1Kg5j9QgVq/UqDmP1CBWr9SoOY/UIFav1Kg5j9QgVq/UqDmP1CBWr9SoOY/UIFav1Kg5j9QgVq/UqDmP1CBWr9SoOY/EF100UUX7T8QXXTRRRftPxBddNFFF+0/EF100UUX7T8QXXTRRRftPxBddNFFF+0/EF100UUX7T8QXXTRRRftPxBddNFFF+0/EF100UUX7T8QXXTRRRftPxBddNFFF+0/EF100UUX7T8QXXTRRRftPxBddNFFF+0/EF100UUX7T8QXXTRRRftPxBddNFFF+0/EF100UUX7T8QXXTRRRftPxBddNFFF+0/EF100UUX7T8QXXTRRRftPxBddNFFF+0/EF100UUX7T8QXXTRRRftPxBddNFFF+0/EF100UUX7T8QXXTRRRftPxBddNFFF+0/EF100UUX7T8QXXTRRRftPxBddNFFF+0/EF100UUX7T8QXXTRRRftPxBddNFFF+0/EF100UUX7T8QXXTRRRftPxBddNFFF+0/EF100UUX7T8QXXTRRRftPxBddNFFF+0/EF100UUX7T8QXXTRRRftPxBddNFFF+0/EF100UUX7T8QXXTRRRftPxBddNFFF+0/EF100UUX7T8QXXTRRRftPxBddNFFF+0/EF100UUX7T8QXXTRRRftPxBddNFFF+0/EF100UUX7T8QXXTRRRftPxBddNFFF+0/EF100UUX7T8QXXTRRRftPxBddNFFF+0/EF100UUX7T8QXXTRRRftPxBddNFFF+0/EF100UUX7T8QXXTRRRftPxBddNFFF+0/EF100UUX7T8QXXTRRRftPxBddNFFF+0/EF100UUX7T8QXXTRRRftPxBddNFFF+0/EF100UUX7T8QXXTRRRftPxBddNFFF+0/EF100UUX7T8QXXTRRRftPxBddNFFF+0/EF100UUX7T8QXXTRRRftPxBddNFFF+0/EF100UUX7T8QXXTRRRftPxBddNFFF+0/EF100UUX7T8QXXTRRRftPxBddNFFF+0/EF100UUX7T8QXXTRRRftPxBddNFFF+0/EF100UUX7T8QXXTRRRftPxBddNFFF+0/EF100UUX7T8QXXTRRRftPxBddNFFF+0/EF100UUX7T8QXXTRRRftPxBddNFFF+0/EF100UUX7T9wHMdxHMfxP3Acx3Ecx/E/cBzHcRzH8T9wHMdxHMfxP3Acx3Ecx/E/cBzHcRzH8T9wHMdxHMfxP3Acx3Ecx/E/cBzHcRzH8T9wHMdxHMfxP3Acx3Ecx/E/cBzHcRzH8T9wHMdxHMfxP3Acx3Ecx/E/cBzHcRzH8T9wHMdxHMfxP3Acx3Ecx/E/cBzHcRzH8T9wHMdxHMfxP3Acx3Ecx/E/cBzHcRzH8T9wHMdxHMfxP3Acx3Ecx/E/cBzHcRzH8T9wHMdxHMfxP3Acx3Ecx/E/cBzHcRzH8T9wHMdxHMfxP3Acx3Ecx/E/cBzHcRzH8T9wHMdxHMfxP3Acx3Ecx/E/cBzHcRzH8T9wHMdxHMfxP3Acx3Ecx/E/cBzHcRzH8T9wHMdxHMfxP3Acx3Ecx/E/cBzHcRzH8T9wHMdxHMfxP3Acx3Ecx/E/cBzHcRzH8T9wHMdxHMfxP3Acx3Ecx/E/cBzHcRzH8T9wHMdxHMfxP3Acx3Ecx/E/cBzHcRzH8T9wHMdxHMfxP3Acx3Ecx/E/cBzHcRzH8T9wHMdxHMfxP3Acx3Ecx/E/cBzHcRzH8T9wHMdxHMfxP3Acx3Ecx/E/cBzHcRzH8T9wHMdxHMfxP3Acx3Ecx/E/cBzHcRzH8T9wHMdxHMfxP3Acx3Ecx/E/cBzHcRzH8T9wHMdxHMfxP3Acx3Ecx/E/cBzHcRzH8T9wHMdxHMfxP3Acx3Ecx/E/cBzHcRzH8T9wHMdxHMfxP3Acx3Ecx/E/cBzHcRzH8T9wHMdxHMfxP3Acx3Ecx/E/cBzHcRzH8T9wHMdxHMfxP3Acx3Ecx/E/cBzHcRzH8T9wHMdxHMfxP3Acx3Ecx/E/cBzHcRzH8T9wHMdxHMfxP3Acx3Ecx/E/cBzHcRzH8T9wHMdxHMfxP3Acx3Ecx/E/cBzHcRzH8T9wHMdxHMfxP3Acx3Ecx/E/cBzHcRzH8T9wHMdxHMfxP3Acx3Ecx/E/cBzHcRzH8T9wHMdxHMfxP3Acx3Ecx/E/cBzHcRzH8T9wHMdxHMfxP3Acx3Ecx/E/cBzHcRzH8T9wHMdxHMfxP1gK1PqVAvU/WArU+pUC9T9YCtT6lQL1P1gK1PqVAvU/WArU+pUC9T9YCtT6lQL1P1gK1PqVAvU/WArU+pUC9T9YCtT6lQL1P1gK1PqVAvU/WArU+pUC9T9YCtT6lQL1P1gK1PqVAvU/WArU+pUC9T9YCtT6lQL1P1gK1PqVAvU/WArU+pUC9T9YCtT6lQL1P1gK1PqVAvU/WArU+pUC9T9YCtT6lQL1P1gK1PqVAvU/WArU+pUC9T9YCtT6lQL1P1gK1PqVAvU/WArU+pUC9T9YCtT6lQL1P1gK1PqVAvU/WArU+pUC9T9YCtT6lQL1P1gK1PqVAvU/WArU+pUC9T9YCtT6lQL1P1gK1PqVAvU/WArU+pUC9T9YCtT6lQL1P1gK1PqVAvU/WArU+pUC9T9YCtT6lQL1P1gK1PqVAvU/WArU+pUC9T9YCtT6lQL1P1gK1PqVAvU/WArU+pUC9T9YCtT6lQL1P1gK1PqVAvU/WArU+pUC9T9YCtT6lQL1P1gK1PqVAvU/WArU+pUC9T9YCtT6lQL1P1gK1PqVAvU/WArU+pUC9T9YCtT6lQL1P1gK1PqVAvU/WArU+pUC9T9YCtT6lQL1P1gK1PqVAvU/WArU+pUC9T9YCtT6lQL1P1gK1PqVAvU/WArU+pUC9T9YCtT6lQL1P1gK1PqVAvU/WArU+pUC9T9YCtT6lQL1P1gK1PqVAvU/WArU+pUC9T9YCtT6lQL1P1gK1PqVAvU/WArU+pUC9T9YCtT6lQL1P1gK1PqVAvU/WArU+pUC9T9YCtT6lQL1P1gK1PqVAvU/WArU+pUC9T9YCtT6lQL1P1gK1PqVAvU/WArU+pUC9T9YCtT6lQL1P1gK1PqVAvU/WArU+pUC9T9YCtT6lQL1P1gK1PqVAvU/WArU+pUC9T9YCtT6lQL1P1gK1PqVAvU/WArU+pUC9T9YCtT6lQL1P1gK1PqVAvU/WArU+pUC9T9YCtT6lQL1P1gK1PqVAvU/WArU+pUC9T9YCtT6lQL1P1gK1PqVAvU/WArU+pUC9T9YCtT6lQL1P1gK1PqVAvU/QPjggw8++D9A+OCDDz74P0D44IMPPvg/QPjggw8++D9A+OCDDz74P0D44IMPPvg/QPjggw8++D9A+OCDDz74P0D44IMPPvg/QPjggw8++D9A+OCDDz74P0D44IMPPvg/QPjggw8++D9A+OCDDz74P0D44IMPPvg/QPjggw8++D9A+OCDDz74P0D44IMPPvg/QPjggw8++D9A+OCDDz74P0D44IMPPvg/QPjggw8++D9A+OCDDz74P0D44IMPPvg/QPjggw8++D9A+OCDDz74P0D44IMPPvg/QPjggw8++D9A+OCDDz74P0D44IMPPvg/QPjggw8++D9A+OCDDz74P0D44IMPPvg/QPjggw8++D9A+OCDDz74P0D44IMPPvg/QPjggw8++D9A+OCDDz74P0D44IMPPvg/QPjggw8++D9A+OCDDz74P0D44IMPPvg/QPjggw8++D9A+OCDDz74P0D44IMPPvg/QPjggw8++D9A+OCDDz74P0D44IMPPvg/QPjggw8++D9A+OCDDz74P0D44IMPPvg/QPjggw8++D9A+OCDDz74P0D44IMPPvg/QPjggw8++D9A+OCDDz74P0D44IMPPvg/QPjggw8++D9A+OCDDz74P0D44IMPPvg/QPjggw8++D9A+OCDDz74P0D44IMPPvg/QPjggw8++D9A+OCDDz74P0D44IMPPvg/QPjggw8++D9A+OCDDz74P0D44IMPPvg/QPjggw8++D9A+OCDDz74P0D44IMPPvg/QPjggw8++D9A+OCDDz74P0D44IMPPvg/QPjggw8++D9A+OCDDz74P0D44IMPPvg/QPjggw8++D9A+OCDDz74P0D44IMPPvg/QPjggw8++D9A+OCDDz74P0D44IMPPvg/QPjggw8++D9A+OCDDz74P0D44IMPPvg/QPjggw8++D9A+OCDDz74P0D44IMPPvg/QPjggw8++D9A+OCDDz74P0D44IMPPvg/QPjggw8++D9A+OCDDz74P0D44IMPPvg/QPjggw8++D9A+OCDDz74P0D44IMPPvg/QPjggw8++D8g5u0MiXn7PyDm7QyJefs/IObtDIl5+z8g5u0MiXn7PyDm7QyJefs/IObtDIl5+z8g5u0MiXn7PyDm7QyJefs/IObtDIl5+z8g5u0MiXn7PyDm7QyJefs/IObtDIl5+z8g5u0MiXn7PyDm7QyJefs/IObtDIl5+z8g5u0MiXn7PyDm7QyJefs/IObtDIl5+z8g5u0MiXn7PyDm7QyJefs/IObtDIl5+z8g5u0MiXn7PyDm7QyJefs/IObtDIl5+z8g5u0MiXn7PyDm7QyJefs/IObtDIl5+z8g5u0MiXn7PyDm7QyJefs/IObtDIl5+z8g5u0MiXn7PyDm7QyJefs/IObtDIl5+z8g5u0MiXn7PyDm7QyJefs/IObtDIl5+z8g5u0MiXn7PyDm7QyJefs/IObtDIl5+z8g5u0MiXn7PyDm7QyJefs/IObtDIl5+z8g5u0MiXn7PyDm7QyJefs/IObtDIl5+z8g5u0MiXn7PyDm7QyJefs/IObtDIl5+z8g5u0MiXn7PyDm7QyJefs/IObtDIl5+z8g5u0MiXn7PyDm7QyJefs/IObtDIl5+z8g5u0MiXn7PyDm7QyJefs/IObtDIl5+z8g5u0MiXn7PyDm7QyJefs/IObtDIl5+z8g5u0MiXn7PyDm7QyJefs/IObtDIl5+z8g5u0MiXn7PyDm7QyJefs/IObtDIl5+z8g5u0MiXn7PyDm7QyJefs/IObtDIl5+z8g5u0MiXn7PyDm7QyJefs/IObtDIl5+z8g5u0MiXn7PyDm7QyJefs/IObtDIl5+z8g5u0MiXn7PyDm7QyJefs/IObtDIl5+z8g5u0MiXn7PyDm7QyJefs/IObtDIl5+z8g5u0MiXn7PyDm7QyJefs/IObtDIl5+z8g5u0MiXn7PyDm7QyJefs/IObtDIl5+z8g5u0MiXn7PyDm7QyJefs/IObtDIl5+z8g5u0MiXn7PyDm7QyJefs/IObtDIl5+z8g5u0MiXn7PyDm7QyJefs/IObtDIl5+z8g5u0MiXn7PyDm7QyJefs/IObtDIl5+z8g5u0MiXn7PwjU+pUCtf4/CNT6lQK1/j8I1PqVArX+PwjU+pUCtf4/CNT6lQK1/j8I1PqVArX+PwjU+pUCtf4/CNT6lQK1/j8I1PqVArX+PwjU+pUCtf4/CNT6lQK1/j8I1PqVArX+PwjU+pUCtf4/CNT6lQK1/j8I1PqVArX+PwjU+pUCtf4/CNT6lQK1/j8I1PqVArX+PwjU+pUCtf4/CNT6lQK1/j8I1PqVArX+PwjU+pUCtf4/CNT6lQK1/j8I1PqVArX+PwjU+pUCtf4/CNT6lQK1/j8I1PqVArX+PwjU+pUCtf4/CNT6lQK1/j8I1PqVArX+PwjU+pUCtf4/CNT6lQK1/j8I1PqVArX+PwjU+pUCtf4/CNT6lQK1/j8I1PqVArX+PwjU+pUCtf4/CNT6lQK1/j8I1PqVArX+PwjU+pUCtf4/CNT6lQK1/j8I1PqVArX+PwjU+pUCtf4/CNT6lQK1/j8I1PqVArX+PwjU+pUCtf4/CNT6lQK1/j8I1PqVArX+PwjU+pUCtf4/CNT6lQK1/j8I1PqVArX+PwjU+pUCtf4/CNT6lQK1/j8I1PqVArX+PwjU+pUCtf4/CNT6lQK1/j8I1PqVArX+PwjU+pUCtf4/CNT6lQK1/j8I1PqVArX+PwjU+pUCtf4/CNT6lQK1/j8I1PqVArX+PwjU+pUCtf4/CNT6lQK1/j8I1PqVArX+PwjU+pUCtf4/CNT6lQK1/j8I1PqVArX+PwjU+pUCtf4/CNT6lQK1/j8I1PqVArX+PwjU+pUCtf4/CNT6lQK1/j8I1PqVArX+PwjU+pUCtf4/CNT6lQK1/j8I1PqVArX+PwjU+pUCtf4/CNT6lQK1/j8I1PqVArX+PwjU+pUCtf4/CNT6lQK1/j8I1PqVArX+PwjU+pUCtf4/CNT6lQK1/j8I1PqVArX+PwjU+pUCtf4/CNT6lQK1/j8I1PqVArX+PwjU+pUCtf4/CNT6lQK1/j8I1PqVArX+PwjU+pUCtf4/CNT6lQK1/j8I1PqVArX+PwjU+pUCtf4/CNT6lQK1/j8I1PqVArX+PwjU+pUCtf4/+OCDDz74AED44IMPPvgAQPjggw8++ABA+OCDDz74AED44IMPPvgAQPjggw8++ABA+OCDDz74AED44IMPPvgAQPjggw8++ABA+OCDDz74AED44IMPPvgAQPjggw8++ABA+OCDDz74AED44IMPPvgAQPjggw8++ABA+OCDDz74AED44IMPPvgAQPjggw8++ABA+OCDDz74AED44IMPPvgAQPjggw8++ABA+OCDDz74AED44IMPPvgAQPjggw8++ABA+OCDDz74AED44IMPPvgAQPjggw8++ABA+OCDDz74AED44IMPPvgAQPjggw8++ABA+OCDDz74AED44IMPPvgAQPjggw8++ABA+OCDDz74AED44IMPPvgAQPjggw8++ABA+OCDDz74AED44IMPPvgAQPjggw8++ABA+OCDDz74AED44IMPPvgAQPjggw8++ABA+OCDDz74AED44IMPPvgAQPjggw8++ABA+OCDDz74AED44IMPPvgAQPjggw8++ABA+OCDDz74AED44IMPPvgAQPjggw8++ABA+OCDDz74AED44IMPPvgAQPjggw8++ABA+OCDDz74AED44IMPPvgAQPjggw8++ABA+OCDDz74AED44IMPPvgAQPjggw8++ABA+OCDDz74AED44IMPPvgAQPjggw8++ABA+OCDDz74AED44IMPPvgAQPjggw8++ABA+OCDDz74AED44IMPPvgAQPjggw8++ABA+OCDDz74AED44IMPPvgAQPjggw8++ABA+OCDDz74AED44IMPPvgAQPjggw8++ABA+OCDDz74AED44IMPPvgAQPjggw8++ABA+OCDDz74AED44IMPPvgAQPjggw8++ABA+OCDDz74AED44IMPPvgAQPjggw8++ABA+OCDDz74AED44IMPPvgAQPjggw8++ABA+OCDDz74AED44IMPPvgAQPjggw8++ABA+OCDDz74AED44IMPPvgAQPjggw8++ABA+OCDDz74AED44IMPPvgAQPjggw8++ABA+OCDDz74AED44IMPPvgAQPjggw8++ABA+OCDDz74AEDsVwrU+pUCQOxXCtT6lQJA7FcK1PqVAkDsVwrU+pUCQOxXCtT6lQJA7FcK1PqVAkDsVwrU+pUCQOxXCtT6lQJA7FcK1PqVAkDsVwrU+pUCQOxXCtT6lQJA7FcK1PqVAkDsVwrU+pUCQOxXCtT6lQJA7FcK1PqVAkDsVwrU+pUCQOxXCtT6lQJA7FcK1PqVAkDsVwrU+pUCQOxXCtT6lQJA7FcK1PqVAkDsVwrU+pUCQOxXCtT6lQJA7FcK1PqVAkDsVwrU+pUCQOxXCtT6lQJA7FcK1PqVAkDsVwrU+pUCQOxXCtT6lQJA7FcK1PqVAkDsVwrU+pUCQOxXCtT6lQJA7FcK1PqVAkDsVwrU+pUCQOxXCtT6lQJA7FcK1PqVAkDsVwrU+pUCQOxXCtT6lQJA7FcK1PqVAkDsVwrU+pUCQOxXCtT6lQJA7FcK1PqVAkDsVwrU+pUCQOxXCtT6lQJA7FcK1PqVAkDsVwrU+pUCQOxXCtT6lQJA7FcK1PqVAkDsVwrU+pUCQOxXCtT6lQJA7FcK1PqVAkDsVwrU+pUCQOxXCtT6lQJA7FcK1PqVAkDsVwrU+pUCQOxXCtT6lQJA7FcK1PqVAkDsVwrU+pUCQOxXCtT6lQJA7FcK1PqVAkDsVwrU+pUCQOxXCtT6lQJA7FcK1PqVAkDsVwrU+pUCQOxXCtT6lQJA7FcK1PqVAkDsVwrU+pUCQOxXCtT6lQJA7FcK1PqVAkDsVwrU+pUCQOxXCtT6lQJA7FcK1PqVAkDsVwrU+pUCQOxXCtT6lQJA7FcK1PqVAkDsVwrU+pUCQOxXCtT6lQJA7FcK1PqVAkDsVwrU+pUCQOxXCtT6lQJA7FcK1PqVAkDsVwrU+pUCQOxXCtT6lQJA7FcK1PqVAkDsVwrU+pUCQOxXCtT6lQJA7FcK1PqVAkDsVwrU+pUCQOxXCtT6lQJA7FcK1PqVAkDsVwrU+pUCQOxXCtT6lQJA7FcK1PqVAkDsVwrU+pUCQOxXCtT6lQJA7FcK1PqVAkDsVwrU+pUCQOxXCtT6lQJA7FcK1PqVAkDsVwrU+pUCQNzOkJi3MwRA3M6QmLczBEDczpCYtzMEQNzOkJi3MwRA3M6QmLczBEDczpCYtzMEQNzOkJi3MwRA3M6QmLczBEDczpCYtzMEQNzOkJi3MwRA3M6QmLczBEDczpCYtzMEQNzOkJi3MwRA3M6QmLczBEDczpCYtzMEQNzOkJi3MwRA3M6QmLczBEDczpCYtzMEQNzOkJi3MwRA3M6QmLczBEDczpCYtzMEQNzOkJi3MwRA3M6QmLczBEDczpCYtzMEQNzOkJi3MwRA3M6QmLczBEDczpCYtzMEQNzOkJi3MwRA3M6QmLczBEDczpCYtzMEQNzOkJi3MwRA3M6QmLczBEDczpCYtzMEQNzOkJi3MwRA3M6QmLczBEDczpCYtzMEQNzOkJi3MwRA3M6QmLczBEDczpCYtzMEQNzOkJi3MwRA3M6QmLczBEDczpCYtzMEQNzOkJi3MwRA3M6QmLczBEDczpCYtzMEQNzOkJi3MwRA3M6QmLczBEDczpCYtzMEQNzOkJi3MwRA3M6QmLczBEDczpCYtzMEQNzOkJi3MwRA3M6QmLczBEDczpCYtzMEQNzOkJi3MwRA3M6QmLczBEDczpCYtzMEQNzOkJi3MwRA3M6QmLczBEDczpCYtzMEQNzOkJi3MwRA3M6QmLczBEDczpCYtzMEQNzOkJi3MwRA3M6QmLczBEDczpCYtzMEQNzOkJi3MwRA3M6QmLczBEDczpCYtzMEQNzOkJi3MwRA3M6QmLczBEDczpCYtzMEQNzOkJi3MwRA3M6QmLczBEDczpCYtzMEQNzOkJi3MwRA3M6QmLczBEDczpCYtzMEQNzOkJi3MwRA3M6QmLczBEDczpCYtzMEQNzOkJi3MwRA3M6QmLczBEDczpCYtzMEQNzOkJi3MwRA3M6QmLczBEDczpCYtzMEQNzOkJi3MwRA3M6QmLczBEDczpCYtzMEQNzOkJi3MwRA3M6QmLczBEDczpCYtzMEQNzOkJi3MwRA3M6QmLczBEDczpCYtzMEQNzOkJi3MwRA3M6QmLczBEDczpCYtzMEQNzOkJi3MwRA0EUXXXTRBUDQRRdddNEFQNBFF1100QVA0EUXXXTRBUDQRRdddNEFQNBFF1100QVA0EUXXXTRBUDQRRdddNEFQNBFF1100QVA0EUXXXTRBUDQRRdddNEFQNBFF1100QVA0EUXXXTRBUDQRRdddNEFQNBFF1100QVA0EUXXXTRBUDQRRdddNEFQNBFF1100QVA0EUXXXTRBUDQRRdddNEFQNBFF1100QVA0EUXXXTRBUDQRRdddNEFQNBFF1100QVA0EUXXXTRBUDQRRdddNEFQNBFF1100QVA0EUXXXTRBUDQRRdddNEFQNBFF1100QVA0EUXXXTRBUDQRRdddNEFQNBFF1100QVA0EUXXXTRBUDQRRdddNEFQNBFF1100QVA0EUXXXTRBUDQRRdddNEFQNBFF1100QVA0EUXXXTRBUDQRRdddNEFQNBFF1100QVA0EUXXXTRBUDQRRdddNEFQNBFF1100QVA0EUXXXTRBUDQRRdddNEFQNBFF1100QVA0EUXXXTRBUDQRRdddNEFQNBFF1100QVA0EUXXXTRBUDQRRdddNEFQNBFF1100QVA0EUXXXTRBUDQRRdddNEFQNBFF1100QVA0EUXXXTRBUDQRRdddNEFQNBFF1100QVA0EUXXXTRBUDQRRdddNEFQNBFF1100QVA0EUXXXTRBUDQRRdddNEFQNBFF1100QVA0EUXXXTRBUDQRRdddNEFQNBFF1100QVA0EUXXXTRBUDQRRdddNEFQNBFF1100QVA0EUXXXTRBUDQRRdddNEFQNBFF1100QVA0EUXXXTRBUDQRRdddNEFQNBFF1100QVA0EUXXXTRBUDQRRdddNEFQNBFF1100QVA0EUXXXTRBUDQRRdddNEFQNBFF1100QVA0EUXXXTRBUDQRRdddNEFQNBFF1100QVA0EUXXXTRBUDQRRdddNEFQNBFF1100QVA0EUXXXTRBUDQRRdddNEFQNBFF1100QVA0EUXXXTRBUDQRRdddNEFQNBFF1100QVA0EUXXXTRBUDQRRdddNEFQNBFF1100QVA0EUXXXTRBUDEvJ0hMW8HQMS8nSExbwdAxLydITFvB0DEvJ0hMW8HQMS8nSExbwdAxLydITFvB0DEvJ0hMW8HQMS8nSExbwdAxLydITFvB0DEvJ0hMW8HQMS8nSExbwdAxLydITFvB0DEvJ0hMW8HQMS8nSExbwdAxLydITFvB0DEvJ0hMW8HQMS8nSExbwdAxLydITFvB0DEvJ0hMW8HQMS8nSExbwdAxLydITFvB0DEvJ0hMW8HQMS8nSExbwdAxLydITFvB0DEvJ0hMW8HQMS8nSExbwdAxLydITFvB0DEvJ0hMW8HQMS8nSExbwdAxLydITFvB0DEvJ0hMW8HQMS8nSExbwdAxLydITFvB0DEvJ0hMW8HQMS8nSExbwdAxLydITFvB0DEvJ0hMW8HQMS8nSExbwdAxLydITFvB0DEvJ0hMW8HQMS8nSExbwdAxLydITFvB0DEvJ0hMW8HQMS8nSExbwdAxLydITFvB0DEvJ0hMW8HQMS8nSExbwdAxLydITFvB0DEvJ0hMW8HQMS8nSExbwdAxLydITFvB0DEvJ0hMW8HQMS8nSExbwdAxLydITFvB0DEvJ0hMW8HQMS8nSExbwdAxLydITFvB0DEvJ0hMW8HQMS8nSExbwdAxLydITFvB0DEvJ0hMW8HQMS8nSExbwdAxLydITFvB0DEvJ0hMW8HQMS8nSExbwdAxLydITFvB0DEvJ0hMW8HQMS8nSExbwdAxLydITFvB0DEvJ0hMW8HQMS8nSExbwdAxLydITFvB0DEvJ0hMW8HQMS8nSExbwdAxLydITFvB0DEvJ0hMW8HQMS8nSExbwdAxLydITFvB0DEvJ0hMW8HQMS8nSExbwdAxLydITFvB0DEvJ0hMW8HQMS8nSExbwdAxLydITFvB0DEvJ0hMW8HQMS8nSExbwdAxLydITFvB0DEvJ0hMW8HQMS8nSExbwdAxLydITFvB0DEvJ0hMW8HQMS8nSExbwdAxLydITFvB0DEvJ0hMW8HQMS8nSExbwdAxLydITFvB0DEvJ0hMW8HQMS8nSExbwdAxLydITFvB0DEvJ0hMW8HQLgzJObtDAlAuDMk5u0MCUC4MyTm7QwJQLgzJObtDAlAuDMk5u0MCUC4MyTm7QwJQLgzJObtDAlAuDMk5u0MCUC4MyTm7QwJQLgzJObtDAlAuDMk5u0MCUC4MyTm7QwJQLgzJObtDAlAuDMk5u0MCUC4MyTm7QwJQLgzJObtDAlAuDMk5u0MCUC4MyTm7QwJQLgzJObtDAlAuDMk5u0MCUC4MyTm7QwJQLgzJObtDAlAuDMk5u0MCUC4MyTm7QwJQLgzJObtDAlAuDMk5u0MCUC4MyTm7QwJQLgzJObtDAlAuDMk5u0MCUC4MyTm7QwJQLgzJObtDAlAuDMk5u0MCUC4MyTm7QwJQLgzJObtDAlAuDMk5u0MCUC4MyTm7QwJQLgzJObtDAlAuDMk5u0MCUC4MyTm7QwJQLgzJObtDAlAuDMk5u0MCUC4MyTm7QwJQLgzJObtDAlAuDMk5u0MCUC4MyTm7QwJQLgzJObtDAlAuDMk5u0MCUC4MyTm7QwJQLgzJObtDAlAuDMk5u0MCUC4MyTm7QwJQLgzJObtDAlAuDMk5u0MCUC4MyTm7QwJQLgzJObtDAlAuDMk5u0MCUC4MyTm7QwJQLgzJObtDAlAuDMk5u0MCUC4MyTm7QwJQLgzJObtDAlAuDMk5u0MCUC4MyTm7QwJQLgzJObtDAlAuDMk5u0MCUC4MyTm7QwJQLgzJObtDAlAuDMk5u0MCUC4MyTm7QwJQLgzJObtDAlAuDMk5u0MCUC4MyTm7QwJQLgzJObtDAlAuDMk5u0MCUC4MyTm7QwJQLgzJObtDAlAuDMk5u0MCUC4MyTm7QwJQLgzJObtDAlAuDMk5u0MCUC4MyTm7QwJQLgzJObtDAlAuDMk5u0MCUC4MyTm7QwJQLgzJObtDAlAuDMk5u0MCUC4MyTm7QwJQLgzJObtDAlAuDMk5u0MCUC4MyTm7QwJQLgzJObtDAlAuDMk5u0MCUC4MyTm7QwJQLgzJObtDAlAuDMk5u0MCUC4MyTm7QwJQLgzJObtDAlAuDMk5u0MCUC4MyTm7QwJQLgzJObtDAlArKqqqqqqCkCsqqqqqqoKQKyqqqqqqgpArKqqqqqqCkCsqqqqqqoKQKyqqqqqqgpArKqqqqqqCkCsqqqqqqoKQKyqqqqqqgpArKqqqqqqCkCsqqqqqqoKQKyqqqqqqgpArKqqqqqqCkCsqqqqqqoKQKyqqqqqqgpArKqqqqqqCkCsqqqqqqoKQKyqqqqqqgpArKqqqqqqCkCsqqqqqqoKQKyqqqqqqgpArKqqqqqqCkCsqqqqqqoKQKyqqqqqqgpArKqqqqqqCkCsqqqqqqoKQKyqqqqqqgpArKqqqqqqCkCsqqqqqqoKQKyqqqqqqgpArKqqqqqqCkCsqqqqqqoKQKyqqqqqqgpArKqqqqqqCkCsqqqqqqoKQKyqqqqqqgpArKqqqqqqCkCsqqqqqqoKQKyqqqqqqgpArKqqqqqqCkCsqqqqqqoKQKyqqqqqqgpArKqqqqqqCkCsqqqqqqoKQKyqqqqqqgpArKqqqqqqCkCsqqqqqqoKQKyqqqqqqgpArKqqqqqqCkCsqqqqqqoKQKyqqqqqqgpArKqqqqqqCkCsqqqqqqoKQKyqqqqqqgpArKqqqqqqCkCsqqqqqqoKQKyqqqqqqgpArKqqqqqqCkCsqqqqqqoKQKyqqqqqqgpArKqqqqqqCkCsqqqqqqoKQKyqqqqqqgpArKqqqqqqCkCsqqqqqqoKQKyqqqqqqgpArKqqqqqqCkCsqqqqqqoKQKyqqqqqqgpArKqqqqqqCkCsqqqqqqoKQKyqqqqqqgpArKqqqqqqCkCsqqqqqqoKQKyqqqqqqgpArKqqqqqqCkCsqqqqqqoKQKyqqqqqqgpArKqqqqqqCkCsqqqqqqoKQKyqqqqqqgpArKqqqqqqCkCsqqqqqqoKQKyqqqqqqgpArKqqqqqqCkCsqqqqqqoKQKyqqqqqqgpArKqqqqqqCkCsqqqqqqoKQKyqqqqqqgpArKqqqqqqCkCsqqqqqqoKQKyqqqqqqgpArKqqqqqqCkCsqqqqqqoKQKyqqqqqqgpArKqqqqqqCkCsqqqqqqoKQKyqqqqqqgpArKqqqqqqCkCcITFvZ0gMQJwhMW9nSAxAnCExb2dIDECcITFvZ0gMQJwhMW9nSAxAnCExb2dIDECcITFvZ0gMQJwhMW9nSAxAnCExb2dIDECcITFvZ0gMQJwhMW9nSAxAnCExb2dIDECcITFvZ0gMQJwhMW9nSAxAnCExb2dIDECcITFvZ0gMQJwhMW9nSAxAnCExb2dIDECcITFvZ0gMQJwhMW9nSAxAnCExb2dIDECcITFvZ0gMQJwhMW9nSAxAnCExb2dIDECcITFvZ0gMQJwhMW9nSAxAnCExb2dIDECcITFvZ0gMQJwhMW9nSAxAnCExb2dIDECcITFvZ0gMQJwhMW9nSAxAnCExb2dIDECcITFvZ0gMQJwhMW9nSAxAnCExb2dIDECcITFvZ0gMQJwhMW9nSAxAnCExb2dIDECcITFvZ0gMQJwhMW9nSAxAnCExb2dIDECcITFvZ0gMQJwhMW9nSAxAnCExb2dIDECcITFvZ0gMQJwhMW9nSAxAnCExb2dIDECcITFvZ0gMQJwhMW9nSAxAnCExb2dIDECcITFvZ0gMQJwhMW9nSAxAnCExb2dIDECcITFvZ0gMQJwhMW9nSAxAnCExb2dIDECcITFvZ0gMQJwhMW9nSAxAnCExb2dIDECcITFvZ0gMQJwhMW9nSAxAnCExb2dIDECcITFvZ0gMQJwhMW9nSAxAnCExb2dIDECcITFvZ0gMQJwhMW9nSAxAnCExb2dIDECcITFvZ0gMQJwhMW9nSAxAnCExb2dIDECcITFvZ0gMQJwhMW9nSAxAnCExb2dIDECcITFvZ0gMQJwhMW9nSAxAnCExb2dIDECcITFvZ0gMQJwhMW9nSAxAnCExb2dIDECcITFvZ0gMQJwhMW9nSAxAnCExb2dIDECcITFvZ0gMQJwhMW9nSAxAnCExb2dIDECcITFvZ0gMQJwhMW9nSAxAnCExb2dIDECcITFvZ0gMQJwhMW9nSAxAnCExb2dIDECcITFvZ0gMQJwhMW9nSAxAnCExb2dIDECcITFvZ0gMQJwhMW9nSAxAnCExb2dIDECcITFvZ0gMQJCYtzMk5g1AkJi3MyTmDUCQmLczJOYNQJCYtzMk5g1AkJi3MyTmDUCQmLczJOYNQJCYtzMk5g1AkJi3MyTmDUCQmLczJOYNQJCYtzMk5g1AkJi3MyTmDUCQmLczJOYNQJCYtzMk5g1AkJi3MyTmDUCQmLczJOYNQJCYtzMk5g1AkJi3MyTmDUCQmLczJOYNQJCYtzMk5g1AkJi3MyTmDUCQmLczJOYNQJCYtzMk5g1AkJi3MyTmDUCQmLczJOYNQJCYtzMk5g1AkJi3MyTmDUCQmLczJOYNQJCYtzMk5g1AkJi3MyTmDUCQmLczJOYNQJCYtzMk5g1AkJi3MyTmDUCQmLczJOYNQJCYtzMk5g1AkJi3MyTmDUCQmLczJOYNQJCYtzMk5g1AkJi3MyTmDUCQmLczJOYNQJCYtzMk5g1AkJi3MyTmDUCQmLczJOYNQJCYtzMk5g1AkJi3MyTmDUCQmLczJOYNQJCYtzMk5g1AkJi3MyTmDUCQmLczJOYNQJCYtzMk5g1AkJi3MyTmDUCQmLczJOYNQJCYtzMk5g1AkJi3MyTmDUCQmLczJOYNQJCYtzMk5g1AkJi3MyTmDUCQmLczJOYNQJCYtzMk5g1AkJi3MyTmDUCQmLczJOYNQJCYtzMk5g1AkJi3MyTmDUCQmLczJOYNQJCYtzMk5g1AkJi3MyTmDUCQmLczJOYNQJCYtzMk5g1AkJi3MyTmDUCQmLczJOYNQJCYtzMk5g1AkJi3MyTmDUCQmLczJOYNQJCYtzMk5g1AkJi3MyTmDUCQmLczJOYNQJCYtzMk5g1AkJi3MyTmDUCQmLczJOYNQJCYtzMk5g1AkJi3MyTmDUCQmLczJOYNQJCYtzMk5g1AkJi3MyTmDUCQmLczJOYNQJCYtzMk5g1AkJi3MyTmDUCQmLczJOYNQJCYtzMk5g1AkJi3MyTmDUCQmLczJOYNQJCYtzMk5g1AkJi3MyTmDUCQmLczJOYNQJCYtzMk5g1AkJi3MyTmDUCQmLczJOYNQJCYtzMk5g1AkJi3MyTmDUCQmLczJOYNQJCYtzMk5g1AhA8++OCDD0CEDz744IMPQIQPPvjggw9AhA8++OCDD0CEDz744IMPQIQPPvjggw9AhA8++OCDD0CEDz744IMPQIQPPvjggw9AhA8++OCDD0CEDz744IMPQIQPPvjggw9AhA8++OCDD0CEDz744IMPQIQPPvjggw9AhA8++OCDD0CEDz744IMPQIQPPvjggw9AhA8++OCDD0CEDz744IMPQIQPPvjggw9AhA8++OCDD0CEDz744IMPQIQPPvjggw9AhA8++OCDD0CEDz744IMPQIQPPvjggw9AhA8++OCDD0CEDz744IMPQIQPPvjggw9AhA8++OCDD0CEDz744IMPQIQPPvjggw9AhA8++OCDD0CEDz744IMPQIQPPvjggw9AhA8++OCDD0CEDz744IMPQIQPPvjggw9AhA8++OCDD0CEDz744IMPQIQPPvjggw9AhA8++OCDD0CEDz744IMPQIQPPvjggw9AhA8++OCDD0CEDz744IMPQIQPPvjggw9AhA8++OCDD0CEDz744IMPQIQPPvjggw9AhA8++OCDD0CEDz744IMPQIQPPvjggw9AhA8++OCDD0CEDz744IMPQIQPPvjggw9AhA8++OCDD0CEDz744IMPQIQPPvjggw9AhA8++OCDD0CEDz744IMPQIQPPvjggw9AhA8++OCDD0CEDz744IMPQIQPPvjggw9AhA8++OCDD0CEDz744IMPQIQPPvjggw9AhA8++OCDD0CEDz744IMPQIQPPvjggw9AhA8++OCDD0CEDz744IMPQIQPPvjggw9AhA8++OCDD0CEDz744IMPQIQPPvjggw9AhA8++OCDD0CEDz744IMPQIQPPvjggw9AhA8++OCDD0CEDz744IMPQIQPPvjggw9AhA8++OCDD0CEDz744IMPQIQPPvjggw9AhA8++OCDD0CEDz744IMPQIQPPvjggw9AhA8++OCDD0CEDz744IMPQIQPPvjggw9AhA8++OCDD0CEDz744IMPQIQPPvjggw9AhA8++OCDD0CEDz744IMPQIQPPvjggw9AhA8++OCDD0A8Q2LezpAQQDxDYt7OkBBAPENi3s6QEEA8Q2LezpAQQDxDYt7OkBBAPENi3s6QEEA8Q2LezpAQQDxDYt7OkBBAPENi3s6QEEA8Q2LezpAQQDxDYt7OkBBAPENi3s6QEEA8Q2LezpAQQDxDYt7OkBBAPENi3s6QEEA8Q2LezpAQQDxDYt7OkBBAPENi3s6QEEA8Q2LezpAQQDxDYt7OkBBAPENi3s6QEEA8Q2LezpAQQDxDYt7OkBBAPENi3s6QEEA8Q2LezpAQQDxDYt7OkBBAPENi3s6QEEA8Q2LezpAQQDxDYt7OkBBAPENi3s6QEEA8Q2LezpAQQDxDYt7OkBBAPENi3s6QEEA8Q2LezpAQQDxDYt7OkBBAPENi3s6QEEA8Q2LezpAQQDxDYt7OkBBAPENi3s6QEEA8Q2LezpAQQDxDYt7OkBBAPENi3s6QEEA8Q2LezpAQQDxDYt7OkBBAPENi3s6QEEA8Q2LezpAQQDxDYt7OkBBAPENi3s6QEEA8Q2LezpAQQDxDYt7OkBBAPENi3s6QEEA8Q2LezpAQQDxDYt7OkBBAPENi3s6QEEA8Q2LezpAQQDxDYt7OkBBAPENi3s6QEEA8Q2LezpAQQDxDYt7OkBBAPENi3s6QEEA8Q2LezpAQQDxDYt7OkBBAPENi3s6QEEA8Q2LezpAQQDxDYt7OkBBAPENi3s6QEEA8Q2LezpAQQDxDYt7OkBBAPENi3s6QEEA8Q2LezpAQQDxDYt7OkBBAPENi3s6QEEA8Q2LezpAQQDxDYt7OkBBAPENi3s6QEEA8Q2LezpAQQDxDYt7OkBBAPENi3s6QEEA8Q2LezpAQQDxDYt7OkBBAPENi3s6QEEA8Q2LezpAQQDxDYt7OkBBAPENi3s6QEEA8Q2LezpAQQDxDYt7OkBBAPENi3s6QEEA8Q2LezpAQQDxDYt7OkBBAPENi3s6QEEA8Q2LezpAQQDxDYt7OkBBAPENi3s6QEEA8Q2LezpAQQDxDYt7OkBBAPENi3s6QEEA8Q2LezpAQQDxDYt7OkBBAPENi3s6QEEA8Q2LezpAQQLR+pUCtXxFAtH6lQK1fEUC0fqVArV8RQLR+pUCtXxFAtH6lQK1fEUC0fqVArV8RQLR+pUCtXxFAtH6lQK1fEUC0fqVArV8RQLR+pUCtXxFAtH6lQK1fEUC0fqVArV8RQLR+pUCtXxFAtH6lQK1fEUC0fqVArV8RQLR+pUCtXxFAtH6lQK1fEUC0fqVArV8RQLR+pUCtXxFAtH6lQK1fEUC0fqVArV8RQLR+pUCtXxFAtH6lQK1fEUC0fqVArV8RQLR+pUCtXxFAtH6lQK1fEUC0fqVArV8RQLR+pUCtXxFAtH6lQK1fEUC0fqVArV8RQLR+pUCtXxFAtH6lQK1fEUC0fqVArV8RQLR+pUCtXxFAtH6lQK1fEUC0fqVArV8RQLR+pUCtXxFAtH6lQK1fEUC0fqVArV8RQLR+pUCtXxFAtH6lQK1fEUC0fqVArV8RQLR+pUCtXxFAtH6lQK1fEUC0fqVArV8RQLR+pUCtXxFAtH6lQK1fEUC0fqVArV8RQLR+pUCtXxFAtH6lQK1fEUC0fqVArV8RQLR+pUCtXxFAtH6lQK1fEUC0fqVArV8RQLR+pUCtXxFAtH6lQK1fEUC0fqVArV8RQLR+pUCtXxFAtH6lQK1fEUC0fqVArV8RQLR+pUCtXxFAtH6lQK1fEUC0fqVArV8RQLR+pUCtXxFAtH6lQK1fEUC0fqVArV8RQLR+pUCtXxFAtH6lQK1fEUC0fqVArV8RQLR+pUCtXxFAtH6lQK1fEUC0fqVArV8RQLR+pUCtXxFAtH6lQK1fEUC0fqVArV8RQLR+pUCtXxFAtH6lQK1fEUC0fqVArV8RQLR+pUCtXxFAtH6lQK1fEUC0fqVArV8RQLR+pUCtXxFAtH6lQK1fEUC0fqVArV8RQLR+pUCtXxFAtH6lQK1fEUC0fqVArV8RQLR+pUCtXxFAtH6lQK1fEUC0fqVArV8RQLR+pUCtXxFAtH6lQK1fEUC0fqVArV8RQLR+pUCtXxFAtH6lQK1fEUC0fqVArV8RQLR+pUCtXxFAtH6lQK1fEUC0fqVArV8RQLR+pUCtXxFALrrooosuEkAuuuiiiy4SQC666KKLLhJALrrooosuEkAuuuiiiy4SQC666KKLLhJALrrooosuEkAuuuiiiy4SQC666KKLLhJALrrooosuEkAuuuiiiy4SQC666KKLLhJALrrooosuEkAuuuiiiy4SQC666KKLLhJALrrooosuEkAuuuiiiy4SQC666KKLLhJALrrooosuEkAuuuiiiy4SQC666KKLLhJALrrooosuEkAuuuiiiy4SQC666KKLLhJALrrooosuEkAuuuiiiy4SQC666KKLLhJALrrooosuEkAuuuiiiy4SQC666KKLLhJALrrooosuEkAuuuiiiy4SQC666KKLLhJALrrooosuEkAuuuiiiy4SQC666KKLLhJALrrooosuEkAuuuiiiy4SQC666KKLLhJALrrooosuEkAuuuiiiy4SQC666KKLLhJALrrooosuEkAuuuiiiy4SQC666KKLLhJALrrooosuEkAuuuiiiy4SQC666KKLLhJALrrooosuEkAuuuiiiy4SQC666KKLLhJALrrooosuEkAuuuiiiy4SQC666KKLLhJALrrooosuEkAuuuiiiy4SQC666KKLLhJALrrooosuEkAuuuiiiy4SQC666KKLLhJALrrooosuEkAuuuiiiy4SQC666KKLLhJALrrooosuEkAuuuiiiy4SQC666KKLLhJALrrooosuEkAuuuiiiy4SQC666KKLLhJALrrooosuEkAuuuiiiy4SQC666KKLLhJALrrooosuEkAuuuiiiy4SQC666KKLLhJALrrooosuEkAuuuiiiy4SQC666KKLLhJALrrooosuEkAuuuiiiy4SQC666KKLLhJALrrooosuEkAuuuiiiy4SQC666KKLLhJALrrooosuEkAuuuiiiy4SQC666KKLLhJALrrooosuEkAuuuiiiy4SQC666KKLLhJALrrooosuEkAuuuiiiy4SQC666KKLLhJALrrooosuEkAuuuiiiy4SQC666KKLLhJALrrooosuEkAuuuiiiy4SQC666KKLLhJALrrooosuEkCo9SsFav0SQKj1KwVq/RJAqPUrBWr9EkCo9SsFav0SQKj1KwVq/RJAqPUrBWr9EkCo9SsFav0SQKj1KwVq/RJAqPUrBWr9EkCo9SsFav0SQKj1KwVq/RJAqPUrBWr9EkCo9SsFav0SQKj1KwVq/RJAqPUrBWr9EkCo9SsFav0SQKj1KwVq/RJAqPUrBWr9EkCo9SsFav0SQKj1KwVq/RJAqPUrBWr9EkCo9SsFav0SQKj1KwVq/RJAqPUrBWr9EkCo9SsFav0SQKj1KwVq/RJAqPUrBWr9EkCo9SsFav0SQKj1KwVq/RJAqPUrBWr9EkCo9SsFav0SQKj1KwVq/RJAqPUrBWr9EkCo9SsFav0SQKj1KwVq/RJAqPUrBWr9EkCo9SsFav0SQKj1KwVq/RJAqPUrBWr9EkCo9SsFav0SQKj1KwVq/RJAqPUrBWr9EkCo9SsFav0SQKj1KwVq/RJAqPUrBWr9EkCo9SsFav0SQKj1KwVq/RJAqPUrBWr9EkCo9SsFav0SQKj1KwVq/RJAqPUrBWr9EkCo9SsFav0SQKj1KwVq/RJAqPUrBWr9EkCo9SsFav0SQKj1KwVq/RJAqPUrBWr9EkCo9SsFav0SQKj1KwVq/RJAqPUrBWr9EkCo9SsFav0SQKj1KwVq/RJAqPUrBWr9EkCo9SsFav0SQKj1KwVq/RJAqPUrBWr9EkCo9SsFav0SQKj1KwVq/RJAqPUrBWr9EkCo9SsFav0SQKj1KwVq/RJAqPUrBWr9EkCo9SsFav0SQKj1KwVq/RJAqPUrBWr9EkCo9SsFav0SQKj1KwVq/RJAqPUrBWr9EkCo9SsFav0SQKj1KwVq/RJAqPUrBWr9EkCo9SsFav0SQKj1KwVq/RJAqPUrBWr9EkCo9SsFav0SQKj1KwVq/RJAqPUrBWr9EkCo9SsFav0SQKj1KwVq/RJAqPUrBWr9EkCo9SsFav0SQKj1KwVq/RJAqPUrBWr9EkCo9SsFav0SQKj1KwVq/RJAqPUrBWr9EkCo9SsFav0SQKj1KwVq/RJAqPUrBWr9EkCo9SsFav0SQCIxb2dIzBNAIjFvZ0jME0AiMW9nSMwTQCIxb2dIzBNAIjFvZ0jME0AiMW9nSMwTQCIxb2dIzBNAIjFvZ0jME0AiMW9nSMwTQCIxb2dIzBNAIjFvZ0jME0AiMW9nSMwTQCIxb2dIzBNAIjFvZ0jME0AiMW9nSMwTQCIxb2dIzBNAIjFvZ0jME0AiMW9nSMwTQCIxb2dIzBNAIjFvZ0jME0AiMW9nSMwTQCIxb2dIzBNAIjFvZ0jME0AiMW9nSMwTQCIxb2dIzBNAIjFvZ0jME0AiMW9nSMwTQCIxb2dIzBNAIjFvZ0jME0AiMW9nSMwTQCIxb2dIzBNAIjFvZ0jME0AiMW9nSMwTQCIxb2dIzBNAIjFvZ0jME0AiMW9nSMwTQCIxb2dIzBNAIjFvZ0jME0AiMW9nSMwTQCIxb2dIzBNAIjFvZ0jME0AiMW9nSMwTQCIxb2dIzBNAIjFvZ0jME0AiMW9nSMwTQCIxb2dIzBNAIjFvZ0jME0AiMW9nSMwTQCIxb2dIzBNAIjFvZ0jME0AiMW9nSMwTQCIxb2dIzBNAIjFvZ0jME0AiMW9nSMwTQCIxb2dIzBNAIjFvZ0jME0AiMW9nSMwTQCIxb2dIzBNAIjFvZ0jME0AiMW9nSMwTQCIxb2dIzBNAIjFvZ0jME0AiMW9nSMwTQCIxb2dIzBNAIjFvZ0jME0AiMW9nSMwTQCIxb2dIzBNAIjFvZ0jME0AiMW9nSMwTQCIxb2dIzBNAIjFvZ0jME0AiMW9nSMwTQCIxb2dIzBNAIjFvZ0jME0AiMW9nSMwTQCIxb2dIzBNAIjFvZ0jME0AiMW9nSMwTQCIxb2dIzBNAIjFvZ0jME0AiMW9nSMwTQCIxb2dIzBNAIjFvZ0jME0AiMW9nSMwTQCIxb2dIzBNAIjFvZ0jME0AiMW9nSMwTQCIxb2dIzBNAIjFvZ0jME0AiMW9nSMwTQCIxb2dIzBNAIjFvZ0jME0AiMW9nSMwTQCIxb2dIzBNAIjFvZ0jME0AiMW9nSMwTQCIxb2dIzBNAIjFvZ0jME0AiMW9nSMwTQCIxb2dIzBNAmmyyySabFECabLLJJpsUQJpssskmmxRAmmyyySabFECabLLJJpsUQJpssskmmxRAmmyyySabFECabLLJJpsUQJpssskmmxRAmmyyySabFECabLLJJpsUQJpssskmmxRAmmyyySabFECabLLJJpsUQJpssskmmxRAmmyyySabFECabLLJJpsUQJpssskmmxRAmmyyySabFECabLLJJpsUQJpssskmmxRAmmyyySabFECabLLJJpsUQJpssskmmxRAmmyyySabFECabLLJJpsUQJpssskmmxRAmmyyySabFECabLLJJpsUQJpssskmmxRAmmyyySabFECabLLJJpsUQJpssskmmxRAmmyyySabFECabLLJJpsUQJpssskmmxRAmmyyySabFECabLLJJpsUQJpssskmmxRAmmyyySabFECabLLJJpsUQJpssskmmxRAmmyyySabFECabLLJJpsUQJpssskmmxRAmmyyySabFECabLLJJpsUQJpssskmmxRAmmyyySabFECabLLJJpsUQJpssskmmxRAmmyyySabFECabLLJJpsUQJpssskmmxRAmmyyySabFECabLLJJpsUQJpssskmmxRAmmyyySabFECabLLJJpsUQJpssskmmxRAmmyyySabFECabLLJJpsUQJpssskmmxRAmmyyySabFECabLLJJpsUQJpssskmmxRAmmyyySabFECabLLJJpsUQJpssskmmxRAmmyyySabFECabLLJJpsUQJpssskmmxRAmmyyySabFECabLLJJpsUQJpssskmmxRAmmyyySabFECabLLJJpsUQJpssskmmxRAmmyyySabFECabLLJJpsUQJpssskmmxRAmmyyySabFECabLLJJpsUQJpssskmmxRAmmyyySabFECabLLJJpsUQJpssskmmxRAmmyyySabFECabLLJJpsUQJpssskmmxRAmmyyySabFECabLLJJpsUQJpssskmmxRAmmyyySabFECabLLJJpsUQJpssskmmxRAmmyyySabFECabLLJJpsUQJpssskmmxRAmmyyySabFEAUqPUrBWoVQBSo9SsFahVAFKj1KwVqFUAUqPUrBWoVQBSo9SsFahVAFKj1KwVqFUAUqPUrBWoVQBSo9SsFahVAFKj1KwVqFUAUqPUrBWoVQBSo9SsFahVAFKj1KwVqFUAUqPUrBWoVQBSo9SsFahVAFKj1KwVqFUAUqPUrBWoVQBSo9SsFahVAFKj1KwVqFUAUqPUrBWoVQBSo9SsFahVAFKj1KwVqFUAUqPUrBWoVQBSo9SsFahVAFKj1KwVqFUAUqPUrBWoVQBSo9SsFahVAFKj1KwVqFUAUqPUrBWoVQBSo9SsFahVAFKj1KwVqFUAUqPUrBWoVQBSo9SsFahVAFKj1KwVqFUAUqPUrBWoVQBSo9SsFahVAFKj1KwVqFUAUqPUrBWoVQBSo9SsFahVAFKj1KwVqFUAUqPUrBWoVQBSo9SsFahVAFKj1KwVqFUAUqPUrBWoVQBSo9SsFahVAFKj1KwVqFUAUqPUrBWoVQBSo9SsFahVAFKj1KwVqFUAUqPUrBWoVQBSo9SsFahVAFKj1KwVqFUAUqPUrBWoVQBSo9SsFahVAFKj1KwVqFUAUqPUrBWoVQBSo9SsFahVAFKj1KwVqFUAUqPUrBWoVQBSo9SsFahVAFKj1KwVqFUAUqPUrBWoVQBSo9SsFahVAFKj1KwVqFUAUqPUrBWoVQBSo9SsFahVAFKj1KwVqFUAUqPUrBWoVQBSo9SsFahVAFKj1KwVqFUAUqPUrBWoVQBSo9SsFahVAFKj1KwVqFUAUqPUrBWoVQBSo9SsFahVAFKj1KwVqFUAUqPUrBWoVQBSo9SsFahVAFKj1KwVqFUAUqPUrBWoVQBSo9SsFahVAFKj1KwVqFUAUqPUrBWoVQBSo9SsFahVAFKj1KwVqFUAUqPUrBWoVQBSo9SsFahVAFKj1KwVqFUAUqPUrBWoVQBSo9SsFahVAFKj1KwVqFUAUqPUrBWoVQBSo9SsFahVAFKj1KwVqFUAUqPUrBWoVQBSo9SsFahVAFKj1KwVqFUAUqPUrBWoVQBSo9SsFahVAFKj1KwVqFUAUqPUrBWoVQI7jOI7jOBZAjuM4juM4FkCO4ziO4zgWQI7jOI7jOBZAjuM4juM4FkCO4ziO4zgWQI7jOI7jOBZAjuM4juM4FkCO4ziO4zgWQI7jOI7jOBZAjuM4juM4FkCO4ziO4zgWQI7jOI7jOBZAjuM4juM4FkCO4ziO4zgWQI7jOI7jOBZAjuM4juM4FkCO4ziO4zgWQI7jOI7jOBZAjuM4juM4FkCO4ziO4zgWQI7jOI7jOBZAjuM4juM4FkCO4ziO4zgWQI7jOI7jOBZAjuM4juM4FkCO4ziO4zgWQI7jOI7jOBZAjuM4juM4FkCO4ziO4zgWQI7jOI7jOBZAjuM4juM4FkCO4ziO4zgWQI7jOI7jOBZAjuM4juM4FkCO4ziO4zgWQI7jOI7jOBZAjuM4juM4FkCO4ziO4zgWQI7jOI7jOBZAjuM4juM4FkCO4ziO4zgWQI7jOI7jOBZAjuM4juM4FkCO4ziO4zgWQI7jOI7jOBZAjuM4juM4FkCO4ziO4zgWQI7jOI7jOBZAjuM4juM4FkCO4ziO4zgWQI7jOI7jOBZAjuM4juM4FkCO4ziO4zgWQI7jOI7jOBZAjuM4juM4FkCO4ziO4zgWQI7jOI7jOBZAjuM4juM4FkCO4ziO4zgWQI7jOI7jOBZAjuM4juM4FkCO4ziO4zgWQI7jOI7jOBZAjuM4juM4FkCO4ziO4zgWQI7jOI7jOBZAjuM4juM4FkCO4ziO4zgWQI7jOI7jOBZAjuM4juM4FkCO4ziO4zgWQI7jOI7jOBZAjuM4juM4FkCO4ziO4zgWQI7jOI7jOBZAjuM4juM4FkCO4ziO4zgWQI7jOI7jOBZAjuM4juM4FkCO4ziO4zgWQI7jOI7jOBZAjuM4juM4FkCO4ziO4zgWQI7jOI7jOBZAjuM4juM4FkCO4ziO4zgWQI7jOI7jOBZAjuM4juM4FkCO4ziO4zgWQI7jOI7jOBZAjuM4juM4FkCO4ziO4zgWQI7jOI7jOBZAjuM4juM4FkCO4ziO4zgWQI7jOI7jOBZAjuM4juM4FkCO4ziO4zgWQI7jOI7jOBZACB988MEHF0AIH3zwwQcXQAgffPDBBxdACB988MEHF0AIH3zwwQcXQAgffPDBBxdACB988MEHF0AIH3zwwQcXQAgffPDBBxdACB988MEHF0AIH3zwwQcXQAgffPDBBxdACB988MEHF0AIH3zwwQcXQAgffPDBBxdACB988MEHF0AIH3zwwQcXQAgffPDBBxdACB988MEHF0AIH3zwwQcXQAgffPDBBxdACB988MEHF0AIH3zwwQcXQAgffPDBBxdACB988MEHF0AIH3zwwQcXQAgffPDBBxdACB988MEHF0AIH3zwwQcXQAgffPDBBxdACB988MEHF0AIH3zwwQcXQAgffPDBBxdACB988MEHF0AIH3zwwQcXQAgffPDBBxdACB988MEHF0AIH3zwwQcXQAgffPDBBxdACB988MEHF0AIH3zwwQcXQAgffPDBBxdACB988MEHF0AIH3zwwQcXQAgffPDBBxdACB988MEHF0AIH3zwwQcXQAgffPDBBxdACB988MEHF0AIH3zwwQcXQAgffPDBBxdACB988MEHF0AIH3zwwQcXQAgffPDBBxdACB988MEHF0AIH3zwwQcXQAgffPDBBxdACB988MEHF0AIH3zwwQcXQAgffPDBBxdACB988MEHF0AIH3zwwQcXQAgffPDBBxdACB988MEHF0AIH3zwwQcXQAgffPDBBxdACB988MEHF0AIH3zwwQcXQAgffPDBBxdACB988MEHF0AIH3zwwQcXQAgffPDBBxdACB988MEHF0AIH3zwwQcXQAgffPDBBxdACB988MEHF0AIH3zwwQcXQAgffPDBBxdACB988MEHF0AIH3zwwQcXQAgffPDBBxdACB988MEHF0AIH3zwwQcXQAgffPDBBxdACB988MEHF0AIH3zwwQcXQAgffPDBBxdACB988MEHF0AIH3zwwQcXQAgffPDBBxdACB988MEHF0AIH3zwwQcXQAgffPDBBxdACB988MEHF0AIH3zwwQcXQAgffPDBBxdACB988MEHF0AIH3zwwQcXQAgffPDBBxdACB988MEHF0CAWr9SoNYXQIBav1Kg1hdAgFq/UqDWF0CAWr9SoNYXQIBav1Kg1hdAgFq/UqDWF0CAWr9SoNYXQIBav1Kg1hdAgFq/UqDWF0CAWr9SoNYXQIBav1Kg1hdAgFq/UqDWF0CAWr9SoNYXQIBav1Kg1hdAgFq/UqDWF0CAWr9SoNYXQIBav1Kg1hdAgFq/UqDWF0CAWr9SoNYXQIBav1Kg1hdAgFq/UqDWF0CAWr9SoNYXQIBav1Kg1hdAgFq/UqDWF0CAWr9SoNYXQIBav1Kg1hdAgFq/UqDWF0CAWr9SoNYXQIBav1Kg1hdAgFq/UqDWF0CAWr9SoNYXQIBav1Kg1hdAgFq/UqDWF0CAWr9SoNYXQIBav1Kg1hdAgFq/UqDWF0CAWr9SoNYXQIBav1Kg1hdAgFq/UqDWF0CAWr9SoNYXQIBav1Kg1hdAgFq/UqDWF0CAWr9SoNYXQIBav1Kg1hdAgFq/UqDWF0CAWr9SoNYXQIBav1Kg1hdAgFq/UqDWF0CAWr9SoNYXQIBav1Kg1hdAgFq/UqDWF0CAWr9SoNYXQIBav1Kg1hdAgFq/UqDWF0CAWr9SoNYXQIBav1Kg1hdAgFq/UqDWF0CAWr9SoNYXQIBav1Kg1hdAgFq/UqDWF0CAWr9SoNYXQIBav1Kg1hdAgFq/UqDWF0CAWr9SoNYXQIBav1Kg1hdAgFq/UqDWF0CAWr9SoNYXQIBav1Kg1hdAgFq/UqDWF0CAWr9SoNYXQIBav1Kg1hdAgFq/UqDWF0CAWr9SoNYXQIBav1Kg1hdAgFq/UqDWF0CAWr9SoNYXQIBav1Kg1hdAgFq/UqDWF0CAWr9SoNYXQIBav1Kg1hdAgFq/UqDWF0CAWr9SoNYXQIBav1Kg1hdAgFq/UqDWF0CAWr9SoNYXQIBav1Kg1hdAgFq/UqDWF0CAWr9SoNYXQIBav1Kg1hdAgFq/UqDWF0CAWr9SoNYXQIBav1Kg1hdAgFq/UqDWF0CAWr9SoNYXQIBav1Kg1hdAgFq/UqDWF0CAWr9SoNYXQIBav1Kg1hdAgFq/UqDWF0CAWr9SoNYXQPyVArV+pRhA/JUCtX6lGED8lQK1fqUYQPyVArV+pRhA/JUCtX6lGED8lQK1fqUYQPyVArV+pRhA/JUCtX6lGED8lQK1fqUYQPyVArV+pRhA/JUCtX6lGED8lQK1fqUYQPyVArV+pRhA/JUCtX6lGED8lQK1fqUYQPyVArV+pRhA/JUCtX6lGED8lQK1fqUYQPyVArV+pRhA/JUCtX6lGED8lQK1fqUYQPyVArV+pRhA/JUCtX6lGED8lQK1fqUYQPyVArV+pRhA/JUCtX6lGED8lQK1fqUYQPyVArV+pRhA/JUCtX6lGED8lQK1fqUYQPyVArV+pRhA/JUCtX6lGED8lQK1fqUYQPyVArV+pRhA/JUCtX6lGED8lQK1fqUYQPyVArV+pRhA/JUCtX6lGED8lQK1fqUYQPyVArV+pRhA/JUCtX6lGED8lQK1fqUYQPyVArV+pRhA/JUCtX6lGED8lQK1fqUYQPyVArV+pRhA/JUCtX6lGED8lQK1fqUYQPyVArV+pRhA/JUCtX6lGED8lQK1fqUYQPyVArV+pRhA/JUCtX6lGED8lQK1fqUYQPyVArV+pRhA/JUCtX6lGED8lQK1fqUYQPyVArV+pRhA/JUCtX6lGED8lQK1fqUYQPyVArV+pRhA/JUCtX6lGED8lQK1fqUYQPyVArV+pRhA/JUCtX6lGED8lQK1fqUYQPyVArV+pRhA/JUCtX6lGED8lQK1fqUYQPyVArV+pRhA/JUCtX6lGED8lQK1fqUYQPyVArV+pRhA/JUCtX6lGED8lQK1fqUYQPyVArV+pRhA/JUCtX6lGED8lQK1fqUYQPyVArV+pRhA/JUCtX6lGED8lQK1fqUYQPyVArV+pRhA/JUCtX6lGED8lQK1fqUYQPyVArV+pRhA/JUCtX6lGED8lQK1fqUYQPyVArV+pRhA/JUCtX6lGED8lQK1fqUYQPyVArV+pRhA/JUCtX6lGED8lQK1fqUYQPyVArV+pRhA/JUCtX6lGED8lQK1fqUYQPyVArV+pRhA/JUCtX6lGED8lQK1fqUYQPyVArV+pRhAdNFFF110GUB00UUXXXQZQHTRRRdddBlAdNFFF110GUB00UUXXXQZQHTRRRdddBlAdNFFF110GUB00UUXXXQZQHTRRRdddBlAdNFFF110GUB00UUXXXQZQHTRRRdddBlAdNFFF110GUB00UUXXXQZQHTRRRdddBlAdNFFF110GUB00UUXXXQZQHTRRRdddBlAdNFFF110GUB00UUXXXQZQHTRRRdddBlAdNFFF110GUB00UUXXXQZQHTRRRdddBlAdNFFF110GUB00UUXXXQZQHTRRRdddBlAdNFFF110GUB00UUXXXQZQHTRRRdddBlAdNFFF110GUB00UUXXXQZQHTRRRdddBlAdNFFF110GUB00UUXXXQZQHTRRRdddBlAdNFFF110GUB00UUXXXQZQHTRRRdddBlAdNFFF110GUB00UUXXXQZQHTRRRdddBlAdNFFF110GUB00UUXXXQZQHTRRRdddBlAdNFFF110GUB00UUXXXQZQHTRRRdddBlAdNFFF110GUB00UUXXXQZQHTRRRdddBlAdNFFF110GUB00UUXXXQZQHTRRRdddBlAdNFFF110GUB00UUXXXQZQHTRRRdddBlAdNFFF110GUB00UUXXXQZQHTRRRdddBlAdNFFF110GUB00UUXXXQZQHTRRRdddBlAdNFFF110GUB00UUXXXQZQHTRRRdddBlAdNFFF110GUB00UUXXXQZQHTRRRdddBlAdNFFF110GUB00UUXXXQZQHTRRRdddBlAdNFFF110GUB00UUXXXQZQHTRRRdddBlAdNFFF110GUB00UUXXXQZQHTRRRdddBlAdNFFF110GUB00UUXXXQZQHTRRRdddBlAdNFFF110GUB00UUXXXQZQHTRRRdddBlAdNFFF110GUB00UUXXXQZQHTRRRdddBlAdNFFF110GUB00UUXXXQZQHTRRRdddBlAdNFFF110GUB00UUXXXQZQHTRRRdddBlAdNFFF110GUB00UUXXXQZQHTRRRdddBlAdNFFF110GUB00UUXXXQZQHTRRRdddBlAdNFFF110GUDsDIl5O0MaQOwMiXk7QxpA7AyJeTtDGkDsDIl5O0MaQOwMiXk7QxpA7AyJeTtDGkDsDIl5O0MaQOwMiXk7QxpA7AyJeTtDGkDsDIl5O0MaQOwMiXk7QxpA7AyJeTtDGkDsDIl5O0MaQOwMiXk7QxpA7AyJeTtDGkDsDIl5O0MaQOwMiXk7QxpA7AyJeTtDGkDsDIl5O0MaQOwMiXk7QxpA7AyJeTtDGkDsDIl5O0MaQOwMiXk7QxpA7AyJeTtDGkDsDIl5O0MaQOwMiXk7QxpA7AyJeTtDGkDsDIl5O0MaQOwMiXk7QxpA7AyJeTtDGkDsDIl5O0MaQOwMiXk7QxpA7AyJeTtDGkDsDIl5O0MaQOwMiXk7QxpA7AyJeTtDGkDsDIl5O0MaQOwMiXk7QxpA7AyJeTtDGkDsDIl5O0MaQOwMiXk7QxpA7AyJeTtDGkDsDIl5O0MaQOwMiXk7QxpA7AyJeTtDGkDsDIl5O0MaQOwMiXk7QxpA7AyJeTtDGkDsDIl5O0MaQOwMiXk7QxpA7AyJeTtDGkDsDIl5O0MaQOwMiXk7QxpA7AyJeTtDGkDsDIl5O0MaQOwMiXk7QxpA7AyJeTtDGkDsDIl5O0MaQOwMiXk7QxpA7AyJeTtDGkDsDIl5O0MaQOwMiXk7QxpA7AyJeTtDGkDsDIl5O0MaQOwMiXk7QxpA7AyJeTtDGkDsDIl5O0MaQOwMiXk7QxpA7AyJeTtDGkDsDIl5O0MaQOwMiXk7QxpA7AyJeTtDGkDsDIl5O0MaQOwMiXk7QxpA7AyJeTtDGkDsDIl5O0MaQOwMiXk7QxpA7AyJeTtDGkDsDIl5O0MaQOwMiXk7QxpA7AyJeTtDGkDsDIl5O0MaQOwMiXk7QxpA7AyJeTtDGkDsDIl5O0MaQOwMiXk7QxpA7AyJeTtDGkDsDIl5O0MaQOwMiXk7QxpA7AyJeTtDGkDsDIl5O0MaQOwMiXk7QxpA7AyJeTtDGkDsDIl5O0MaQOwMiXk7QxpA7AyJeTtDGkDsDIl5O0MaQOwMiXk7QxpA7AyJeTtDGkDsDIl5O0MaQGhIzNsZEhtAaEjM2xkSG0BoSMzbGRIbQGhIzNsZEhtAaEjM2xkSG0BoSMzbGRIbQGhIzNsZEhtAaEjM2xkSG0BoSMzbGRIbQGhIzNsZEhtAaEjM2xkSG0BoSMzbGRIbQGhIzNsZEhtAaEjM2xkSG0BoSMzbGRIbQGhIzNsZEhtAaEjM2xkSG0BoSMzbGRIbQGhIzNsZEhtAaEjM2xkSG0BoSMzbGRIbQGhIzNsZEhtAaEjM2xkSG0BoSMzbGRIbQGhIzNsZEhtAaEjM2xkSG0BoSMzbGRIbQGhIzNsZEhtAaEjM2xkSG0BoSMzbGRIbQGhIzNsZEhtAaEjM2xkSG0BoSMzbGRIbQGhIzNsZEhtAaEjM2xkSG0BoSMzbGRIbQGhIzNsZEhtAaEjM2xkSG0BoSMzbGRIbQGhIzNsZEhtAaEjM2xkSG0BoSMzbGRIbQGhIzNsZEhtAaEjM2xkSG0BoSMzbGRIbQGhIzNsZEhtAaEjM2xkSG0BoSMzbGRIbQGhIzNsZEhtAaEjM2xkSG0BoSMzbGRIbQGhIzNsZEhtAaEjM2xkSG0BoSMzbGRIbQGhIzNsZEhtAaEjM2xkSG0BoSMzbGRIbQGhIzNsZEhtAaEjM2xkSG0BoSMzbGRIbQGhIzNsZEhtAaEjM2xkSG0BoSMzbGRIbQGhIzNsZEhtAaEjM2xkSG0BoSMzbGRIbQGhIzNsZEhtAaEjM2xkSG0BoSMzbGRIbQGhIzNsZEhtAaEjM2xkSG0BoSMzbGRIbQGhIzNsZEhtAaEjM2xkSG0BoSMzbGRIbQGhIzNsZEhtAaEjM2xkSG0BoSMzbGRIbQGhIzNsZEhtAaEjM2xkSG0BoSMzbGRIbQGhIzNsZEhtAaEjM2xkSG0BoSMzbGRIbQGhIzNsZEhtAaEjM2xkSG0BoSMzbGRIbQGhIzNsZEhtAaEjM2xkSG0BoSMzbGRIbQGhIzNsZEhtAaEjM2xkSG0BoSMzbGRIbQGhIzNsZEhtAaEjM2xkSG0BoSMzbGRIbQGhIzNsZEhtAaEjM2xkSG0BoSMzbGRIbQGhIzNsZEhtA4IMPPvjgG0Dggw8++OAbQOCDDz744BtA4IMPPvjgG0Dggw8++OAbQOCDDz744BtA4IMPPvjgG0Dggw8++OAbQOCDDz744BtA4IMPPvjgG0Dggw8++OAbQOCDDz744BtA4IMPPvjgG0Dggw8++OAbQOCDDz744BtA4IMPPvjgG0Dggw8++OAbQOCDDz744BtA4IMPPvjgG0Dggw8++OAbQOCDDz744BtA4IMPPvjgG0Dggw8++OAbQOCDDz744BtA4IMPPvjgG0Dggw8++OAbQOCDDz744BtA4IMPPvjgG0Dggw8++OAbQOCDDz744BtA4IMPPvjgG0Dggw8++OAbQOCDDz744BtA4IMPPvjgG0Dggw8++OAbQOCDDz744BtA4IMPPvjgG0Dggw8++OAbQOCDDz744BtA4IMPPvjgG0Dggw8++OAbQOCDDz744BtA4IMPPvjgG0Dggw8++OAbQOCDDz744BtA4IMPPvjgG0Dggw8++OAbQOCDDz744BtA4IMPPvjgG0Dggw8++OAbQOCDDz744BtA4IMPPvjgG0Dggw8++OAbQOCDDz744BtA4IMPPvjgG0Dggw8++OAbQOCDDz744BtA4IMPPvjgG0Dggw8++OAbQOCDDz744BtA4IMPPvjgG0Dggw8++OAbQOCDDz744BtA4IMPPvjgG0Dggw8++OAbQOCDDz744BtA4IMPPvjgG0Dggw8++OAbQOCDDz744BtA4IMPPvjgG0Dggw8++OAbQOCDDz744BtA4IMPPvjgG0Dggw8++OAbQOCDDz744BtA4IMPPvjgG0Dggw8++OAbQOCDDz744BtA4IMPPvjgG0Dggw8++OAbQOCDDz744BtA4IMPPvjgG0Dggw8++OAbQOCDDz744BtA4IMPPvjgG0Dggw8++OAbQOCDDz744BtA4IMPPvjgG0Dggw8++OAbQOCDDz744BtA4IMPPvjgG0Dggw8++OAbQOCDDz744BtA4IMPPvjgG0Dggw8++OAbQOCDDz744BtA4IMPPvjgG0Dggw8++OAbQOCDDz744BtA4IMPPvjgG0Bcv1Kg1q8cQFy/UqDWrxxAXL9SoNavHEBcv1Kg1q8cQFy/UqDWrxxAXL9SoNavHEBcv1Kg1q8cQFy/UqDWrxxAXL9SoNavHEBcv1Kg1q8cQFy/UqDWrxxAXL9SoNavHEBcv1Kg1q8cQFy/UqDWrxxAXL9SoNavHEBcv1Kg1q8cQFy/UqDWrxxAXL9SoNavHEBcv1Kg1q8cQFy/UqDWrxxAXL9SoNavHEBcv1Kg1q8cQFy/UqDWrxxAXL9SoNavHEBcv1Kg1q8cQFy/UqDWrxxAXL9SoNavHEBcv1Kg1q8cQFy/UqDWrxxAXL9SoNavHEBcv1Kg1q8cQFy/UqDWrxxAXL9SoNavHEBcv1Kg1q8cQFy/UqDWrxxAXL9SoNavHEBcv1Kg1q8cQFy/UqDWrxxAXL9SoNavHEBcv1Kg1q8cQFy/UqDWrxxAXL9SoNavHEBcv1Kg1q8cQFy/UqDWrxxAXL9SoNavHEBcv1Kg1q8cQFy/UqDWrxxAXL9SoNavHEBcv1Kg1q8cQFy/UqDWrxxAXL9SoNavHEBcv1Kg1q8cQFy/UqDWrxxAXL9SoNavHEBcv1Kg1q8cQFy/UqDWrxxAXL9SoNavHEBcv1Kg1q8cQFy/UqDWrxxAXL9SoNavHEBcv1Kg1q8cQFy/UqDWrxxAXL9SoNavHEBcv1Kg1q8cQFy/UqDWrxxAXL9SoNavHEBcv1Kg1q8cQFy/UqDWrxxAXL9SoNavHEBcv1Kg1q8cQFy/UqDWrxxAXL9SoNavHEBcv1Kg1q8cQFy/UqDWrxxAXL9SoNavHEBcv1Kg1q8cQFy/UqDWrxxAXL9SoNavHEBcv1Kg1q8cQFy/UqDWrxxAXL9SoNavHEBcv1Kg1q8cQFy/UqDWrxxAXL9SoNavHEBcv1Kg1q8cQFy/UqDWrxxAXL9SoNavHEBcv1Kg1q8cQFy/UqDWrxxAXL9SoNavHEBcv1Kg1q8cQFy/UqDWrxxAXL9SoNavHEBcv1Kg1q8cQFy/UqDWrxxAXL9SoNavHEBcv1Kg1q8cQFy/UqDWrxxAXL9SoNavHEBcv1Kg1q8cQNT6lQK1fh1A1PqVArV+HUDU+pUCtX4dQNT6lQK1fh1A1PqVArV+HUDU+pUCtX4dQNT6lQK1fh1A1PqVArV+HUDU+pUCtX4dQNT6lQK1fh1A1PqVArV+HUDU+pUCtX4dQNT6lQK1fh1A1PqVArV+HUDU+pUCtX4dQNT6lQK1fh1A1PqVArV+HUDU+pUCtX4dQNT6lQK1fh1A1PqVArV+HUDU+pUCtX4dQNT6lQK1fh1A1PqVArV+HUDU+pUCtX4dQNT6lQK1fh1A1PqVArV+HUDU+pUCtX4dQNT6lQK1fh1A1PqVArV+HUDU+pUCtX4dQNT6lQK1fh1A1PqVArV+HUDU+pUCtX4dQNT6lQK1fh1A1PqVArV+HUDU+pUCtX4dQNT6lQK1fh1A1PqVArV+HUDU+pUCtX4dQNT6lQK1fh1A1PqVArV+HUDU+pUCtX4dQNT6lQK1fh1A1PqVArV+HUDU+pUCtX4dQNT6lQK1fh1A1PqVArV+HUDU+pUCtX4dQNT6lQK1fh1A1PqVArV+HUDU+pUCtX4dQNT6lQK1fh1A1PqVArV+HUDU+pUCtX4dQNT6lQK1fh1A1PqVArV+HUDU+pUCtX4dQNT6lQK1fh1A1PqVArV+HUDU+pUCtX4dQNT6lQK1fh1A1PqVArV+HUDU+pUCtX4dQNT6lQK1fh1A1PqVArV+HUDU+pUCtX4dQNT6lQK1fh1A1PqVArV+HUDU+pUCtX4dQNT6lQK1fh1A1PqVArV+HUDU+pUCtX4dQNT6lQK1fh1A1PqVArV+HUDU+pUCtX4dQNT6lQK1fh1A1PqVArV+HUDU+pUCtX4dQNT6lQK1fh1A1PqVArV+HUDU+pUCtX4dQNT6lQK1fh1A1PqVArV+HUDU+pUCtX4dQNT6lQK1fh1A1PqVArV+HUDU+pUCtX4dQNT6lQK1fh1A1PqVArV+HUDU+pUCtX4dQNT6lQK1fh1A1PqVArV+HUDU+pUCtX4dQNT6lQK1fh1A1PqVArV+HUDU+pUCtX4dQNT6lQK1fh1A1PqVArV+HUDU+pUCtX4dQNT6lQK1fh1ATDbZZJNNHkBMNtlkk00eQEw22WSTTR5ATDbZZJNNHkBMNtlkk00eQEw22WSTTR5ATDbZZJNNHkBMNtlkk00eQEw22WSTTR5ATDbZZJNNHkBMNtlkk00eQEw22WSTTR5ATDbZZJNNHkBMNtlkk00eQEw22WSTTR5ATDbZZJNNHkBMNtlkk00eQEw22WSTTR5ATDbZZJNNHkBMNtlkk00eQEw22WSTTR5ATDbZZJNNHkBMNtlkk00eQEw22WSTTR5ATDbZZJNNHkBMNtlkk00eQEw22WSTTR5ATDbZZJNNHkBMNtlkk00eQEw22WSTTR5ATDbZZJNNHkBMNtlkk00eQEw22WSTTR5ATDbZZJNNHkBMNtlkk00eQEw22WSTTR5ATDbZZJNNHkBMNtlkk00eQEw22WSTTR5ATDbZZJNNHkBMNtlkk00eQEw22WSTTR5ATDbZZJNNHkBMNtlkk00eQEw22WSTTR5ATDbZZJNNHkBMNtlkk00eQEw22WSTTR5ATDbZZJNNHkBMNtlkk00eQEw22WSTTR5ATDbZZJNNHkBMNtlkk00eQEw22WSTTR5ATDbZZJNNHkBMNtlkk00eQEw22WSTTR5ATDbZZJNNHkBMNtlkk00eQEw22WSTTR5ATDbZZJNNHkBMNtlkk00eQEw22WSTTR5ATDbZZJNNHkBMNtlkk00eQEw22WSTTR5ATDbZZJNNHkBMNtlkk00eQEw22WSTTR5ATDbZZJNNHkBMNtlkk00eQEw22WSTTR5ATDbZZJNNHkBMNtlkk00eQEw22WSTTR5ATDbZZJNNHkBMNtlkk00eQEw22WSTTR5ATDbZZJNNHkBMNtlkk00eQEw22WSTTR5ATDbZZJNNHkBMNtlkk00eQEw22WSTTR5ATDbZZJNNHkBMNtlkk00eQEw22WSTTR5ATDbZZJNNHkBMNtlkk00eQEw22WSTTR5ATDbZZJNNHkBMNtlkk00eQEw22WSTTR5ATDbZZJNNHkBMNtlkk00eQEw22WSTTR5ATDbZZJNNHkBMNtlkk00eQEw22WSTTR5ATDbZZJNNHkDIcRzHcRwfQMhxHMdxHB9AyHEcx3EcH0DIcRzHcRwfQMhxHMdxHB9AyHEcx3EcH0DIcRzHcRwfQMhxHMdxHB9AyHEcx3EcH0DIcRzHcRwfQMhxHMdxHB9AyHEcx3EcH0DIcRzHcRwfQMhxHMdxHB9AyHEcx3EcH0DIcRzHcRwfQMhxHMdxHB9AyHEcx3EcH0DIcRzHcRwfQMhxHMdxHB9AyHEcx3EcH0DIcRzHcRwfQMhxHMdxHB9AyHEcx3EcH0DIcRzHcRwfQMhxHMdxHB9AyHEcx3EcH0DIcRzHcRwfQMhxHMdxHB9AyHEcx3EcH0DIcRzHcRwfQMhxHMdxHB9AyHEcx3EcH0DIcRzHcRwfQMhxHMdxHB9AyHEcx3EcH0DIcRzHcRwfQMhxHMdxHB9AyHEcx3EcH0DIcRzHcRwfQMhxHMdxHB9AyHEcx3EcH0DIcRzHcRwfQMhxHMdxHB9AyHEcx3EcH0DIcRzHcRwfQMhxHMdxHB9AyHEcx3EcH0DIcRzHcRwfQMhxHMdxHB9AyHEcx3EcH0DIcRzHcRwfQMhxHMdxHB9AyHEcx3EcH0DIcRzHcRwfQMhxHMdxHB9AyHEcx3EcH0DIcRzHcRwfQMhxHMdxHB9AyHEcx3EcH0DIcRzHcRwfQMhxHMdxHB9AyHEcx3EcH0DIcRzHcRwfQMhxHMdxHB9AyHEcx3EcH0DIcRzHcRwfQMhxHMdxHB9AyHEcx3EcH0DIcRzHcRwfQMhxHMdxHB9AyHEcx3EcH0DIcRzHcRwfQMhxHMdxHB9AyHEcx3EcH0DIcRzHcRwfQMhxHMdxHB9AyHEcx3EcH0DIcRzHcRwfQMhxHMdxHB9AyHEcx3EcH0DIcRzHcRwfQMhxHMdxHB9AyHEcx3EcH0DIcRzHcRwfQMhxHMdxHB9AyHEcx3EcH0DIcRzHcRwfQMhxHMdxHB9AyHEcx3EcH0DIcRzHcRwfQMhxHMdxHB9AyHEcx3EcH0DIcRzHcRwfQMhxHMdxHB9AyHEcx3EcH0DIcRzHcRwfQMhxHMdxHB9AyHEcx3EcH0DIcRzHcRwfQECtXylQ6x9AQK1fKVDrH0BArV8pUOsfQECtXylQ6x9AQK1fKVDrH0BArV8pUOsfQECtXylQ6x9AQK1fKVDrH0BArV8pUOsfQECtXylQ6x9AQK1fKVDrH0BArV8pUOsfQECtXylQ6x9AQK1fKVDrH0BArV8pUOsfQECtXylQ6x9AQK1fKVDrH0BArV8pUOsfQECtXylQ6x9AQK1fKVDrH0BArV8pUOsfQECtXylQ6x9AQK1fKVDrH0BArV8pUOsfQECtXylQ6x9AQK1fKVDrH0BArV8pUOsfQECtXylQ6x9AQK1fKVDrH0BArV8pUOsfQECtXylQ6x9AQK1fKVDrH0BArV8pUOsfQECtXylQ6x9AQK1fKVDrH0BArV8pUOsfQECtXylQ6x9AQK1fKVDrH0BArV8pUOsfQECtXylQ6x9AQK1fKVDrH0BArV8pUOsfQECtXylQ6x9AQK1fKVDrH0BArV8pUOsfQECtXylQ6x9AQK1fKVDrH0BArV8pUOsfQECtXylQ6x9AQK1fKVDrH0BArV8pUOsfQECtXylQ6x9AQK1fKVDrH0BArV8pUOsfQECtXylQ6x9AQK1fKVDrH0BArV8pUOsfQECtXylQ6x9AQK1fKVDrH0BArV8pUOsfQECtXylQ6x9AQK1fKVDrH0BArV8pUOsfQECtXylQ6x9AQK1fKVDrH0BArV8pUOsfQECtXylQ6x9AQK1fKVDrH0BArV8pUOsfQECtXylQ6x9AQK1fKVDrH0BArV8pUOsfQECtXylQ6x9AQK1fKVDrH0BArV8pUOsfQECtXylQ6x9AQK1fKVDrH0BArV8pUOsfQECtXylQ6x9AQK1fKVDrH0BArV8pUOsfQECtXylQ6x9AQK1fKVDrH0BArV8pUOsfQECtXylQ6x9AQK1fKVDrH0BArV8pUOsfQECtXylQ6x9AQK1fKVDrH0BArV8pUOsfQECtXylQ6x9AQK1fKVDrH0BArV8pUOsfQECtXylQ6x9AQK1fKVDrH0BArV8pUOsfQECtXylQ6x9AQK1fKVDrH0BArV8pUOsfQECtXylQ6x9AXHTRRRddIEBcdNFFF10gQFx00UUXXSBAXHTRRRddIEBcdNFFF10gQFx00UUXXSBAXHTRRRddIEBcdNFFF10gQFx00UUXXSBAXHTRRRddIEBcdNFFF10gQFx00UUXXSBAXHTRRRddIEBcdNFFF10gQFx00UUXXSBAXHTRRRddIEBcdNFFF10gQFx00UUXXSBAXHTRRRddIEBcdNFFF10gQFx00UUXXSBAXHTRRRddIEBcdNFFF10gQFx00UUXXSBAXHTRRRddIEBcdNFFF10gQFx00UUXXSBAXHTRRRddIEBcdNFFF10gQFx00UUXXSBAXHTRRRddIEBcdNFFF10gQFx00UUXXSBAXHTRRRddIEBcdNFFF10gQFx00UUXXSBAXHTRRRddIEBcdNFFF10gQFx00UUXXSBAXHTRRRddIEBcdNFFF10gQFx00UUXXSBAXHTRRRddIEBcdNFFF10gQFx00UUXXSBAXHTRRRddIEBcdNFFF10gQFx00UUXXSBAXHTRRRddIEBcdNFFF10gQFx00UUXXSBAXHTRRRddIEBcdNFFF10gQFx00UUXXSBAXHTRRRddIEBcdNFFF10gQFx00UUXXSBAXHTRRRddIEBcdNFFF10gQFx00UUXXSBAXHTRRRddIEBcdNFFF10gQFx00UUXXSBAXHTRRRddIEBcdNFFF10gQFx00UUXXSBAXHTRRRddIEBcdNFFF10gQFx00UUXXSBAXHTRRRddIEBcdNFFF10gQFx00UUXXSBAXHTRRRddIEBcdNFFF10gQFx00UUXXSBAXHTRRRddIEBcdNFFF10gQFx00UUXXSBAXHTRRRddIEBcdNFFF10gQFx00UUXXSBAXHTRRRddIEBcdNFFF10gQFx00UUXXSBAXHTRRRddIEBcdNFFF10gQFx00UUXXSBAXHTRRRddIEBcdNFFF10gQFx00UUXXSBAXHTRRRddIEBcdNFFF10gQFx00UUXXSBAXHTRRRddIEBcdNFFF10gQFx00UUXXSBAXHTRRRddIEBcdNFFF10gQFx00UUXXSBAXHTRRRddIEAaEvN2hsQgQBoS83aGxCBAGhLzdobEIEAaEvN2hsQgQBoS83aGxCBAGhLzdobEIEAaEvN2hsQgQBoS83aGxCBAGhLzdobEIEAaEvN2hsQgQBoS83aGxCBAGhLzdobEIEAaEvN2hsQgQBoS83aGxCBAGhLzdobEIEAaEvN2hsQgQBoS83aGxCBAGhLzdobEIEAaEvN2hsQgQBoS83aGxCBAGhLzdobEIEAaEvN2hsQgQBoS83aGxCBAGhLzdobEIEAaEvN2hsQgQBoS83aGxCBAGhLzdobEIEAaEvN2hsQgQBoS83aGxCBAGhLzdobEIEAaEvN2hsQgQBoS83aGxCBAGhLzdobEIEAaEvN2hsQgQBoS83aGxCBAGhLzdobEIEAaEvN2hsQgQBoS83aGxCBAGhLzdobEIEAaEvN2hsQgQBoS83aGxCBAGhLzdobEIEAaEvN2hsQgQBoS83aGxCBAGhLzdobEIEAaEvN2hsQgQBoS83aGxCBAGhLzdobEIEAaEvN2hsQgQBoS83aGxCBAGhLzdobEIEAaEvN2hsQgQBoS83aGxCBAGhLzdobEIEAaEvN2hsQgQBoS83aGxCBAGhLzdobEIEAaEvN2hsQgQBoS83aGxCBAGhLzdobEIEAaEvN2hsQgQBoS83aGxCBAGhLzdobEIEAaEvN2hsQgQBoS83aGxCBAGhLzdobEIEAaEvN2hsQgQBoS83aGxCBAGhLzdobEIEAaEvN2hsQgQBoS83aGxCBAGhLzdobEIEAaEvN2hsQgQBoS83aGxCBAGhLzdobEIEAaEvN2hsQgQBoS83aGxCBAGhLzdobEIEAaEvN2hsQgQBoS83aGxCBAGhLzdobEIEAaEvN2hsQgQBoS83aGxCBAGhLzdobEIEAaEvN2hsQgQBoS83aGxCBAGhLzdobEIEAaEvN2hsQgQBoS83aGxCBAGhLzdobEIEAaEvN2hsQgQBoS83aGxCBAGhLzdobEIEAaEvN2hsQgQBoS83aGxCBAGhLzdobEIEAaEvN2hsQgQBoS83aGxCBAGhLzdobEIEAaEvN2hsQgQNavFKj1KyFA1q8UqPUrIUDWrxSo9SshQNavFKj1KyFA1q8UqPUrIUDWrxSo9SshQNavFKj1KyFA1q8UqPUrIUDWrxSo9SshQNavFKj1KyFA1q8UqPUrIUDWrxSo9SshQNavFKj1KyFA1q8UqPUrIUDWrxSo9SshQNavFKj1KyFA1q8UqPUrIUDWrxSo9SshQNavFKj1KyFA1q8UqPUrIUDWrxSo9SshQNavFKj1KyFA1q8UqPUrIUDWrxSo9SshQNavFKj1KyFA1q8UqPUrIUDWrxSo9SshQNavFKj1KyFA1q8UqPUrIUDWrxSo9SshQNavFKj1KyFA1q8UqPUrIUDWrxSo9SshQNavFKj1KyFA1q8UqPUrIUDWrxSo9SshQNavFKj1KyFA1q8UqPUrIUDWrxSo9SshQNavFKj1KyFA1q8UqPUrIUDWrxSo9SshQNavFKj1KyFA1q8UqPUrIUDWrxSo9SshQNavFKj1KyFA1q8UqPUrIUDWrxSo9SshQNavFKj1KyFA1q8UqPUrIUDWrxSo9SshQNavFKj1KyFA1q8UqPUrIUDWrxSo9SshQNavFKj1KyFA1q8UqPUrIUDWrxSo9SshQNavFKj1KyFA1q8UqPUrIUDWrxSo9SshQNavFKj1KyFA1q8UqPUrIUDWrxSo9SshQNavFKj1KyFA1q8UqPUrIUDWrxSo9SshQNavFKj1KyFA1q8UqPUrIUDWrxSo9SshQNavFKj1KyFA1q8UqPUrIUDWrxSo9SshQNavFKj1KyFA1q8UqPUrIUDWrxSo9SshQNavFKj1KyFA1q8UqPUrIUDWrxSo9SshQNavFKj1KyFA1q8UqPUrIUDWrxSo9SshQNavFKj1KyFA1q8UqPUrIUDWrxSo9SshQNavFKj1KyFA1q8UqPUrIUDWrxSo9SshQNavFKj1KyFA1q8UqPUrIUDWrxSo9SshQNavFKj1KyFA1q8UqPUrIUDWrxSo9SshQNavFKj1KyFA1q8UqPUrIUDWrxSo9SshQNavFKj1KyFA1q8UqPUrIUDWrxSo9SshQNavFKj1KyFAlE022WSTIUCUTTbZZJMhQJRNNtlkkyFAlE022WSTIUCUTTbZZJMhQJRNNtlkkyFAlE022WSTIUCUTTbZZJMhQJRNNtlkkyFAlE022WSTIUCUTTbZZJMhQJRNNtlkkyFAlE022WSTIUCUTTbZZJMhQJRNNtlkkyFAlE022WSTIUCUTTbZZJMhQJRNNtlkkyFAlE022WSTIUCUTTbZZJMhQJRNNtlkkyFAlE022WSTIUCUTTbZZJMhQJRNNtlkkyFAlE022WSTIUCUTTbZZJMhQJRNNtlkkyFAlE022WSTIUCUTTbZZJMhQJRNNtlkkyFAlE022WSTIUCUTTbZZJMhQJRNNtlkkyFAlE022WSTIUCUTTbZZJMhQJRNNtlkkyFAlE022WSTIUCUTTbZZJMhQJRNNtlkkyFAlE022WSTIUCUTTbZZJMhQJRNNtlkkyFAlE022WSTIUCUTTbZZJMhQJRNNtlkkyFAlE022WSTIUCUTTbZZJMhQJRNNtlkkyFAlE022WSTIUCUTTbZZJMhQJRNNtlkkyFAlE022WSTIUCUTTbZZJMhQJRNNtlkkyFAlE022WSTIUCUTTbZZJMhQJRNNtlkkyFAlE022WSTIUCUTTbZZJMhQJRNNtlkkyFAlE022WSTIUCUTTbZZJMhQJRNNtlkkyFAlE022WSTIUCUTTbZZJMhQJRNNtlkkyFAlE022WSTIUCUTTbZZJMhQJRNNtlkkyFAlE022WSTIUCUTTbZZJMhQJRNNtlkkyFAlE022WSTIUCUTTbZZJMhQJRNNtlkkyFAlE022WSTIUCUTTbZZJMhQJRNNtlkkyFAlE022WSTIUCUTTbZZJMhQJRNNtlkkyFAlE022WSTIUCUTTbZZJMhQJRNNtlkkyFAlE022WSTIUCUTTbZZJMhQJRNNtlkkyFAlE022WSTIUCUTTbZZJMhQJRNNtlkkyFAlE022WSTIUCUTTbZZJMhQJRNNtlkkyFAlE022WSTIUCUTTbZZJMhQJRNNtlkkyFAlE022WSTIUCUTTbZZJMhQJRNNtlkkyFAlE022WSTIUBQ61cK1PohQFDrVwrU+iFAUOtXCtT6IUBQ61cK1PohQFDrVwrU+iFAUOtXCtT6IUBQ61cK1PohQFDrVwrU+iFAUOtXCtT6IUBQ61cK1PohQFDrVwrU+iFAUOtXCtT6IUBQ61cK1PohQFDrVwrU+iFAUOtXCtT6IUBQ61cK1PohQFDrVwrU+iFAUOtXCtT6IUBQ61cK1PohQFDrVwrU+iFAUOtXCtT6IUBQ61cK1PohQFDrVwrU+iFAUOtXCtT6IUBQ61cK1PohQFDrVwrU+iFAUOtXCtT6IUBQ61cK1PohQFDrVwrU+iFAUOtXCtT6IUBQ61cK1PohQFDrVwrU+iFAUOtXCtT6IUBQ61cK1PohQFDrVwrU+iFAUOtXCtT6IUBQ61cK1PohQFDrVwrU+iFAUOtXCtT6IUBQ61cK1PohQFDrVwrU+iFAUOtXCtT6IUBQ61cK1PohQFDrVwrU+iFAUOtXCtT6IUBQ61cK1PohQFDrVwrU+iFAUOtXCtT6IUBQ61cK1PohQFDrVwrU+iFAUOtXCtT6IUBQ61cK1PohQFDrVwrU+iFAUOtXCtT6IUBQ61cK1PohQFDrVwrU+iFAUOtXCtT6IUBQ61cK1PohQFDrVwrU+iFAUOtXCtT6IUBQ61cK1PohQFDrVwrU+iFAUOtXCtT6IUBQ61cK1PohQFDrVwrU+iFAUOtXCtT6IUBQ61cK1PohQFDrVwrU+iFAUOtXCtT6IUBQ61cK1PohQFDrVwrU+iFAUOtXCtT6IUBQ61cK1PohQFDrVwrU+iFAUOtXCtT6IUBQ61cK1PohQFDrVwrU+iFAUOtXCtT6IUBQ61cK1PohQFDrVwrU+iFAUOtXCtT6IUBQ61cK1PohQFDrVwrU+iFAUOtXCtT6IUBQ61cK1PohQFDrVwrU+iFAUOtXCtT6IUBQ61cK1PohQFDrVwrU+iFAUOtXCtT6IUBQ61cK1PohQFDrVwrU+iFAUOtXCtT6IUBQ61cK1PohQFDrVwrU+iFAUOtXCtT6IUBQ61cK1PohQFDrVwrU+iFAUOtXCtT6IUBQ61cK1PohQAyJeTtDYiJADIl5O0NiIkAMiXk7Q2IiQAyJeTtDYiJADIl5O0NiIkAMiXk7Q2IiQAyJeTtDYiJADIl5O0NiIkAMiXk7Q2IiQAyJeTtDYiJADIl5O0NiIkAMiXk7Q2IiQAyJeTtDYiJADIl5O0NiIkAMiXk7Q2IiQAyJeTtDYiJADIl5O0NiIkAMiXk7Q2IiQAyJeTtDYiJADIl5O0NiIkAMiXk7Q2IiQAyJeTtDYiJADIl5O0NiIkAMiXk7Q2IiQAyJeTtDYiJADIl5O0NiIkAMiXk7Q2IiQAyJeTtDYiJADIl5O0NiIkAMiXk7Q2IiQAyJeTtDYiJADIl5O0NiIkAMiXk7Q2IiQAyJeTtDYiJADIl5O0NiIkAMiXk7Q2IiQAyJeTtDYiJADIl5O0NiIkAMiXk7Q2IiQAyJeTtDYiJADIl5O0NiIkAMiXk7Q2IiQAyJeTtDYiJADIl5O0NiIkAMiXk7Q2IiQAyJeTtDYiJADIl5O0NiIkAMiXk7Q2IiQAyJeTtDYiJADIl5O0NiIkAMiXk7Q2IiQAyJeTtDYiJADIl5O0NiIkAMiXk7Q2IiQAyJeTtDYiJADIl5O0NiIkAMiXk7Q2IiQAyJeTtDYiJADIl5O0NiIkAMiXk7Q2IiQAyJeTtDYiJADIl5O0NiIkAMiXk7Q2IiQAyJeTtDYiJADIl5O0NiIkAMiXk7Q2IiQAyJeTtDYiJADIl5O0NiIkAMiXk7Q2IiQAyJeTtDYiJADIl5O0NiIkAMiXk7Q2IiQAyJeTtDYiJADIl5O0NiIkAMiXk7Q2IiQAyJeTtDYiJADIl5O0NiIkAMiXk7Q2IiQAyJeTtDYiJADIl5O0NiIkAMiXk7Q2IiQAyJeTtDYiJADIl5O0NiIkAMiXk7Q2IiQAyJeTtDYiJADIl5O0NiIkAMiXk7Q2IiQAyJeTtDYiJADIl5O0NiIkAMiXk7Q2IiQAyJeTtDYiJADIl5O0NiIkAMiXk7Q2IiQAyJeTtDYiJADIl5O0NiIkAMiXk7Q2IiQAyJeTtDYiJADIl5O0NiIkAMiXk7Q2IiQAyJeTtDYiJAyiabbLLJIkDKJptssskiQMomm2yyySJAyiabbLLJIkDKJptssskiQMomm2yyySJAyiabbLLJIkDKJptssskiQMomm2yyySJAyiabbLLJIkDKJptssskiQMomm2yyySJAyiabbLLJIkDKJptssskiQMomm2yyySJAyiabbLLJIkDKJptssskiQMomm2yyySJAyiabbLLJIkDKJptssskiQMomm2yyySJAyiabbLLJIkDKJptssskiQMomm2yyySJAyiabbLLJIkDKJptssskiQMomm2yyySJAyiabbLLJIkDKJptssskiQMomm2yyySJAyiabbLLJIkDKJptssskiQMomm2yyySJAyiabbLLJIkDKJptssskiQMomm2yyySJAyiabbLLJIkDKJptssskiQMomm2yyySJAyiabbLLJIkDKJptssskiQMomm2yyySJAyiabbLLJIkDKJptssskiQMomm2yyySJAyiabbLLJIkDKJptssskiQMomm2yyySJAyiabbLLJIkDKJptssskiQMomm2yyySJAyiabbLLJIkDKJptssskiQMomm2yyySJAyiabbLLJIkDKJptssskiQMomm2yyySJAyiabbLLJIkDKJptssskiQMomm2yyySJAyiabbLLJIkDKJptssskiQMomm2yyySJAyiabbLLJIkDKJptssskiQMomm2yyySJAyiabbLLJIkDKJptssskiQMomm2yyySJAyiabbLLJIkDKJptssskiQMomm2yyySJAyiabbLLJIkDKJptssskiQMomm2yyySJAyiabbLLJIkDKJptssskiQMomm2yyySJAyiabbLLJIkDKJptssskiQMomm2yyySJAyiabbLLJIkDKJptssskiQMomm2yyySJAyiabbLLJIkDKJptssskiQMomm2yyySJAyiabbLLJIkDKJptssskiQMomm2yyySJAyiabbLLJIkDKJptssskiQMomm2yyySJAyiabbLLJIkDKJptssskiQMomm2yyySJAyiabbLLJIkDKJptssskiQMomm2yyySJAyiabbLLJIkCGxLydITEjQIbEvJ0hMSNAhsS8nSExI0CGxLydITEjQIbEvJ0hMSNAhsS8nSExI0CGxLydITEjQIbEvJ0hMSNAhsS8nSExI0CGxLydITEjQIbEvJ0hMSNAhsS8nSExI0CGxLydITEjQIbEvJ0hMSNAhsS8nSExI0CGxLydITEjQIbEvJ0hMSNAhsS8nSExI0CGxLydITEjQIbEvJ0hMSNAhsS8nSExI0CGxLydITEjQIbEvJ0hMSNAhsS8nSExI0CGxLydITEjQIbEvJ0hMSNAhsS8nSExI0CGxLydITEjQIbEvJ0hMSNAhsS8nSExI0CGxLydITEjQIbEvJ0hMSNAhsS8nSExI0CGxLydITEjQIbEvJ0hMSNAhsS8nSExI0CGxLydITEjQIbEvJ0hMSNAhsS8nSExI0CGxLydITEjQIbEvJ0hMSNAhsS8nSExI0CGxLydITEjQIbEvJ0hMSNAhsS8nSExI0CGxLydITEjQIbEvJ0hMSNAhsS8nSExI0CGxLydITEjQIbEvJ0hMSNAhsS8nSExI0CGxLydITEjQIbEvJ0hMSNAhsS8nSExI0CGxLydITEjQIbEvJ0hMSNAhsS8nSExI0CGxLydITEjQIbEvJ0hMSNAhsS8nSExI0CGxLydITEjQIbEvJ0hMSNAhsS8nSExI0CGxLydITEjQIbEvJ0hMSNAhsS8nSExI0CGxLydITEjQIbEvJ0hMSNAhsS8nSExI0CGxLydITEjQIbEvJ0hMSNAhsS8nSExI0CGxLydITEjQIbEvJ0hMSNAhsS8nSExI0CGxLydITEjQIbEvJ0hMSNAhsS8nSExI0CGxLydITEjQIbEvJ0hMSNAhsS8nSExI0CGxLydITEjQIbEvJ0hMSNAhsS8nSExI0CGxLydITEjQIbEvJ0hMSNAhsS8nSExI0CGxLydITEjQIbEvJ0hMSNAhsS8nSExI0CGxLydITEjQIbEvJ0hMSNAhsS8nSExI0CGxLydITEjQIbEvJ0hMSNAhsS8nSExI0CGxLydITEjQIbEvJ0hMSNAhsS8nSExI0CGxLydITEjQERi3s6QmCNARGLezpCYI0BEYt7OkJgjQERi3s6QmCNARGLezpCYI0BEYt7OkJgjQERi3s6QmCNARGLezpCYI0BEYt7OkJgjQERi3s6QmCNARGLezpCYI0BEYt7OkJgjQERi3s6QmCNARGLezpCYI0BEYt7OkJgjQERi3s6QmCNARGLezpCYI0BEYt7OkJgjQERi3s6QmCNARGLezpCYI0BEYt7OkJgjQERi3s6QmCNARGLezpCYI0BEYt7OkJgjQERi3s6QmCNARGLezpCYI0BEYt7OkJgjQERi3s6QmCNARGLezpCYI0BEYt7OkJgjQERi3s6QmCNARGLezpCYI0BEYt7OkJgjQERi3s6QmCNARGLezpCYI0BEYt7OkJgjQERi3s6QmCNARGLezpCYI0BEYt7OkJgjQERi3s6QmCNARGLezpCYI0BEYt7OkJgjQERi3s6QmCNARGLezpCYI0BEYt7OkJgjQERi3s6QmCNARGLezpCYI0BEYt7OkJgjQERi3s6QmCNARGLezpCYI0BEYt7OkJgjQERi3s6QmCNARGLezpCYI0BEYt7OkJgjQERi3s6QmCNARGLezpCYI0BEYt7OkJgjQERi3s6QmCNARGLezpCYI0BEYt7OkJgjQERi3s6QmCNARGLezpCYI0BEYt7OkJgjQERi3s6QmCNARGLezpCYI0BEYt7OkJgjQERi3s6QmCNARGLezpCYI0BEYt7OkJgjQERi3s6QmCNARGLezpCYI0BEYt7OkJgjQERi3s6QmCNARGLezpCYI0BEYt7OkJgjQERi3s6QmCNARGLezpCYI0BEYt7OkJgjQERi3s6QmCNARGLezpCYI0BEYt7OkJgjQERi3s6QmCNARGLezpCYI0BEYt7OkJgjQERi3s6QmCNARGLezpCYI0BEYt7OkJgjQERi3s6QmCNARGLezpCYI0BEYt7OkJgjQERi3s6QmCNARGLezpCYI0BEYt7OkJgjQERi3s6QmCNARGLezpCYI0BEYt7OkJgjQERi3s6QmCNARGLezpCYI0BEYt7OkJgjQERi3s6QmCNAAAAAAAAAJEAAAAAAAAAkQAAAAAAAACRAAAAAAAAAJEAAAAAAAAAkQAAAAAAAACRAAAAAAAAAJEAAAAAAAAAkQAAAAAAAACRAAAAAAAAAJEAAAAAAAAAkQAAAAAAAACRAAAAAAAAAJEAAAAAAAAAkQAAAAAAAACRAAAAAAAAAJEAAAAAAAAAkQAAAAAAAACRAAAAAAAAAJEAAAAAAAAAkQAAAAAAAACRAAAAAAAAAJEAAAAAAAAAkQAAAAAAAACRAAAAAAAAAJEAAAAAAAAAkQAAAAAAAACRAAAAAAAAAJEAAAAAAAAAkQAAAAAAAACRAAAAAAAAAJEAAAAAAAAAkQAAAAAAAACRAAAAAAAAAJEAAAAAAAAAkQAAAAAAAACRAAAAAAAAAJEAAAAAAAAAkQAAAAAAAACRAAAAAAAAAJEAAAAAAAAAkQAAAAAAAACRAAAAAAAAAJEAAAAAAAAAkQAAAAAAAACRAAAAAAAAAJEAAAAAAAAAkQAAAAAAAACRAAAAAAAAAJEAAAAAAAAAkQAAAAAAAACRAAAAAAAAAJEAAAAAAAAAkQAAAAAAAACRAAAAAAAAAJEAAAAAAAAAkQAAAAAAAACRAAAAAAAAAJEAAAAAAAAAkQAAAAAAAACRAAAAAAAAAJEAAAAAAAAAkQAAAAAAAACRAAAAAAAAAJEAAAAAAAAAkQAAAAAAAACRAAAAAAAAAJEAAAAAAAAAkQAAAAAAAACRAAAAAAAAAJEAAAAAAAAAkQAAAAAAAACRAAAAAAAAAJEAAAAAAAAAkQAAAAAAAACRAAAAAAAAAJEAAAAAAAAAkQAAAAAAAACRAAAAAAAAAJEAAAAAAAAAkQAAAAAAAACRAAAAAAAAAJEAAAAAAAAAkQAAAAAAAACRAAAAAAAAAJEAAAAAAAAAkQAAAAAAAACRAAAAAAAAAJEAAAAAAAAAkQAAAAAAAACRAAAAAAAAAJEAAAAAAAAAkQAAAAAAAACRAAAAAAAAAJEAAAAAAAAAkQAAAAAAAACRAAAAAAAAAJEAAAAAAAAAkQAAAAAAAACRAAAAAAAAAJEA=",
          "dtype": "f8"
         },
         "z": {
          "bdata": "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",
          "dtype": "f8"
         }
        }
       ],
       "layout": {
        "template": {
         "data": {
          "bar": [
           {
            "error_x": {
             "color": "#2a3f5f"
            },
            "error_y": {
             "color": "#2a3f5f"
            },
            "marker": {
             "line": {
              "color": "#E5ECF6",
              "width": 0.5
             },
             "pattern": {
              "fillmode": "overlay",
              "size": 10,
              "solidity": 0.2
             }
            },
            "type": "bar"
           }
          ],
          "barpolar": [
           {
            "marker": {
             "line": {
              "color": "#E5ECF6",
              "width": 0.5
             },
             "pattern": {
              "fillmode": "overlay",
              "size": 10,
              "solidity": 0.2
             }
            },
            "type": "barpolar"
           }
          ],
          "carpet": [
           {
            "aaxis": {
             "endlinecolor": "#2a3f5f",
             "gridcolor": "white",
             "linecolor": "white",
             "minorgridcolor": "white",
             "startlinecolor": "#2a3f5f"
            },
            "baxis": {
             "endlinecolor": "#2a3f5f",
             "gridcolor": "white",
             "linecolor": "white",
             "minorgridcolor": "white",
             "startlinecolor": "#2a3f5f"
            },
            "type": "carpet"
           }
          ],
          "choropleth": [
           {
            "colorbar": {
             "outlinewidth": 0,
             "ticks": ""
            },
            "type": "choropleth"
           }
          ],
          "contour": [
           {
            "colorbar": {
             "outlinewidth": 0,
             "ticks": ""
            },
            "colorscale": [
             [
              0,
              "#0d0887"
             ],
             [
              0.1111111111111111,
              "#46039f"
             ],
             [
              0.2222222222222222,
              "#7201a8"
             ],
             [
              0.3333333333333333,
              "#9c179e"
             ],
             [
              0.4444444444444444,
              "#bd3786"
             ],
             [
              0.5555555555555556,
              "#d8576b"
             ],
             [
              0.6666666666666666,
              "#ed7953"
             ],
             [
              0.7777777777777778,
              "#fb9f3a"
             ],
             [
              0.8888888888888888,
              "#fdca26"
             ],
             [
              1,
              "#f0f921"
             ]
            ],
            "type": "contour"
           }
          ],
          "contourcarpet": [
           {
            "colorbar": {
             "outlinewidth": 0,
             "ticks": ""
            },
            "type": "contourcarpet"
           }
          ],
          "heatmap": [
           {
            "colorbar": {
             "outlinewidth": 0,
             "ticks": ""
            },
            "colorscale": [
             [
              0,
              "#0d0887"
             ],
             [
              0.1111111111111111,
              "#46039f"
             ],
             [
              0.2222222222222222,
              "#7201a8"
             ],
             [
              0.3333333333333333,
              "#9c179e"
             ],
             [
              0.4444444444444444,
              "#bd3786"
             ],
             [
              0.5555555555555556,
              "#d8576b"
             ],
             [
              0.6666666666666666,
              "#ed7953"
             ],
             [
              0.7777777777777778,
              "#fb9f3a"
             ],
             [
              0.8888888888888888,
              "#fdca26"
             ],
             [
              1,
              "#f0f921"
             ]
            ],
            "type": "heatmap"
           }
          ],
          "histogram": [
           {
            "marker": {
             "pattern": {
              "fillmode": "overlay",
              "size": 10,
              "solidity": 0.2
             }
            },
            "type": "histogram"
           }
          ],
          "histogram2d": [
           {
            "colorbar": {
             "outlinewidth": 0,
             "ticks": ""
            },
            "colorscale": [
             [
              0,
              "#0d0887"
             ],
             [
              0.1111111111111111,
              "#46039f"
             ],
             [
              0.2222222222222222,
              "#7201a8"
             ],
             [
              0.3333333333333333,
              "#9c179e"
             ],
             [
              0.4444444444444444,
              "#bd3786"
             ],
             [
              0.5555555555555556,
              "#d8576b"
             ],
             [
              0.6666666666666666,
              "#ed7953"
             ],
             [
              0.7777777777777778,
              "#fb9f3a"
             ],
             [
              0.8888888888888888,
              "#fdca26"
             ],
             [
              1,
              "#f0f921"
             ]
            ],
            "type": "histogram2d"
           }
          ],
          "histogram2dcontour": [
           {
            "colorbar": {
             "outlinewidth": 0,
             "ticks": ""
            },
            "colorscale": [
             [
              0,
              "#0d0887"
             ],
             [
              0.1111111111111111,
              "#46039f"
             ],
             [
              0.2222222222222222,
              "#7201a8"
             ],
             [
              0.3333333333333333,
              "#9c179e"
             ],
             [
              0.4444444444444444,
              "#bd3786"
             ],
             [
              0.5555555555555556,
              "#d8576b"
             ],
             [
              0.6666666666666666,
              "#ed7953"
             ],
             [
              0.7777777777777778,
              "#fb9f3a"
             ],
             [
              0.8888888888888888,
              "#fdca26"
             ],
             [
              1,
              "#f0f921"
             ]
            ],
            "type": "histogram2dcontour"
           }
          ],
          "mesh3d": [
           {
            "colorbar": {
             "outlinewidth": 0,
             "ticks": ""
            },
            "type": "mesh3d"
           }
          ],
          "parcoords": [
           {
            "line": {
             "colorbar": {
              "outlinewidth": 0,
              "ticks": ""
             }
            },
            "type": "parcoords"
           }
          ],
          "pie": [
           {
            "automargin": true,
            "type": "pie"
           }
          ],
          "scatter": [
           {
            "fillpattern": {
             "fillmode": "overlay",
             "size": 10,
             "solidity": 0.2
            },
            "type": "scatter"
           }
          ],
          "scatter3d": [
           {
            "line": {
             "colorbar": {
              "outlinewidth": 0,
              "ticks": ""
             }
            },
            "marker": {
             "colorbar": {
              "outlinewidth": 0,
              "ticks": ""
             }
            },
            "type": "scatter3d"
           }
          ],
          "scattercarpet": [
           {
            "marker": {
             "colorbar": {
              "outlinewidth": 0,
              "ticks": ""
             }
            },
            "type": "scattercarpet"
           }
          ],
          "scattergeo": [
           {
            "marker": {
             "colorbar": {
              "outlinewidth": 0,
              "ticks": ""
             }
            },
            "type": "scattergeo"
           }
          ],
          "scattergl": [
           {
            "marker": {
             "colorbar": {
              "outlinewidth": 0,
              "ticks": ""
             }
            },
            "type": "scattergl"
           }
          ],
          "scattermap": [
           {
            "marker": {
             "colorbar": {
              "outlinewidth": 0,
              "ticks": ""
             }
            },
            "type": "scattermap"
           }
          ],
          "scattermapbox": [
           {
            "marker": {
             "colorbar": {
              "outlinewidth": 0,
              "ticks": ""
             }
            },
            "type": "scattermapbox"
           }
          ],
          "scatterpolar": [
           {
            "marker": {
             "colorbar": {
              "outlinewidth": 0,
              "ticks": ""
             }
            },
            "type": "scatterpolar"
           }
          ],
          "scatterpolargl": [
           {
            "marker": {
             "colorbar": {
              "outlinewidth": 0,
              "ticks": ""
             }
            },
            "type": "scatterpolargl"
           }
          ],
          "scatterternary": [
           {
            "marker": {
             "colorbar": {
              "outlinewidth": 0,
              "ticks": ""
             }
            },
            "type": "scatterternary"
           }
          ],
          "surface": [
           {
            "colorbar": {
             "outlinewidth": 0,
             "ticks": ""
            },
            "colorscale": [
             [
              0,
              "#0d0887"
             ],
             [
              0.1111111111111111,
              "#46039f"
             ],
             [
              0.2222222222222222,
              "#7201a8"
             ],
             [
              0.3333333333333333,
              "#9c179e"
             ],
             [
              0.4444444444444444,
              "#bd3786"
             ],
             [
              0.5555555555555556,
              "#d8576b"
             ],
             [
              0.6666666666666666,
              "#ed7953"
             ],
             [
              0.7777777777777778,
              "#fb9f3a"
             ],
             [
              0.8888888888888888,
              "#fdca26"
             ],
             [
              1,
              "#f0f921"
             ]
            ],
            "type": "surface"
           }
          ],
          "table": [
           {
            "cells": {
             "fill": {
              "color": "#EBF0F8"
             },
             "line": {
              "color": "white"
             }
            },
            "header": {
             "fill": {
              "color": "#C8D4E3"
             },
             "line": {
              "color": "white"
             }
            },
            "type": "table"
           }
          ]
         },
         "layout": {
          "annotationdefaults": {
           "arrowcolor": "#2a3f5f",
           "arrowhead": 0,
           "arrowwidth": 1
          },
          "autotypenumbers": "strict",
          "coloraxis": {
           "colorbar": {
            "outlinewidth": 0,
            "ticks": ""
           }
          },
          "colorscale": {
           "diverging": [
            [
             0,
             "#8e0152"
            ],
            [
             0.1,
             "#c51b7d"
            ],
            [
             0.2,
             "#de77ae"
            ],
            [
             0.3,
             "#f1b6da"
            ],
            [
             0.4,
             "#fde0ef"
            ],
            [
             0.5,
             "#f7f7f7"
            ],
            [
             0.6,
             "#e6f5d0"
            ],
            [
             0.7,
             "#b8e186"
            ],
            [
             0.8,
             "#7fbc41"
            ],
            [
             0.9,
             "#4d9221"
            ],
            [
             1,
             "#276419"
            ]
           ],
           "sequential": [
            [
             0,
             "#0d0887"
            ],
            [
             0.1111111111111111,
             "#46039f"
            ],
            [
             0.2222222222222222,
             "#7201a8"
            ],
            [
             0.3333333333333333,
             "#9c179e"
            ],
            [
             0.4444444444444444,
             "#bd3786"
            ],
            [
             0.5555555555555556,
             "#d8576b"
            ],
            [
             0.6666666666666666,
             "#ed7953"
            ],
            [
             0.7777777777777778,
             "#fb9f3a"
            ],
            [
             0.8888888888888888,
             "#fdca26"
            ],
            [
             1,
             "#f0f921"
            ]
           ],
           "sequentialminus": [
            [
             0,
             "#0d0887"
            ],
            [
             0.1111111111111111,
             "#46039f"
            ],
            [
             0.2222222222222222,
             "#7201a8"
            ],
            [
             0.3333333333333333,
             "#9c179e"
            ],
            [
             0.4444444444444444,
             "#bd3786"
            ],
            [
             0.5555555555555556,
             "#d8576b"
            ],
            [
             0.6666666666666666,
             "#ed7953"
            ],
            [
             0.7777777777777778,
             "#fb9f3a"
            ],
            [
             0.8888888888888888,
             "#fdca26"
            ],
            [
             1,
             "#f0f921"
            ]
           ]
          },
          "colorway": [
           "#636efa",
           "#EF553B",
           "#00cc96",
           "#ab63fa",
           "#FFA15A",
           "#19d3f3",
           "#FF6692",
           "#B6E880",
           "#FF97FF",
           "#FECB52"
          ],
          "font": {
           "color": "#2a3f5f"
          },
          "geo": {
           "bgcolor": "white",
           "lakecolor": "white",
           "landcolor": "#E5ECF6",
           "showlakes": true,
           "showland": true,
           "subunitcolor": "white"
          },
          "hoverlabel": {
           "align": "left"
          },
          "hovermode": "closest",
          "mapbox": {
           "style": "light"
          },
          "paper_bgcolor": "white",
          "plot_bgcolor": "#E5ECF6",
          "polar": {
           "angularaxis": {
            "gridcolor": "white",
            "linecolor": "white",
            "ticks": ""
           },
           "bgcolor": "#E5ECF6",
           "radialaxis": {
            "gridcolor": "white",
            "linecolor": "white",
            "ticks": ""
           }
          },
          "scene": {
           "xaxis": {
            "backgroundcolor": "#E5ECF6",
            "gridcolor": "white",
            "gridwidth": 2,
            "linecolor": "white",
            "showbackground": true,
            "ticks": "",
            "zerolinecolor": "white"
           },
           "yaxis": {
            "backgroundcolor": "#E5ECF6",
            "gridcolor": "white",
            "gridwidth": 2,
            "linecolor": "white",
            "showbackground": true,
            "ticks": "",
            "zerolinecolor": "white"
           },
           "zaxis": {
            "backgroundcolor": "#E5ECF6",
            "gridcolor": "white",
            "gridwidth": 2,
            "linecolor": "white",
            "showbackground": true,
            "ticks": "",
            "zerolinecolor": "white"
           }
          },
          "shapedefaults": {
           "line": {
            "color": "#2a3f5f"
           }
          },
          "ternary": {
           "aaxis": {
            "gridcolor": "white",
            "linecolor": "white",
            "ticks": ""
           },
           "baxis": {
            "gridcolor": "white",
            "linecolor": "white",
            "ticks": ""
           },
           "bgcolor": "#E5ECF6",
           "caxis": {
            "gridcolor": "white",
            "linecolor": "white",
            "ticks": ""
           }
          },
          "title": {
           "x": 0.05
          },
          "xaxis": {
           "automargin": true,
           "gridcolor": "white",
           "linecolor": "white",
           "ticks": "",
           "title": {
            "standoff": 15
           },
           "zerolinecolor": "white",
           "zerolinewidth": 2
          },
          "yaxis": {
           "automargin": true,
           "gridcolor": "white",
           "linecolor": "white",
           "ticks": "",
           "title": {
            "standoff": 15
           },
           "zerolinecolor": "white",
           "zerolinewidth": 2
          }
         }
        }
       }
      }
     },
     "metadata": {},
     "output_type": "display_data"
    }
   ],
   "source": [
    "x=np.linspace(-10,10,100)\n",
    "y=np.copy(x)\n",
    "x,y=np.meshgrid(x,y)\n",
    "z=np.sin(np.sqrt(x**2+y**2))\n",
    "\n",
    "fig=go.Figure(data=[go.Scatter3d(z=z.ravel(),x=x.ravel(),y=y.ravel(),mode=\"markers\",marker=dict(size=1,color=z.ravel(),colorscale='rainbow'))])\n",
    "fig.show()"
   ]
  },
  {
   "cell_type": "code",
   "execution_count": null,
   "id": "51aa931d",
   "metadata": {},
   "outputs": [],
   "source": []
  }
 ],
 "metadata": {
  "kernelspec": {
   "display_name": ".venv",
   "language": "python",
   "name": "python3"
  },
  "language_info": {
   "codemirror_mode": {
    "name": "ipython",
    "version": 3
   },
   "file_extension": ".py",
   "mimetype": "text/x-python",
   "name": "python",
   "nbconvert_exporter": "python",
   "pygments_lexer": "ipython3",
   "version": "3.13.3"
  }
 },
 "nbformat": 4,
 "nbformat_minor": 5
}
